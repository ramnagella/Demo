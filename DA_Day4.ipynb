{
  "cells": [
    {
      "cell_type": "markdown",
      "metadata": {
        "id": "view-in-github",
        "colab_type": "text"
      },
      "source": [
        "<a href=\"https://colab.research.google.com/github/ramnagella/Demo/blob/master/DA_Day4.ipynb\" target=\"_parent\"><img src=\"https://colab.research.google.com/assets/colab-badge.svg\" alt=\"Open In Colab\"/></a>"
      ]
    },
    {
      "cell_type": "code",
      "source": [
        "#DA_Day4---07-08-2024---Pandas Basics--\n",
        "#Manipulation Data Frames---\n",
        "'''\n",
        "head(5)\n",
        "tail(3)\n",
        "info()\n",
        "describe()\n",
        "--shape\n",
        "--columns'''\n",
        "#selecting data and indexing\n",
        "'''\n",
        "---loc[]---Lable based access a group of rows and columns\n",
        "---iloc[]--integer or index position access a group of rows and coumns\n",
        "---at[]----access a single value for row/column label pair\n",
        "---iat[]---access a single value for row/column integer or index position\n",
        "---'''\n",
        "#Data Cleaning\n",
        "\n",
        "'''\n",
        "----.drop(lables,axis)\n",
        "----.dropna(axis,how)\n",
        "---- .fillna(vlaue)\n",
        "----.replace)to_replace,value\n",
        "----.duplicated(subject)\n",
        "----.drop_duplicates(subject)\n",
        "----\n",
        "'''\n",
        "#Data Transformation\n",
        "'''\n",
        "----.rename(columns,index)\n",
        "----.astype(dtype)\n",
        "----.apply(func,axis)\n",
        "----.map(arg)\n",
        "----.sort_values(by,axis,ascending)\n",
        "----.sort_index(axis,ascending)\n",
        "\n",
        "'''\n",
        "#aggregation and grouping\n",
        "'''\n",
        "----.groupby(by)\n",
        "----.agg(func)\n",
        "----.count()\n",
        "----.sum(axis)\n",
        "----.mean(axis)\n",
        "----.median(axis)\n",
        "----.std(axis)\n",
        "'''\n",
        "#merging and joining\n",
        "'''\n",
        "----.(.merge,how,on)\n",
        "----.concat(objs,axis)\n",
        "----.join(other,on,how)\n",
        "'''\n",
        "#pivoting and reshaping\n",
        "'''\n",
        "----.pivot(index,columns,values)\n",
        "-----.pivot_tables(index,columns,values,aggfunc)\n",
        "----.melt(id_vars,value_vars,var_name,value_name)\n",
        "----.stack(level)\n",
        "----.unstack(level)\n",
        "'''\n"
      ],
      "metadata": {
        "id": "bm2iTgcDbml8"
      },
      "execution_count": null,
      "outputs": []
    }
  ],
  "metadata": {
    "colab": {
      "name": "Welcome to Colab",
      "toc_visible": true,
      "provenance": [],
      "include_colab_link": true
    },
    "kernelspec": {
      "display_name": "Python 3",
      "name": "python3"
    }
  },
  "nbformat": 4,
  "nbformat_minor": 0
}