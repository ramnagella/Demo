{
  "cells": [
    {
      "cell_type": "markdown",
      "metadata": {
        "id": "view-in-github",
        "colab_type": "text"
      },
      "source": [
        "<a href=\"https://colab.research.google.com/github/ramnagella/Demo/blob/master/DA_Day4.ipynb\" target=\"_parent\"><img src=\"https://colab.research.google.com/assets/colab-badge.svg\" alt=\"Open In Colab\"/></a>"
      ]
    },
    {
      "cell_type": "code",
      "source": [
        "#DA_Day4---07-08-2024---Pandas Basics--\n",
        "#Manipulation Data Frames---\n",
        "'''\n",
        "head(5)\n",
        "tail(3)\n",
        "info()\n",
        "describe()\n",
        "--shape\n",
        "--columns'''\n",
        "#selecting data and indexing\n",
        "'''\n",
        "---loc[]---Lable based access a group of rows and columns\n",
        "---iloc[]--integer or index position access a group of rows and coumns\n",
        "---at[]----access a single value for row/column label pair\n",
        "---iat[]---access a single value for row/column integer or index position\n",
        "---'''\n",
        "#Data Cleaning\n",
        "\n",
        "'''\n",
        "----.drop(lables,axis)\n",
        "----.dropna(axis,how)\n",
        "---- .fillna(vlaue)\n",
        "----.replace)to_replace,value\n",
        "----.duplicated(subject)\n",
        "----.drop_duplicates(subject)\n",
        "----\n",
        "'''\n",
        "#Data Transformation\n",
        "'''\n",
        "----.rename(columns,index)\n",
        "----.astype(dtype)\n",
        "----.apply(func,axis)\n",
        "----.map(arg)\n",
        "----.sort_values(by,axis,ascending)\n",
        "----.sort_index(axis,ascending)\n",
        "\n",
        "'''\n",
        "#aggregation and grouping\n",
        "'''\n",
        "----.groupby(by)\n",
        "----.agg(func)\n",
        "----.count()\n",
        "----.sum(axis)\n",
        "----.mean(axis)\n",
        "----.median(axis)\n",
        "----.std(axis)\n",
        "'''\n",
        "#merging and joining\n",
        "'''\n",
        "----.(.merge,how,on)\n",
        "----.concat(objs,axis)\n",
        "----.join(other,on,how)\n",
        "'''\n",
        "#pivoting and reshaping\n",
        "'''\n",
        "----.pivot(index,columns,values)\n",
        "-----.pivot_tables(index,columns,values,aggfunc)\n",
        "----.melt(id_vars,value_vars,var_name,value_name)\n",
        "----.stack(level)\n",
        "----.unstack(level)\n",
        "'''\n"
      ],
      "metadata": {
        "id": "bm2iTgcDbml8"
      },
      "execution_count": null,
      "outputs": []
    },
    {
      "cell_type": "code",
      "source": [
        "\n",
        " #dict of Dict---outer key considered as column lable and inner key takig as index lable\n",
        " import pandas as pd\n",
        " data ={\n",
        "    \"Duration\":{\n",
        "        \"1\":30,\n",
        "        \"2\":40,\n",
        "        \"3\":50,\n",
        "        \"4\":55,\n",
        "        \"5\":60\n",
        "    },\n",
        "    \"Pulse\":{\n",
        "        \"1\":110,\n",
        "        \"2\":120,\n",
        "        \"3\":130,\n",
        "        \"4\":140,\n",
        "        \"5\":150\n",
        "    },\n",
        "    \"Maxpulse\":{\n",
        "        \"1\":130,\n",
        "        \"2\":140,\n",
        "        \"3\":150,\n",
        "        \"4\":160,\n",
        "        \"5\":170\n",
        "    },\n",
        "    \"Calories\":{\n",
        "        \"1\":409,\n",
        "        \"2\":479,\n",
        "        \"3\":340,\n",
        "        \"4\":282,\n",
        "        \"5\":406\n",
        "    }\n",
        "}\n",
        "df=pd.DataFrame(data)\n",
        "print(df)"
      ],
      "metadata": {
        "id": "LLwL48xPhjbD",
        "outputId": "58eff922-5f51-49fc-b73b-46060d4a98b2",
        "colab": {
          "base_uri": "https://localhost:8080/"
        }
      },
      "execution_count": 1,
      "outputs": [
        {
          "output_type": "stream",
          "name": "stdout",
          "text": [
            "   Duration  Pulse  Maxpulse  Calories\n",
            "1        30    110       130       409\n",
            "2        40    120       140       479\n",
            "3        50    130       150       340\n",
            "4        55    140       160       282\n",
            "5        60    150       170       406\n"
          ]
        }
      ]
    },
    {
      "cell_type": "code",
      "source": [
        "import pandas as pd\n",
        "details= {\n",
        "     \"Duration\":{\n",
        "        \"0\":30,\n",
        "        \"two\":40,\n",
        "        \"three\":50,\n",
        "        \"four\":55,\n",
        "        \"five\":60\n",
        "    },\n",
        "    \"Pulse\":{\n",
        "        \"one\":110,\n",
        "        \"two\":120,\n",
        "        \"three\":130,\n",
        "        \"four\":140,\n",
        "        \"five\":150\n",
        "    },\n",
        "    \"Maxpulse\":{\n",
        "        \"one\":130,\n",
        "        \"two\":140,\n",
        "        \"three\":150,\n",
        "        \"four\":160,\n",
        "        \"five\":170\n",
        "    },\n",
        "    \"Calories\":{\n",
        "        \"one\":409,\n",
        "        \"two\":479,\n",
        "        \"three\":340,\n",
        "        \"four\":282,\n",
        "        \"five\":406\n",
        "    }\n",
        "}\n",
        "df=pd.DataFrame(details)\n",
        "print(df)"
      ],
      "metadata": {
        "id": "ltuwFhYkhjXn",
        "outputId": "077acf1a-1ea8-467f-98a2-cd5dd6acb4ea",
        "colab": {
          "base_uri": "https://localhost:8080/"
        }
      },
      "execution_count": 10,
      "outputs": [
        {
          "output_type": "stream",
          "name": "stdout",
          "text": [
            "       Duration  Pulse  Maxpulse  Calories\n",
            "0          30.0    NaN       NaN       NaN\n",
            "two        40.0  120.0     140.0     479.0\n",
            "three      50.0  130.0     150.0     340.0\n",
            "four       55.0  140.0     160.0     282.0\n",
            "five       60.0  150.0     170.0     406.0\n",
            "one         NaN  110.0     130.0     409.0\n"
          ]
        }
      ]
    },
    {
      "cell_type": "code",
      "source": [
        "import pandas as pd\n",
        "import numpy as np\n",
        "data =[['Ram',45,'banglore'],['Shatha',13,'Hyderabad'],['Vamsi',17,'Alg']]\n",
        "data_array=np.array(data)\n",
        "df=pd.DataFrame(data_array)\n",
        "print(df)"
      ],
      "metadata": {
        "id": "cQUTyiixhjVB",
        "outputId": "a4540f6e-d437-45da-80d0-87bda192e633",
        "colab": {
          "base_uri": "https://localhost:8080/"
        }
      },
      "execution_count": 11,
      "outputs": [
        {
          "output_type": "stream",
          "name": "stdout",
          "text": [
            "        0   1          2\n",
            "0     Ram  45   banglore\n",
            "1  Shatha  13  Hyderabad\n",
            "2   Vamsi  17        Alg\n"
          ]
        }
      ]
    },
    {
      "cell_type": "code",
      "source": [
        "import pandas as pd\n",
        "import numpy as np\n",
        "data =[['Ram',45,'banglore'],['Shatha',13,'Hyderabad'],['Vamsi',17,'Alg']]\n",
        "data_array=np.array(data)\n",
        "df=pd.DataFrame(data_array,['Name','Age','City'])\n",
        "print(df)"
      ],
      "metadata": {
        "id": "4MWmEruxhjSL",
        "outputId": "3f7d6706-5711-4569-a614-e51d9f9a0dbb",
        "colab": {
          "base_uri": "https://localhost:8080/"
        }
      },
      "execution_count": 12,
      "outputs": [
        {
          "output_type": "stream",
          "name": "stdout",
          "text": [
            "           0   1          2\n",
            "Name     Ram  45   banglore\n",
            "Age   Shatha  13  Hyderabad\n",
            "City   Vamsi  17        Alg\n"
          ]
        }
      ]
    },
    {
      "cell_type": "code",
      "source": [
        "import pandas as pd\n",
        "import numpy as np\n",
        "data =[['Ram',45,'banglore'],['Shatha',13,'Hyderabad'],['Vamsi',17,'Alg']]\n",
        "data_array=np.array(data)\n",
        "df=pd.DataFrame(data_array,columns=['Name','Age','City'])\n",
        "print(df)"
      ],
      "metadata": {
        "id": "DxmioCEvhjPk",
        "outputId": "35e4826a-618a-42ed-e63f-77027f68ad04",
        "colab": {
          "base_uri": "https://localhost:8080/"
        }
      },
      "execution_count": 14,
      "outputs": [
        {
          "output_type": "stream",
          "name": "stdout",
          "text": [
            "     Name Age       City\n",
            "0     Ram  45   banglore\n",
            "1  Shatha  13  Hyderabad\n",
            "2   Vamsi  17        Alg\n"
          ]
        }
      ]
    },
    {
      "cell_type": "code",
      "source": [],
      "metadata": {
        "id": "7UexW2Z-hjM2"
      },
      "execution_count": null,
      "outputs": []
    },
    {
      "cell_type": "code",
      "source": [],
      "metadata": {
        "id": "P-98wJ2rhjKD"
      },
      "execution_count": null,
      "outputs": []
    },
    {
      "cell_type": "code",
      "source": [],
      "metadata": {
        "id": "c8_HoBzAhjHE"
      },
      "execution_count": null,
      "outputs": []
    },
    {
      "cell_type": "code",
      "source": [],
      "metadata": {
        "id": "Meuuf8q7hi7f"
      },
      "execution_count": null,
      "outputs": []
    }
  ],
  "metadata": {
    "colab": {
      "name": "Welcome to Colab",
      "toc_visible": true,
      "provenance": [],
      "include_colab_link": true
    },
    "kernelspec": {
      "display_name": "Python 3",
      "name": "python3"
    }
  },
  "nbformat": 4,
  "nbformat_minor": 0
}