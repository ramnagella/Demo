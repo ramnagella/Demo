{
  "cells": [
    {
      "cell_type": "markdown",
      "metadata": {
        "id": "view-in-github",
        "colab_type": "text"
      },
      "source": [
        "<a href=\"https://colab.research.google.com/github/ramnagella/Demo/blob/master/DA_Day4.ipynb\" target=\"_parent\"><img src=\"https://colab.research.google.com/assets/colab-badge.svg\" alt=\"Open In Colab\"/></a>"
      ]
    },
    {
      "cell_type": "code",
      "source": [
        "#DA_Day4---07-08-2024---Pandas Basics--\n",
        "#Manipulation Data Frames---\n",
        "'''\n",
        "head(5)\n",
        "tail(3)\n",
        "info()\n",
        "describe()\n",
        "--shape\n",
        "--columns'''\n",
        "#selecting data and indexing\n",
        "'''\n",
        "---loc[]---Lable based access a group of rows and columns\n",
        "---iloc[]--integer or index position access a group of rows and coumns\n",
        "---at[]----access a single value for row/column label pair\n",
        "---iat[]---access a single value for row/column integer or index position\n",
        "---'''\n",
        "#Data Cleaning\n",
        "\n",
        "'''\n",
        "----.drop(lables,axis)\n",
        "----.dropna(axis,how)\n",
        "---- .fillna(vlaue)\n",
        "----.replace)to_replace,value\n",
        "----.duplicated(subject)\n",
        "----.drop_duplicates(subject)\n",
        "----\n",
        "'''\n",
        "#Data Transformation\n",
        "'''\n",
        "----.rename(columns,index)\n",
        "----.astype(dtype)\n",
        "----.apply(func,axis)\n",
        "----.map(arg)\n",
        "----.sort_values(by,axis,ascending)\n",
        "----.sort_index(axis,ascending)\n",
        "\n",
        "'''\n",
        "#aggregation and grouping\n",
        "'''\n",
        "----.groupby(by)\n",
        "----.agg(func)\n",
        "----.count()\n",
        "----.sum(axis)\n",
        "----.mean(axis)\n",
        "----.median(axis)\n",
        "----.std(axis)\n",
        "'''\n",
        "#merging and joining\n",
        "'''\n",
        "----.(.merge,how,on)\n",
        "----.concat(objs,axis)\n",
        "----.join(other,on,how)\n",
        "'''\n",
        "#pivoting and reshaping\n",
        "'''\n",
        "----.pivot(index,columns,values)\n",
        "-----.pivot_tables(index,columns,values,aggfunc)\n",
        "----.melt(id_vars,value_vars,var_name,value_name)\n",
        "----.stack(level)\n",
        "----.unstack(level)\n",
        "'''\n"
      ],
      "metadata": {
        "id": "bm2iTgcDbml8"
      },
      "execution_count": null,
      "outputs": []
    },
    {
      "cell_type": "code",
      "source": [
        "\n",
        " #dict of Dict---outer key considered as column lable and inner key takig as index lable\n",
        " import pandas as pd\n",
        " data ={\n",
        "    \"Duration\":{\n",
        "        \"1\":30,\n",
        "        \"2\":40,\n",
        "        \"3\":50,\n",
        "        \"4\":55,\n",
        "        \"5\":60\n",
        "    },\n",
        "    \"Pulse\":{\n",
        "        \"1\":110,\n",
        "        \"2\":120,\n",
        "        \"3\":130,\n",
        "        \"4\":140,\n",
        "        \"5\":150\n",
        "    },\n",
        "    \"Maxpulse\":{\n",
        "        \"1\":130,\n",
        "        \"2\":140,\n",
        "        \"3\":150,\n",
        "        \"4\":160,\n",
        "        \"5\":170\n",
        "    },\n",
        "    \"Calories\":{\n",
        "        \"1\":409,\n",
        "        \"2\":479,\n",
        "        \"3\":340,\n",
        "        \"4\":282,\n",
        "        \"5\":406\n",
        "    }\n",
        "}\n",
        "df=pd.DataFrame(data)\n",
        "print(df)"
      ],
      "metadata": {
        "id": "LLwL48xPhjbD",
        "outputId": "58eff922-5f51-49fc-b73b-46060d4a98b2",
        "colab": {
          "base_uri": "https://localhost:8080/"
        }
      },
      "execution_count": null,
      "outputs": [
        {
          "output_type": "stream",
          "name": "stdout",
          "text": [
            "   Duration  Pulse  Maxpulse  Calories\n",
            "1        30    110       130       409\n",
            "2        40    120       140       479\n",
            "3        50    130       150       340\n",
            "4        55    140       160       282\n",
            "5        60    150       170       406\n"
          ]
        }
      ]
    },
    {
      "cell_type": "code",
      "source": [
        "import pandas as pd\n",
        "details= {\n",
        "     \"Duration\":{\n",
        "        \"0\":30,\n",
        "        \"two\":40,\n",
        "        \"three\":50,\n",
        "        \"four\":55,\n",
        "        \"five\":60\n",
        "    },\n",
        "    \"Pulse\":{\n",
        "        \"one\":110,\n",
        "        \"two\":120,\n",
        "        \"three\":130,\n",
        "        \"four\":140,\n",
        "        \"five\":150\n",
        "    },\n",
        "    \"Maxpulse\":{\n",
        "        \"one\":130,\n",
        "        \"two\":140,\n",
        "        \"three\":150,\n",
        "        \"four\":160,\n",
        "        \"five\":170\n",
        "    },\n",
        "    \"Calories\":{\n",
        "        \"one\":409,\n",
        "        \"two\":479,\n",
        "        \"three\":340,\n",
        "        \"four\":282,\n",
        "        \"five\":406\n",
        "    }\n",
        "}\n",
        "df=pd.DataFrame(details)\n",
        "print(df)"
      ],
      "metadata": {
        "id": "ltuwFhYkhjXn",
        "outputId": "077acf1a-1ea8-467f-98a2-cd5dd6acb4ea",
        "colab": {
          "base_uri": "https://localhost:8080/"
        }
      },
      "execution_count": null,
      "outputs": [
        {
          "output_type": "stream",
          "name": "stdout",
          "text": [
            "       Duration  Pulse  Maxpulse  Calories\n",
            "0          30.0    NaN       NaN       NaN\n",
            "two        40.0  120.0     140.0     479.0\n",
            "three      50.0  130.0     150.0     340.0\n",
            "four       55.0  140.0     160.0     282.0\n",
            "five       60.0  150.0     170.0     406.0\n",
            "one         NaN  110.0     130.0     409.0\n"
          ]
        }
      ]
    },
    {
      "cell_type": "code",
      "source": [
        "import pandas as pd\n",
        "import numpy as np\n",
        "data =[['Ram',45,'banglore'],['Shatha',13,'Hyderabad'],['Vamsi',17,'Alg']]\n",
        "data_array=np.array(data)\n",
        "df=pd.DataFrame(data_array)\n",
        "print(df)"
      ],
      "metadata": {
        "id": "cQUTyiixhjVB",
        "outputId": "a4540f6e-d437-45da-80d0-87bda192e633",
        "colab": {
          "base_uri": "https://localhost:8080/"
        }
      },
      "execution_count": null,
      "outputs": [
        {
          "output_type": "stream",
          "name": "stdout",
          "text": [
            "        0   1          2\n",
            "0     Ram  45   banglore\n",
            "1  Shatha  13  Hyderabad\n",
            "2   Vamsi  17        Alg\n"
          ]
        }
      ]
    },
    {
      "cell_type": "code",
      "source": [
        "import pandas as pd\n",
        "import numpy as np\n",
        "data =[['Ram',45,'banglore'],['Shatha',13,'Hyderabad'],['Vamsi',17,'Alg']]\n",
        "data_array=np.array(data)\n",
        "df=pd.DataFrame(data_array,['Name','Age','City'])\n",
        "print(df)"
      ],
      "metadata": {
        "id": "4MWmEruxhjSL",
        "outputId": "3f7d6706-5711-4569-a614-e51d9f9a0dbb",
        "colab": {
          "base_uri": "https://localhost:8080/"
        }
      },
      "execution_count": null,
      "outputs": [
        {
          "output_type": "stream",
          "name": "stdout",
          "text": [
            "           0   1          2\n",
            "Name     Ram  45   banglore\n",
            "Age   Shatha  13  Hyderabad\n",
            "City   Vamsi  17        Alg\n"
          ]
        }
      ]
    },
    {
      "cell_type": "code",
      "source": [
        "import pandas as pd\n",
        "import numpy as np\n",
        "data =[['Ram',45,'banglore'],['Shatha',13,'Hyderabad'],['Vamsi',17,'Alg']]\n",
        "data_array=np.array(data)\n",
        "df=pd.DataFrame(data_array,columns=['Name','Age','City'])\n",
        "print(df)"
      ],
      "metadata": {
        "id": "DxmioCEvhjPk",
        "outputId": "35e4826a-618a-42ed-e63f-77027f68ad04",
        "colab": {
          "base_uri": "https://localhost:8080/"
        }
      },
      "execution_count": null,
      "outputs": [
        {
          "output_type": "stream",
          "name": "stdout",
          "text": [
            "     Name Age       City\n",
            "0     Ram  45   banglore\n",
            "1  Shatha  13  Hyderabad\n",
            "2   Vamsi  17        Alg\n"
          ]
        }
      ]
    },
    {
      "cell_type": "code",
      "source": [
        "import pandas as pd\n",
        "import numpy as np\n",
        "data =[['Ram',45,'banglore'],['Shatha',13,'Hyderabad'],['Vamsi',17,'Alg']]\n",
        "data_array=np.array(data)\n",
        "df=pd.DataFrame(data_array,columns=['Name','Age','City'],index=['emp1','emp2','emp3'])\n",
        "print(df)\n",
        "#If you want to create a array numpy is required and first read/convert the dict or list into array\n",
        "#because matix relevant operations can be done in Data frame like matrix addition,substarction ,multiplication\n",
        "#division or rows into coumns or columns into rows with he help of numpy\n",
        "#"
      ],
      "metadata": {
        "id": "7UexW2Z-hjM2",
        "colab": {
          "base_uri": "https://localhost:8080/"
        },
        "outputId": "f5d6940c-d6c8-470a-9958-df2dc16f0f39"
      },
      "execution_count": 1,
      "outputs": [
        {
          "output_type": "stream",
          "name": "stdout",
          "text": [
            "        Name Age       City\n",
            "emp1     Ram  45   banglore\n",
            "emp2  Shatha  13  Hyderabad\n",
            "emp3   Vamsi  17        Alg\n"
          ]
        }
      ]
    },
    {
      "cell_type": "code",
      "source": [
        "#Cloning DataFrame\n",
        "df1=df.copy()\n",
        "print(id(df))\n",
        "print(id(df1))"
      ],
      "metadata": {
        "id": "P-98wJ2rhjKD",
        "colab": {
          "base_uri": "https://localhost:8080/"
        },
        "outputId": "5fe1c9e3-9088-41c4-a2e5-f3b5499177f8"
      },
      "execution_count": 2,
      "outputs": [
        {
          "output_type": "stream",
          "name": "stdout",
          "text": [
            "132905497776592\n",
            "132905356843344\n"
          ]
        }
      ]
    },
    {
      "cell_type": "code",
      "source": [
        "#Reading from csv file\n",
        "df=pd.read_csv('confirmed _cased.csv')\n",
        "df"
      ],
      "metadata": {
        "id": "c8_HoBzAhjHE"
      },
      "execution_count": null,
      "outputs": []
    },
    {
      "cell_type": "code",
      "source": [
        "#In Jupyter notebook better keep all the files in localhost:8080/notebooks/DA with Python or tree AI with ML folder\n",
        "#and use above to read the files from personal laptop\n",
        "#Downloaded from localhost:8080/tree/AI with ML folder and loaded into localhost:8080/tree/Da with Python folder\n",
        "#reading json files\n",
        "import pandas as pd\n",
        "df=pd.read_joson('sample.json')"
      ],
      "metadata": {
        "id": "Meuuf8q7hi7f"
      },
      "execution_count": null,
      "outputs": []
    },
    {
      "cell_type": "code",
      "source": [
        "import pandas as pd\n",
        "df=pd.read_xlsx('sample.json')\n",
        "df"
      ],
      "metadata": {
        "id": "GjhAJIHUc7-H"
      },
      "execution_count": null,
      "outputs": []
    },
    {
      "cell_type": "code",
      "source": [
        "import pandas as pd\n",
        "df=pd.read_xlsx('sampledata.xlsx')\n",
        "df\n",
        "#This excel sheet is having three sheets like instructions,sales orders,mylinks\n",
        "#Want to read data from particular sheet of excel --how to read\n",
        "#in default it will take first wheet\n",
        "df=pd.read_xlsx('sampledata.xlsx',sheet_name='mylinks')\n",
        "df\n",
        "df=pd.read_xlsx('sampledata.xlsx',sheet_name='SalesOreders')\n",
        "df\n",
        "#If We want to convert this df into excelor json,csv file and remove incex from df\n",
        "#original doesnt have any index labels but df will automatically generate the labels"
      ],
      "metadata": {
        "id": "stKq7MKHc76p"
      },
      "execution_count": null,
      "outputs": []
    },
    {
      "cell_type": "code",
      "source": [
        "#writimg the df content into some other format without index numbers\n",
        "#in next session it is there\n",
        "#"
      ],
      "metadata": {
        "id": "1lWdxGcdc74L"
      },
      "execution_count": null,
      "outputs": []
    },
    {
      "cell_type": "code",
      "source": [
        "df.head() # will return top 5 rows in sql will return top rows\n",
        "#Each one is different and will return different number of rows\n",
        "#sql and pyspark are also different\n",
        "df.tail()#to reasd last rows\n",
        "df.head(2)# to read to two rows\n",
        "df.head(20)#to read top 20 rows\n",
        "df.head(-2)you will return 0 to 3 4 and 5 are ignored,here 0,1,2,3, will get\n",
        "df.tail(-2)# o and 1 are ignored rest are displayed ,2,3,4,5 will get here"
      ],
      "metadata": {
        "id": "GIKhVasrc71q"
      },
      "execution_count": null,
      "outputs": []
    },
    {
      "cell_type": "code",
      "source": [
        "#getting the summary of dataset\n",
        "#structure of the df\n",
        "df.info()\n",
        "#what is the data type of DF ---here because there are many data type are there in DF\n",
        "#Final data type will be a object\n",
        "\n",
        "\n"
      ],
      "metadata": {
        "colab": {
          "base_uri": "https://localhost:8080/"
        },
        "id": "A9SQB_0vc7y9",
        "outputId": "061ed1ad-8cad-4687-8b00-b15c85221477"
      },
      "execution_count": 3,
      "outputs": [
        {
          "output_type": "stream",
          "name": "stdout",
          "text": [
            "<class 'pandas.core.frame.DataFrame'>\n",
            "Index: 3 entries, emp1 to emp3\n",
            "Data columns (total 3 columns):\n",
            " #   Column  Non-Null Count  Dtype \n",
            "---  ------  --------------  ----- \n",
            " 0   Name    3 non-null      object\n",
            " 1   Age     3 non-null      object\n",
            " 2   City    3 non-null      object\n",
            "dtypes: object(3)\n",
            "memory usage: 204.0+ bytes\n"
          ]
        }
      ]
    },
    {
      "cell_type": "code",
      "source": [
        "#Generating desscriptive statistics of DF like mean .mode,median,std\n",
        "df.describe()\n",
        "#Temp records ae there from day 1 to day 30 want to fetch min and max temp values and want to analyse what is\n",
        "#next temp values like 25%,50%,75% and max 25% means it will take 0-to 7days data and will max value\n",
        "#50 % means it will take 0 to 15 days data and prints max value\n",
        "#75 means it will take 0to 21 days data and prints max value\n",
        "#Banglore city ---day 10 to day 30\n",
        "'''\n",
        "min ----day1 to day 30---you will get 30 degrees\n",
        "max ----day1 to day 30---you will get 35 degrees\n",
        "25% ----dat11 to day 7---what is the max temp value you will get\n",
        "50% ----day1 to day 15---what is the max temp value you will get\n",
        "75% ----day1 to day 21---what is the max temp value you will get\n",
        "'''"
      ],
      "metadata": {
        "id": "rQ4hOZzQkIN1",
        "outputId": "5005b6e0-5c7d-4707-fb84-4af975cc6eff",
        "colab": {
          "base_uri": "https://localhost:8080/",
          "height": 174
        }
      },
      "execution_count": 4,
      "outputs": [
        {
          "output_type": "execute_result",
          "data": {
            "text/plain": [
              "       Name Age      City\n",
              "count     3   3         3\n",
              "unique    3   3         3\n",
              "top     Ram  45  banglore\n",
              "freq      1   1         1"
            ],
            "text/html": [
              "\n",
              "  <div id=\"df-aadf0f4b-1e24-4ff2-89a6-2734ca9e2a91\" class=\"colab-df-container\">\n",
              "    <div>\n",
              "<style scoped>\n",
              "    .dataframe tbody tr th:only-of-type {\n",
              "        vertical-align: middle;\n",
              "    }\n",
              "\n",
              "    .dataframe tbody tr th {\n",
              "        vertical-align: top;\n",
              "    }\n",
              "\n",
              "    .dataframe thead th {\n",
              "        text-align: right;\n",
              "    }\n",
              "</style>\n",
              "<table border=\"1\" class=\"dataframe\">\n",
              "  <thead>\n",
              "    <tr style=\"text-align: right;\">\n",
              "      <th></th>\n",
              "      <th>Name</th>\n",
              "      <th>Age</th>\n",
              "      <th>City</th>\n",
              "    </tr>\n",
              "  </thead>\n",
              "  <tbody>\n",
              "    <tr>\n",
              "      <th>count</th>\n",
              "      <td>3</td>\n",
              "      <td>3</td>\n",
              "      <td>3</td>\n",
              "    </tr>\n",
              "    <tr>\n",
              "      <th>unique</th>\n",
              "      <td>3</td>\n",
              "      <td>3</td>\n",
              "      <td>3</td>\n",
              "    </tr>\n",
              "    <tr>\n",
              "      <th>top</th>\n",
              "      <td>Ram</td>\n",
              "      <td>45</td>\n",
              "      <td>banglore</td>\n",
              "    </tr>\n",
              "    <tr>\n",
              "      <th>freq</th>\n",
              "      <td>1</td>\n",
              "      <td>1</td>\n",
              "      <td>1</td>\n",
              "    </tr>\n",
              "  </tbody>\n",
              "</table>\n",
              "</div>\n",
              "    <div class=\"colab-df-buttons\">\n",
              "\n",
              "  <div class=\"colab-df-container\">\n",
              "    <button class=\"colab-df-convert\" onclick=\"convertToInteractive('df-aadf0f4b-1e24-4ff2-89a6-2734ca9e2a91')\"\n",
              "            title=\"Convert this dataframe to an interactive table.\"\n",
              "            style=\"display:none;\">\n",
              "\n",
              "  <svg xmlns=\"http://www.w3.org/2000/svg\" height=\"24px\" viewBox=\"0 -960 960 960\">\n",
              "    <path d=\"M120-120v-720h720v720H120Zm60-500h600v-160H180v160Zm220 220h160v-160H400v160Zm0 220h160v-160H400v160ZM180-400h160v-160H180v160Zm440 0h160v-160H620v160ZM180-180h160v-160H180v160Zm440 0h160v-160H620v160Z\"/>\n",
              "  </svg>\n",
              "    </button>\n",
              "\n",
              "  <style>\n",
              "    .colab-df-container {\n",
              "      display:flex;\n",
              "      gap: 12px;\n",
              "    }\n",
              "\n",
              "    .colab-df-convert {\n",
              "      background-color: #E8F0FE;\n",
              "      border: none;\n",
              "      border-radius: 50%;\n",
              "      cursor: pointer;\n",
              "      display: none;\n",
              "      fill: #1967D2;\n",
              "      height: 32px;\n",
              "      padding: 0 0 0 0;\n",
              "      width: 32px;\n",
              "    }\n",
              "\n",
              "    .colab-df-convert:hover {\n",
              "      background-color: #E2EBFA;\n",
              "      box-shadow: 0px 1px 2px rgba(60, 64, 67, 0.3), 0px 1px 3px 1px rgba(60, 64, 67, 0.15);\n",
              "      fill: #174EA6;\n",
              "    }\n",
              "\n",
              "    .colab-df-buttons div {\n",
              "      margin-bottom: 4px;\n",
              "    }\n",
              "\n",
              "    [theme=dark] .colab-df-convert {\n",
              "      background-color: #3B4455;\n",
              "      fill: #D2E3FC;\n",
              "    }\n",
              "\n",
              "    [theme=dark] .colab-df-convert:hover {\n",
              "      background-color: #434B5C;\n",
              "      box-shadow: 0px 1px 3px 1px rgba(0, 0, 0, 0.15);\n",
              "      filter: drop-shadow(0px 1px 2px rgba(0, 0, 0, 0.3));\n",
              "      fill: #FFFFFF;\n",
              "    }\n",
              "  </style>\n",
              "\n",
              "    <script>\n",
              "      const buttonEl =\n",
              "        document.querySelector('#df-aadf0f4b-1e24-4ff2-89a6-2734ca9e2a91 button.colab-df-convert');\n",
              "      buttonEl.style.display =\n",
              "        google.colab.kernel.accessAllowed ? 'block' : 'none';\n",
              "\n",
              "      async function convertToInteractive(key) {\n",
              "        const element = document.querySelector('#df-aadf0f4b-1e24-4ff2-89a6-2734ca9e2a91');\n",
              "        const dataTable =\n",
              "          await google.colab.kernel.invokeFunction('convertToInteractive',\n",
              "                                                    [key], {});\n",
              "        if (!dataTable) return;\n",
              "\n",
              "        const docLinkHtml = 'Like what you see? Visit the ' +\n",
              "          '<a target=\"_blank\" href=https://colab.research.google.com/notebooks/data_table.ipynb>data table notebook</a>'\n",
              "          + ' to learn more about interactive tables.';\n",
              "        element.innerHTML = '';\n",
              "        dataTable['output_type'] = 'display_data';\n",
              "        await google.colab.output.renderOutput(dataTable, element);\n",
              "        const docLink = document.createElement('div');\n",
              "        docLink.innerHTML = docLinkHtml;\n",
              "        element.appendChild(docLink);\n",
              "      }\n",
              "    </script>\n",
              "  </div>\n",
              "\n",
              "\n",
              "    <div id=\"df-32cd3e1f-2405-413f-a5d1-e378e6d4d3e1\">\n",
              "      <button class=\"colab-df-quickchart\" onclick=\"quickchart('df-32cd3e1f-2405-413f-a5d1-e378e6d4d3e1')\"\n",
              "                title=\"Suggest charts\"\n",
              "                style=\"display:none;\">\n",
              "\n",
              "<svg xmlns=\"http://www.w3.org/2000/svg\" height=\"24px\"viewBox=\"0 0 24 24\"\n",
              "     width=\"24px\">\n",
              "    <g>\n",
              "        <path d=\"M19 3H5c-1.1 0-2 .9-2 2v14c0 1.1.9 2 2 2h14c1.1 0 2-.9 2-2V5c0-1.1-.9-2-2-2zM9 17H7v-7h2v7zm4 0h-2V7h2v10zm4 0h-2v-4h2v4z\"/>\n",
              "    </g>\n",
              "</svg>\n",
              "      </button>\n",
              "\n",
              "<style>\n",
              "  .colab-df-quickchart {\n",
              "      --bg-color: #E8F0FE;\n",
              "      --fill-color: #1967D2;\n",
              "      --hover-bg-color: #E2EBFA;\n",
              "      --hover-fill-color: #174EA6;\n",
              "      --disabled-fill-color: #AAA;\n",
              "      --disabled-bg-color: #DDD;\n",
              "  }\n",
              "\n",
              "  [theme=dark] .colab-df-quickchart {\n",
              "      --bg-color: #3B4455;\n",
              "      --fill-color: #D2E3FC;\n",
              "      --hover-bg-color: #434B5C;\n",
              "      --hover-fill-color: #FFFFFF;\n",
              "      --disabled-bg-color: #3B4455;\n",
              "      --disabled-fill-color: #666;\n",
              "  }\n",
              "\n",
              "  .colab-df-quickchart {\n",
              "    background-color: var(--bg-color);\n",
              "    border: none;\n",
              "    border-radius: 50%;\n",
              "    cursor: pointer;\n",
              "    display: none;\n",
              "    fill: var(--fill-color);\n",
              "    height: 32px;\n",
              "    padding: 0;\n",
              "    width: 32px;\n",
              "  }\n",
              "\n",
              "  .colab-df-quickchart:hover {\n",
              "    background-color: var(--hover-bg-color);\n",
              "    box-shadow: 0 1px 2px rgba(60, 64, 67, 0.3), 0 1px 3px 1px rgba(60, 64, 67, 0.15);\n",
              "    fill: var(--button-hover-fill-color);\n",
              "  }\n",
              "\n",
              "  .colab-df-quickchart-complete:disabled,\n",
              "  .colab-df-quickchart-complete:disabled:hover {\n",
              "    background-color: var(--disabled-bg-color);\n",
              "    fill: var(--disabled-fill-color);\n",
              "    box-shadow: none;\n",
              "  }\n",
              "\n",
              "  .colab-df-spinner {\n",
              "    border: 2px solid var(--fill-color);\n",
              "    border-color: transparent;\n",
              "    border-bottom-color: var(--fill-color);\n",
              "    animation:\n",
              "      spin 1s steps(1) infinite;\n",
              "  }\n",
              "\n",
              "  @keyframes spin {\n",
              "    0% {\n",
              "      border-color: transparent;\n",
              "      border-bottom-color: var(--fill-color);\n",
              "      border-left-color: var(--fill-color);\n",
              "    }\n",
              "    20% {\n",
              "      border-color: transparent;\n",
              "      border-left-color: var(--fill-color);\n",
              "      border-top-color: var(--fill-color);\n",
              "    }\n",
              "    30% {\n",
              "      border-color: transparent;\n",
              "      border-left-color: var(--fill-color);\n",
              "      border-top-color: var(--fill-color);\n",
              "      border-right-color: var(--fill-color);\n",
              "    }\n",
              "    40% {\n",
              "      border-color: transparent;\n",
              "      border-right-color: var(--fill-color);\n",
              "      border-top-color: var(--fill-color);\n",
              "    }\n",
              "    60% {\n",
              "      border-color: transparent;\n",
              "      border-right-color: var(--fill-color);\n",
              "    }\n",
              "    80% {\n",
              "      border-color: transparent;\n",
              "      border-right-color: var(--fill-color);\n",
              "      border-bottom-color: var(--fill-color);\n",
              "    }\n",
              "    90% {\n",
              "      border-color: transparent;\n",
              "      border-bottom-color: var(--fill-color);\n",
              "    }\n",
              "  }\n",
              "</style>\n",
              "\n",
              "      <script>\n",
              "        async function quickchart(key) {\n",
              "          const quickchartButtonEl =\n",
              "            document.querySelector('#' + key + ' button');\n",
              "          quickchartButtonEl.disabled = true;  // To prevent multiple clicks.\n",
              "          quickchartButtonEl.classList.add('colab-df-spinner');\n",
              "          try {\n",
              "            const charts = await google.colab.kernel.invokeFunction(\n",
              "                'suggestCharts', [key], {});\n",
              "          } catch (error) {\n",
              "            console.error('Error during call to suggestCharts:', error);\n",
              "          }\n",
              "          quickchartButtonEl.classList.remove('colab-df-spinner');\n",
              "          quickchartButtonEl.classList.add('colab-df-quickchart-complete');\n",
              "        }\n",
              "        (() => {\n",
              "          let quickchartButtonEl =\n",
              "            document.querySelector('#df-32cd3e1f-2405-413f-a5d1-e378e6d4d3e1 button');\n",
              "          quickchartButtonEl.style.display =\n",
              "            google.colab.kernel.accessAllowed ? 'block' : 'none';\n",
              "        })();\n",
              "      </script>\n",
              "    </div>\n",
              "\n",
              "    </div>\n",
              "  </div>\n"
            ],
            "application/vnd.google.colaboratory.intrinsic+json": {
              "type": "dataframe",
              "summary": "{\n  \"name\": \"df\",\n  \"rows\": 4,\n  \"fields\": [\n    {\n      \"column\": \"Name\",\n      \"properties\": {\n        \"dtype\": \"string\",\n        \"num_unique_values\": 3,\n        \"samples\": [\n          \"3\",\n          \"Ram\",\n          \"1\"\n        ],\n        \"semantic_type\": \"\",\n        \"description\": \"\"\n      }\n    },\n    {\n      \"column\": \"Age\",\n      \"properties\": {\n        \"dtype\": \"string\",\n        \"num_unique_values\": 3,\n        \"samples\": [\n          \"3\",\n          \"45\",\n          \"1\"\n        ],\n        \"semantic_type\": \"\",\n        \"description\": \"\"\n      }\n    },\n    {\n      \"column\": \"City\",\n      \"properties\": {\n        \"dtype\": \"string\",\n        \"num_unique_values\": 3,\n        \"samples\": [\n          \"3\",\n          \"banglore\",\n          \"1\"\n        ],\n        \"semantic_type\": \"\",\n        \"description\": \"\"\n      }\n    }\n  ]\n}"
            }
          },
          "metadata": {},
          "execution_count": 4
        }
      ]
    },
    {
      "cell_type": "code",
      "source": [],
      "metadata": {
        "id": "1BXJz-9UkIW_"
      },
      "execution_count": null,
      "outputs": []
    },
    {
      "cell_type": "code",
      "source": [],
      "metadata": {
        "id": "BeJeYvOMkIlT"
      },
      "execution_count": null,
      "outputs": []
    },
    {
      "cell_type": "code",
      "source": [],
      "metadata": {
        "id": "FcElMvYWkIyW"
      },
      "execution_count": null,
      "outputs": []
    },
    {
      "cell_type": "code",
      "source": [],
      "metadata": {
        "id": "JW1nJb0LkI7y"
      },
      "execution_count": null,
      "outputs": []
    },
    {
      "cell_type": "code",
      "source": [],
      "metadata": {
        "id": "zoqRYG8biwcF"
      },
      "execution_count": null,
      "outputs": []
    },
    {
      "cell_type": "code",
      "source": [],
      "metadata": {
        "id": "ZzKxAIc3iwYi"
      },
      "execution_count": null,
      "outputs": []
    },
    {
      "cell_type": "code",
      "source": [],
      "metadata": {
        "id": "fGmU2p4jiwVQ"
      },
      "execution_count": null,
      "outputs": []
    },
    {
      "cell_type": "code",
      "source": [],
      "metadata": {
        "id": "46Q43c3miwSM"
      },
      "execution_count": null,
      "outputs": []
    },
    {
      "cell_type": "code",
      "source": [],
      "metadata": {
        "id": "4PPq5FVGiwPB"
      },
      "execution_count": null,
      "outputs": []
    },
    {
      "cell_type": "code",
      "source": [],
      "metadata": {
        "id": "9C0v36EDiwL1"
      },
      "execution_count": null,
      "outputs": []
    },
    {
      "cell_type": "code",
      "source": [],
      "metadata": {
        "id": "hH-zOPqXiwIz"
      },
      "execution_count": null,
      "outputs": []
    },
    {
      "cell_type": "code",
      "source": [],
      "metadata": {
        "id": "lsWQ9GPSiwFt"
      },
      "execution_count": null,
      "outputs": []
    }
  ],
  "metadata": {
    "colab": {
      "name": "Welcome to Colab",
      "toc_visible": true,
      "provenance": [],
      "include_colab_link": true
    },
    "kernelspec": {
      "display_name": "Python 3",
      "name": "python3"
    }
  },
  "nbformat": 4,
  "nbformat_minor": 0
}