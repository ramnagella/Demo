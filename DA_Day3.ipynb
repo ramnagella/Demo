{
  "cells": [
    {
      "cell_type": "markdown",
      "metadata": {
        "id": "view-in-github",
        "colab_type": "text"
      },
      "source": [
        "<a href=\"https://colab.research.google.com/github/ramnagella/Demo/blob/master/DA_Day3.ipynb\" target=\"_parent\"><img src=\"https://colab.research.google.com/assets/colab-badge.svg\" alt=\"Open In Colab\"/></a>"
      ]
    },
    {
      "cell_type": "code",
      "source": [
        "#DA_Day3----05-08-2025\n",
        "#data cleaning ---Data Cleaning (EDA)--Data interpretation and Visualisation---Pandas,numpy\n",
        "#matplotlib,plotly,seabron,\n",
        "#Pandas Library and its structures,operations and manipulation of structure,and data\n",
        "#what are the methods and attributes\n"
      ],
      "metadata": {
        "id": "yOytVgGpjtva"
      },
      "execution_count": null,
      "outputs": []
    }
  ],
  "metadata": {
    "colab": {
      "name": "Welcome to Colab",
      "toc_visible": true,
      "provenance": [],
      "include_colab_link": true
    },
    "kernelspec": {
      "display_name": "Python 3",
      "name": "python3"
    }
  },
  "nbformat": 4,
  "nbformat_minor": 0
}