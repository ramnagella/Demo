{
  "cells": [
    {
      "cell_type": "markdown",
      "metadata": {
        "id": "view-in-github",
        "colab_type": "text"
      },
      "source": [
        "<a href=\"https://colab.research.google.com/github/ramnagella/Demo/blob/master/DA_Day3.ipynb\" target=\"_parent\"><img src=\"https://colab.research.google.com/assets/colab-badge.svg\" alt=\"Open In Colab\"/></a>"
      ]
    },
    {
      "cell_type": "code",
      "source": [
        "#DA_Day3----05-08-2025\n",
        "#data cleaning ---Data Cleaning (EDA)--Data interpretation and Visualisation---Pandas,numpy\n",
        "#matplotlib,plotly,seabron,\n",
        "#Pandas Library and its structures,operations and manipulation of structure,and data\n",
        "#what are the methods and attributes\n"
      ],
      "metadata": {
        "id": "yOytVgGpjtva"
      },
      "execution_count": null,
      "outputs": []
    },
    {
      "cell_type": "code",
      "source": [
        "'''\n",
        "Pandas---\n",
        "   ----Introduction--\n",
        "   ----Use of Pandas---\n",
        "   ----Exact data structures available --\n",
        "   ----Purpose and overiew ----\n",
        "   ----installation---\n",
        "   ----Data structure ---Series(1-D),Frames(2-D),Panel(3-D)--it is deprecated one--instead of this we can us emulti Index--\n",
        "   ----After >1.X Panel is deprecated one --\n",
        "   ----Series---Only one column or fields\n",
        "   ----Frames ---Rows and columns---\n",
        "   ----After 1.X we are using multi index instaead of Panel\n",
        "   ----!pip install pandas '''\n",
        ""
      ],
      "metadata": {
        "id": "tBCeoQy2HpWV"
      },
      "execution_count": null,
      "outputs": []
    },
    {
      "cell_type": "code",
      "source": [
        "#B1.asic Operations ---'''\n",
        "\n",
        "Creating series and DF\n",
        "Attribues and methods for Series and DF\n",
        "Indexing and selecting the data\n",
        "#2.Daat Cleaning ---\n",
        "----Handling missing values --\n",
        "----Removing duplicates -----\n",
        "----How to convert data type---\n",
        "-----Data tranformation----\n",
        "-----Adding /removing the columns---\n",
        "-----Rename Columns---\n",
        "-----Data aggregation and grouping---\n",
        "-----Filtering and sorting the data\n",
        "#3.Advanced data operations--\n",
        "-----Merging and joining DF's\n",
        "--------------Concatnation,merging operations(inner,outer,left,right)\n",
        "-----Pivot tables and cross tabulations---\n",
        "-----how to create pivot tables---\n",
        "-----what is the use of cross tabulation\n",
        "-----time series analysis---\n",
        "---------date and time data in pandas\n",
        "-----Resampling and frequency conversion---\n",
        "#4.Data visualtion--\n",
        "-----plot the graph using different  techniques---\n",
        "-----integrate with other libraries\n",
        "-----\n",
        "#5.Case Study----1 or 2----\n",
        "'''"
      ],
      "metadata": {
        "id": "McFrqIPkKWh5"
      },
      "execution_count": null,
      "outputs": []
    }
  ],
  "metadata": {
    "colab": {
      "name": "Welcome to Colab",
      "toc_visible": true,
      "provenance": [],
      "include_colab_link": true
    },
    "kernelspec": {
      "display_name": "Python 3",
      "name": "python3"
    }
  },
  "nbformat": 4,
  "nbformat_minor": 0
}