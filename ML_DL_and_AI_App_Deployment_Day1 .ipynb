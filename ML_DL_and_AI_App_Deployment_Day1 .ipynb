{
  "cells": [
    {
      "cell_type": "markdown",
      "metadata": {
        "id": "view-in-github",
        "colab_type": "text"
      },
      "source": [
        "<a href=\"https://colab.research.google.com/github/ramnagella/Demo/blob/master/ML_DL_and_AI_App_Deployment_Day1%20.ipynb\" target=\"_parent\"><img src=\"https://colab.research.google.com/assets/colab-badge.svg\" alt=\"Open In Colab\"/></a>"
      ]
    },
    {
      "cell_type": "code",
      "source": [
        "#ML DL and AI application Deployment 18-03-2025\n",
        "\n",
        "'''\n",
        "ML --based on past data ML predicts future data\n",
        "\n",
        "Tyopes of AI ---functional AI,strong AI,Weak AI,Application AI Computer Vision (CV)\n",
        "DL supports Structured as well as the unstructured.\n",
        "\n",
        "AI systems based capability---\n",
        "\n",
        "'''"
      ],
      "metadata": {
        "id": "XfE0dh-pkJQI"
      },
      "execution_count": null,
      "outputs": []
    },
    {
      "cell_type": "code",
      "source": [
        "#ML DL and AI application Deployment 20-03-2025\n",
        "'''\n",
        "rule based logic is chatbot\n",
        "virtual assistant of bank ,flipcart,amazon--are developed based on rule based logic\n",
        "\n",
        "\n",
        "All the theory is there in introduction introductujon to AI ML DL app developemnt folder\n",
        "\n",
        "'''\n"
      ],
      "metadata": {
        "id": "0CSmjY-GkJMj"
      },
      "execution_count": null,
      "outputs": []
    },
    {
      "cell_type": "code",
      "source": [
        "#ML DL and AI application Deployment 27-03-2025\n",
        "\n",
        "\n",
        "'''\n",
        "Data can be devide dinto three train tetung and validation if accuracy is less again and agin while trainig the data\n",
        "1000 recirds devided into 800 train,100 validation and 100 test after training validation is done like to verify\n",
        "which alg will give more accuracy like RF DT  LR abd NB algs for fine tuning and model selection or alg selection\n",
        "\n",
        "overfitting ----y_pred is more different than y_test like y_test=13,000 and y_pred=16,000\n",
        "bevause of some noise is there , ---some times will get 100% means model is mugging up the data ,\n",
        "underfitting ---y_pred is 13,00000 and y_test is 11,00000  if we have less data is there for training chances of under fitting\n",
        "model means a math function trained on data to make predictions ,\n",
        "\n",
        "\n",
        "\n",
        "'''\n"
      ],
      "metadata": {
        "id": "MTUzqT4qkJJy"
      },
      "execution_count": null,
      "outputs": []
    },
    {
      "cell_type": "code",
      "source": [
        "#ML DL and AI application Deployment 01-April-2025\n",
        "\n",
        "'''\n",
        "ML Work Flow explained notes and code is there\n",
        "check the ML workflow(1).ipynb for complete python program on Lgistic regression\n",
        "\n",
        "'''\n"
      ],
      "metadata": {
        "id": "bFm01tTDkJHT"
      },
      "execution_count": null,
      "outputs": []
    },
    {
      "cell_type": "code",
      "source": [
        "#ML DL and AI application Deployment 10-April-2025\n",
        "'''\n",
        "Check offical scikit learn documentation-- for more info abt algs\n",
        "\n",
        "RF advanced one of DT\n",
        "But if you are having exactly two classes,.\n",
        "If you are having exactly 2 class outputs, you can go with a logistic regression algorithm.\n",
        "\n",
        "if you are having a more number of class outputs, you can go with.\n",
        "Random Forest algorithm or decision tree algorithm.\n",
        "\n",
        "Ypu can see the ML Regression Gold price prediction problem and code also\n",
        "\n",
        "\n",
        "\n",
        "\n",
        "'''"
      ],
      "metadata": {
        "id": "hzLieR7YkJEl"
      },
      "execution_count": null,
      "outputs": []
    },
    {
      "cell_type": "code",
      "source": [
        "#ML DL and AI application Deployment 15-April-2025\n",
        "'''\n",
        "We can see the ML Regression Gold price prediction problem .\n",
        "n_estimators =100 means no of decission trees\n",
        "\n",
        "\n",
        "\n",
        "'''"
      ],
      "metadata": {
        "id": "nAEioyz84e_a"
      },
      "execution_count": null,
      "outputs": []
    },
    {
      "cell_type": "code",
      "source": [],
      "metadata": {
        "id": "lKoXC8Ye4e8A"
      },
      "execution_count": null,
      "outputs": []
    },
    {
      "cell_type": "code",
      "source": [],
      "metadata": {
        "id": "YtI6592V4e43"
      },
      "execution_count": null,
      "outputs": []
    },
    {
      "cell_type": "code",
      "source": [],
      "metadata": {
        "id": "GgukP_s74e2R"
      },
      "execution_count": null,
      "outputs": []
    },
    {
      "cell_type": "code",
      "source": [],
      "metadata": {
        "id": "h5WKb0PH4e0K"
      },
      "execution_count": null,
      "outputs": []
    },
    {
      "cell_type": "code",
      "source": [],
      "metadata": {
        "id": "vSyO2POy4exm"
      },
      "execution_count": null,
      "outputs": []
    },
    {
      "cell_type": "code",
      "source": [],
      "metadata": {
        "id": "eUW9zCog4evN"
      },
      "execution_count": null,
      "outputs": []
    },
    {
      "cell_type": "code",
      "source": [],
      "metadata": {
        "id": "GnGMGQwY4es0"
      },
      "execution_count": null,
      "outputs": []
    },
    {
      "cell_type": "code",
      "source": [],
      "metadata": {
        "id": "CEadZGs24eiB"
      },
      "execution_count": null,
      "outputs": []
    }
  ],
  "metadata": {
    "colab": {
      "name": "Welcome to Colab",
      "toc_visible": true,
      "provenance": [],
      "include_colab_link": true
    },
    "kernelspec": {
      "display_name": "Python 3",
      "name": "python3"
    }
  },
  "nbformat": 4,
  "nbformat_minor": 0
}