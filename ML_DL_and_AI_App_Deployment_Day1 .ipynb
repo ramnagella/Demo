{
  "cells": [
    {
      "cell_type": "markdown",
      "metadata": {
        "id": "view-in-github",
        "colab_type": "text"
      },
      "source": [
        "<a href=\"https://colab.research.google.com/github/ramnagella/Demo/blob/master/ML_DL_and_AI_App_Deployment_Day1%20.ipynb\" target=\"_parent\"><img src=\"https://colab.research.google.com/assets/colab-badge.svg\" alt=\"Open In Colab\"/></a>"
      ]
    },
    {
      "cell_type": "code",
      "source": [
        "#ML DL and AI application Deployment 18-02-2025\n",
        "\n",
        "'''\n",
        "ML --based on past data ML predicts future data\n",
        "\n",
        "Tyopes of AI ---functional AI,strong AI,Weak AI,Application AI Computer Vision (CV)\n",
        "DL supports Structured as well as the unstructured.\n",
        "\n",
        "AI systems based capability---\n",
        "\n",
        "'''"
      ],
      "metadata": {
        "id": "XfE0dh-pkJQI"
      },
      "execution_count": null,
      "outputs": []
    },
    {
      "cell_type": "code",
      "source": [
        "#ML DL and AI application Deployment 20-02-2025\n",
        "'''\n",
        "rule based logic is chatbot\n",
        "virtual assistant of bank ,flipcart,amazon--are developed based on rule based logic\n",
        "\n",
        "\n",
        "All the theory is there in introduction introductujon to AI ML DL app developemnt folder\n",
        "\n",
        "'''\n"
      ],
      "metadata": {
        "id": "0CSmjY-GkJMj"
      },
      "execution_count": null,
      "outputs": []
    },
    {
      "cell_type": "code",
      "source": [
        "#ML DL and AI application Deployment 27-02-2025\n",
        "\n",
        "\n",
        "'''\n",
        "Data can be devide dinto three train tetung and validation if accuracy is less again and agin while trainig the data\n",
        "1000 recirds devided into 800 train,100 validation and 100 test after training validation is done like to verify\n",
        "which alg will give more accuracy like RF DT  LR abd NB algs for fine tuning and model selection or alg selection\n",
        "\n",
        "overfitting ----y_pred is more different than y_test like y_test=13,000 and y_pred=16,000\n",
        "underfitting ---y_pred is 13,00000 and y_test is 11,00000\n",
        "\n",
        "\n",
        "'''\n"
      ],
      "metadata": {
        "id": "MTUzqT4qkJJy"
      },
      "execution_count": null,
      "outputs": []
    },
    {
      "cell_type": "code",
      "source": [],
      "metadata": {
        "id": "bFm01tTDkJHT"
      },
      "execution_count": null,
      "outputs": []
    },
    {
      "cell_type": "code",
      "source": [],
      "metadata": {
        "id": "hzLieR7YkJEl"
      },
      "execution_count": null,
      "outputs": []
    }
  ],
  "metadata": {
    "colab": {
      "name": "Welcome to Colab",
      "toc_visible": true,
      "provenance": [],
      "include_colab_link": true
    },
    "kernelspec": {
      "display_name": "Python 3",
      "name": "python3"
    }
  },
  "nbformat": 4,
  "nbformat_minor": 0
}