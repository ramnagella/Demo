{
  "cells": [
    {
      "cell_type": "markdown",
      "metadata": {
        "id": "view-in-github",
        "colab_type": "text"
      },
      "source": [
        "<a href=\"https://colab.research.google.com/github/ramnagella/Demo/blob/master/ML_Day1.ipynb\" target=\"_parent\"><img src=\"https://colab.research.google.com/assets/colab-badge.svg\" alt=\"Open In Colab\"/></a>"
      ]
    },
    {
      "cell_type": "code",
      "source": [
        "#Machine learning Day1---16-10-24\n",
        "#ML is subset of AI---DL is subset of ML--AI--->ML--->DL--->NLP--->GenAI\n",
        "#What is AI---making computer/machine intelligent one ---problem solving --decision making\n",
        "#ML ---Handles simple and numerical and structured  data ---DL ---handles unstructured ,huge and complex data like images ,use computer vision library along with NLP videos,audioes\n",
        "#NLP----Text data\n",
        "#ML--ML engineer need to select features nanually\n",
        "#in gold price orediction problem data is like year,grams,price here we can take year and grans as features and pice as lable or o/p\n",
        "#Human intervension is very important ---feature election is also called feature engg\n",
        "#DL---Features will be extractec automatically\n",
        "#strong AI---ex---Driverless car Robot\n",
        "#weak AI---Vaccum cleaner robot,Virtual assistant"
      ],
      "metadata": {
        "id": "zOBlBBBy_SYn"
      },
      "execution_count": null,
      "outputs": []
    },
    {
      "cell_type": "code",
      "source": [
        "#data --and Concepts ---Human can analyse ,identify pattern and make decissions\n",
        "#Numerical data---Will select ML concept---and DL also some times\n",
        "#NLP is also one of the applications of DL\n",
        "#Human can listen and speak---text/audio/video data---will select ML and NLP processing concept ---\n",
        "#"
      ],
      "metadata": {
        "id": "H4kzVPArEJ_R"
      },
      "execution_count": null,
      "outputs": []
    },
    {
      "cell_type": "code",
      "source": [
        "#Human can see and recognise -----\n",
        "#Pictures /images /video data--Computer Vision and DL concept\n"
      ],
      "metadata": {
        "id": "cv-LAvt3EJ78"
      },
      "execution_count": null,
      "outputs": []
    },
    {
      "cell_type": "code",
      "source": [
        "#ML is subset of AI that enables computers to learn and make predictins or decisions from data without explicit programming\n",
        "#1.Supervised Learning ---like example ---shape,size and color identifying the fruits\n",
        "#Training the ML model features along with label\n",
        "#With the help of Encoders will convert the text conceptual data into numerical format\n",
        "#Based on tarining model will predict ,to verify will give unseen data and predict and check the result\n",
        " #ML--We have to give features and label and predict for the unseen  data"
      ],
      "metadata": {
        "id": "f1La670IEJ42"
      },
      "execution_count": null,
      "outputs": []
    },
    {
      "cell_type": "code",
      "source": [],
      "metadata": {
        "id": "woSFEYldEJ2B"
      },
      "execution_count": null,
      "outputs": []
    },
    {
      "cell_type": "code",
      "source": [],
      "metadata": {
        "id": "WvtfoH2_EJy5"
      },
      "execution_count": null,
      "outputs": []
    },
    {
      "cell_type": "code",
      "source": [],
      "metadata": {
        "id": "rM1oLOXgEJwH"
      },
      "execution_count": null,
      "outputs": []
    },
    {
      "cell_type": "code",
      "source": [],
      "metadata": {
        "id": "z8BVFsPHEJtE"
      },
      "execution_count": null,
      "outputs": []
    },
    {
      "cell_type": "code",
      "source": [],
      "metadata": {
        "id": "t1pNNGRgEJjC"
      },
      "execution_count": null,
      "outputs": []
    },
    {
      "cell_type": "code",
      "source": [],
      "metadata": {
        "id": "YW23ZuTLEJfo"
      },
      "execution_count": null,
      "outputs": []
    },
    {
      "cell_type": "code",
      "source": [],
      "metadata": {
        "id": "T04UkN5KEJca"
      },
      "execution_count": null,
      "outputs": []
    },
    {
      "cell_type": "code",
      "source": [],
      "metadata": {
        "id": "5QoxAWxpEJZU"
      },
      "execution_count": null,
      "outputs": []
    },
    {
      "cell_type": "code",
      "source": [],
      "metadata": {
        "id": "b7LAPAY4EJWT"
      },
      "execution_count": null,
      "outputs": []
    },
    {
      "cell_type": "code",
      "source": [],
      "metadata": {
        "id": "ROijaRi4EJSx"
      },
      "execution_count": null,
      "outputs": []
    },
    {
      "cell_type": "code",
      "source": [],
      "metadata": {
        "id": "OmJdMGpBEJP6"
      },
      "execution_count": null,
      "outputs": []
    },
    {
      "cell_type": "code",
      "source": [],
      "metadata": {
        "id": "kVI8BOqREJMz"
      },
      "execution_count": null,
      "outputs": []
    }
  ],
  "metadata": {
    "colab": {
      "name": "Welcome to Colab",
      "toc_visible": true,
      "provenance": [],
      "include_colab_link": true
    },
    "kernelspec": {
      "display_name": "Python 3",
      "name": "python3"
    }
  },
  "nbformat": 4,
  "nbformat_minor": 0
}