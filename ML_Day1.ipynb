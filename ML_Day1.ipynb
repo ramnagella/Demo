{
  "cells": [
    {
      "cell_type": "markdown",
      "metadata": {
        "id": "view-in-github",
        "colab_type": "text"
      },
      "source": [
        "<a href=\"https://colab.research.google.com/github/ramnagella/Demo/blob/master/ML_Day1.ipynb\" target=\"_parent\"><img src=\"https://colab.research.google.com/assets/colab-badge.svg\" alt=\"Open In Colab\"/></a>"
      ]
    },
    {
      "cell_type": "code",
      "source": [
        "#Machine learning Day1---16-10-24\n",
        "#ML is subset of AI---DL is subset of ML--AI--->ML--->DL--->NLP--->GenAI\n",
        "#What is AI---making computer/machine intelligent one ---problem solving --decision making\n",
        "#ML ---Handles simple and numerical and structured  data ---DL ---handles unstructured ,huge and complex data like images ,use computer vision library along with NLP videos,audioes\n",
        "#NLP----Text data\n",
        "#ML--ML engineer need to select features nanually\n",
        "#in gold price orediction problem data is like year,grams,price here we can take year and grans as features and pice as lable or o/p\n",
        "#Human intervension is very important ---feature election is also called feature engg\n",
        "#DL---Features will be extractec automatically\n",
        "#strong AI---ex---Driverless car Robot\n",
        "#weak AI---Vaccum cleaner robot,Virtual assistant"
      ],
      "metadata": {
        "id": "zOBlBBBy_SYn"
      },
      "execution_count": null,
      "outputs": []
    },
    {
      "cell_type": "code",
      "source": [
        "#data --and Concepts ---Human can analyse ,identify pattern and make decissions\n",
        "#Numerical data---Will select ML concept---and DL also some times\n",
        "#NLP is also one of the applications of DL\n",
        "#Human can listen and speak---text/audio/video data---will select ML and NLP processing concept ---\n",
        "#"
      ],
      "metadata": {
        "id": "H4kzVPArEJ_R"
      },
      "execution_count": null,
      "outputs": []
    },
    {
      "cell_type": "code",
      "source": [
        "#Human can see and recognise -----\n",
        "#Pictures /images /video data--Computer Vision and DL concept\n"
      ],
      "metadata": {
        "id": "cv-LAvt3EJ78"
      },
      "execution_count": null,
      "outputs": []
    },
    {
      "cell_type": "code",
      "source": [
        "#ML is subset of AI that enables computers to learn and make predictins or decisions from data without explicit programming\n",
        "#1.Supervised Learning ---like example ---shape,size and color identifying the fruits\n",
        "#Training the ML model features along with label\n",
        "#With the help of Encoders will convert the text conceptual data into numerical format\n",
        "#Based on tarining model will predict ,to verify will give unseen data and predict and check the result\n",
        " #ML--We have to give features and label and predict for the unseen  data"
      ],
      "metadata": {
        "id": "f1La670IEJ42"
      },
      "execution_count": null,
      "outputs": []
    },
    {
      "cell_type": "code",
      "source": [
        "#Feratures are independent variabkles(i/P) and label(0/p) is dependemt variable\n",
        "#ML Classification is amethod where a computer learns to assign predefined lables to i/p data enabling it to\n",
        "#categorize or predict the class of new or unseen data\n",
        "#ML---Data should be in tabular format and structured format.like .sql,csv,excel\n",
        "#ML Algorithms are  3 types---Calsification and clustering algorithms---\n",
        "#Supervised learning ---Classification ---data like based on age and based on salary and whtether he will purchase the car or not\n",
        "#data is age,salary buy the car or not another data set is like house rooms,size ,and rent\n",
        "#machine will predict the rent of the houses based on the data given --this is clasification model\n",
        "\n"
      ],
      "metadata": {
        "id": "woSFEYldEJ2B"
      },
      "execution_count": null,
      "outputs": []
    },
    {
      "cell_type": "code",
      "source": [],
      "metadata": {
        "id": "pgDxUoeNrYR8"
      },
      "execution_count": null,
      "outputs": []
    },
    {
      "cell_type": "code",
      "source": [
        "#Steps to follow ---movie recomendation system-1.User details are available in one dataset,movie relevant info in one dataset,movie history another dataset\n",
        "#2.data preproceeing.3.choosing classifier.4.Train the model 5.Model Evaluation(Holdout methid/cross validation/ROC Curve(Reciever operating characteristice/Classification reports))\n",
        "#6. Parameter tuning(optional)(student failed exam yhen his preparation will be changed when compared with regular students this is called parameter tuning means will add some features or delete some features )\n",
        "#7.Model Prediction ---this is ML work FLow\n",
        "#Classifiers like (k-nearest neighbour/logistic regression/decision tree/support vector machine/naive nayes/Random Forest/Linear regression)\n",
        "#1.gathering the data 2.Data Preprocessing 3.Choosing an classifier(algorithm) 4."
      ],
      "metadata": {
        "id": "WvtfoH2_EJy5"
      },
      "execution_count": null,
      "outputs": []
    },
    {
      "cell_type": "code",
      "source": [
        "#ML Regression---ML Regression is a method in which a computer learns to predict numerical outcomes from input data\n",
        "#Estabilshing a continuous relationship between variables\n",
        "'''Data is like no of bedrooms,price 2,3000,-3,4000,-4,5000,-5,6000 heree we can see some relationship---\n",
        "Regression will choose when the data is sequential numerical data (gold price prediction,petril price prediction,house rent prediction)\n",
        "Clasification will choose when the data is categorical data like yes or no ,true or false,Category A,or B or C,or D something like that\n",
        "both are supervised learning algorithms and are same\n",
        "'''"
      ],
      "metadata": {
        "id": "rM1oLOXgEJwH"
      },
      "execution_count": null,
      "outputs": []
    },
    {
      "cell_type": "code",
      "source": [
        "'''\n",
        "Unsupervised learning ----We are not giving o/p or lable just we are giving shape,size and coliur of fruits\n",
        "We need to identify the type of fruits\n",
        "Unsupervised learning is a ML approach where a computer explores and identifies patterns in data without\n",
        "predefined lables rvealing hidden structures and relationships\n",
        "grouping or clustering the data segregate the data based on some pattern .Here there are\n",
        "two algorithms clusteing and association algorithms.\n",
        "\n",
        "CLUSTERING---Principal component analysis/Hierarchical clustering/Singular Value Decomposition/K-means clustering\n",
        "/Independent component analysis/DBSCAN/Agglomerative clustering\n",
        "Reinforced Learning ----\n",
        " '''"
      ],
      "metadata": {
        "id": "z8BVFsPHEJtE"
      },
      "execution_count": null,
      "outputs": []
    },
    {
      "cell_type": "code",
      "source": [],
      "metadata": {
        "id": "t1pNNGRgEJjC"
      },
      "execution_count": null,
      "outputs": []
    },
    {
      "cell_type": "code",
      "source": [],
      "metadata": {
        "id": "YW23ZuTLEJfo"
      },
      "execution_count": null,
      "outputs": []
    },
    {
      "cell_type": "code",
      "source": [],
      "metadata": {
        "id": "T04UkN5KEJca"
      },
      "execution_count": null,
      "outputs": []
    },
    {
      "cell_type": "code",
      "source": [],
      "metadata": {
        "id": "5QoxAWxpEJZU"
      },
      "execution_count": null,
      "outputs": []
    },
    {
      "cell_type": "code",
      "source": [],
      "metadata": {
        "id": "b7LAPAY4EJWT"
      },
      "execution_count": null,
      "outputs": []
    },
    {
      "cell_type": "code",
      "source": [],
      "metadata": {
        "id": "ROijaRi4EJSx"
      },
      "execution_count": null,
      "outputs": []
    },
    {
      "cell_type": "code",
      "source": [],
      "metadata": {
        "id": "OmJdMGpBEJP6"
      },
      "execution_count": null,
      "outputs": []
    },
    {
      "cell_type": "code",
      "source": [],
      "metadata": {
        "id": "kVI8BOqREJMz"
      },
      "execution_count": null,
      "outputs": []
    }
  ],
  "metadata": {
    "colab": {
      "name": "Welcome to Colab",
      "toc_visible": true,
      "provenance": [],
      "include_colab_link": true
    },
    "kernelspec": {
      "display_name": "Python 3",
      "name": "python3"
    }
  },
  "nbformat": 4,
  "nbformat_minor": 0
}