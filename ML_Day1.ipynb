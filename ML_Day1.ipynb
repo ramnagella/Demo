{
  "cells": [
    {
      "cell_type": "markdown",
      "metadata": {
        "id": "view-in-github",
        "colab_type": "text"
      },
      "source": [
        "<a href=\"https://colab.research.google.com/github/ramnagella/Demo/blob/master/ML_Day1.ipynb\" target=\"_parent\"><img src=\"https://colab.research.google.com/assets/colab-badge.svg\" alt=\"Open In Colab\"/></a>"
      ]
    },
    {
      "cell_type": "code",
      "source": [
        "#Machine learning Day1---16-10-24\n",
        "#ML is subset of AI---DL is subset of ML--AI--->ML--->DL--->NLP--->GenAI\n",
        "#What is AI---making computer/machine intelligent one ---problem solving --decision making\n",
        "#ML ---Handles simple and numerical and structured  data ---DL ---handles unstructured ,huge and complex data like images ,use computer vision library along with NLP videos,audioes\n",
        "#NLP----Text data\n",
        "#ML--ML engineer need to select features nanually\n",
        "#in gold price orediction problem data is like year,grams,price here we can take year and grans as features and pice as lable or o/p\n",
        "#Human intervension is very important ---feature election is also called feature engg\n",
        "#DL---Features will be extractec automatically\n",
        "#strong AI---ex---Driverless car Robot\n",
        "#weak AI---Vaccum cleaner robot,Virtual assistant"
      ],
      "metadata": {
        "id": "zOBlBBBy_SYn"
      },
      "execution_count": null,
      "outputs": []
    },
    {
      "cell_type": "code",
      "source": [
        "#data --and Concepts ---Human can analyse ,identify pattern and make decissions\n",
        "#Numerical data---Will select ML concept---and DL also some times\n",
        "#NLP is also one of the applications of DL\n",
        "#Human can listen and speak---text/audio/video data---will select ML and NLP processing concept ---\n",
        "#"
      ],
      "metadata": {
        "id": "H4kzVPArEJ_R"
      },
      "execution_count": null,
      "outputs": []
    },
    {
      "cell_type": "code",
      "source": [
        "#Human can see and recognise -----\n",
        "#Pictures /images /video data--Computer Vision and DL concept\n"
      ],
      "metadata": {
        "id": "cv-LAvt3EJ78"
      },
      "execution_count": null,
      "outputs": []
    },
    {
      "cell_type": "code",
      "source": [
        "#ML is subset of AI that enables computers to learn and make predictins or decisions from data without explicit programming\n",
        "#1.Supervised Learning ---like example ---shape,size and color identifying the fruits\n",
        "#Training the ML model features along with label\n",
        "#With the help of Encoders will convert the text conceptual data into numerical format\n",
        "#Based on tarining model will predict ,to verify will give unseen data and predict and check the result\n",
        " #ML--We have to give features and label and predict for the unseen  data"
      ],
      "metadata": {
        "id": "f1La670IEJ42"
      },
      "execution_count": null,
      "outputs": []
    },
    {
      "cell_type": "code",
      "source": [
        "#Feratures are independent variabkles(i/P) and label(0/p) is dependemt variable\n",
        "#ML Classification is amethod where a computer learns to assign predefined lables to i/p data enabling it to\n",
        "#categorize or predict the class of new or unseen data\n",
        "#ML---Data should be in tabular format and structured format.like .sql,csv,excel\n",
        "#ML Algorithms are  3 types---Calsification and clustering algorithms---\n",
        "#Supervised learning ---Classification ---data like based on age and based on salary and whtether he will purchase the car or not\n",
        "#data is age,salary buy the car or not another data set is like house rooms,size ,and rent\n",
        "#machine will predict the rent of the houses based on the data given --this is clasification model\n",
        "\n"
      ],
      "metadata": {
        "id": "woSFEYldEJ2B"
      },
      "execution_count": null,
      "outputs": []
    },
    {
      "cell_type": "code",
      "source": [],
      "metadata": {
        "id": "pgDxUoeNrYR8"
      },
      "execution_count": null,
      "outputs": []
    },
    {
      "cell_type": "code",
      "source": [
        "#Steps to follow ---movie recomendation system-1.User details are available in one dataset,movie relevant info in one dataset,movie history another dataset\n",
        "#2.data preproceeing.3.choosing classifier.4.Train the model 5.Model Evaluation(Holdout methid/cross validation/ROC Curve(Reciever operating characteristice/Classification reports))\n",
        "#6. Parameter tuning(optional)(student failed exam yhen his preparation will be changed when compared with regular students this is called parameter tuning means will add some features or delete some features )\n",
        "#7.Model Prediction ---this is ML work FLow 8.Deploy the Model 9.Maintenance 9 Reports\n",
        "#Classifiers like (k-nearest neighbour/logistic regression/decision tree/support vector machine/naive nayes/Random Forest/Linear regression)\n",
        "#1.gathering the data 2.Data Preprocessing 3.Choosing an classifier(algorithm) 4."
      ],
      "metadata": {
        "id": "WvtfoH2_EJy5"
      },
      "execution_count": null,
      "outputs": []
    },
    {
      "cell_type": "code",
      "source": [
        "#ML Regression Definition---ML Regression is a method in which a computer learns to predict numerical outcomes from input data\n",
        "#Estabilshing a continuous relationship between variables\n",
        "#Session 18-10-2024--Day2\n",
        "'''Data is like no of bedrooms,price 2,3000,-3,4000,-4,5000,-5,6000 heree we can see some relationship---\n",
        "Regression will choose when the data is sequential numerical data (gold price prediction,petril price prediction,house rent prediction)\n",
        "Clasification will choose when the data is categorical data like yes or no ,true or false,Category A,or B or C,or D something like that\n",
        "both are supervised learning algorithms and are same\n",
        "'''"
      ],
      "metadata": {
        "id": "rM1oLOXgEJwH"
      },
      "execution_count": null,
      "outputs": []
    },
    {
      "cell_type": "code",
      "source": [
        "'''\n",
        "Supervised learning means ML alagorithms trained with datasets wiith input features and output\n",
        "i/p as well as o/p that is called SL\n",
        " SL----Two concepts  1.Classification 2.Regression\n",
        " 1 Classification----o/p is Classes like is it Dog or cat or Lion --data is in the form of category 1,2,3,4 or A,B,C male,female--Yes or No---Good or bad some thing like that\n",
        " 2. Regresssion---o/p is Values ----Regression means Continuos data like proce of gold or petrol in 2000,2021,2022,2023,2024,2025 like that\n",
        " ----In regression algorithm Marks dataset if you give hours 8 and age 5 the alg will not give any result because it is trainged for the\n",
        " ----kids age more than 15 years it not trained for the age below 15 years you will not get accuarte level answer\n",
        " ----if you give 7.5 hrs age 20 you will get answer more accurate value than 5 years because m/c trained for the data above 15 yrs\n",
        "Unsupervised learning ----We are not giving o/p or label just we are giving shape,size and coliur of fruits\n",
        "We need to identify the type of fruits---No labels---\n",
        "in KNN --Salary dataset is---to estimate teh salary of the employee based on age ,qualification,working hours --HR will analyse the data\n",
        "and fix the salary--In the Dataset everything is i/p and no o/p so we cant use Supervised learning -will use unsupervised learning algs\n",
        "group or cluster the people having salary <50K and >50K,after grouping or clustering  we can use supervised learning\n",
        "\n",
        "Unsupervised learning is a ML approach where a computer explores and identifies patterns in data without\n",
        "predefined lables rvealing hidden structures and relationships\n",
        "grouping or clustering the data segregate the data based on some pattern .Here there are\n",
        "two algorithms clusteing and association algorithms.\n",
        "\n",
        "CLUSTERING---Principal component analysis/Hierarchical clustering/Singular Value Decomposition/K-means clustering\n",
        "/Independent component analysis/DBSCAN/Agglomerative clustering\n",
        "Reinforced Learning ----\n",
        "\n",
        "---If you give more records ML algorithm you will get accurate results, less records less accuracy\n",
        "----Game Developers learns and use reinforcement learning algs--1100 mobile snake game is trained for Rienforcement algs\n",
        "Reinforcement learning is type of ML where computer learns to make decisions by trial and errors ,receiving feedbak in the form of\n",
        "rewards or penaltie from its environment\n",
        "\n",
        "Reinforcement learning  mostly used i Game Developement\n",
        "---3 ways of implementation ---1.Model based 2.Policy based 3.Value based\n",
        "Model--1Q-Learning 2.Markov Decision process\n",
        "\n",
        "DL will extract the features automatically\n",
        "Applications of AI---1 Object recognition--DL 2.Face Recognition--DL 3.Autonomous vehicles (Wimo cars /Driverless cars)--DL\n",
        "4.Dicease detection )barin tunor/x-ray/cancer/(AI Application) 5.Emotion detection ---based on text also m/c will predict---Gen AI\n",
        "6.Agriculture ---Identify the age of crops from camera picture --DL 7.Sentiment Analysis---NLP\n",
        "8.Google Assistant ---NLP 9-Crptography ---AI\n",
        "\n",
        "1---Salary Estimation using -K-Nearest Enighbours\n",
        "2---Character recognition using Support Vewctor Machines\n",
        "3---Titanic Survival prediction using Naive Bayes\n",
        "4---Leaf Iris species detection using Decission Tree\n",
        "5---Digit recogntion using Random Forest\n",
        "6---Evaluating classification Model Performanc e\n",
        "7---Breast Cancer detecion using various ML algorithms\n",
        "8---House Price Prediction using Linear Regression\n",
        "9---Exam Mark Prediction using Linear Regression\n",
        "10--Salary Prediction using Polynomial Regression\n",
        "11--Stock Prediction using Support Vector Regression\n",
        "12--Height Prediction using Decission Tree\n",
        "13--Car Price Prediction using Randon Forets Regression\n",
        "14--Heart Disease Prediction using Naive Bayes\n",
        "15--ML Evaluation metrics for Regression\n",
        "16--Customer Spend Analysis using K-Means Clustering\n",
        "17--Customer Spend Analysis using Heirarchical Clustering\n",
        "18--Market Basket Analysis using Apriori\n",
        "19--Web Add Optimisation using Reinforcement learning --Upper Confidence bound\n",
        "20--Breast Cancer tumor Prediction using XGBoost\n",
        "21--AI Sanke Game and Covig-19 Detection from X-Ray images using CNN\n",
        "22--Pima Indians Diabetes detection\n",
        "23--Introduction MatplotLib and Evaluation metrics for clasification\n",
        "\n",
        "\n",
        "\n",
        " '''"
      ],
      "metadata": {
        "id": "z8BVFsPHEJtE"
      },
      "execution_count": null,
      "outputs": []
    },
    {
      "cell_type": "code",
      "source": [],
      "metadata": {
        "id": "t1pNNGRgEJjC"
      },
      "execution_count": null,
      "outputs": []
    },
    {
      "cell_type": "code",
      "source": [],
      "metadata": {
        "id": "YW23ZuTLEJfo"
      },
      "execution_count": null,
      "outputs": []
    },
    {
      "cell_type": "code",
      "source": [],
      "metadata": {
        "id": "T04UkN5KEJca"
      },
      "execution_count": null,
      "outputs": []
    },
    {
      "cell_type": "code",
      "source": [],
      "metadata": {
        "id": "5QoxAWxpEJZU"
      },
      "execution_count": null,
      "outputs": []
    },
    {
      "cell_type": "code",
      "source": [],
      "metadata": {
        "id": "b7LAPAY4EJWT"
      },
      "execution_count": null,
      "outputs": []
    },
    {
      "cell_type": "code",
      "source": [],
      "metadata": {
        "id": "ROijaRi4EJSx"
      },
      "execution_count": null,
      "outputs": []
    },
    {
      "cell_type": "code",
      "source": [],
      "metadata": {
        "id": "OmJdMGpBEJP6"
      },
      "execution_count": null,
      "outputs": []
    },
    {
      "cell_type": "code",
      "source": [],
      "metadata": {
        "id": "kVI8BOqREJMz"
      },
      "execution_count": null,
      "outputs": []
    }
  ],
  "metadata": {
    "colab": {
      "name": "Welcome to Colab",
      "toc_visible": true,
      "provenance": [],
      "include_colab_link": true
    },
    "kernelspec": {
      "display_name": "Python 3",
      "name": "python3"
    }
  },
  "nbformat": 4,
  "nbformat_minor": 0
}