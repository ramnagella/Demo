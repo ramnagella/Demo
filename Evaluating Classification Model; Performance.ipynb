{
  "cells": [
    {
      "cell_type": "markdown",
      "metadata": {
        "id": "view-in-github",
        "colab_type": "text"
      },
      "source": [
        "<a href=\"https://colab.research.google.com/github/ramnagella/Demo/blob/master/Evaluating%20Classification%20Model%3B%20Performance.ipynb\" target=\"_parent\"><img src=\"https://colab.research.google.com/assets/colab-badge.svg\" alt=\"Open In Colab\"/></a>"
      ]
    },
    {
      "cell_type": "code",
      "source": [
        "#04-12-2024---Evaluating Classification Model Performance\n",
        "\n",
        "'''\n",
        "1. Consfusion Matrix---\n",
        "\n",
        "in a data set will have training,testiung and vaidation data also ...in Dataset 80% training ,\n",
        "20% data we are using earlier validation means we will split testing set into to 10% test and 10% validation\n",
        "validation means unknown data ----\n",
        "\n",
        "True possitive --means in classificattion covid data set covid YES or NO For YES in original dataset Cases ML Alg also predicted YEs\n",
        "True positive means in this data set your actual output and your ML predicted output.\n",
        "Both are positive true positive --Patient admitted\n",
        "negative means for example.\n",
        "\n",
        "means in classificattion covid data set covid YES or NO For NO Cases in original datasetML Alg also predicted NO\n",
        "True negative means in this data set your actual output and your ML predicted output.\n",
        "Both are negative, true negative.like patient not admitted\n",
        "In my data set, actually based on the features, actually the doctor confirmed. Covid ---NO\n",
        "\n",
        "False  possitive --means in classificattion covid data set covid YES or NO For NO Cases in original dataset  ML Alg  predicted YES\n",
        "False positive means in this data set your actual output and your ML predicted output are different\n",
        "\n",
        "False  negative--means in classificattion covid data set covid YES or NO For YES Cases in original dataset  ML Alg  predicted NO\n",
        "False negative means in this data set your actual output and your ML predicted output are different\n",
        "\n",
        "So it is like confirm the cases you are predicted.\n",
        "\n",
        "Output also will be getting a known OK.\n",
        "\n",
        "It is like a -1, but both actual and the expected. Sorry ML predicted output is also same answer. OK, so same predicted output.\n",
        "\n",
        "Accurac is only concentrating on the possitive values,It is not concentrating on the error\n",
        "Error means comparing actual results and ML results  and where as precission is next level metrics\n",
        "example only focuses on possitive predcitions and accuracy focuses on overall correctness\n",
        "Precssion focuses on possitive test cases alone\n",
        "if FP is zero means we will get precission 100%\n",
        "here in our example we have 91 non-covid and 9 covid it is in balanced one class\n",
        "it is equally not distributed ..Accuracy suits or concentrate for balanced one not in balanaced\n",
        "for balaanced one accuracy will get 100%\n",
        "\n",
        "Recall concentrating on negative one\n",
        "\n",
        "F1 Score based on F1 score will decide which one model is good .\n",
        "whu it is called F1 ---reason---Harmonic Mean:\n",
        "The F1-score uses the harmonic mean, which is a type of average that gives more weight to smaller values.\n",
        "This means that if either precision or recall is low,\n",
        " the F1-score will also be low, reflecting the overall performance of the model.\n",
        "\n",
        "Above are interview questions\n",
        "\n",
        "if the data is balanced one we will use k-fold cross validation otherwise\n",
        "if we have inbalanced data means go with stratified k fold cross validation\n",
        "\n",
        "\n"
      ],
      "metadata": {
        "id": "-zX-DjzeOQT_"
      },
      "execution_count": null,
      "outputs": []
    },
    {
      "cell_type": "code",
      "source": [
        "#04-12-2024---Evaluating Classification Model Performance\n",
        "'''\n",
        "f we have inbalanced data means dont go with accuracy and confusion matrix ,better to go with\n",
        "Precision it is focuses on false possitive ,Recall focuses on false negative  and F1 score --\n",
        "if the data is balanced one we will use first Confusion matrix accuracy and later will use precission,recall and F1 score\n",
        "\n",
        "In Nail bays alg assumes that each and every feature is independent of each other.and will calculate probability for each\n",
        "feature and no need to go for feature scaling in Naive Bays alg\n",
        " abobe one is interview question\n",
        " For NB alg no scaling is required for KNN it is required\n",
        " in NLP majority of the time will use NB to classify the text\n",
        "\n",
        "in programmatic the confussion matrix is\n",
        "TN  FP\n",
        "FN  TP\n",
        "Predict\n",
        "Visualised format means use seaborn lines ,bar chart means matplot lib for visualisdation\n"
      ],
      "metadata": {
        "id": "g3UB3zMpOQQk"
      },
      "execution_count": null,
      "outputs": []
    },
    {
      "cell_type": "code",
      "source": [],
      "metadata": {
        "id": "bvD2iJXTOQOE"
      },
      "execution_count": null,
      "outputs": []
    },
    {
      "cell_type": "code",
      "source": [],
      "metadata": {
        "id": "YF_otKhiOQLt"
      },
      "execution_count": null,
      "outputs": []
    },
    {
      "cell_type": "code",
      "source": [],
      "metadata": {
        "id": "KpQydpJ8OQJI"
      },
      "execution_count": null,
      "outputs": []
    },
    {
      "cell_type": "code",
      "source": [],
      "metadata": {
        "id": "Bie1vtpyOQGv"
      },
      "execution_count": null,
      "outputs": []
    },
    {
      "cell_type": "code",
      "source": [],
      "metadata": {
        "id": "N8Q0lC-XOPo7"
      },
      "execution_count": null,
      "outputs": []
    }
  ],
  "metadata": {
    "colab": {
      "name": "Welcome to Colab",
      "toc_visible": true,
      "provenance": [],
      "include_colab_link": true
    },
    "kernelspec": {
      "display_name": "Python 3",
      "name": "python3"
    }
  },
  "nbformat": 4,
  "nbformat_minor": 0
}