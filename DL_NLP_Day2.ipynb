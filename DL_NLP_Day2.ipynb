{
  "cells": [
    {
      "cell_type": "markdown",
      "metadata": {
        "id": "view-in-github",
        "colab_type": "text"
      },
      "source": [
        "<a href=\"https://colab.research.google.com/github/ramnagella/Demo/blob/master/DL_NLP_Day2.ipynb\" target=\"_parent\"><img src=\"https://colab.research.google.com/assets/colab-badge.svg\" alt=\"Open In Colab\"/></a>"
      ]
    },
    {
      "cell_type": "code",
      "source": [
        "\n",
        "#DL_NLP_Day2-----Session--14-02-25\n",
        "\n",
        "'''\n",
        "\n",
        " sentence= re.sub(r'\\W',' ',sentence) /W means non word char replaced with space\n",
        "\n",
        " # replace numbers with placeholder\n",
        "\n",
        "import re\n",
        "\n",
        "text=\" I have 2 cats and 3 dogs in 2024\"\n",
        "\n",
        "text=re.sub(r'\\d+','<number>',text)\n",
        "\n",
        "print('text')\n",
        "\n",
        "#replace each number with its word form\n",
        "words=[p.number_to_words(word) if word.isdigit() else word for word in text.split()]\n",
        "\n",
        "numbers=[p.word_to_numbers(word) if number.isdigit() else word for word in text.split()]\n",
        "\n",
        "Explianed sentiment analysis problem\n",
        "\n",
        "'''\n",
        "\n",
        "\n"
      ],
      "metadata": {
        "id": "aSc4CywNHCOC"
      },
      "execution_count": null,
      "outputs": []
    },
    {
      "cell_type": "code",
      "source": [
        "#DL_NLP_Day2-----Session--17-02-25\n",
        "'''\n",
        "Sentment Analysis\n",
        "Twitter data times  have bidary  data 'b' need to remove that one also\n",
        "removing b chars froms tart\n",
        "\n",
        "vectorizer=TfidfVectorizer(max_features=2500,min_df=7,max_df=0.8,stop_words=stopwords.words('english'))\n",
        "\n",
        "max_features means keep top 2500 words or features\n",
        "min_df=7---means ignore the words which appeared in less than 7 docs\n",
        "max_df ifnore that appear in more than 80% of docs\n",
        "processed_features=vectorizer.fit_transform(processed_features).toarray()---means\n",
        "coverts text into sparse matrix\n",
        "\n",
        "Email Ham/Spam Detection\n",
        "\n",
        "If we are going with text representation of data will go with count vectorisation\n",
        "if we are going to do any NLP task will go with TF+IDF vectorisation text classification also will go with TF+IDF\n",
        "Enire data we are going to store in corpus that is the reason it is created empty list\n",
        "\n",
        "\n",
        "'''\n"
      ],
      "metadata": {
        "id": "gBMMGRDHvQE4"
      },
      "execution_count": null,
      "outputs": []
    },
    {
      "cell_type": "code",
      "source": [
        "#DL_NLP_Day2-----Session--17-02-25 last day sessiuon\n",
        "\n",
        "'''\n",
        "in webapp  directory two folder sjould be created like static and template\n",
        "in the sttaic folder spam.gif,not-spam.gif and style.css\n",
        " and in template .html files should be created ..\n",
        "\n",
        " in webapp folder copy the cv.pkl ,app.py and model.pkl files\n",
        " home is loopback address\n",
        " 127.0.0.0:5000/---renders home.html template\n",
        " predict = 127.0.0.0/5000/predict\n",
        "\n",
        " So first time yeah, first to home when I give the loop back address 127.0 dot 0.1: 5000 it will rendering this template home dot HTML template when I click the predict button OK,\n",
        " just like checking the method it's like a post method or not.\n",
        "\n",
        "Running webaap\n",
        "\n",
        "need to install required libraries Click on webapp and seldct terminal\n",
        "\n",
        "go to command prompt ---\n",
        "cd /webapp/\n",
        "After this instll Flask framework\n",
        ">pip install flask\n",
        ">python app.py execute this command\n",
        "you will get URL and coiy tha tURL and paste it in browser\n",
        "127.0.0.1:5000\n",
        "you will get web application\n",
        "\n",
        "\n",
        "\n",
        "'''\n"
      ],
      "metadata": {
        "id": "G3gynYlCeYLW"
      },
      "execution_count": null,
      "outputs": []
    }
  ],
  "metadata": {
    "colab": {
      "name": "Welcome to Colab",
      "toc_visible": true,
      "provenance": [],
      "include_colab_link": true
    },
    "kernelspec": {
      "display_name": "Python 3",
      "name": "python3"
    }
  },
  "nbformat": 4,
  "nbformat_minor": 0
}