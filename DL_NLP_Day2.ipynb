{
  "cells": [
    {
      "cell_type": "markdown",
      "metadata": {
        "id": "view-in-github",
        "colab_type": "text"
      },
      "source": [
        "<a href=\"https://colab.research.google.com/github/ramnagella/Demo/blob/master/DL_NLP_Day2.ipynb\" target=\"_parent\"><img src=\"https://colab.research.google.com/assets/colab-badge.svg\" alt=\"Open In Colab\"/></a>"
      ]
    },
    {
      "cell_type": "code",
      "source": [
        "\n",
        "#DL_NLP_Day2-----Session--14-02-25\n",
        "\n",
        "'''\n",
        "\n",
        " sentence= re.sub(r'\\W',' ',sentence) /W means non word char replaced with space\n",
        "\n",
        " # replace numbers with placeholder\n",
        "\n",
        "import re\n",
        "\n",
        "text=\" I have 2 cats and 3 dogs in 2024\"\n",
        "\n",
        "text=re.sub(r'\\d+','<number>',text)\n",
        "\n",
        "print('text')\n",
        "\n",
        "#replace each number with its word form\n",
        "words=[p.number_to_words(word) if word.isdigit() else word for word in text.split()]\n",
        "\n",
        "numbers=[p.word_to_numbers(word) if number.isdigit() else word for word in text.split()]\n",
        "\n",
        "Explianed sentiment analysis problem\n",
        "\n",
        "'''\n",
        "\n",
        "\n"
      ],
      "metadata": {
        "id": "aSc4CywNHCOC"
      },
      "execution_count": null,
      "outputs": []
    },
    {
      "cell_type": "code",
      "source": [
        "#DL_NLP_Day2-----Session--17-02-25"
      ],
      "metadata": {
        "id": "gBMMGRDHvQE4"
      },
      "execution_count": null,
      "outputs": []
    }
  ],
  "metadata": {
    "colab": {
      "name": "Welcome to Colab",
      "toc_visible": true,
      "provenance": [],
      "include_colab_link": true
    },
    "kernelspec": {
      "display_name": "Python 3",
      "name": "python3"
    }
  },
  "nbformat": 4,
  "nbformat_minor": 0
}