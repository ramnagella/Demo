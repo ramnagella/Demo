{
  "cells": [
    {
      "cell_type": "markdown",
      "metadata": {
        "id": "view-in-github",
        "colab_type": "text"
      },
      "source": [
        "<a href=\"https://colab.research.google.com/github/ramnagella/Demo/blob/master/NLP_YouTube_Day1.ipynb\" target=\"_parent\"><img src=\"https://colab.research.google.com/assets/colab-badge.svg\" alt=\"Open In Colab\"/></a>"
      ]
    },
    {
      "cell_type": "code",
      "source": [
        "# 1. Diff between Tain,test and validation data ---interview question\n",
        "'''\n",
        "\n",
        "Training is for training the model --test is for Predictions to avoid any leakage or test the model and Validation is for how much model is accurate\n",
        "and hyper parameter traimning --cross validation using grid searh CV ,randomwise CV.\n",
        "\n",
        "2)Why use RF insetad of DT ---Reason---\n",
        "\n",
        "DT have Low Bias and high variance\n",
        "RF have low bias and low variance--RF is bagging technique\n",
        "\n",
        "RNN----text to vectors most efficient one is word2vect or avgwordovect--this is called word embedding\n",
        "\n",
        "chatbot----questions and answers ---sequence of words is imp\n",
        "translator--` sequence of words is imp\n",
        "text Generation ---text----suggesting upcoming/next sentences or words---completetion of sentence --\n",
        "------------------------sequence of words is imp---to do all these we are not dependent on ML techniques but we are\n",
        "----dependent on DL techniques- like ----RNN,LSTM RNN--GRU RNN---Transformers---BERT,\n",
        "-----------At present google or outlook are using Transformers---BERT,\n",
        "Word2vect is technique in DL where we can train a model or use pre-trained model which actualy\n",
        "----converts words into vectors--why it is efficient means sdemantic meaning is captured\n",
        "----Architiecture of RNN---i/p---->Neuron---o/p and o/p is again sent back to neuron---this is basic\n",
        "architecture of RNN---\n",
        "Types of RNN with examples like one to one RNN,one to many,many to one ,mant to many--interview question\n",
        "RNN is used for text analysis and time series data\n",
        "\n",
        "forward propagationa and backward propagation ---\n",
        "\n",
        "sentiment analysis ---many to one RNN---\n",
        "Interview question ---what technique will use to covert pareto distribution into normal dstribution\n",
        "\n",
        "using Box Cox distribution\n",
        "\n",
        "How can we find out whethre it is normal or gaussian distribution ---using Q-Q Plots\n",
        "what is standard normal disctribution ---\n",
        "mean ,mode and median relationship---\n",
        "\n",
        "diff between fit_transform and transform\n",
        "when do yu use fit_predict method---\n",
        "Normalisation and standardisation--\n",
        "\n",
        "------RNN-----\n",
        "\n",
        "----\n",
        "\n",
        "\n",
        "\n",
        "\n",
        "\n",
        "\n",
        "\n",
        "\n",
        "'''"
      ],
      "metadata": {
        "id": "6wBCgCZywPeO"
      },
      "execution_count": null,
      "outputs": []
    },
    {
      "cell_type": "code",
      "source": [],
      "metadata": {
        "id": "jo7ZusJGwPas"
      },
      "execution_count": null,
      "outputs": []
    },
    {
      "cell_type": "code",
      "source": [],
      "metadata": {
        "id": "c4Fp2c2KwPYV"
      },
      "execution_count": null,
      "outputs": []
    },
    {
      "cell_type": "code",
      "source": [],
      "metadata": {
        "id": "4810G8siwPVt"
      },
      "execution_count": null,
      "outputs": []
    },
    {
      "cell_type": "code",
      "source": [],
      "metadata": {
        "id": "m_KsFRSgwPTE"
      },
      "execution_count": null,
      "outputs": []
    },
    {
      "cell_type": "code",
      "source": [],
      "metadata": {
        "id": "O8OMc9nywPE5"
      },
      "execution_count": null,
      "outputs": []
    }
  ],
  "metadata": {
    "colab": {
      "name": "Welcome to Colab",
      "toc_visible": true,
      "provenance": [],
      "include_colab_link": true
    },
    "kernelspec": {
      "display_name": "Python 3",
      "name": "python3"
    }
  },
  "nbformat": 4,
  "nbformat_minor": 0
}