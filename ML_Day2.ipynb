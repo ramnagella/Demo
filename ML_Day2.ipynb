{
  "cells": [
    {
      "cell_type": "markdown",
      "metadata": {
        "id": "view-in-github",
        "colab_type": "text"
      },
      "source": [
        "<a href=\"https://colab.research.google.com/github/ramnagella/Demo/blob/master/ML_Day2.ipynb\" target=\"_parent\"><img src=\"https://colab.research.google.com/assets/colab-badge.svg\" alt=\"Open In Colab\"/></a>"
      ]
    },
    {
      "cell_type": "code",
      "source": [
        "#Day3 Session 21-10-2024---First two days sesions details are there in ML_Day1\n",
        "#you can use jupyter notebook or visual studio env also but need to install all python modules and libraries\n",
        "#in Colab all the python libraries already installed ,so it is better use colab.\n",
        "'''\n",
        "AGENDA----1.ML Workflow\n",
        "2.Collecting data from different data sources\n",
        "3.After collecting the data , How to read the different files like csv,excel,DB(.sql),JSON\n",
        "-------\n",
        "ML Workflow or Life Cycle\n",
        "Problem ---Predicting the house prices --\n",
        "1--Problem Definition---Predicting the house prices based on historical data (data is continuos means we will use\n",
        "----Supervised Learning Regresion Algs not classification algs )---Features(I/P or independent variables rooms,floors,size sqrt,color,material) and Prices o/p or dependent are the variables\n",
        "2--Data Collection---Gather the data on past home --how to collect the data--like surveys ,interview,online updates,feedback,questions and answers\n",
        "---like size,rooms,location,and price\n",
        "3.Read the Data and data pre-processing ,data preparation,cleaning like handling missing data\n",
        "---coverting the data into numerical form or normalise the data,encode categorical data(Male and Female),\n",
        "4--Feature Engineering --- Create new features like age of the building,proximity to schools or hospitals\n",
        "5.Model Selection --Like linear ,Decission,Logistic ,NaiveBays.\n",
        "6.Split the data into training and testing data\n",
        "6-Model Training---tarin he model using training data set --\n",
        "7.Model Evaluation---Performance --based on accuracy evaluate the model-\n",
        "8.Hyper parameter tuning--optional\n",
        "9.Model testing ---testing dataet\n",
        "10 .Model deployment like into webAPI --build the model-convert into pickle format\n",
        "11.Monitoring ---Continuously track the model accuracy and update if needed\n",
        "12.Retrain the model periadically with fresh data to keep predictions accurate\n"
      ],
      "metadata": {
        "id": "OezsBc6WymmE"
      },
      "execution_count": null,
      "outputs": []
    }
  ],
  "metadata": {
    "colab": {
      "name": "Welcome to Colab",
      "toc_visible": true,
      "provenance": [],
      "include_colab_link": true
    },
    "kernelspec": {
      "display_name": "Python 3",
      "name": "python3"
    }
  },
  "nbformat": 4,
  "nbformat_minor": 0
}