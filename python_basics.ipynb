{
  "cells": [
    {
      "cell_type": "markdown",
      "metadata": {
        "id": "view-in-github",
        "colab_type": "text"
      },
      "source": [
        "<a href=\"https://colab.research.google.com/github/ramnagella/Demo/blob/master/python_basics.ipynb\" target=\"_parent\"><img src=\"https://colab.research.google.com/assets/colab-badge.svg\" alt=\"Open In Colab\"/></a>"
      ]
    },
    {
      "cell_type": "code",
      "source": [
        "print(\"hello\")"
      ],
      "metadata": {
        "colab": {
          "base_uri": "https://localhost:8080/"
        },
        "id": "itf41w00xL0r",
        "outputId": "11c905fb-4c73-461b-8fd1-ca96c28e74e1"
      },
      "execution_count": null,
      "outputs": [
        {
          "output_type": "stream",
          "name": "stdout",
          "text": [
            "hello\n"
          ]
        }
      ]
    },
    {
      "cell_type": "code",
      "source": [
        "#Sorting Data\n",
        "data = [\n",
        "    {\"Name\":\"Vamsi\",\n",
        "     \"age\":\"16\"},\n",
        "    {\"Name\":\"Shatha\",\n",
        "     \"age\":\"13\"},\n",
        "    {\"Name\":\"Vinay\",\n",
        "     \"age\":\"20\"},\n",
        "    {\"Name\":\"Pranay\",\n",
        "    \"age\":\"30\"}\n",
        "      ]\n",
        "sorted_data=sorted(data,key=lambda x:x ['age'],reverse=True)\n",
        "print(sorted_data)\n",
        "#li.sort() ,sorted(key)\n",
        "#method= return value, inside class we want ot create a function, method name ,obj.sort,obj.append,dict.keys(),dict.values()\n",
        "#obj.sort() here sort() depends on instance obj\n",
        "#finction return value sorted(),print(),len(),max(),min(()\n",
        "#here function doesnt depend on instance"
      ],
      "metadata": {
        "colab": {
          "base_uri": "https://localhost:8080/"
        },
        "id": "WC6dXJUPL_YR",
        "outputId": "f9393902-9ea1-4467-88f3-43a763604c8e"
      },
      "execution_count": null,
      "outputs": [
        {
          "output_type": "stream",
          "name": "stdout",
          "text": [
            "[{'Name': 'Pranay', 'age': '30'}, {'Name': 'Vinay', 'age': '20'}, {'Name': 'Vamsi', 'age': '16'}, {'Name': 'Shatha', 'age': '13'}]\n"
          ]
        }
      ]
    },
    {
      "cell_type": "code",
      "source": [
        "str_numbers=['1','2','3','4','5','6','7','8']\n",
        "int_numbers=list(map(int,str_numbers))\n",
        "print(int_numbers)"
      ],
      "metadata": {
        "id": "za94W4OGPWbg",
        "colab": {
          "base_uri": "https://localhost:8080/"
        },
        "outputId": "2a9ad33c-cbe8-4bd4-b793-225c62485903"
      },
      "execution_count": 7,
      "outputs": [
        {
          "output_type": "stream",
          "name": "stdout",
          "text": [
            "[1, 2, 3, 4, 5, 6, 7, 8]\n"
          ]
        }
      ]
    },
    {
      "cell_type": "code",
      "source": [
        "#Transflorm data Lambda function will return the object based on argument.The words in lanbda will take each word does python.upper then again iterate for 2nd word programming and so on\n",
        "words = ['python','programming','is','awesome']\n",
        "capital_words=list(map(lambda x:x.upper(),words))\n",
        "print(capital_words)"
      ],
      "metadata": {
        "id": "SoX-FLwUuCFJ",
        "outputId": "84cde8aa-47a8-448b-bddb-0017993694a9",
        "colab": {
          "base_uri": "https://localhost:8080/"
        }
      },
      "execution_count": 10,
      "outputs": [
        {
          "output_type": "stream",
          "name": "stdout",
          "text": [
            "['PYTHON', 'PROGRAMMING', 'IS', 'AWESOME']\n"
          ]
        }
      ]
    },
    {
      "cell_type": "code",
      "source": [
        "# map is used for type conversion and transform the data\n",
        "#filter ()--passing the fun and iterables\n",
        "#filter(fun,iterables)\n",
        "#[1,2,3,4,5,6,7,8]---filtering even or odd numbers filetring  the numbers based on conditions\n",
        "#if more records are there use filer not comprehension\n",
        "#Comprehemsion if used to print sequence of elements in list format or other\n",
        "# dont use if or else in filter function\n",
        "li=[1,2,3,4,5,6,7,8]\n",
        "even_numbers=list(filter(lambda x:x%2==0,li))\n",
        "print(even_numbers)\n"
      ],
      "metadata": {
        "id": "vz5sDuA2uasd",
        "outputId": "564a516f-d574-455d-c44f-d02b1ef9b42c",
        "colab": {
          "base_uri": "https://localhost:8080/"
        }
      },
      "execution_count": 11,
      "outputs": [
        {
          "output_type": "stream",
          "name": "stdout",
          "text": [
            "[2, 4, 6, 8]\n"
          ]
        }
      ]
    },
    {
      "cell_type": "code",
      "source": [
        "#data validation\n",
        "email_address=[\"user@exmple1.com\",\"invalid_email\",\"user2@exaple.com\",\"another_invalid_email\"]\n",
        "invalid_emails=list(filter(lambda x:\"@\" not in x and \".\" not in x,email_address))\n",
        "print(invalid_emails)\n",
        "#print(valid_email)"
      ],
      "metadata": {
        "id": "aJb2adZBxcsC",
        "outputId": "11f97d09-eae9-49eb-dc0c-d0e3c61404fa",
        "colab": {
          "base_uri": "https://localhost:8080/"
        }
      },
      "execution_count": 16,
      "outputs": [
        {
          "output_type": "stream",
          "name": "stdout",
          "text": [
            "['invalid_email', 'another_invalid_email']\n"
          ]
        }
      ]
    },
    {
      "cell_type": "code",
      "source": [
        "#sorted data lis of data in dictionary format\n",
        "data=[{\n",
        "    \"name\":\"Vamsi\",\n",
        "    \"age\":16\n",
        "},{\n",
        "    \"name\":\"Shatha\",\n",
        "    \"age\":13\n",
        "},{\n",
        "    \"name\":\"Vinay\",\n",
        "    \"age\":20\n",
        "}]\n",
        "sorted_data=sorted(data,key=lambda x:x['age'],reverse=True)\n",
        "print(sorted_data)"
      ],
      "metadata": {
        "id": "i51GXArEzVLu",
        "outputId": "f945292f-1391-4904-df18-72512825de62",
        "colab": {
          "base_uri": "https://localhost:8080/"
        }
      },
      "execution_count": 17,
      "outputs": [
        {
          "output_type": "stream",
          "name": "stdout",
          "text": [
            "[{'name': 'Vinay', 'age': 20}, {'name': 'Vamsi', 'age': 16}, {'name': 'Shatha', 'age': 13}]\n"
          ]
        }
      ]
    }
  ],
  "metadata": {
    "colab": {
      "name": "Welcome to Colaboratory",
      "toc_visible": true,
      "provenance": [],
      "include_colab_link": true
    },
    "kernelspec": {
      "display_name": "Python 3",
      "name": "python3"
    }
  },
  "nbformat": 4,
  "nbformat_minor": 0
}