{
  "cells": [
    {
      "cell_type": "markdown",
      "metadata": {
        "id": "view-in-github",
        "colab_type": "text"
      },
      "source": [
        "<a href=\"https://colab.research.google.com/github/ramnagella/Demo/blob/master/python_basics.ipynb\" target=\"_parent\"><img src=\"https://colab.research.google.com/assets/colab-badge.svg\" alt=\"Open In Colab\"/></a>"
      ]
    },
    {
      "cell_type": "code",
      "source": [
        "print(\"hello\")"
      ],
      "metadata": {
        "colab": {
          "base_uri": "https://localhost:8080/"
        },
        "id": "itf41w00xL0r",
        "outputId": "11c905fb-4c73-461b-8fd1-ca96c28e74e1"
      },
      "execution_count": null,
      "outputs": [
        {
          "output_type": "stream",
          "name": "stdout",
          "text": [
            "hello\n"
          ]
        }
      ]
    },
    {
      "cell_type": "code",
      "source": [
        "#Sorting Data\n",
        "data = [\n",
        "    {\"Name\":\"Vamsi\",\n",
        "     \"age\":\"16\"},\n",
        "    {\"Name\":\"Shatha\",\n",
        "     \"age\":\"13\"},\n",
        "    {\"Name\":\"Vinay\",\n",
        "     \"age\":\"20\"},\n",
        "    {\"Name\":\"Pranay\",\n",
        "    \"age\":\"30\"}\n",
        "      ]\n",
        "sorted_data=sorted(data,key=lambda x:x ['age'],reverse=True)\n",
        "print(sorted_data)\n",
        "#li.sort() ,sorted(key)\n",
        "#method= return value, inside class we want ot create a function, method name ,obj.sort,obj.append,dict.keys(),dict.values()\n",
        "#obj.sort() here sort() depends on instance obj\n",
        "#finction return value sorted(),print(),len(),max(),min(()\n",
        "#here function doesnt depend on instance"
      ],
      "metadata": {
        "colab": {
          "base_uri": "https://localhost:8080/"
        },
        "id": "WC6dXJUPL_YR",
        "outputId": "f9393902-9ea1-4467-88f3-43a763604c8e"
      },
      "execution_count": null,
      "outputs": [
        {
          "output_type": "stream",
          "name": "stdout",
          "text": [
            "[{'Name': 'Pranay', 'age': '30'}, {'Name': 'Vinay', 'age': '20'}, {'Name': 'Vamsi', 'age': '16'}, {'Name': 'Shatha', 'age': '13'}]\n"
          ]
        }
      ]
    },
    {
      "cell_type": "code",
      "source": [
        "str_numbers=['1','2','3','4','5','6','7','8']\n",
        "int_numbers=list(map(int,str_numbers))\n",
        "print(int_numbers)"
      ],
      "metadata": {
        "id": "za94W4OGPWbg",
        "colab": {
          "base_uri": "https://localhost:8080/"
        },
        "outputId": "2a9ad33c-cbe8-4bd4-b793-225c62485903"
      },
      "execution_count": 7,
      "outputs": [
        {
          "output_type": "stream",
          "name": "stdout",
          "text": [
            "[1, 2, 3, 4, 5, 6, 7, 8]\n"
          ]
        }
      ]
    }
  ],
  "metadata": {
    "colab": {
      "name": "Welcome to Colaboratory",
      "toc_visible": true,
      "provenance": [],
      "include_colab_link": true
    },
    "kernelspec": {
      "display_name": "Python 3",
      "name": "python3"
    }
  },
  "nbformat": 4,
  "nbformat_minor": 0
}