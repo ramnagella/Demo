{
  "cells": [
    {
      "cell_type": "markdown",
      "metadata": {
        "id": "view-in-github",
        "colab_type": "text"
      },
      "source": [
        "<a href=\"https://colab.research.google.com/github/ramnagella/Demo/blob/master/python_basics.ipynb\" target=\"_parent\"><img src=\"https://colab.research.google.com/assets/colab-badge.svg\" alt=\"Open In Colab\"/></a>"
      ]
    },
    {
      "cell_type": "code",
      "source": [
        "print(\"hello\")"
      ],
      "metadata": {
        "colab": {
          "base_uri": "https://localhost:8080/"
        },
        "id": "itf41w00xL0r",
        "outputId": "11c905fb-4c73-461b-8fd1-ca96c28e74e1"
      },
      "execution_count": null,
      "outputs": [
        {
          "output_type": "stream",
          "name": "stdout",
          "text": [
            "hello\n"
          ]
        }
      ]
    },
    {
      "cell_type": "code",
      "source": [
        "#Sorting Data\n",
        "data = [\n",
        "    {\"Name\":\"Vamsi\",\n",
        "     \"age\":\"16\"},\n",
        "    {\"Name\":\"Shatha\",\n",
        "     \"age\":\"13\"},\n",
        "    {\"Name\":\"Vinay\",\n",
        "     \"age\":\"20\"},\n",
        "    {\"Name\":\"Pranay\",\n",
        "    \"age\":\"30\"}\n",
        "      ]\n",
        "sorted_data=sorted(data,key=lambda x:x ['age'],reverse=True)\n",
        "print(sorted_data)\n",
        "#li.sort() ,sorted(key)\n",
        "#method= return value, in java ,python ,c++ inside function it is called method inside class we want ot create a function, method name ,obj.sort,obj.append,dict.keys(),dict.values()\n",
        "#obj.sort() here sort() dict.keys(),dict.values() depends on instance obj\n",
        "#finction return value sorted(),print(),len(),max(),min(()\n",
        "#here function doesnt depend on instance"
      ],
      "metadata": {
        "colab": {
          "base_uri": "https://localhost:8080/"
        },
        "id": "WC6dXJUPL_YR",
        "outputId": "f9393902-9ea1-4467-88f3-43a763604c8e"
      },
      "execution_count": null,
      "outputs": [
        {
          "output_type": "stream",
          "name": "stdout",
          "text": [
            "[{'Name': 'Pranay', 'age': '30'}, {'Name': 'Vinay', 'age': '20'}, {'Name': 'Vamsi', 'age': '16'}, {'Name': 'Shatha', 'age': '13'}]\n"
          ]
        }
      ]
    },
    {
      "cell_type": "code",
      "source": [
        "str_numbers=['1','2','3','4','5','6','7','8']\n",
        "int_numbers=list(map(int,str_numbers))\n",
        "print(int_numbers)"
      ],
      "metadata": {
        "id": "za94W4OGPWbg",
        "colab": {
          "base_uri": "https://localhost:8080/"
        },
        "outputId": "2a9ad33c-cbe8-4bd4-b793-225c62485903"
      },
      "execution_count": 7,
      "outputs": [
        {
          "output_type": "stream",
          "name": "stdout",
          "text": [
            "[1, 2, 3, 4, 5, 6, 7, 8]\n"
          ]
        }
      ]
    },
    {
      "cell_type": "code",
      "source": [
        "#Transflorm data Lambda function will return the object based on argument.The words in lanbda will take each word does python.upper then again iterate for 2nd word programming and so on\n",
        "words = ['python','programming','is','awesome']\n",
        "capital_words=list(map(lambda x:x.upper(),words))\n",
        "print(capital_words)"
      ],
      "metadata": {
        "colab": {
          "base_uri": "https://localhost:8080/"
        },
        "id": "SoX-FLwUuCFJ",
        "outputId": "84cde8aa-47a8-448b-bddb-0017993694a9"
      },
      "execution_count": 10,
      "outputs": [
        {
          "output_type": "stream",
          "name": "stdout",
          "text": [
            "['PYTHON', 'PROGRAMMING', 'IS', 'AWESOME']\n"
          ]
        }
      ]
    },
    {
      "cell_type": "code",
      "source": [
        "# map is used for type conversion and transform the data\n",
        "#filter ()--passing the fun and iterables\n",
        "#filter(fun,iterables) and removing missing values ,data validation\n",
        "#[1,2,3,4,5,6,7,8]---filtering even or odd numbers filetring  the numbers based on conditions\n",
        "#if more records are there use filer not comprehension\n",
        "#Comprehemsion if used to print sequence of elements in list format or other\n",
        "# dont use if or else in filter function\n",
        "li=[1,2,3,4,5,6,7,8]\n",
        "even_numbers=list(filter(lambda x:x%2==0,li))\n",
        "print(even_numbers)\n"
      ],
      "metadata": {
        "colab": {
          "base_uri": "https://localhost:8080/"
        },
        "id": "vz5sDuA2uasd",
        "outputId": "564a516f-d574-455d-c44f-d02b1ef9b42c"
      },
      "execution_count": 11,
      "outputs": [
        {
          "output_type": "stream",
          "name": "stdout",
          "text": [
            "[2, 4, 6, 8]\n"
          ]
        }
      ]
    },
    {
      "cell_type": "code",
      "source": [
        "#data validation\n",
        "email_address=[\"user@exmple1.com\",\"invalid_email\",\"user2@exaple.com\",\"another_invalid_email\"]\n",
        "invalid_emails=list(filter(lambda x:\"@\" not in x and \".\" not in x,email_address))\n",
        "print(invalid_emails)\n",
        "#print(valid_email)"
      ],
      "metadata": {
        "colab": {
          "base_uri": "https://localhost:8080/"
        },
        "id": "aJb2adZBxcsC",
        "outputId": "11f97d09-eae9-49eb-dc0c-d0e3c61404fa"
      },
      "execution_count": 16,
      "outputs": [
        {
          "output_type": "stream",
          "name": "stdout",
          "text": [
            "['invalid_email', 'another_invalid_email']\n"
          ]
        }
      ]
    },
    {
      "cell_type": "code",
      "source": [
        "#sorted data lis of data in dictionary format.Use only one key\n",
        "#sort() will be used for ascediung or desceding order sorted() is used when based on key\n",
        "data=[{\n",
        "    \"name\":\"Vamsi\",\n",
        "    \"age\":16\n",
        "},{\n",
        "    \"name\":\"Shatha\",\n",
        "    \"age\":13\n",
        "},{\n",
        "    \"name\":\"Vinay\",\n",
        "    \"age\":20\n",
        "}]\n",
        "sorted_data=sorted(data,key=lambda x:x['age'],reverse=True)\n",
        "print(sorted_data)"
      ],
      "metadata": {
        "colab": {
          "base_uri": "https://localhost:8080/"
        },
        "id": "i51GXArEzVLu",
        "outputId": "f945292f-1391-4904-df18-72512825de62"
      },
      "execution_count": 17,
      "outputs": [
        {
          "output_type": "stream",
          "name": "stdout",
          "text": [
            "[{'name': 'Vinay', 'age': 20}, {'name': 'Vamsi', 'age': 16}, {'name': 'Shatha', 'age': 13}]\n"
          ]
        }
      ]
    },
    {
      "cell_type": "code",
      "source": [
        "#Sorting Data\n",
        "data = [\n",
        "    {\"Name\":\"Vamsi\",\n",
        "     \"age\":\"16\"},\n",
        "    {\"Name\":\"Shatha\",\n",
        "     \"age\":\"13\"},\n",
        "    {\"Name\":\"Vinay\",\n",
        "     \"age\":\"20\"},\n",
        "    {\"Name\":\"Pranay\",\n",
        "    \"age\":\"30\"}\n",
        "      ]\n",
        "sorted_data=sorted(data,key=lambda x:x ['age'],reverse=True)\n",
        "print(sorted_data)\n",
        "#li.sort() ,sorted(key)\n",
        "#method= return value, in java ,python ,c++ inside function it is called method inside class we want ot create a function, method name ,obj.sort,obj.append,dict.keys(),dict.values()\n",
        "#obj.sort() here sort() dict.keys(),dict.values() depends on instance obj\n",
        "#finction return value sorted(),print(),len(),max(),min(()\n",
        "#here function doesnt depend on instance"
      ],
      "metadata": {
        "id": "F3L_0XqO0nrb"
      },
      "execution_count": null,
      "outputs": []
    },
    {
      "cell_type": "code",
      "source": [
        "#None is None is emopty value no numerical representation\n",
        "#None == None\n",
        "None == None"
      ],
      "metadata": {
        "colab": {
          "base_uri": "https://localhost:8080/"
        },
        "id": "knPEOF_nV956",
        "outputId": "d3da5d06-b136-4565-b555-42f51b2877cc"
      },
      "execution_count": 1,
      "outputs": [
        {
          "output_type": "execute_result",
          "data": {
            "text/plain": [
              "True"
            ]
          },
          "metadata": {},
          "execution_count": 1
        }
      ]
    },
    {
      "cell_type": "code",
      "source": [
        "import numpy as np #not a number\n",
        "np.nan == np.nan\n"
      ],
      "metadata": {
        "colab": {
          "base_uri": "https://localhost:8080/"
        },
        "id": "a5s1u9rYWkwW",
        "outputId": "2f7d30ec-533f-423b-e069-e20bbc12a8cd"
      },
      "execution_count": 2,
      "outputs": [
        {
          "output_type": "execute_result",
          "data": {
            "text/plain": [
              "False"
            ]
          },
          "metadata": {},
          "execution_count": 2
        }
      ]
    },
    {
      "cell_type": "code",
      "source": [
        "#removing null or empty values if the condiotion is true removes the values\n",
        "#NULL not defined in python other NaN,not a number,not a date ,not a time\n",
        "data = [1,None,\"\",3,5,0,\"hello\",None]\n",
        "filterd_data = list(filter(lambda x:x is not None and x!=\"\",data))\n",
        "filterd_data"
      ],
      "metadata": {
        "colab": {
          "base_uri": "https://localhost:8080/"
        },
        "id": "D3VMdjHqXi2q",
        "outputId": "7aa8a0c3-132b-4843-dbf5-63db2555d49a"
      },
      "execution_count": 2,
      "outputs": [
        {
          "output_type": "execute_result",
          "data": {
            "text/plain": [
              "[1, 3, 5, 0, 'hello']"
            ]
          },
          "metadata": {},
          "execution_count": 2
        }
      ]
    }
  ],
  "metadata": {
    "colab": {
      "name": "Welcome to Colaboratory",
      "toc_visible": true,
      "provenance": [],
      "include_colab_link": true
    },
    "kernelspec": {
      "display_name": "Python 3",
      "name": "python3"
    }
  },
  "nbformat": 4,
  "nbformat_minor": 0
}