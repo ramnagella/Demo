{
  "cells": [
    {
      "cell_type": "markdown",
      "metadata": {
        "id": "view-in-github",
        "colab_type": "text"
      },
      "source": [
        "<a href=\"https://colab.research.google.com/github/ramnagella/Demo/blob/master/python_basics.ipynb\" target=\"_parent\"><img src=\"https://colab.research.google.com/assets/colab-badge.svg\" alt=\"Open In Colab\"/></a>"
      ]
    },
    {
      "cell_type": "code",
      "source": [
        "print(\"hello\")"
      ],
      "metadata": {
        "colab": {
          "base_uri": "https://localhost:8080/"
        },
        "id": "itf41w00xL0r",
        "outputId": "11c905fb-4c73-461b-8fd1-ca96c28e74e1"
      },
      "execution_count": null,
      "outputs": [
        {
          "output_type": "stream",
          "name": "stdout",
          "text": [
            "hello\n"
          ]
        }
      ]
    },
    {
      "cell_type": "code",
      "source": [
        "#Sorting Data\n",
        "data = [\n",
        "    {\"Name\":\"Vamsi\",\n",
        "     \"age\":\"16\"},\n",
        "    {\"Name\":\"Shatha\",\n",
        "     \"age\":\"13\"},\n",
        "    {\"Name\":\"Vinay\",\n",
        "     \"age\":\"20\"},\n",
        "    {\"Name\":\"Pranay\",\n",
        "    \"age\":\"30\"}\n",
        "      ]\n",
        "sorted_data=sorted(data,key=lambda x:x ['age'],reverse=True)\n",
        "print(sorted_data)\n",
        "#li.sort() ,sorted(key)\n",
        "#method= return value, in java ,python ,c++ inside function it is called method inside class we want ot create a function, method name ,obj.sort,obj.append,dict.keys(),dict.values()\n",
        "#obj.sort() here sort() dict.keys(),dict.values() depends on instance obj\n",
        "#finction return value sorted(),print(),len(),max(),min(()\n",
        "#here function doesnt depend on instance"
      ],
      "metadata": {
        "colab": {
          "base_uri": "https://localhost:8080/"
        },
        "id": "WC6dXJUPL_YR",
        "outputId": "f9393902-9ea1-4467-88f3-43a763604c8e"
      },
      "execution_count": null,
      "outputs": [
        {
          "output_type": "stream",
          "name": "stdout",
          "text": [
            "[{'Name': 'Pranay', 'age': '30'}, {'Name': 'Vinay', 'age': '20'}, {'Name': 'Vamsi', 'age': '16'}, {'Name': 'Shatha', 'age': '13'}]\n"
          ]
        }
      ]
    },
    {
      "cell_type": "code",
      "source": [
        "str_numbers=['1','2','3','4','5','6','7','8']\n",
        "int_numbers=list(map(int,str_numbers))\n",
        "print(int_numbers)"
      ],
      "metadata": {
        "id": "za94W4OGPWbg",
        "colab": {
          "base_uri": "https://localhost:8080/"
        },
        "outputId": "2a9ad33c-cbe8-4bd4-b793-225c62485903"
      },
      "execution_count": 7,
      "outputs": [
        {
          "output_type": "stream",
          "name": "stdout",
          "text": [
            "[1, 2, 3, 4, 5, 6, 7, 8]\n"
          ]
        }
      ]
    },
    {
      "cell_type": "code",
      "source": [
        "#Transflorm data Lambda function will return the object based on argument.The words in lanbda will take each word does python.upper then again iterate for 2nd word programming and so on\n",
        "words = ['python','programming','is','awesome']\n",
        "capital_words=list(map(lambda x:x.upper(),words))\n",
        "print(capital_words)"
      ],
      "metadata": {
        "colab": {
          "base_uri": "https://localhost:8080/"
        },
        "id": "SoX-FLwUuCFJ",
        "outputId": "84cde8aa-47a8-448b-bddb-0017993694a9"
      },
      "execution_count": 10,
      "outputs": [
        {
          "output_type": "stream",
          "name": "stdout",
          "text": [
            "['PYTHON', 'PROGRAMMING', 'IS', 'AWESOME']\n"
          ]
        }
      ]
    },
    {
      "cell_type": "code",
      "source": [
        "# map is used for type conversion and transform the data\n",
        "#filter ()--passing the fun and iterables\n",
        "#filter(fun,iterables) and removing missing values ,data validation,fillna(),dropna()\n",
        "#[1,2,3,4,5,6,7,8]---filtering even or odd numbers filetring  the numbers based on conditions\n",
        "#if more records are there use filer not comprehension\n",
        "#Comprehemsion if used to print sequence of elements in list format or other\n",
        "# dont use if or else in filter function\n",
        "li=[1,2,3,4,5,6,7,8]\n",
        "even_numbers=list(filter(lambda x:x%2==0,li))\n",
        "print(even_numbers)\n"
      ],
      "metadata": {
        "colab": {
          "base_uri": "https://localhost:8080/"
        },
        "id": "vz5sDuA2uasd",
        "outputId": "564a516f-d574-455d-c44f-d02b1ef9b42c"
      },
      "execution_count": 11,
      "outputs": [
        {
          "output_type": "stream",
          "name": "stdout",
          "text": [
            "[2, 4, 6, 8]\n"
          ]
        }
      ]
    },
    {
      "cell_type": "code",
      "source": [
        "#data validation\n",
        "email_address=[\"user@exmple1.com\",\"invalid_email\",\"user2@exaple.com\",\"another_invalid_email\"]\n",
        "invalid_emails=list(filter(lambda x:\"@\" not in x and \".\" not in x,email_address))\n",
        "print(invalid_emails)\n",
        "#print(valid_email)"
      ],
      "metadata": {
        "colab": {
          "base_uri": "https://localhost:8080/"
        },
        "id": "aJb2adZBxcsC",
        "outputId": "11f97d09-eae9-49eb-dc0c-d0e3c61404fa"
      },
      "execution_count": 16,
      "outputs": [
        {
          "output_type": "stream",
          "name": "stdout",
          "text": [
            "['invalid_email', 'another_invalid_email']\n"
          ]
        }
      ]
    },
    {
      "cell_type": "code",
      "source": [
        "#sorted data lis of data in dictionary format.Use only one key\n",
        "#sort() will be used for ascediung or desceding order sorted() is used when based on key\n",
        "data=[{\n",
        "    \"name\":\"Vamsi\",\n",
        "    \"age\":16\n",
        "},{\n",
        "    \"name\":\"Shatha\",\n",
        "    \"age\":13\n",
        "},{\n",
        "    \"name\":\"Vinay\",\n",
        "    \"age\":20\n",
        "}]\n",
        "sorted_data=sorted(data,key=lambda x:x['age'],reverse=True)\n",
        "print(sorted_data)"
      ],
      "metadata": {
        "colab": {
          "base_uri": "https://localhost:8080/"
        },
        "id": "i51GXArEzVLu",
        "outputId": "f945292f-1391-4904-df18-72512825de62"
      },
      "execution_count": 17,
      "outputs": [
        {
          "output_type": "stream",
          "name": "stdout",
          "text": [
            "[{'name': 'Vinay', 'age': 20}, {'name': 'Vamsi', 'age': 16}, {'name': 'Shatha', 'age': 13}]\n"
          ]
        }
      ]
    },
    {
      "cell_type": "code",
      "source": [
        "#Sorting Data\n",
        "data = [\n",
        "    {\"Name\":\"Vamsi\",\n",
        "     \"age\":\"16\"},\n",
        "    {\"Name\":\"Shatha\",\n",
        "     \"age\":\"13\"},\n",
        "    {\"Name\":\"Vinay\",\n",
        "     \"age\":\"20\"},\n",
        "    {\"Name\":\"Pranay\",\n",
        "    \"age\":\"30\"}\n",
        "      ]\n",
        "sorted_data=sorted(data,key=lambda x:x ['age'],reverse=True)\n",
        "print(sorted_data)\n",
        "#li.sort() ,sorted(key)\n",
        "#method= return value, in java ,python ,c++ inside function it is called method inside class we want ot create a function, method name ,obj.sort,obj.append,dict.keys(),dict.values()\n",
        "#obj.sort() here sort() dict.keys(),dict.values() depends on instance obj\n",
        "#finction return value sorted(),print(),len(),max(),min(()\n",
        "#here function doesnt depend on instance"
      ],
      "metadata": {
        "id": "F3L_0XqO0nrb"
      },
      "execution_count": null,
      "outputs": []
    },
    {
      "cell_type": "code",
      "source": [
        "#None is None is emopty value no numerical representation\n",
        "#None == None\n",
        "None == None"
      ],
      "metadata": {
        "colab": {
          "base_uri": "https://localhost:8080/"
        },
        "id": "knPEOF_nV956",
        "outputId": "d3da5d06-b136-4565-b555-42f51b2877cc"
      },
      "execution_count": 1,
      "outputs": [
        {
          "output_type": "execute_result",
          "data": {
            "text/plain": [
              "True"
            ]
          },
          "metadata": {},
          "execution_count": 1
        }
      ]
    },
    {
      "cell_type": "code",
      "source": [
        "import numpy as np #not a number\n",
        "np.nan == np.nan\n"
      ],
      "metadata": {
        "colab": {
          "base_uri": "https://localhost:8080/"
        },
        "id": "a5s1u9rYWkwW",
        "outputId": "2f7d30ec-533f-423b-e069-e20bbc12a8cd"
      },
      "execution_count": 2,
      "outputs": [
        {
          "output_type": "execute_result",
          "data": {
            "text/plain": [
              "False"
            ]
          },
          "metadata": {},
          "execution_count": 2
        }
      ]
    },
    {
      "cell_type": "code",
      "source": [
        "#removing null or empty values if the condiotion is true removes the values\n",
        "#NULL not defined in python other NaN,not a number,not a date ,not a time\n",
        "data = [1,None,\"\",3,5,0,\"hello\",None]\n",
        "filterd_data = list(filter(lambda x:x is not None and x!=\"\",data))\n",
        "filterd_data"
      ],
      "metadata": {
        "colab": {
          "base_uri": "https://localhost:8080/"
        },
        "id": "D3VMdjHqXi2q",
        "outputId": "7aa8a0c3-132b-4843-dbf5-63db2555d49a"
      },
      "execution_count": 2,
      "outputs": [
        {
          "output_type": "execute_result",
          "data": {
            "text/plain": [
              "[1, 3, 5, 0, 'hello']"
            ]
          },
          "metadata": {},
          "execution_count": 2
        }
      ]
    },
    {
      "cell_type": "code",
      "source": [
        "#Reduce function--return the single value like some of elements ,total salary of employees\n",
        "#it is better for huge data when compared with sum\n",
        "#from functool import reduce  dirctly we cant access like filter(),map() in python\n",
        "#\n",
        "from functools import reduce\n",
        "li =[1,2,3,4,5,6]\n",
        "result_sum=reduce(lambda x,y:x+y,li)\n",
        "print(result_sum)"
      ],
      "metadata": {
        "colab": {
          "base_uri": "https://localhost:8080/"
        },
        "id": "hU9CI3eyCkYz",
        "outputId": "2a9f81ae-d911-4dee-c39e-90e8ff33e1fa"
      },
      "execution_count": 4,
      "outputs": [
        {
          "output_type": "stream",
          "name": "stdout",
          "text": [
            "21\n"
          ]
        }
      ]
    },
    {
      "cell_type": "code",
      "source": [
        "from functools import reduce\n",
        "employee_salary={'Name':['Shatha','Vamsi'],'Month':['Apr','Apr'],'Salary':[10000,20000]}\n",
        "Salary=employee_salary['Salary']\n",
        "total_salary=reduce(lambda x,y:x+y,Salary)\n",
        "print(total_salary)"
      ],
      "metadata": {
        "colab": {
          "base_uri": "https://localhost:8080/"
        },
        "id": "2G13GcVOG8Y2",
        "outputId": "f5b50d75-24c4-444c-dd02-35d8b199aad5"
      },
      "execution_count": 5,
      "outputs": [
        {
          "output_type": "stream",
          "name": "stdout",
          "text": [
            "30000\n"
          ]
        }
      ]
    },
    {
      "cell_type": "code",
      "source": [
        "#map(),filter(),reduce()\n",
        "#[1,2,3,4,5,6,7,8,9,10]--->even elements[2,4,6,8,10--->add 2 each elements[4.6.8.10.12] ---and sum it --40\n",
        "li =[1,2,3,4,5,6,7,8,9,10]\n",
        "filter_ele=list(filter(lambda x: x%2==0,li))\n",
        "print(filter_ele)\n",
        "map_ele=list(map(lambda x:x+2,filter_ele))\n",
        "print(map_ele)\n",
        "result=reduce(lambda x,y:x+y,map_ele)\n",
        "result"
      ],
      "metadata": {
        "colab": {
          "base_uri": "https://localhost:8080/"
        },
        "id": "TbMdtcmbMzoL",
        "outputId": "fa2835c1-0aab-4a9e-a5fd-15e9a25f72fe"
      },
      "execution_count": 11,
      "outputs": [
        {
          "output_type": "stream",
          "name": "stdout",
          "text": [
            "[2, 4, 6, 8, 10]\n",
            "[4, 6, 8, 10, 12]\n"
          ]
        },
        {
          "output_type": "execute_result",
          "data": {
            "text/plain": [
              "40"
            ]
          },
          "metadata": {},
          "execution_count": 11
        }
      ]
    },
    {
      "cell_type": "code",
      "source": [
        "li =[1,2,3,4,5,6,7,8,9,10]\n",
        "filter_ele=list(filter(lambda x: x%2==0,li))\n",
        "filter_ele\n",
        "map_ele=list(map(lambda x:x+2,list(filter(lambda x: x%2==0,li))))\n",
        "map_ele\n",
        "result=reduce(lambda x,y:x+y,list(map(lambda x:x+2,list(filter(lambda x: x%2==0,li)))))\n",
        "result"
      ],
      "metadata": {
        "colab": {
          "base_uri": "https://localhost:8080/"
        },
        "id": "XxUW7NQEPw72",
        "outputId": "0ee893ea-5141-42a6-8815-4a8b90feedba"
      },
      "execution_count": 15,
      "outputs": [
        {
          "output_type": "execute_result",
          "data": {
            "text/plain": [
              "40"
            ]
          },
          "metadata": {},
          "execution_count": 15
        }
      ]
    },
    {
      "cell_type": "code",
      "source": [
        "#Scope of variables ,declaring and scope of var ,life of var\n",
        "#How variables will act inside and outside of fucntion\n",
        "a=10 # varable declared outside of the function we can call it as global variable\n",
        "def fun():\n",
        "  print(a) # a-10\n",
        "fun()\n",
        "print(a)  #a=10"
      ],
      "metadata": {
        "id": "VEgOYdTpQ9D1"
      },
      "execution_count": 19,
      "outputs": []
    },
    {
      "cell_type": "code",
      "source": [
        "a=10 # varable declared outside of the function we can call it as global variable\n",
        "def fun():\n",
        "  a=15# local variable inside the function\n",
        "  print(a) # a-15\n",
        "fun()\n",
        "print(a)  #a=10"
      ],
      "metadata": {
        "id": "pTIf3GdpVkZA",
        "outputId": "14467e64-6553-4c60-815f-4a16b6da0952",
        "colab": {
          "base_uri": "https://localhost:8080/"
        }
      },
      "execution_count": 20,
      "outputs": [
        {
          "output_type": "stream",
          "name": "stdout",
          "text": [
            "15\n",
            "10\n"
          ]
        }
      ]
    },
    {
      "cell_type": "code",
      "source": [
        "a=10 # varable declared outside of the function we can call it as global variable\n",
        "def fun():\n",
        "  global a #converting local varible ot global using global keyword\n",
        "  a=15# local variable inside the function after 3.11 there is no keyword local for local variables\n",
        "  print(a) # a-15\n",
        "fun()\n",
        "print(a)  #a=15 accessing local varibale inside the function to outside of the function"
      ],
      "metadata": {
        "id": "4VtzsoBIVqfc",
        "outputId": "05019d6c-8072-4c83-94af-a07fd34f6545",
        "colab": {
          "base_uri": "https://localhost:8080/"
        }
      },
      "execution_count": 21,
      "outputs": [
        {
          "output_type": "stream",
          "name": "stdout",
          "text": [
            "15\n",
            "15\n"
          ]
        }
      ]
    },
    {
      "cell_type": "code",
      "source": [
        "#non local ---nested function\n",
        "count =0\n",
        "def outer():\n",
        "    def inner():\n",
        "        count = 10\n",
        "        print(count)#10\n",
        "    inner()\n",
        "    print(count)#0\n",
        "outer()\n",
        "print(count)#"
      ],
      "metadata": {
        "id": "Be5uIi8KXc14",
        "outputId": "4543cbff-75ee-4b28-c516-522c15808a8c",
        "colab": {
          "base_uri": "https://localhost:8080/"
        }
      },
      "execution_count": 30,
      "outputs": [
        {
          "output_type": "stream",
          "name": "stdout",
          "text": [
            "10\n",
            "0\n",
            "0\n"
          ]
        }
      ]
    },
    {
      "cell_type": "code",
      "source": [
        "#non local ---nested function\n",
        "count =0\n",
        "def outer():\n",
        "  global count\n",
        "  def inner():\n",
        "    count =10\n",
        "    print(count)#10\n",
        "  inner()\n",
        "  print(count)#0\n",
        "outer()\n",
        "print(count)#"
      ],
      "metadata": {
        "id": "K5bWKOVLl2-y",
        "outputId": "e6be8482-b56a-478a-d636-babe70f3040b",
        "colab": {
          "base_uri": "https://localhost:8080/"
        }
      },
      "execution_count": 31,
      "outputs": [
        {
          "output_type": "stream",
          "name": "stdout",
          "text": [
            "10\n",
            "0\n",
            "0\n"
          ]
        }
      ]
    },
    {
      "cell_type": "code",
      "source": [
        "#non local ---nested function do not use gloabl and non local in the same function or program\n",
        "#count =0\n",
        "#updating the count value from inner function to outer function\n",
        "def outer():\n",
        "  count =9\n",
        "  def inner():\n",
        "    nonlocal count\n",
        "    count =10\n",
        "    print(count)#10\n",
        "  inner()\n",
        "  print(count)#0\n",
        "outer()\n",
        "print(count)#"
      ],
      "metadata": {
        "id": "WjpYG1Q5oWFv",
        "outputId": "f4ed3700-efd6-427f-f0d8-0a653da8ae7d",
        "colab": {
          "base_uri": "https://localhost:8080/"
        }
      },
      "execution_count": 38,
      "outputs": [
        {
          "output_type": "stream",
          "name": "stdout",
          "text": [
            "10\n",
            "10\n",
            "0\n"
          ]
        }
      ]
    },
    {
      "cell_type": "code",
      "source": [
        "#module and packages module file (filename.py),contains def,functions,classes,statements etc\n",
        "#to reduce the code and re-use code--functinalities,business logics\n",
        "import math\n",
        "math.sqrt(2)  # it is method and is available in math module"
      ],
      "metadata": {
        "id": "pRLH9oj-qKZf",
        "outputId": "5708753e-3537-4aae-912d-674282b42bf3",
        "colab": {
          "base_uri": "https://localhost:8080/"
        }
      },
      "execution_count": 39,
      "outputs": [
        {
          "output_type": "execute_result",
          "data": {
            "text/plain": [
              "1.4142135623730951"
            ]
          },
          "metadata": {},
          "execution_count": 39
        }
      ]
    },
    {
      "cell_type": "code",
      "source": [
        "#Save this files as personal.py file\n",
        "name =\"john\"\n",
        "def get_name(name):\n",
        "  return f\"Hello,{name}\"\n"
      ],
      "metadata": {
        "id": "7-yOs3vqt6We"
      },
      "execution_count": null,
      "outputs": []
    },
    {
      "cell_type": "code",
      "source": [
        "import personal\n",
        "personal.name\n",
        "personal.get_name(\"Ram\")\n"
      ],
      "metadata": {
        "id": "vwaiNjwDvLbE"
      },
      "execution_count": null,
      "outputs": []
    },
    {
      "cell_type": "code",
      "source": [
        "from personal import get_name\n",
        "from personal import *\n",
        "get_name(\"Ram\")\n",
        "print(name)\n",
        "print()"
      ],
      "metadata": {
        "id": "_l8OJqdev3aM"
      },
      "execution_count": null,
      "outputs": []
    }
  ],
  "metadata": {
    "colab": {
      "name": "Welcome to Colaboratory",
      "toc_visible": true,
      "provenance": [],
      "include_colab_link": true
    },
    "kernelspec": {
      "display_name": "Python 3",
      "name": "python3"
    }
  },
  "nbformat": 4,
  "nbformat_minor": 0
}