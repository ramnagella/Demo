{
  "cells": [
    {
      "cell_type": "markdown",
      "metadata": {
        "id": "view-in-github",
        "colab_type": "text"
      },
      "source": [
        "<a href=\"https://colab.research.google.com/github/ramnagella/Demo/blob/master/Python_basics_day6.ipynb\" target=\"_parent\"><img src=\"https://colab.research.google.com/assets/colab-badge.svg\" alt=\"Open In Colab\"/></a>"
      ]
    },
    {
      "cell_type": "code",
      "source": [
        "#Modules and packages ---29-07-2025\n",
        "import Personal_info\n",
        "print(Personal_info.message(\"Ram\"))\n",
        "print(Personal_info.addition(2,4))\n",
        "print(Personal_info.PI)\n"
      ],
      "metadata": {
        "colab": {
          "base_uri": "https://localhost:8080/",
          "height": 384
        },
        "id": "AFWGfDOiSWj9",
        "outputId": "29adf039-dc1f-405c-c351-8c663d5b2412"
      },
      "execution_count": null,
      "outputs": [
        {
          "output_type": "error",
          "ename": "ModuleNotFoundError",
          "evalue": "No module named 'Personal_info'",
          "traceback": [
            "\u001b[0;31m---------------------------------------------------------------------------\u001b[0m",
            "\u001b[0;31mModuleNotFoundError\u001b[0m                       Traceback (most recent call last)",
            "\u001b[0;32m<ipython-input-6-63c28a9dabae>\u001b[0m in \u001b[0;36m<cell line: 0>\u001b[0;34m()\u001b[0m\n\u001b[1;32m      1\u001b[0m \u001b[0;31m#Modules and packages ---29-07-2025\u001b[0m\u001b[0;34m\u001b[0m\u001b[0;34m\u001b[0m\u001b[0m\n\u001b[0;32m----> 2\u001b[0;31m \u001b[0;32mimport\u001b[0m \u001b[0mPersonal_info\u001b[0m\u001b[0;34m\u001b[0m\u001b[0;34m\u001b[0m\u001b[0m\n\u001b[0m\u001b[1;32m      3\u001b[0m \u001b[0mprint\u001b[0m\u001b[0;34m(\u001b[0m\u001b[0mPersonal_info\u001b[0m\u001b[0;34m.\u001b[0m\u001b[0mmessage\u001b[0m\u001b[0;34m(\u001b[0m\u001b[0;34m\"Ram\"\u001b[0m\u001b[0;34m)\u001b[0m\u001b[0;34m)\u001b[0m\u001b[0;34m\u001b[0m\u001b[0;34m\u001b[0m\u001b[0m\n\u001b[1;32m      4\u001b[0m \u001b[0mprint\u001b[0m\u001b[0;34m(\u001b[0m\u001b[0mPersonal_info\u001b[0m\u001b[0;34m.\u001b[0m\u001b[0maddition\u001b[0m\u001b[0;34m(\u001b[0m\u001b[0;36m2\u001b[0m\u001b[0;34m,\u001b[0m\u001b[0;36m4\u001b[0m\u001b[0;34m)\u001b[0m\u001b[0;34m)\u001b[0m\u001b[0;34m\u001b[0m\u001b[0;34m\u001b[0m\u001b[0m\n\u001b[1;32m      5\u001b[0m \u001b[0mprint\u001b[0m\u001b[0;34m(\u001b[0m\u001b[0mPersonal_info\u001b[0m\u001b[0;34m.\u001b[0m\u001b[0mPI\u001b[0m\u001b[0;34m)\u001b[0m\u001b[0;34m\u001b[0m\u001b[0;34m\u001b[0m\u001b[0m\n",
            "\u001b[0;31mModuleNotFoundError\u001b[0m: No module named 'Personal_info'",
            "",
            "\u001b[0;31m---------------------------------------------------------------------------\u001b[0;32m\nNOTE: If your import is failing due to a missing package, you can\nmanually install dependencies using either !pip or !apt.\n\nTo view examples of installing some common dependencies, click the\n\"Open Examples\" button below.\n\u001b[0;31m---------------------------------------------------------------------------\u001b[0m\n"
          ],
          "errorDetails": {
            "actions": [
              {
                "action": "open_url",
                "actionText": "Open Examples",
                "url": "/notebooks/snippets/importing_libraries.ipynb"
              }
            ]
          }
        }
      ]
    },
    {
      "cell_type": "code",
      "source": [
        "#Modules---\n",
        "#pre-defined modules----math,os,sys,functools\n",
        "#user defined modules---filename.py\n",
        "from Personal_info import addition, PI\n",
        "additon(3,4)\n",
        "print(PI)\n",
        "print(additon(3,4))"
      ],
      "metadata": {
        "id": "PoCV8f5_TweS"
      },
      "execution_count": null,
      "outputs": []
    },
    {
      "cell_type": "code",
      "source": [
        "from Personal_info import *\n",
        "print(addition(3,4))\n",
        "print(PI)\n",
        "#import numpy as ny # as is alias name which is used to convert one object name into another object name\n",
        "#"
      ],
      "metadata": {
        "id": "zElOFbw1TwQP"
      },
      "execution_count": null,
      "outputs": []
    },
    {
      "cell_type": "code",
      "source": [
        "#Packages --set of modules ---\n",
        "#create maths folder __init__.py\n",
        "'''\n",
        "  ----  __init__.py #special file and purpose of this file is initialize the package\n",
        "  maths\n",
        "  ----- arth.py\n",
        "  -----tri.py\n",
        "  ----__init__.py"
      ],
      "metadata": {
        "id": "jISXjvDKTwEB"
      },
      "execution_count": null,
      "outputs": []
    },
    {
      "cell_type": "code",
      "source": [
        "#in maths folder in giyhub arth.py should be as below\n",
        "'''\n",
        "def addition(a,b):\n",
        "  return a+b\n",
        "def substraction(a,b):\n",
        "  return a-n\n",
        "def nultiply(a,b):\n",
        "  return a*b\n",
        "\n",
        "tri.py\n",
        "\n",
        "import math\n",
        "def sinconvert(angle):\n",
        "  return math.sin(angle)\n",
        "def cosconvert(angle):\n",
        "  return math.cos(angle)\n",
        "def tanconvert(angle):\n",
        "  return math.tan(angle)\n",
        "\n",
        "'''\n",
        "\n"
      ],
      "metadata": {
        "id": "9PI5-rRG9dlI"
      },
      "execution_count": null,
      "outputs": []
    },
    {
      "cell_type": "code",
      "source": [
        "from Maths import arth,tri\n",
        "print(arth.addition(2,4))\n",
        "print(tri.sinconvert(30))"
      ],
      "metadata": {
        "id": "_iFfpMn7-keo"
      },
      "execution_count": null,
      "outputs": []
    },
    {
      "cell_type": "code",
      "source": [
        "from maths import addition\n",
        "print(addition(1,2))\n",
        "#in python without importing maths package we can call directly add substraction\n",
        "#we can export maths package into the __init__.py file and access it like as below in __init__.py file\n",
        "#from maths.arth import addition,substraction\n",
        "#from maths.tri import sinconvert\n"
      ],
      "metadata": {
        "id": "pjzQC5U0_jjL"
      },
      "execution_count": null,
      "outputs": []
    },
    {
      "cell_type": "code",
      "source": [
        "#Exception handling\n",
        "#Exception---if any interuption come during the program execution,your program work flow will be\n",
        "#affected and terminated\n",
        "a=10\n",
        "b=0\n",
        "a/b\n",
        "print(\"hello\")"
      ],
      "metadata": {
        "colab": {
          "base_uri": "https://localhost:8080/",
          "height": 193
        },
        "id": "dYhJYxn-DKD-",
        "outputId": "3a91ab67-32e2-426f-af3c-1f55c7db379f"
      },
      "execution_count": 1,
      "outputs": [
        {
          "output_type": "error",
          "ename": "ZeroDivisionError",
          "evalue": "division by zero",
          "traceback": [
            "\u001b[0;31m---------------------------------------------------------------------------\u001b[0m",
            "\u001b[0;31mZeroDivisionError\u001b[0m                         Traceback (most recent call last)",
            "\u001b[0;32m<ipython-input-1-08e0762af068>\u001b[0m in \u001b[0;36m<cell line: 0>\u001b[0;34m()\u001b[0m\n\u001b[1;32m      4\u001b[0m \u001b[0ma\u001b[0m\u001b[0;34m=\u001b[0m\u001b[0;36m10\u001b[0m\u001b[0;34m\u001b[0m\u001b[0;34m\u001b[0m\u001b[0m\n\u001b[1;32m      5\u001b[0m \u001b[0mb\u001b[0m\u001b[0;34m=\u001b[0m\u001b[0;36m0\u001b[0m\u001b[0;34m\u001b[0m\u001b[0;34m\u001b[0m\u001b[0m\n\u001b[0;32m----> 6\u001b[0;31m \u001b[0ma\u001b[0m\u001b[0;34m/\u001b[0m\u001b[0mb\u001b[0m\u001b[0;34m\u001b[0m\u001b[0;34m\u001b[0m\u001b[0m\n\u001b[0m\u001b[1;32m      7\u001b[0m \u001b[0mprint\u001b[0m\u001b[0;34m(\u001b[0m\u001b[0;34m\"hello\"\u001b[0m\u001b[0;34m)\u001b[0m\u001b[0;34m\u001b[0m\u001b[0;34m\u001b[0m\u001b[0m\n",
            "\u001b[0;31mZeroDivisionError\u001b[0m: division by zero"
          ]
        }
      ]
    },
    {
      "cell_type": "code",
      "source": [
        "#Exception---or error\n",
        "a=10\n",
        "b=20\n",
        "a/b\n",
        "print(a/b)\n",
        "print(\"hai\")"
      ],
      "metadata": {
        "colab": {
          "base_uri": "https://localhost:8080/"
        },
        "id": "PXhzFj57DJ2t",
        "outputId": "5c58701c-e8b0-4a37-8811-9687c3013036"
      },
      "execution_count": 3,
      "outputs": [
        {
          "output_type": "stream",
          "name": "stdout",
          "text": [
            "0.5\n",
            "hai\n"
          ]
        }
      ]
    },
    {
      "cell_type": "code",
      "source": [
        "#Exception---or error\n",
        "a=10\n",
        "b=0\n",
        "a/b\n",
        "print(a/b)#after exception rest of the program work flow termintaed and below print will  not run\n",
        "print(\"hai\")\n",
        "#handle exception"
      ],
      "metadata": {
        "colab": {
          "base_uri": "https://localhost:8080/",
          "height": 211
        },
        "id": "65LEFJN7a5rb",
        "outputId": "4009ecb9-2726-4e0a-ddf3-745ddfefcaf0"
      },
      "execution_count": 1,
      "outputs": [
        {
          "output_type": "error",
          "ename": "ZeroDivisionError",
          "evalue": "division by zero",
          "traceback": [
            "\u001b[0;31m---------------------------------------------------------------------------\u001b[0m",
            "\u001b[0;31mZeroDivisionError\u001b[0m                         Traceback (most recent call last)",
            "\u001b[0;32m<ipython-input-1-b376bb25558e>\u001b[0m in \u001b[0;36m<cell line: 0>\u001b[0;34m()\u001b[0m\n\u001b[1;32m      2\u001b[0m \u001b[0ma\u001b[0m\u001b[0;34m=\u001b[0m\u001b[0;36m10\u001b[0m\u001b[0;34m\u001b[0m\u001b[0;34m\u001b[0m\u001b[0m\n\u001b[1;32m      3\u001b[0m \u001b[0mb\u001b[0m\u001b[0;34m=\u001b[0m\u001b[0;36m0\u001b[0m\u001b[0;34m\u001b[0m\u001b[0;34m\u001b[0m\u001b[0m\n\u001b[0;32m----> 4\u001b[0;31m \u001b[0ma\u001b[0m\u001b[0;34m/\u001b[0m\u001b[0mb\u001b[0m\u001b[0;34m\u001b[0m\u001b[0;34m\u001b[0m\u001b[0m\n\u001b[0m\u001b[1;32m      5\u001b[0m \u001b[0mprint\u001b[0m\u001b[0;34m(\u001b[0m\u001b[0ma\u001b[0m\u001b[0;34m/\u001b[0m\u001b[0mb\u001b[0m\u001b[0;34m)\u001b[0m\u001b[0;34m\u001b[0m\u001b[0;34m\u001b[0m\u001b[0m\n\u001b[1;32m      6\u001b[0m \u001b[0mprint\u001b[0m\u001b[0;34m(\u001b[0m\u001b[0;34m\"hai\"\u001b[0m\u001b[0;34m)\u001b[0m\u001b[0;34m\u001b[0m\u001b[0;34m\u001b[0m\u001b[0m\n",
            "\u001b[0;31mZeroDivisionError\u001b[0m: division by zero"
          ]
        }
      ]
    },
    {
      "cell_type": "code",
      "source": [
        "#try--->raise--->except---->finally\n",
        "#four blocks\n",
        "#try---use---try the code ---execute the statements --if any exception occurs raise the class like zero division class\n",
        "#--finally -finally block will be executed\n",
        "#real time ---logins--try to login valid means execute if wrong --open a connection --atm machone --connection for ATM --means session\n",
        "#-----put the card in ATM machine session starts particular time---does actions like withdraw,pin change ,balance check ---\n",
        "#-----after that finnaly your session closed whatever it is close the file --if not closing file properly--\n",
        "#-----challenges are data loss,memory issues,cant rename the files,cant write,"
      ],
      "metadata": {
        "id": "90LCg8FSbXli"
      },
      "execution_count": null,
      "outputs": []
    },
    {
      "cell_type": "code",
      "source": [
        "try:\n",
        "  a=int(input(\" Enter the value of a\"))\n",
        "  b=int(input(\" Enter the value of b\"))\n",
        "  c=a/b\n",
        "  print(c)\n",
        "except:\n",
        "  print(\"please provide the devisor valur more than zero\")\n",
        "finally:\n",
        "  print(\"Welcome\")\n",
        "  #first enter string instead of int and see\n",
        "\n"
      ],
      "metadata": {
        "colab": {
          "base_uri": "https://localhost:8080/"
        },
        "id": "aCsuniaTbY6Y",
        "outputId": "fa05576d-1567-40c0-d633-3282ff4bd188"
      },
      "execution_count": 2,
      "outputs": [
        {
          "output_type": "stream",
          "name": "stdout",
          "text": [
            " Enter the value of aRam\n",
            "please provide the devisor valur more than zero\n",
            "Welcome\n"
          ]
        }
      ]
    },
    {
      "cell_type": "code",
      "source": [
        "try:\n",
        "  a=int(input(\" Enter the value of a\"))\n",
        "  b=int(input(\" Enter the value of b\"))\n",
        "  c=a/b\n",
        "  print(c)\n",
        "except ValueError:\n",
        "  print(\"please provide the integer value\")\n",
        "#except ZeroDivisionError:\n",
        " # print(\"please provide the devisor valur more than zero\")\n",
        "finally:\n",
        "  print(\"Welcome\")\n",
        "  #Now enter teh value of b as zero .now you will get zero division error.\n",
        "  # habdle that zero division error\n"
      ],
      "metadata": {
        "colab": {
          "base_uri": "https://localhost:8080/",
          "height": 263
        },
        "id": "jiskMNcIbZMb",
        "outputId": "ff8d55ce-3da4-4dac-be96-9d226ebdb457"
      },
      "execution_count": 3,
      "outputs": [
        {
          "output_type": "stream",
          "name": "stdout",
          "text": [
            " Enter the value of a2\n",
            " Enter the value of b0\n",
            "Welcome\n"
          ]
        },
        {
          "output_type": "error",
          "ename": "ZeroDivisionError",
          "evalue": "division by zero",
          "traceback": [
            "\u001b[0;31m---------------------------------------------------------------------------\u001b[0m",
            "\u001b[0;31mZeroDivisionError\u001b[0m                         Traceback (most recent call last)",
            "\u001b[0;32m<ipython-input-3-9bfed597bc98>\u001b[0m in \u001b[0;36m<cell line: 0>\u001b[0;34m()\u001b[0m\n\u001b[1;32m      2\u001b[0m   \u001b[0ma\u001b[0m\u001b[0;34m=\u001b[0m\u001b[0mint\u001b[0m\u001b[0;34m(\u001b[0m\u001b[0minput\u001b[0m\u001b[0;34m(\u001b[0m\u001b[0;34m\" Enter the value of a\"\u001b[0m\u001b[0;34m)\u001b[0m\u001b[0;34m)\u001b[0m\u001b[0;34m\u001b[0m\u001b[0;34m\u001b[0m\u001b[0m\n\u001b[1;32m      3\u001b[0m   \u001b[0mb\u001b[0m\u001b[0;34m=\u001b[0m\u001b[0mint\u001b[0m\u001b[0;34m(\u001b[0m\u001b[0minput\u001b[0m\u001b[0;34m(\u001b[0m\u001b[0;34m\" Enter the value of b\"\u001b[0m\u001b[0;34m)\u001b[0m\u001b[0;34m)\u001b[0m\u001b[0;34m\u001b[0m\u001b[0;34m\u001b[0m\u001b[0m\n\u001b[0;32m----> 4\u001b[0;31m   \u001b[0mc\u001b[0m\u001b[0;34m=\u001b[0m\u001b[0ma\u001b[0m\u001b[0;34m/\u001b[0m\u001b[0mb\u001b[0m\u001b[0;34m\u001b[0m\u001b[0;34m\u001b[0m\u001b[0m\n\u001b[0m\u001b[1;32m      5\u001b[0m   \u001b[0mprint\u001b[0m\u001b[0;34m(\u001b[0m\u001b[0mc\u001b[0m\u001b[0;34m)\u001b[0m\u001b[0;34m\u001b[0m\u001b[0;34m\u001b[0m\u001b[0m\n\u001b[1;32m      6\u001b[0m \u001b[0;32mexcept\u001b[0m \u001b[0mValueError\u001b[0m\u001b[0;34m:\u001b[0m\u001b[0;34m\u001b[0m\u001b[0;34m\u001b[0m\u001b[0m\n",
            "\u001b[0;31mZeroDivisionError\u001b[0m: division by zero"
          ]
        }
      ]
    },
    {
      "cell_type": "code",
      "source": [
        "try:\n",
        "  a=int(input(\" Enter the value of a\"))\n",
        "  b=int(input(\" Enter the value of b\"))\n",
        "  c=a/b\n",
        "  print(c)\n",
        "except ValueError:\n",
        "  print(\"please provide the integer value\")\n",
        "except ZeroDivisionError:\n",
        "  print(\"please provide the devisor value more than zero\")\n",
        "finally:\n",
        "  print(\"Welcome\")\n",
        "  #now enter the value of b as zero and check\n",
        ""
      ],
      "metadata": {
        "colab": {
          "base_uri": "https://localhost:8080/"
        },
        "id": "1Nj3RG8bbZfZ",
        "outputId": "5d0b8cc2-e837-437a-b8bb-95c238f49afd"
      },
      "execution_count": 4,
      "outputs": [
        {
          "output_type": "stream",
          "name": "stdout",
          "text": [
            " Enter the value of a2\n",
            " Enter the value of b0\n",
            "please provide the devisor value more than zero\n",
            "Welcome\n"
          ]
        }
      ]
    },
    {
      "cell_type": "code",
      "source": [
        "#first try block will be executed if any exception comes ,first after try block executes and goes to rasing the exception class after the rasing the  the exception calss\n",
        "#goes to exception block based on the error like string or serodivision error and finally block executes\n"
      ],
      "metadata": {
        "id": "wVC6yhcgglWF"
      },
      "execution_count": null,
      "outputs": []
    },
    {
      "cell_type": "code",
      "source": [],
      "metadata": {
        "id": "8X29aKxuglKE"
      },
      "execution_count": null,
      "outputs": []
    },
    {
      "cell_type": "code",
      "source": [],
      "metadata": {
        "id": "giYq_5Fkgk6M"
      },
      "execution_count": null,
      "outputs": []
    }
  ],
  "metadata": {
    "colab": {
      "name": "Welcome to Colab",
      "toc_visible": true,
      "provenance": [],
      "include_colab_link": true
    },
    "kernelspec": {
      "display_name": "Python 3",
      "name": "python3"
    }
  },
  "nbformat": 4,
  "nbformat_minor": 0
}