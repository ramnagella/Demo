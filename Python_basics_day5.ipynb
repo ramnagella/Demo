{
  "cells": [
    {
      "cell_type": "markdown",
      "metadata": {
        "id": "view-in-github",
        "colab_type": "text"
      },
      "source": [
        "<a href=\"https://colab.research.google.com/github/ramnagella/Demo/blob/master/Python_basics_day5.ipynb\" target=\"_parent\"><img src=\"https://colab.research.google.com/assets/colab-badge.svg\" alt=\"Open In Colab\"/></a>"
      ]
    },
    {
      "cell_type": "code",
      "source": [
        "#26-07-2-25---Python_basics_day5.\n",
        "#agenda\n",
        "'''anonymous functions---lambda,map(),reduce(),filter()\n",
        "---scope of variables ,file handling,exception handling,modules and packages\n",
        "map()---will use while type conversion and transform the data\n",
        "filter()---filter(fun,iterables)---data validation and removing missing values\n",
        "fillna(),dropna()\n",
        "'''\n"
      ],
      "metadata": {
        "id": "0eqyywpamBU6"
      },
      "execution_count": null,
      "outputs": []
    },
    {
      "cell_type": "code",
      "source": [
        "li=[1,2,3,4,5,6,7,8]\n",
        "even_ele=list(filter(lambda x:x%2==0,li))\n",
        "print(even_ele)"
      ],
      "metadata": {
        "colab": {
          "base_uri": "https://localhost:8080/"
        },
        "id": "SECbOZGWrF1I",
        "outputId": "7bb9cace-08eb-4b79-8fa1-2d8ae50ee4f6"
      },
      "execution_count": 6,
      "outputs": [
        {
          "output_type": "stream",
          "name": "stdout",
          "text": [
            "[2, 4, 6, 8]\n"
          ]
        }
      ]
    },
    {
      "cell_type": "code",
      "source": [
        "#data validation\n",
        "email_address=[\"user1@example.com\",\"invalid_emai\",\"user2@example.com\",\"another_invalid\"]\n",
        "invalid_email=list(filter(lambda x:not x.endswith(\"@example.com\"),email_address))\n",
        "print(invalid_email)"
      ],
      "metadata": {
        "colab": {
          "base_uri": "https://localhost:8080/"
        },
        "id": "2gYp9px_rdjb",
        "outputId": "8023734d-731d-48ae-8471-b463c673b7bd"
      },
      "execution_count": 7,
      "outputs": [
        {
          "output_type": "stream",
          "name": "stdout",
          "text": [
            "['invalid_emai', 'another_invalid']\n"
          ]
        }
      ]
    },
    {
      "cell_type": "code",
      "source": [
        "email_address=[\"user1@example.com\",\"invalid_emai\",\"user2@example.com\",\"another_invalid\"]\n",
        "invalid_email=list(filter(lambda x:\"@\" not in x and \".\" not in x,email_address))\n",
        "print(invalid_email)"
      ],
      "metadata": {
        "colab": {
          "base_uri": "https://localhost:8080/"
        },
        "id": "xAg-skR5sop6",
        "outputId": "3e3b8ac7-97b6-482b-d98b-077874e55be8"
      },
      "execution_count": 8,
      "outputs": [
        {
          "output_type": "stream",
          "name": "stdout",
          "text": [
            "['invalid_emai', 'another_invalid']\n"
          ]
        }
      ]
    },
    {
      "cell_type": "code",
      "source": [
        "#sorting data\n",
        "data = [\n",
        " {\"name\":\"Ram\",\n",
        "  \"city\":\"Banglore\",\n",
        "  \"age\":45},\n",
        " {\"name\":\"shatha\",\n",
        "  \"city\":\"Banglore\",\n",
        "  \"age\":13},\n",
        " {\"name\":\"Vamsi\",\n",
        "  \"city\":\"Banglore\",\n",
        "  \"age\":17}\n",
        "]\n",
        "sorted_data=sorted(data,key=lambda x:x[\"age\"])\n",
        "print(sorted_data)"
      ],
      "metadata": {
        "colab": {
          "base_uri": "https://localhost:8080/"
        },
        "id": "BcQBy1jgtHPk",
        "outputId": "c3d41cf7-be62-41bb-da85-e10daf86d4ac"
      },
      "execution_count": 13,
      "outputs": [
        {
          "output_type": "stream",
          "name": "stdout",
          "text": [
            "[{'name': 'shatha', 'city': 'Banglore', 'age': 13}, {'name': 'Vamsi', 'city': 'Banglore', 'age': 17}, {'name': 'Ram', 'city': 'Banglore', 'age': 45}]\n"
          ]
        }
      ]
    },
    {
      "cell_type": "code",
      "source": [
        "#sorting data\n",
        "data = [\n",
        " {\"name\":\"Ram\",\n",
        "  \"city\":\"Banglore\",\n",
        "  \"age\":45},\n",
        " {\"name\":\"shatha\",\n",
        "  \"city\":\"Banglore\",\n",
        "  \"age\":13},\n",
        " {\"name\":\"Vamsi\",\n",
        "  \"city\":\"Banglore\",\n",
        "  \"age\":17}\n",
        "]\n",
        "sorted_data=sorted(data,key=lambda x:x[\"age\"],reverse=True)\n",
        "print(sorted_data)\n",
        "#sorting based on age only one key allowed e cant use multiple keys"
      ],
      "metadata": {
        "colab": {
          "base_uri": "https://localhost:8080/"
        },
        "id": "I1DGc99ywaoX",
        "outputId": "7438968d-3b8c-4305-c91c-911f03b5fb10"
      },
      "execution_count": 14,
      "outputs": [
        {
          "output_type": "stream",
          "name": "stdout",
          "text": [
            "[{'name': 'Ram', 'city': 'Banglore', 'age': 45}, {'name': 'Vamsi', 'city': 'Banglore', 'age': 17}, {'name': 'shatha', 'city': 'Banglore', 'age': 13}]\n"
          ]
        }
      ]
    },
    {
      "cell_type": "code",
      "source": [
        "#method and function difference\n",
        "'''\n",
        "function ---returns value ---sorted()--is not depend on obj---print(),max(),min(),len()\n",
        "method -----returns value---inside class we want to create fun--method name --obj.sort(),obj.append(),\n",
        "dict.keys(),dict.values()---obj.sort() function is depend on instance obj\n",
        "'''\n",
        "'''"
      ],
      "metadata": {
        "id": "NtHxVzLOwgtx"
      },
      "execution_count": null,
      "outputs": []
    },
    {
      "cell_type": "code",
      "source": [
        "None is None # None is no values in data science is missing value --no numerical representation,empty value"
      ],
      "metadata": {
        "colab": {
          "base_uri": "https://localhost:8080/"
        },
        "id": "QUWvNnam0rrF",
        "outputId": "38a372b1-1e39-4c10-f009-64cd204224d5"
      },
      "execution_count": 15,
      "outputs": [
        {
          "output_type": "execute_result",
          "data": {
            "text/plain": [
              "True"
            ]
          },
          "metadata": {},
          "execution_count": 15
        }
      ]
    },
    {
      "cell_type": "code",
      "source": [
        "None == None"
      ],
      "metadata": {
        "colab": {
          "base_uri": "https://localhost:8080/"
        },
        "id": "conSVpV507QH",
        "outputId": "0581a7ea-1cad-4333-9918-c50c2d8009aa"
      },
      "execution_count": 16,
      "outputs": [
        {
          "output_type": "execute_result",
          "data": {
            "text/plain": [
              "True"
            ]
          },
          "metadata": {},
          "execution_count": 16
        }
      ]
    },
    {
      "cell_type": "code",
      "source": [
        "import numpy as np\n",
        "np.nan==np.nan\n",
        "#nan means not a number means it has some other value"
      ],
      "metadata": {
        "colab": {
          "base_uri": "https://localhost:8080/"
        },
        "id": "VOfkft1J1D3Q",
        "outputId": "50adfa37-0bdf-45db-8d9a-2764fba5c10d"
      },
      "execution_count": 18,
      "outputs": [
        {
          "output_type": "execute_result",
          "data": {
            "text/plain": [
              "False"
            ]
          },
          "metadata": {},
          "execution_count": 18
        }
      ]
    },
    {
      "cell_type": "code",
      "source": [
        "#removing null or Empty Values\n",
        "data=[1,None,3,\"\",5,0,\"hello\",None]\n",
        "filtered_data=list(filter(lambda x:x is not None and x!=\"\",data))\n",
        "print(filtered_data)"
      ],
      "metadata": {
        "colab": {
          "base_uri": "https://localhost:8080/"
        },
        "id": "QNr__u621jj0",
        "outputId": "a647582b-79d3-42c7-b83e-2e627ed0d807"
      },
      "execution_count": 19,
      "outputs": [
        {
          "output_type": "stream",
          "name": "stdout",
          "text": [
            "[1, 3, 5, 0, 'hello']\n"
          ]
        }
      ]
    },
    {
      "cell_type": "code",
      "source": [
        "#reduce()---return teh single value ---sum of the values or elements ,total salry of employees\n",
        "#from functool import reduce it is not available in python\n",
        "#reduce---(two args and iterables)\n",
        "from functools import reduce\n",
        "numbers=[1,2,3,4,5]\n",
        "sum_numbers=reduce(lambda x,y:x+y,numbers)\n",
        "print(sum_numbers)"
      ],
      "metadata": {
        "id": "1WrwvlQB7ESf",
        "outputId": "9ecac30e-80e7-4f20-88ed-5515b8220bc8",
        "colab": {
          "base_uri": "https://localhost:8080/"
        }
      },
      "execution_count": 21,
      "outputs": [
        {
          "output_type": "stream",
          "name": "stdout",
          "text": [
            "15\n"
          ]
        }
      ]
    },
    {
      "cell_type": "code",
      "source": [
        "from functools import reduce\n",
        "employee_salarys=[1000,2000,3000,4000,5000]\n",
        "total_salary=reduce(lambda x,y:x+y,employee_salarys)\n",
        "print(total_salary)"
      ],
      "metadata": {
        "id": "b2XkklcY7EPF",
        "outputId": "e1f94577-c54d-4355-8cc6-010ff8a7103d",
        "colab": {
          "base_uri": "https://localhost:8080/"
        }
      },
      "execution_count": 22,
      "outputs": [
        {
          "output_type": "stream",
          "name": "stdout",
          "text": [
            "15000\n"
          ]
        }
      ]
    },
    {
      "cell_type": "code",
      "source": [
        "from functools import reduce\n",
        "employee_salary={'name':['Ram','Shatha'],'Month':['Jan','Feb'],'Salary':[1000,2000]}\n",
        "salary=employee_salary['Salary']\n",
        "total_salary=reduce(lambda a,b:a+b,salary)\n",
        "print(salary)\n",
        "print(total_salary)"
      ],
      "metadata": {
        "id": "53gK-Cm87EGy",
        "outputId": "dc6ee96d-9122-4427-a44a-18dfdf32ae66",
        "colab": {
          "base_uri": "https://localhost:8080/"
        }
      },
      "execution_count": 25,
      "outputs": [
        {
          "output_type": "stream",
          "name": "stdout",
          "text": [
            "[1000, 2000]\n",
            "3000\n"
          ]
        }
      ]
    },
    {
      "cell_type": "code",
      "source": [
        "#map(),reduce(),filter()\n",
        "#[1,2,3,4,5,6,7,8,9,10]--->[2,4,6,8,10]--->[4,6,8,10,12]--->40\n",
        "from functools import reduce\n",
        "li=[1,2,3,4,5,6,7,8,9,10]\n",
        "filter_ele=list(filter(lambda x:x%2==0,li))\n",
        "map_ele=list(map(lambda x:x*2,list(filter(lambda x:x%2==0,li))))\n",
        "result=reduce(lambda x,y:x+y,list(map(lambda x:x*2,list(filter(lambda x:x%2==0,li)))))\n",
        "\n",
        "print(result)\n",
        "#to debud this code take from right to left\n",
        "#print(map_ele)\n",
        "#print(filter_ele)\n",
        "#print(double_li)"
      ],
      "metadata": {
        "id": "u5u40yi17D7C",
        "outputId": "d115cca7-e468-4df4-b2a6-11b242f5c618",
        "colab": {
          "base_uri": "https://localhost:8080/"
        }
      },
      "execution_count": 30,
      "outputs": [
        {
          "output_type": "stream",
          "name": "stdout",
          "text": [
            "60\n"
          ]
        }
      ]
    },
    {
      "cell_type": "code",
      "source": [
        "#scope of variables---declaration and usage and life of variables\n",
        "#How the variables will act inside and outside of the function\n",
        "a=10 # outside fucntion--global variable\n",
        "def fun():\n",
        "  print(a)\n",
        "fun()\n",
        "print(a)\n",
        "\n"
      ],
      "metadata": {
        "id": "34F_FDGY7Dvm",
        "outputId": "f4d4c99c-1b95-4846-83d9-91b2efdd1a2b",
        "colab": {
          "base_uri": "https://localhost:8080/"
        }
      },
      "execution_count": 32,
      "outputs": [
        {
          "output_type": "stream",
          "name": "stdout",
          "text": [
            "10\n",
            "10\n"
          ]
        }
      ]
    },
    {
      "cell_type": "code",
      "source": [
        "a=10 # outside fucntion--global variable\n",
        "def fun():\n",
        "  a=15 # local variable\n",
        "  print(a)\n",
        "fun()\n",
        "print(a)"
      ],
      "metadata": {
        "id": "O3W2IHJD7DfL",
        "outputId": "76141a5a-8a1d-4327-f271-c26933ef9900",
        "colab": {
          "base_uri": "https://localhost:8080/"
        }
      },
      "execution_count": 33,
      "outputs": [
        {
          "output_type": "stream",
          "name": "stdout",
          "text": [
            "15\n",
            "10\n"
          ]
        }
      ]
    },
    {
      "cell_type": "code",
      "source": [
        "#real time use cases of map()\n",
        "str_numbers=['1','2','3','4','5','6']\n",
        "int_numbers=list(map(int,str_numbers))\n",
        "print(int_numbers)\n"
      ],
      "metadata": {
        "colab": {
          "base_uri": "https://localhost:8080/"
        },
        "id": "1wyVFtcpm43f",
        "outputId": "1553d824-ea91-4d15-f8e3-46cd7be4aaf1"
      },
      "execution_count": 3,
      "outputs": [
        {
          "output_type": "stream",
          "name": "stdout",
          "text": [
            "[1, 2, 3, 4, 5, 6]\n"
          ]
        }
      ]
    },
    {
      "cell_type": "code",
      "source": [
        "#transform data\n",
        "words=['apple','banana','cherry']\n",
        "upper_words=list(map(str.upper,words))\n",
        "print(upper_words)"
      ],
      "metadata": {
        "colab": {
          "base_uri": "https://localhost:8080/"
        },
        "id": "gGr6BoAhn1sd",
        "outputId": "00bad091-9784-43ee-e46d-78e4786f7d96"
      },
      "execution_count": 4,
      "outputs": [
        {
          "output_type": "stream",
          "name": "stdout",
          "text": [
            "['APPLE', 'BANANA', 'CHERRY']\n"
          ]
        }
      ]
    },
    {
      "cell_type": "code",
      "source": [
        "words=['apple','banana','cherry']\n",
        "upper_words=list(map(lambda x:x.upper(),words))\n",
        "print(upper_words)"
      ],
      "metadata": {
        "colab": {
          "base_uri": "https://localhost:8080/"
        },
        "id": "Vh9orVOjo1uc",
        "outputId": "40ffa459-8358-4dff-a27d-444eefe828d8"
      },
      "execution_count": 5,
      "outputs": [
        {
          "output_type": "stream",
          "name": "stdout",
          "text": [
            "['APPLE', 'BANANA', 'CHERRY']\n"
          ]
        }
      ]
    },
    {
      "cell_type": "code",
      "source": [],
      "metadata": {
        "id": "8WW0xHkoo_ey"
      },
      "execution_count": null,
      "outputs": []
    },
    {
      "cell_type": "code",
      "source": [
        "#26-07-2-25---Python_basics_day5.\n",
        "a=10\n",
        "def fun():\n",
        "  global a#global variable\n",
        "  print(a)\n",
        "fun()\n",
        "print(a)"
      ],
      "metadata": {
        "colab": {
          "base_uri": "https://localhost:8080/"
        },
        "id": "b_zYpaIfjW_b",
        "outputId": "21235c7b-7b68-485b-9ad9-6fa9dc9ec84f"
      },
      "execution_count": 1,
      "outputs": [
        {
          "output_type": "stream",
          "name": "stdout",
          "text": [
            "10\n",
            "10\n"
          ]
        }
      ]
    },
    {
      "cell_type": "code",
      "source": [
        "#nonlocal---nested function\n",
        "def outer():\n",
        "  count=0\n",
        "  def inner():\n",
        "    count=10\n",
        "    print(count)\n",
        "  inner()\n",
        "  print(count)\n",
        "outer()\n",
        "print(count)"
      ],
      "metadata": {
        "colab": {
          "base_uri": "https://localhost:8080/",
          "height": 211
        },
        "id": "PwMTIR3Ck-P_",
        "outputId": "25df481e-b756-43cf-f853-ea6eb72be5f3"
      },
      "execution_count": 2,
      "outputs": [
        {
          "output_type": "stream",
          "name": "stdout",
          "text": [
            "10\n",
            "0\n"
          ]
        },
        {
          "output_type": "error",
          "ename": "NameError",
          "evalue": "name 'count' is not defined",
          "traceback": [
            "\u001b[0;31m---------------------------------------------------------------------------\u001b[0m",
            "\u001b[0;31mNameError\u001b[0m                                 Traceback (most recent call last)",
            "\u001b[0;32m<ipython-input-2-a2b2948cb820>\u001b[0m in \u001b[0;36m<cell line: 0>\u001b[0;34m()\u001b[0m\n\u001b[1;32m      8\u001b[0m   \u001b[0mprint\u001b[0m\u001b[0;34m(\u001b[0m\u001b[0mcount\u001b[0m\u001b[0;34m)\u001b[0m\u001b[0;34m\u001b[0m\u001b[0;34m\u001b[0m\u001b[0m\n\u001b[1;32m      9\u001b[0m \u001b[0mouter\u001b[0m\u001b[0;34m(\u001b[0m\u001b[0;34m)\u001b[0m\u001b[0;34m\u001b[0m\u001b[0;34m\u001b[0m\u001b[0m\n\u001b[0;32m---> 10\u001b[0;31m \u001b[0mprint\u001b[0m\u001b[0;34m(\u001b[0m\u001b[0mcount\u001b[0m\u001b[0;34m)\u001b[0m\u001b[0;34m\u001b[0m\u001b[0;34m\u001b[0m\u001b[0m\n\u001b[0m",
            "\u001b[0;31mNameError\u001b[0m: name 'count' is not defined"
          ]
        }
      ]
    },
    {
      "cell_type": "code",
      "source": [],
      "metadata": {
        "id": "N_zXazxYl6nF"
      },
      "execution_count": null,
      "outputs": []
    }
  ],
  "metadata": {
    "colab": {
      "name": "Welcome to Colab",
      "toc_visible": true,
      "provenance": [],
      "include_colab_link": true
    },
    "kernelspec": {
      "display_name": "Python 3",
      "name": "python3"
    }
  },
  "nbformat": 4,
  "nbformat_minor": 0
}