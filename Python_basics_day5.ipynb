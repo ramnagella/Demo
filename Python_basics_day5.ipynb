{
  "cells": [
    {
      "cell_type": "markdown",
      "metadata": {
        "id": "view-in-github",
        "colab_type": "text"
      },
      "source": [
        "<a href=\"https://colab.research.google.com/github/ramnagella/Demo/blob/master/Python_basics_day5.ipynb\" target=\"_parent\"><img src=\"https://colab.research.google.com/assets/colab-badge.svg\" alt=\"Open In Colab\"/></a>"
      ]
    },
    {
      "cell_type": "code",
      "source": [
        "#agenda\n",
        "'''anonymous functions---lambda,map(),reduce(),filter()\n",
        "---scope of variables ,file handling,exception handling,modules and packages\n",
        "map()---will use while type conversion and transform the data\n",
        "filter()---filter(fun,iterables)\n",
        "'''\n"
      ],
      "metadata": {
        "id": "0eqyywpamBU6"
      },
      "execution_count": null,
      "outputs": []
    },
    {
      "cell_type": "code",
      "source": [
        "li=[1,2,3,4,5,6,7,8]\n",
        "even_ele=list(filter(lambda x:x%2==0,li))\n",
        "print(even_ele)"
      ],
      "metadata": {
        "id": "SECbOZGWrF1I",
        "outputId": "7bb9cace-08eb-4b79-8fa1-2d8ae50ee4f6",
        "colab": {
          "base_uri": "https://localhost:8080/"
        }
      },
      "execution_count": 6,
      "outputs": [
        {
          "output_type": "stream",
          "name": "stdout",
          "text": [
            "[2, 4, 6, 8]\n"
          ]
        }
      ]
    },
    {
      "cell_type": "code",
      "source": [
        "#data validation\n",
        "email_address=[\"user1@example.com\",\"invalid_emai\",\"user2@example.com\",\"another_invalid\"]\n",
        "invalid_email=list(filter(lambda x:not x.endswith(\"@example.com\"),email_address))\n",
        "print(invalid_email)"
      ],
      "metadata": {
        "id": "2gYp9px_rdjb",
        "outputId": "8023734d-731d-48ae-8471-b463c673b7bd",
        "colab": {
          "base_uri": "https://localhost:8080/"
        }
      },
      "execution_count": 7,
      "outputs": [
        {
          "output_type": "stream",
          "name": "stdout",
          "text": [
            "['invalid_emai', 'another_invalid']\n"
          ]
        }
      ]
    },
    {
      "cell_type": "code",
      "source": [
        "email_address=[\"user1@example.com\",\"invalid_emai\",\"user2@example.com\",\"another_invalid\"]\n",
        "invalid_email=list(filter(lambda x:\"@\" not in x and \".\" not in x,email_address))\n",
        "print(invalid_email)"
      ],
      "metadata": {
        "id": "xAg-skR5sop6",
        "outputId": "3e3b8ac7-97b6-482b-d98b-077874e55be8",
        "colab": {
          "base_uri": "https://localhost:8080/"
        }
      },
      "execution_count": 8,
      "outputs": [
        {
          "output_type": "stream",
          "name": "stdout",
          "text": [
            "['invalid_emai', 'another_invalid']\n"
          ]
        }
      ]
    },
    {
      "cell_type": "code",
      "source": [
        "#sorting data\n",
        "data = [\n",
        " {\"name\":\"Ram\",\n",
        "  \"city\":\"Banglore\",\n",
        "  \"age\":45},\n",
        " {\"name\":\"shatha\",\n",
        "  \"city\":\"Banglore\",\n",
        "  \"age\":13},\n",
        " {\"name\":\"Vamsi\",\n",
        "  \"city\":\"Banglore\",\n",
        "  \"age\":17}\n",
        "]\n",
        "sorted_data=sorted(data,key=lambda x:x[\"age\"])\n",
        "print(sorted_data)"
      ],
      "metadata": {
        "id": "BcQBy1jgtHPk",
        "outputId": "c3d41cf7-be62-41bb-da85-e10daf86d4ac",
        "colab": {
          "base_uri": "https://localhost:8080/"
        }
      },
      "execution_count": 13,
      "outputs": [
        {
          "output_type": "stream",
          "name": "stdout",
          "text": [
            "[{'name': 'shatha', 'city': 'Banglore', 'age': 13}, {'name': 'Vamsi', 'city': 'Banglore', 'age': 17}, {'name': 'Ram', 'city': 'Banglore', 'age': 45}]\n"
          ]
        }
      ]
    },
    {
      "cell_type": "code",
      "source": [
        "#sorting data\n",
        "data = [\n",
        " {\"name\":\"Ram\",\n",
        "  \"city\":\"Banglore\",\n",
        "  \"age\":45},\n",
        " {\"name\":\"shatha\",\n",
        "  \"city\":\"Banglore\",\n",
        "  \"age\":13},\n",
        " {\"name\":\"Vamsi\",\n",
        "  \"city\":\"Banglore\",\n",
        "  \"age\":17}\n",
        "]\n",
        "sorted_data=sorted(data,key=lambda x:x[\"age\"],reverse=True)\n",
        "print(sorted_data)\n",
        "#sorting based on age only one key allowed e cant use multiple keys"
      ],
      "metadata": {
        "id": "I1DGc99ywaoX",
        "outputId": "7438968d-3b8c-4305-c91c-911f03b5fb10",
        "colab": {
          "base_uri": "https://localhost:8080/"
        }
      },
      "execution_count": 14,
      "outputs": [
        {
          "output_type": "stream",
          "name": "stdout",
          "text": [
            "[{'name': 'Ram', 'city': 'Banglore', 'age': 45}, {'name': 'Vamsi', 'city': 'Banglore', 'age': 17}, {'name': 'shatha', 'city': 'Banglore', 'age': 13}]\n"
          ]
        }
      ]
    },
    {
      "cell_type": "code",
      "source": [
        "#method and function difference\n",
        "'''\n",
        "function ---returns value ---sorted()--is not depend on obj---print(),max(),min(),len()\n",
        "method -----returns value---inside class we want to create fun--method name --obj.sort(),obj.append(),\n",
        "dict.keys(),dict.values()---obj.sort() function is depend on instance obj\n",
        "'''\n",
        "'''"
      ],
      "metadata": {
        "id": "NtHxVzLOwgtx"
      },
      "execution_count": null,
      "outputs": []
    },
    {
      "cell_type": "code",
      "source": [
        "None is None # None is no values in data science is missing value --no numerical representation,empty value"
      ],
      "metadata": {
        "id": "QUWvNnam0rrF",
        "outputId": "38a372b1-1e39-4c10-f009-64cd204224d5",
        "colab": {
          "base_uri": "https://localhost:8080/"
        }
      },
      "execution_count": 15,
      "outputs": [
        {
          "output_type": "execute_result",
          "data": {
            "text/plain": [
              "True"
            ]
          },
          "metadata": {},
          "execution_count": 15
        }
      ]
    },
    {
      "cell_type": "code",
      "source": [
        "None == None"
      ],
      "metadata": {
        "id": "conSVpV507QH",
        "outputId": "0581a7ea-1cad-4333-9918-c50c2d8009aa",
        "colab": {
          "base_uri": "https://localhost:8080/"
        }
      },
      "execution_count": 16,
      "outputs": [
        {
          "output_type": "execute_result",
          "data": {
            "text/plain": [
              "True"
            ]
          },
          "metadata": {},
          "execution_count": 16
        }
      ]
    },
    {
      "cell_type": "code",
      "source": [
        "import numpy as np\n",
        "np.nan==np.nan\n",
        "#nan means not a number means it has some other value"
      ],
      "metadata": {
        "id": "VOfkft1J1D3Q",
        "outputId": "50adfa37-0bdf-45db-8d9a-2764fba5c10d",
        "colab": {
          "base_uri": "https://localhost:8080/"
        }
      },
      "execution_count": 18,
      "outputs": [
        {
          "output_type": "execute_result",
          "data": {
            "text/plain": [
              "False"
            ]
          },
          "metadata": {},
          "execution_count": 18
        }
      ]
    },
    {
      "cell_type": "code",
      "source": [],
      "metadata": {
        "id": "QNr__u621jj0"
      },
      "execution_count": null,
      "outputs": []
    },
    {
      "cell_type": "code",
      "source": [
        "#real time use cases of map()\n",
        "str_numbers=['1','2','3','4','5','6']\n",
        "int_numbers=list(map(int,str_numbers))\n",
        "print(int_numbers)\n"
      ],
      "metadata": {
        "id": "1wyVFtcpm43f",
        "outputId": "1553d824-ea91-4d15-f8e3-46cd7be4aaf1",
        "colab": {
          "base_uri": "https://localhost:8080/"
        }
      },
      "execution_count": 3,
      "outputs": [
        {
          "output_type": "stream",
          "name": "stdout",
          "text": [
            "[1, 2, 3, 4, 5, 6]\n"
          ]
        }
      ]
    },
    {
      "cell_type": "code",
      "source": [
        "#transform data\n",
        "words=['apple','banana','cherry']\n",
        "upper_words=list(map(str.upper,words))\n",
        "print(upper_words)"
      ],
      "metadata": {
        "id": "gGr6BoAhn1sd",
        "outputId": "00bad091-9784-43ee-e46d-78e4786f7d96",
        "colab": {
          "base_uri": "https://localhost:8080/"
        }
      },
      "execution_count": 4,
      "outputs": [
        {
          "output_type": "stream",
          "name": "stdout",
          "text": [
            "['APPLE', 'BANANA', 'CHERRY']\n"
          ]
        }
      ]
    },
    {
      "cell_type": "code",
      "source": [
        "words=['apple','banana','cherry']\n",
        "upper_words=list(map(lambda x:x.upper(),words))\n",
        "print(upper_words)"
      ],
      "metadata": {
        "id": "Vh9orVOjo1uc",
        "outputId": "40ffa459-8358-4dff-a27d-444eefe828d8",
        "colab": {
          "base_uri": "https://localhost:8080/"
        }
      },
      "execution_count": 5,
      "outputs": [
        {
          "output_type": "stream",
          "name": "stdout",
          "text": [
            "['APPLE', 'BANANA', 'CHERRY']\n"
          ]
        }
      ]
    },
    {
      "cell_type": "code",
      "source": [],
      "metadata": {
        "id": "8WW0xHkoo_ey"
      },
      "execution_count": null,
      "outputs": []
    },
    {
      "cell_type": "code",
      "source": [
        "#26-07-2-25---Python_basics_day5.\n",
        "a=10\n",
        "def fun():\n",
        "  global a#global variable\n",
        "  print(a)\n",
        "fun()\n",
        "print(a)"
      ],
      "metadata": {
        "colab": {
          "base_uri": "https://localhost:8080/"
        },
        "id": "b_zYpaIfjW_b",
        "outputId": "21235c7b-7b68-485b-9ad9-6fa9dc9ec84f"
      },
      "execution_count": 1,
      "outputs": [
        {
          "output_type": "stream",
          "name": "stdout",
          "text": [
            "10\n",
            "10\n"
          ]
        }
      ]
    },
    {
      "cell_type": "code",
      "source": [
        "#nonlocal---nested function\n",
        "def outer():\n",
        "  count=0\n",
        "  def inner():\n",
        "    count=10\n",
        "    print(count)\n",
        "  inner()\n",
        "  print(count)\n",
        "outer()\n",
        "print(count)"
      ],
      "metadata": {
        "id": "PwMTIR3Ck-P_",
        "outputId": "25df481e-b756-43cf-f853-ea6eb72be5f3",
        "colab": {
          "base_uri": "https://localhost:8080/",
          "height": 211
        }
      },
      "execution_count": 2,
      "outputs": [
        {
          "output_type": "stream",
          "name": "stdout",
          "text": [
            "10\n",
            "0\n"
          ]
        },
        {
          "output_type": "error",
          "ename": "NameError",
          "evalue": "name 'count' is not defined",
          "traceback": [
            "\u001b[0;31m---------------------------------------------------------------------------\u001b[0m",
            "\u001b[0;31mNameError\u001b[0m                                 Traceback (most recent call last)",
            "\u001b[0;32m<ipython-input-2-a2b2948cb820>\u001b[0m in \u001b[0;36m<cell line: 0>\u001b[0;34m()\u001b[0m\n\u001b[1;32m      8\u001b[0m   \u001b[0mprint\u001b[0m\u001b[0;34m(\u001b[0m\u001b[0mcount\u001b[0m\u001b[0;34m)\u001b[0m\u001b[0;34m\u001b[0m\u001b[0;34m\u001b[0m\u001b[0m\n\u001b[1;32m      9\u001b[0m \u001b[0mouter\u001b[0m\u001b[0;34m(\u001b[0m\u001b[0;34m)\u001b[0m\u001b[0;34m\u001b[0m\u001b[0;34m\u001b[0m\u001b[0m\n\u001b[0;32m---> 10\u001b[0;31m \u001b[0mprint\u001b[0m\u001b[0;34m(\u001b[0m\u001b[0mcount\u001b[0m\u001b[0;34m)\u001b[0m\u001b[0;34m\u001b[0m\u001b[0;34m\u001b[0m\u001b[0m\n\u001b[0m",
            "\u001b[0;31mNameError\u001b[0m: name 'count' is not defined"
          ]
        }
      ]
    },
    {
      "cell_type": "code",
      "source": [],
      "metadata": {
        "id": "N_zXazxYl6nF"
      },
      "execution_count": null,
      "outputs": []
    }
  ],
  "metadata": {
    "colab": {
      "name": "Welcome to Colab",
      "toc_visible": true,
      "provenance": [],
      "include_colab_link": true
    },
    "kernelspec": {
      "display_name": "Python 3",
      "name": "python3"
    }
  },
  "nbformat": 4,
  "nbformat_minor": 0
}