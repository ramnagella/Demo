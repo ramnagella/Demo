{
  "cells": [
    {
      "cell_type": "markdown",
      "metadata": {
        "id": "view-in-github",
        "colab_type": "text"
      },
      "source": [
        "<a href=\"https://colab.research.google.com/github/ramnagella/Demo/blob/master/Covid-19_CNN.ipynb\" target=\"_parent\"><img src=\"https://colab.research.google.com/assets/colab-badge.svg\" alt=\"Open In Colab\"/></a>"
      ]
    },
    {
      "cell_type": "code",
      "source": [
        "#Covid-19 X-Ray images checking using VNN\n",
        "'''\n",
        "Used Qt Designer we can create dialog window\n",
        "\n",
        "To create label go dispay widgets in the down of left side of QT Designer and select Label\n",
        "\n",
        "object name ---Main Window\n",
        "Browse image ---we can use push button or radio or Tool button in QT Designer near vertical and horizontal spacer\n",
        "Classify and training s button need to be created and saved the file as test.ui.\n",
        "\n",
        "Convert this UI Design code into python\n",
        "install py QT 5 tools\n",
        "in our laptop install pi install pyqt5 pyqt5-tools\n",
        "using the below command Convert this UI Design code into python\n",
        "pyuic5 -x test.ui -o test.py enter will get test.py output file\n",
        "Execute python test.py will get ui Window\n",
        "\n",
        "for BOX in dialog button q5fameshape ---\n",
        "fameshape --select box\n",
        "famshadow---plain\n",
        "linewidth---1\n",
        "middleline--0 with\n",
        "\n",
        "\n",
        "Go command prompot and run the below\n",
        "python main.py\n",
        "\n",
        "in main.py we called three functions Browse Image,Classify and Training\n",
        "\n",
        "def LoadImage(self)#means current\n",
        "def loadImage(self):\n",
        "fileName, _ = QtWidgets.QFileDialog.getOpenFileName(None, \"Select Image\", \"\", \"Image Files (*.png *.jpg *.jpeg *.bmp);;All Files (*)\")\n",
        "\n",
        "#.getOpenFileName(None---means initially no images\n",
        "\n",
        "#\"Image Files (*.png *.jpg *.jpeg *.bmp);;All Files (*)\") # this code will show all the file types in dialog box\n",
        "\n",
        "print(fileName)  # Debug: Print the file path\n",
        "            self.file = fileName# we wll see the filename in the command prompt\n",
        "             QtCore.Qt.KeepAspectRatio)# is left and right or top and bottim margins\n",
        "\n",
        "\n",
        "\n",
        "\n",
        "'''"
      ],
      "metadata": {
        "id": "xiK47IWwJ51M"
      },
      "execution_count": null,
      "outputs": []
    },
    {
      "cell_type": "code",
      "source": [],
      "metadata": {
        "id": "TggH_iI6J5xt"
      },
      "execution_count": null,
      "outputs": []
    },
    {
      "cell_type": "code",
      "source": [],
      "metadata": {
        "id": "SwKTv7EYJ5u0"
      },
      "execution_count": null,
      "outputs": []
    },
    {
      "cell_type": "code",
      "source": [],
      "metadata": {
        "id": "BMFdj3yZJ5rv"
      },
      "execution_count": null,
      "outputs": []
    },
    {
      "cell_type": "code",
      "source": [],
      "metadata": {
        "id": "O5jY3tEQJ5mF"
      },
      "execution_count": null,
      "outputs": []
    },
    {
      "cell_type": "code",
      "source": [],
      "metadata": {
        "id": "43o-YwI6J5io"
      },
      "execution_count": null,
      "outputs": []
    },
    {
      "cell_type": "code",
      "source": [],
      "metadata": {
        "id": "Zg4AojsZJ5fM"
      },
      "execution_count": null,
      "outputs": []
    },
    {
      "cell_type": "code",
      "source": [],
      "metadata": {
        "id": "fQy23SteJ5b5"
      },
      "execution_count": null,
      "outputs": []
    }
  ],
  "metadata": {
    "colab": {
      "name": "Welcome to Colab",
      "toc_visible": true,
      "provenance": [],
      "include_colab_link": true
    },
    "kernelspec": {
      "display_name": "Python 3",
      "name": "python3"
    }
  },
  "nbformat": 4,
  "nbformat_minor": 0
}