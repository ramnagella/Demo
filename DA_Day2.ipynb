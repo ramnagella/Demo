{
  "cells": [
    {
      "cell_type": "markdown",
      "metadata": {
        "id": "view-in-github",
        "colab_type": "text"
      },
      "source": [
        "<a href=\"https://colab.research.google.com/github/ramnagella/Demo/blob/master/DA_Day2.ipynb\" target=\"_parent\"><img src=\"https://colab.research.google.com/assets/colab-badge.svg\" alt=\"Open In Colab\"/></a>"
      ]
    },
    {
      "cell_type": "code",
      "source": [
        "#DA-Day2---02-08-2025\n",
        "'''\n",
        "Data collection--\n",
        "Several methods to collect teh data from different sources prgramatically\n",
        "---1..Web Scrapping---it is like extracing the data from web sites---bs4,scrapy,selenium\n",
        "---2--API's\n",
        "---3--File downloads\n",
        "---4--DB's\n",
        "---5--File I/O---csv,JSON,excel,pdf,tsv,\n",
        "---6--IOT and Sensors\n",
        "---7--Social Meida API's\n",
        "---8--"
      ],
      "metadata": {
        "id": "ehwA4TykqiWt"
      },
      "execution_count": null,
      "outputs": []
    },
    {
      "cell_type": "code",
      "source": [
        "!pip install bs4\n"
      ],
      "metadata": {
        "colab": {
          "base_uri": "https://localhost:8080/"
        },
        "id": "SgCeQoGvyGsN",
        "outputId": "14d6b619-225a-4047-c903-1e781cfdac1f"
      },
      "execution_count": 9,
      "outputs": [
        {
          "output_type": "stream",
          "name": "stdout",
          "text": [
            "Collecting bs4\n",
            "  Downloading bs4-0.0.2-py2.py3-none-any.whl.metadata (411 bytes)\n",
            "Requirement already satisfied: beautifulsoup4 in /usr/local/lib/python3.11/dist-packages (from bs4) (4.13.4)\n",
            "Requirement already satisfied: soupsieve>1.2 in /usr/local/lib/python3.11/dist-packages (from beautifulsoup4->bs4) (2.7)\n",
            "Requirement already satisfied: typing-extensions>=4.0.0 in /usr/local/lib/python3.11/dist-packages (from beautifulsoup4->bs4) (4.14.0)\n",
            "Downloading bs4-0.0.2-py2.py3-none-any.whl (1.2 kB)\n",
            "Installing collected packages: bs4\n",
            "Successfully installed bs4-0.0.2\n"
          ]
        }
      ]
    },
    {
      "cell_type": "code",
      "source": [
        "#Web Scrapping ---scrapping quotes from site---\n",
        "#---from quotes.toscrap.com  each box in the sites has quotes,author,tags if want to fetch quotes and author\n",
        "\n",
        "\n",
        "from bs4 import BeautifulSoup\n",
        "import requests\n",
        "url=\"http://quotes.toscrape.com/\"\n",
        "response=requests.get(url)\n",
        "#print(response)\n",
        "soup=BeautifulSoup(response.content,'html.parser')\n",
        "quotes=soup.find_all('span',class_='text')\n",
        "authors=soup.find_all('small',class_='author')\n",
        "print(quotes)\n",
        "print(authors)"
      ],
      "metadata": {
        "colab": {
          "base_uri": "https://localhost:8080/"
        },
        "id": "H8FRz3mytIFg",
        "outputId": "5e11d69f-b50d-42b4-ee4f-c6c93ff1ce18"
      },
      "execution_count": 20,
      "outputs": [
        {
          "output_type": "stream",
          "name": "stdout",
          "text": [
            "[<span class=\"text\" itemprop=\"text\">“The world as we have created it is a process of our thinking. It cannot be changed without changing our thinking.”</span>, <span class=\"text\" itemprop=\"text\">“It is our choices, Harry, that show what we truly are, far more than our abilities.”</span>, <span class=\"text\" itemprop=\"text\">“There are only two ways to live your life. One is as though nothing is a miracle. The other is as though everything is a miracle.”</span>, <span class=\"text\" itemprop=\"text\">“The person, be it gentleman or lady, who has not pleasure in a good novel, must be intolerably stupid.”</span>, <span class=\"text\" itemprop=\"text\">“Imperfection is beauty, madness is genius and it's better to be absolutely ridiculous than absolutely boring.”</span>, <span class=\"text\" itemprop=\"text\">“Try not to become a man of success. Rather become a man of value.”</span>, <span class=\"text\" itemprop=\"text\">“It is better to be hated for what you are than to be loved for what you are not.”</span>, <span class=\"text\" itemprop=\"text\">“I have not failed. I've just found 10,000 ways that won't work.”</span>, <span class=\"text\" itemprop=\"text\">“A woman is like a tea bag; you never know how strong it is until it's in hot water.”</span>, <span class=\"text\" itemprop=\"text\">“A day without sunshine is like, you know, night.”</span>]\n",
            "[<small class=\"author\" itemprop=\"author\">Albert Einstein</small>, <small class=\"author\" itemprop=\"author\">J.K. Rowling</small>, <small class=\"author\" itemprop=\"author\">Albert Einstein</small>, <small class=\"author\" itemprop=\"author\">Jane Austen</small>, <small class=\"author\" itemprop=\"author\">Marilyn Monroe</small>, <small class=\"author\" itemprop=\"author\">Albert Einstein</small>, <small class=\"author\" itemprop=\"author\">André Gide</small>, <small class=\"author\" itemprop=\"author\">Thomas A. Edison</small>, <small class=\"author\" itemprop=\"author\">Eleanor Roosevelt</small>, <small class=\"author\" itemprop=\"author\">Steve Martin</small>]\n"
          ]
        }
      ]
    },
    {
      "cell_type": "code",
      "source": [
        "from bs4 import BeautifulSoup\n",
        "import requests\n",
        "url=\"http://quotes.toscrape.com/\"\n",
        "response=requests.get(url)\n",
        "#print(response)\n",
        "soup=BeautifulSoup(response.content,'html.parser')\n",
        "quotes=soup.find_all('span',class_='text')\n",
        "authors=soup.find_all('small',class_='author')\n",
        "print(quotes)\n",
        "print(authors)\n",
        "\n",
        "\n",
        "for quote,author in zip(quotes,authors):\n",
        "  print(quote.text)\n",
        "  print(author.text)\n"
      ],
      "metadata": {
        "colab": {
          "base_uri": "https://localhost:8080/"
        },
        "id": "jbuqxlXwyvwy",
        "outputId": "6d788f93-2ab3-4dfb-e63a-90c33d5816a3"
      },
      "execution_count": 21,
      "outputs": [
        {
          "output_type": "stream",
          "name": "stdout",
          "text": [
            "[<span class=\"text\" itemprop=\"text\">“The world as we have created it is a process of our thinking. It cannot be changed without changing our thinking.”</span>, <span class=\"text\" itemprop=\"text\">“It is our choices, Harry, that show what we truly are, far more than our abilities.”</span>, <span class=\"text\" itemprop=\"text\">“There are only two ways to live your life. One is as though nothing is a miracle. The other is as though everything is a miracle.”</span>, <span class=\"text\" itemprop=\"text\">“The person, be it gentleman or lady, who has not pleasure in a good novel, must be intolerably stupid.”</span>, <span class=\"text\" itemprop=\"text\">“Imperfection is beauty, madness is genius and it's better to be absolutely ridiculous than absolutely boring.”</span>, <span class=\"text\" itemprop=\"text\">“Try not to become a man of success. Rather become a man of value.”</span>, <span class=\"text\" itemprop=\"text\">“It is better to be hated for what you are than to be loved for what you are not.”</span>, <span class=\"text\" itemprop=\"text\">“I have not failed. I've just found 10,000 ways that won't work.”</span>, <span class=\"text\" itemprop=\"text\">“A woman is like a tea bag; you never know how strong it is until it's in hot water.”</span>, <span class=\"text\" itemprop=\"text\">“A day without sunshine is like, you know, night.”</span>]\n",
            "[<small class=\"author\" itemprop=\"author\">Albert Einstein</small>, <small class=\"author\" itemprop=\"author\">J.K. Rowling</small>, <small class=\"author\" itemprop=\"author\">Albert Einstein</small>, <small class=\"author\" itemprop=\"author\">Jane Austen</small>, <small class=\"author\" itemprop=\"author\">Marilyn Monroe</small>, <small class=\"author\" itemprop=\"author\">Albert Einstein</small>, <small class=\"author\" itemprop=\"author\">André Gide</small>, <small class=\"author\" itemprop=\"author\">Thomas A. Edison</small>, <small class=\"author\" itemprop=\"author\">Eleanor Roosevelt</small>, <small class=\"author\" itemprop=\"author\">Steve Martin</small>]\n",
            "“The world as we have created it is a process of our thinking. It cannot be changed without changing our thinking.”\n",
            "Albert Einstein\n",
            "“It is our choices, Harry, that show what we truly are, far more than our abilities.”\n",
            "J.K. Rowling\n",
            "“There are only two ways to live your life. One is as though nothing is a miracle. The other is as though everything is a miracle.”\n",
            "Albert Einstein\n",
            "“The person, be it gentleman or lady, who has not pleasure in a good novel, must be intolerably stupid.”\n",
            "Jane Austen\n",
            "“Imperfection is beauty, madness is genius and it's better to be absolutely ridiculous than absolutely boring.”\n",
            "Marilyn Monroe\n",
            "“Try not to become a man of success. Rather become a man of value.”\n",
            "Albert Einstein\n",
            "“It is better to be hated for what you are than to be loved for what you are not.”\n",
            "André Gide\n",
            "“I have not failed. I've just found 10,000 ways that won't work.”\n",
            "Thomas A. Edison\n",
            "“A woman is like a tea bag; you never know how strong it is until it's in hot water.”\n",
            "Eleanor Roosevelt\n",
            "“A day without sunshine is like, you know, night.”\n",
            "Steve Martin\n"
          ]
        }
      ]
    },
    {
      "cell_type": "code",
      "source": [
        "from bs4 import BeautifulSoup\n",
        "import requests\n",
        "url=\"http://quotes.toscrape.com/\"\n",
        "response=requests.get(url)\n",
        "#print(response)\n",
        "soup=BeautifulSoup(response.content,'html.parser')\n",
        "quotes=soup.find_all('span',class_='text')\n",
        "authors=soup.find_all('small',class_='author')\n",
        "#print(quotes)\n",
        "#print(authors)\n",
        "\n",
        "\n",
        "for quote,author in zip(quotes,authors):\n",
        "  print(quote.text)\n",
        "  print(author.text)\n"
      ],
      "metadata": {
        "colab": {
          "base_uri": "https://localhost:8080/"
        },
        "id": "JWLLRjAO2nKf",
        "outputId": "1a364ac6-b4ad-43f5-de14-5d919c59f9b7"
      },
      "execution_count": 22,
      "outputs": [
        {
          "output_type": "stream",
          "name": "stdout",
          "text": [
            "“The world as we have created it is a process of our thinking. It cannot be changed without changing our thinking.”\n",
            "Albert Einstein\n",
            "“It is our choices, Harry, that show what we truly are, far more than our abilities.”\n",
            "J.K. Rowling\n",
            "“There are only two ways to live your life. One is as though nothing is a miracle. The other is as though everything is a miracle.”\n",
            "Albert Einstein\n",
            "“The person, be it gentleman or lady, who has not pleasure in a good novel, must be intolerably stupid.”\n",
            "Jane Austen\n",
            "“Imperfection is beauty, madness is genius and it's better to be absolutely ridiculous than absolutely boring.”\n",
            "Marilyn Monroe\n",
            "“Try not to become a man of success. Rather become a man of value.”\n",
            "Albert Einstein\n",
            "“It is better to be hated for what you are than to be loved for what you are not.”\n",
            "André Gide\n",
            "“I have not failed. I've just found 10,000 ways that won't work.”\n",
            "Thomas A. Edison\n",
            "“A woman is like a tea bag; you never know how strong it is until it's in hot water.”\n",
            "Eleanor Roosevelt\n",
            "“A day without sunshine is like, you know, night.”\n",
            "Steve Martin\n"
          ]
        }
      ]
    },
    {
      "cell_type": "code",
      "source": [
        "from bs4 import BeautifulSoup\n",
        "import requests\n",
        "url=\"http://quotes.toscrape.com/\"\n",
        "response=requests.get(url)\n",
        "#print(response)\n",
        "soup=BeautifulSoup(response.content,'html.parser')\n",
        "quotes=soup.find_all('span',class_='text')\n",
        "authors=soup.find_all('small',class_='author')\n",
        "#print(quotes)\n",
        "#print(authors)\n",
        "print(list(zip(quotes,authors)))\n",
        "\n"
      ],
      "metadata": {
        "id": "YNBpdH4jreu1",
        "outputId": "b83806bb-8c52-4881-c33e-3a5fe76a4ca2",
        "colab": {
          "base_uri": "https://localhost:8080/"
        }
      },
      "execution_count": 5,
      "outputs": [
        {
          "output_type": "stream",
          "name": "stdout",
          "text": [
            "[(<span class=\"text\" itemprop=\"text\">“The world as we have created it is a process of our thinking. It cannot be changed without changing our thinking.”</span>, <small class=\"author\" itemprop=\"author\">Albert Einstein</small>), (<span class=\"text\" itemprop=\"text\">“It is our choices, Harry, that show what we truly are, far more than our abilities.”</span>, <small class=\"author\" itemprop=\"author\">J.K. Rowling</small>), (<span class=\"text\" itemprop=\"text\">“There are only two ways to live your life. One is as though nothing is a miracle. The other is as though everything is a miracle.”</span>, <small class=\"author\" itemprop=\"author\">Albert Einstein</small>), (<span class=\"text\" itemprop=\"text\">“The person, be it gentleman or lady, who has not pleasure in a good novel, must be intolerably stupid.”</span>, <small class=\"author\" itemprop=\"author\">Jane Austen</small>), (<span class=\"text\" itemprop=\"text\">“Imperfection is beauty, madness is genius and it's better to be absolutely ridiculous than absolutely boring.”</span>, <small class=\"author\" itemprop=\"author\">Marilyn Monroe</small>), (<span class=\"text\" itemprop=\"text\">“Try not to become a man of success. Rather become a man of value.”</span>, <small class=\"author\" itemprop=\"author\">Albert Einstein</small>), (<span class=\"text\" itemprop=\"text\">“It is better to be hated for what you are than to be loved for what you are not.”</span>, <small class=\"author\" itemprop=\"author\">André Gide</small>), (<span class=\"text\" itemprop=\"text\">“I have not failed. I've just found 10,000 ways that won't work.”</span>, <small class=\"author\" itemprop=\"author\">Thomas A. Edison</small>), (<span class=\"text\" itemprop=\"text\">“A woman is like a tea bag; you never know how strong it is until it's in hot water.”</span>, <small class=\"author\" itemprop=\"author\">Eleanor Roosevelt</small>), (<span class=\"text\" itemprop=\"text\">“A day without sunshine is like, you know, night.”</span>, <small class=\"author\" itemprop=\"author\">Steve Martin</small>)]\n"
          ]
        }
      ]
    },
    {
      "cell_type": "code",
      "source": [
        "#zip function meanbs based on the index it will be combined for ex.like list of elements 1,2,3,4,5,\n",
        "#and another list object like Ram,sai,kala,shatha,vamsi like that\n",
        "li=[1,2,3,4,5,6]\n",
        "li_new=['ram','shatha','vamsi','sai','krishna','Sri','Kiran']\n",
        "#zip(li,li_new)\n",
        "list(zip(li,li_new))"
      ],
      "metadata": {
        "id": "m05wUsD-peaT",
        "outputId": "96eab1b2-4991-4372-ab76-f35a16c00819",
        "colab": {
          "base_uri": "https://localhost:8080/"
        }
      },
      "execution_count": 4,
      "outputs": [
        {
          "output_type": "execute_result",
          "data": {
            "text/plain": [
              "[(1, 'ram'),\n",
              " (2, 'shatha'),\n",
              " (3, 'vamsi'),\n",
              " (4, 'sai'),\n",
              " (5, 'krishna'),\n",
              " (6, 'Sri')]"
            ]
          },
          "metadata": {},
          "execution_count": 4
        }
      ]
    },
    {
      "cell_type": "code",
      "source": [
        "from bs4 import BeautifulSoup\n",
        "import requests\n",
        "url=\"http://quotes.toscrape.com/\"\n",
        "response=requests.get(url)\n",
        "#print(response)\n",
        "soup=BeautifulSoup(response.content,'html.parser')\n",
        "quotes=soup.find_all('span',class_='text')\n",
        "authors=soup.find_all('small',class_='author')\n",
        "#print(quotes)\n",
        "#print(authors)\n",
        "\n",
        "\n",
        "for quote,author in zip(quotes,authors):\n",
        "  print(quote.text)\n",
        "  print(author.text)\n",
        "  dict_quotes_author={quote.text:author.text for quote,author in zip(quotes,authors)}\n",
        "  print(dict_quotes_author)"
      ],
      "metadata": {
        "id": "8h3zthhppeW4",
        "outputId": "2ac56b5f-ae10-45c1-e9e9-9acde893769d",
        "colab": {
          "base_uri": "https://localhost:8080/"
        }
      },
      "execution_count": 6,
      "outputs": [
        {
          "output_type": "stream",
          "name": "stdout",
          "text": [
            "“The world as we have created it is a process of our thinking. It cannot be changed without changing our thinking.”\n",
            "Albert Einstein\n",
            "{'“The world as we have created it is a process of our thinking. It cannot be changed without changing our thinking.”': 'Albert Einstein', '“It is our choices, Harry, that show what we truly are, far more than our abilities.”': 'J.K. Rowling', '“There are only two ways to live your life. One is as though nothing is a miracle. The other is as though everything is a miracle.”': 'Albert Einstein', '“The person, be it gentleman or lady, who has not pleasure in a good novel, must be intolerably stupid.”': 'Jane Austen', \"“Imperfection is beauty, madness is genius and it's better to be absolutely ridiculous than absolutely boring.”\": 'Marilyn Monroe', '“Try not to become a man of success. Rather become a man of value.”': 'Albert Einstein', '“It is better to be hated for what you are than to be loved for what you are not.”': 'André Gide', \"“I have not failed. I've just found 10,000 ways that won't work.”\": 'Thomas A. Edison', \"“A woman is like a tea bag; you never know how strong it is until it's in hot water.”\": 'Eleanor Roosevelt', '“A day without sunshine is like, you know, night.”': 'Steve Martin'}\n",
            "“It is our choices, Harry, that show what we truly are, far more than our abilities.”\n",
            "J.K. Rowling\n",
            "{'“The world as we have created it is a process of our thinking. It cannot be changed without changing our thinking.”': 'Albert Einstein', '“It is our choices, Harry, that show what we truly are, far more than our abilities.”': 'J.K. Rowling', '“There are only two ways to live your life. One is as though nothing is a miracle. The other is as though everything is a miracle.”': 'Albert Einstein', '“The person, be it gentleman or lady, who has not pleasure in a good novel, must be intolerably stupid.”': 'Jane Austen', \"“Imperfection is beauty, madness is genius and it's better to be absolutely ridiculous than absolutely boring.”\": 'Marilyn Monroe', '“Try not to become a man of success. Rather become a man of value.”': 'Albert Einstein', '“It is better to be hated for what you are than to be loved for what you are not.”': 'André Gide', \"“I have not failed. I've just found 10,000 ways that won't work.”\": 'Thomas A. Edison', \"“A woman is like a tea bag; you never know how strong it is until it's in hot water.”\": 'Eleanor Roosevelt', '“A day without sunshine is like, you know, night.”': 'Steve Martin'}\n",
            "“There are only two ways to live your life. One is as though nothing is a miracle. The other is as though everything is a miracle.”\n",
            "Albert Einstein\n",
            "{'“The world as we have created it is a process of our thinking. It cannot be changed without changing our thinking.”': 'Albert Einstein', '“It is our choices, Harry, that show what we truly are, far more than our abilities.”': 'J.K. Rowling', '“There are only two ways to live your life. One is as though nothing is a miracle. The other is as though everything is a miracle.”': 'Albert Einstein', '“The person, be it gentleman or lady, who has not pleasure in a good novel, must be intolerably stupid.”': 'Jane Austen', \"“Imperfection is beauty, madness is genius and it's better to be absolutely ridiculous than absolutely boring.”\": 'Marilyn Monroe', '“Try not to become a man of success. Rather become a man of value.”': 'Albert Einstein', '“It is better to be hated for what you are than to be loved for what you are not.”': 'André Gide', \"“I have not failed. I've just found 10,000 ways that won't work.”\": 'Thomas A. Edison', \"“A woman is like a tea bag; you never know how strong it is until it's in hot water.”\": 'Eleanor Roosevelt', '“A day without sunshine is like, you know, night.”': 'Steve Martin'}\n",
            "“The person, be it gentleman or lady, who has not pleasure in a good novel, must be intolerably stupid.”\n",
            "Jane Austen\n",
            "{'“The world as we have created it is a process of our thinking. It cannot be changed without changing our thinking.”': 'Albert Einstein', '“It is our choices, Harry, that show what we truly are, far more than our abilities.”': 'J.K. Rowling', '“There are only two ways to live your life. One is as though nothing is a miracle. The other is as though everything is a miracle.”': 'Albert Einstein', '“The person, be it gentleman or lady, who has not pleasure in a good novel, must be intolerably stupid.”': 'Jane Austen', \"“Imperfection is beauty, madness is genius and it's better to be absolutely ridiculous than absolutely boring.”\": 'Marilyn Monroe', '“Try not to become a man of success. Rather become a man of value.”': 'Albert Einstein', '“It is better to be hated for what you are than to be loved for what you are not.”': 'André Gide', \"“I have not failed. I've just found 10,000 ways that won't work.”\": 'Thomas A. Edison', \"“A woman is like a tea bag; you never know how strong it is until it's in hot water.”\": 'Eleanor Roosevelt', '“A day without sunshine is like, you know, night.”': 'Steve Martin'}\n",
            "“Imperfection is beauty, madness is genius and it's better to be absolutely ridiculous than absolutely boring.”\n",
            "Marilyn Monroe\n",
            "{'“The world as we have created it is a process of our thinking. It cannot be changed without changing our thinking.”': 'Albert Einstein', '“It is our choices, Harry, that show what we truly are, far more than our abilities.”': 'J.K. Rowling', '“There are only two ways to live your life. One is as though nothing is a miracle. The other is as though everything is a miracle.”': 'Albert Einstein', '“The person, be it gentleman or lady, who has not pleasure in a good novel, must be intolerably stupid.”': 'Jane Austen', \"“Imperfection is beauty, madness is genius and it's better to be absolutely ridiculous than absolutely boring.”\": 'Marilyn Monroe', '“Try not to become a man of success. Rather become a man of value.”': 'Albert Einstein', '“It is better to be hated for what you are than to be loved for what you are not.”': 'André Gide', \"“I have not failed. I've just found 10,000 ways that won't work.”\": 'Thomas A. Edison', \"“A woman is like a tea bag; you never know how strong it is until it's in hot water.”\": 'Eleanor Roosevelt', '“A day without sunshine is like, you know, night.”': 'Steve Martin'}\n",
            "“Try not to become a man of success. Rather become a man of value.”\n",
            "Albert Einstein\n",
            "{'“The world as we have created it is a process of our thinking. It cannot be changed without changing our thinking.”': 'Albert Einstein', '“It is our choices, Harry, that show what we truly are, far more than our abilities.”': 'J.K. Rowling', '“There are only two ways to live your life. One is as though nothing is a miracle. The other is as though everything is a miracle.”': 'Albert Einstein', '“The person, be it gentleman or lady, who has not pleasure in a good novel, must be intolerably stupid.”': 'Jane Austen', \"“Imperfection is beauty, madness is genius and it's better to be absolutely ridiculous than absolutely boring.”\": 'Marilyn Monroe', '“Try not to become a man of success. Rather become a man of value.”': 'Albert Einstein', '“It is better to be hated for what you are than to be loved for what you are not.”': 'André Gide', \"“I have not failed. I've just found 10,000 ways that won't work.”\": 'Thomas A. Edison', \"“A woman is like a tea bag; you never know how strong it is until it's in hot water.”\": 'Eleanor Roosevelt', '“A day without sunshine is like, you know, night.”': 'Steve Martin'}\n",
            "“It is better to be hated for what you are than to be loved for what you are not.”\n",
            "André Gide\n",
            "{'“The world as we have created it is a process of our thinking. It cannot be changed without changing our thinking.”': 'Albert Einstein', '“It is our choices, Harry, that show what we truly are, far more than our abilities.”': 'J.K. Rowling', '“There are only two ways to live your life. One is as though nothing is a miracle. The other is as though everything is a miracle.”': 'Albert Einstein', '“The person, be it gentleman or lady, who has not pleasure in a good novel, must be intolerably stupid.”': 'Jane Austen', \"“Imperfection is beauty, madness is genius and it's better to be absolutely ridiculous than absolutely boring.”\": 'Marilyn Monroe', '“Try not to become a man of success. Rather become a man of value.”': 'Albert Einstein', '“It is better to be hated for what you are than to be loved for what you are not.”': 'André Gide', \"“I have not failed. I've just found 10,000 ways that won't work.”\": 'Thomas A. Edison', \"“A woman is like a tea bag; you never know how strong it is until it's in hot water.”\": 'Eleanor Roosevelt', '“A day without sunshine is like, you know, night.”': 'Steve Martin'}\n",
            "“I have not failed. I've just found 10,000 ways that won't work.”\n",
            "Thomas A. Edison\n",
            "{'“The world as we have created it is a process of our thinking. It cannot be changed without changing our thinking.”': 'Albert Einstein', '“It is our choices, Harry, that show what we truly are, far more than our abilities.”': 'J.K. Rowling', '“There are only two ways to live your life. One is as though nothing is a miracle. The other is as though everything is a miracle.”': 'Albert Einstein', '“The person, be it gentleman or lady, who has not pleasure in a good novel, must be intolerably stupid.”': 'Jane Austen', \"“Imperfection is beauty, madness is genius and it's better to be absolutely ridiculous than absolutely boring.”\": 'Marilyn Monroe', '“Try not to become a man of success. Rather become a man of value.”': 'Albert Einstein', '“It is better to be hated for what you are than to be loved for what you are not.”': 'André Gide', \"“I have not failed. I've just found 10,000 ways that won't work.”\": 'Thomas A. Edison', \"“A woman is like a tea bag; you never know how strong it is until it's in hot water.”\": 'Eleanor Roosevelt', '“A day without sunshine is like, you know, night.”': 'Steve Martin'}\n",
            "“A woman is like a tea bag; you never know how strong it is until it's in hot water.”\n",
            "Eleanor Roosevelt\n",
            "{'“The world as we have created it is a process of our thinking. It cannot be changed without changing our thinking.”': 'Albert Einstein', '“It is our choices, Harry, that show what we truly are, far more than our abilities.”': 'J.K. Rowling', '“There are only two ways to live your life. One is as though nothing is a miracle. The other is as though everything is a miracle.”': 'Albert Einstein', '“The person, be it gentleman or lady, who has not pleasure in a good novel, must be intolerably stupid.”': 'Jane Austen', \"“Imperfection is beauty, madness is genius and it's better to be absolutely ridiculous than absolutely boring.”\": 'Marilyn Monroe', '“Try not to become a man of success. Rather become a man of value.”': 'Albert Einstein', '“It is better to be hated for what you are than to be loved for what you are not.”': 'André Gide', \"“I have not failed. I've just found 10,000 ways that won't work.”\": 'Thomas A. Edison', \"“A woman is like a tea bag; you never know how strong it is until it's in hot water.”\": 'Eleanor Roosevelt', '“A day without sunshine is like, you know, night.”': 'Steve Martin'}\n",
            "“A day without sunshine is like, you know, night.”\n",
            "Steve Martin\n",
            "{'“The world as we have created it is a process of our thinking. It cannot be changed without changing our thinking.”': 'Albert Einstein', '“It is our choices, Harry, that show what we truly are, far more than our abilities.”': 'J.K. Rowling', '“There are only two ways to live your life. One is as though nothing is a miracle. The other is as though everything is a miracle.”': 'Albert Einstein', '“The person, be it gentleman or lady, who has not pleasure in a good novel, must be intolerably stupid.”': 'Jane Austen', \"“Imperfection is beauty, madness is genius and it's better to be absolutely ridiculous than absolutely boring.”\": 'Marilyn Monroe', '“Try not to become a man of success. Rather become a man of value.”': 'Albert Einstein', '“It is better to be hated for what you are than to be loved for what you are not.”': 'André Gide', \"“I have not failed. I've just found 10,000 ways that won't work.”\": 'Thomas A. Edison', \"“A woman is like a tea bag; you never know how strong it is until it's in hot water.”\": 'Eleanor Roosevelt', '“A day without sunshine is like, you know, night.”': 'Steve Martin'}\n"
          ]
        }
      ]
    },
    {
      "cell_type": "code",
      "source": [
        "#API calls---Open map Wether application\n",
        "#lot of videos are there how to create API keys for Open map Wether application\n",
        "import requests\n",
        "api_key='api_key'\n",
        "city='Banglore'\n",
        "url=f'http://api.openwhethermap.org/data/3.0/whether?q={city}&&appid={api_key}'\n",
        "response=resquest.get(url)\n",
        "data=response.json\n",
        "print(f\"City:{data['name']}\")\n",
        "print(f\"Temperature:{data['main']['temp']}\n",
        "print(f\"Weather:{data['Weather']['0']['Description']}\")\n",
        "\n"
      ],
      "metadata": {
        "id": "ajAYhIrppd-s",
        "outputId": "9bf05f82-8467-40db-b2ad-62577420f583",
        "colab": {
          "base_uri": "https://localhost:8080/",
          "height": 106
        }
      },
      "execution_count": 7,
      "outputs": [
        {
          "output_type": "error",
          "ename": "SyntaxError",
          "evalue": "invalid syntax (<ipython-input-7-2777779787>, line 6)",
          "traceback": [
            "\u001b[0;36m  File \u001b[0;32m\"<ipython-input-7-2777779787>\"\u001b[0;36m, line \u001b[0;32m6\u001b[0m\n\u001b[0;31m    url=f'http://api.openwhethermap.org/'data/3.0/whether?q={city}&&appid=\u001b[0m\n\u001b[0m                                         ^\u001b[0m\n\u001b[0;31mSyntaxError\u001b[0m\u001b[0;31m:\u001b[0m invalid syntax\n"
          ]
        }
      ]
    },
    {
      "cell_type": "code",
      "source": [
        "!pip install wget"
      ],
      "metadata": {
        "id": "z9_XVSp15yL8",
        "outputId": "7fa0b2a1-5949-44bc-d1fb-c4647f22e0cf",
        "colab": {
          "base_uri": "https://localhost:8080/"
        }
      },
      "execution_count": 10,
      "outputs": [
        {
          "output_type": "stream",
          "name": "stdout",
          "text": [
            "Collecting wget\n",
            "  Downloading wget-3.2.zip (10 kB)\n",
            "  Preparing metadata (setup.py) ... \u001b[?25l\u001b[?25hdone\n",
            "Building wheels for collected packages: wget\n",
            "  Building wheel for wget (setup.py) ... \u001b[?25l\u001b[?25hdone\n",
            "  Created wheel for wget: filename=wget-3.2-py3-none-any.whl size=9655 sha256=abdf39995e651fb65f25936fc8c9b7a3af5def6529f5b277980d6cd6492cf8f8\n",
            "  Stored in directory: /root/.cache/pip/wheels/40/b3/0f/a40dbd1c6861731779f62cc4babcb234387e11d697df70ee97\n",
            "Successfully built wget\n",
            "Installing collected packages: wget\n",
            "Successfully installed wget-3.2\n"
          ]
        }
      ]
    },
    {
      "cell_type": "code",
      "source": [
        "##File Download---like csv,tsv,pdf,excel,.sql files\n",
        "#How to downloading files from different data sources\n",
        "#in python we will use wget like web get module\n",
        "#----Most of the time we will get the files from client side\n",
        "#https://github.com/datasets/covid-19/tree/main/data --here you can see covid-19\n",
        "#datasets...we have taken us_confirmed.csv\n",
        "#data is having details like admin,date,cases,Country/Region,Province/State\n",
        "import wget\n",
        "#otherwise if it is not installed run !pip install wget\n",
        "\n",
        "\n"
      ],
      "metadata": {
        "id": "9CqkPRtsv8W2"
      },
      "execution_count": 11,
      "outputs": []
    },
    {
      "cell_type": "code",
      "source": [
        "wget.download('https://raw.githubusercontent.com/datasets/covid-19/refs/heads/main/data/us_confirmed.csv')"
      ],
      "metadata": {
        "id": "BalyVtVy5VmY",
        "outputId": "708c41c6-1d8c-4d33-acab-3e5a4fec18d5",
        "colab": {
          "base_uri": "https://localhost:8080/",
          "height": 35
        }
      },
      "execution_count": 12,
      "outputs": [
        {
          "output_type": "execute_result",
          "data": {
            "text/plain": [
              "'us_confirmed.csv'"
            ],
            "application/vnd.google.colaboratory.intrinsic+json": {
              "type": "string"
            }
          },
          "metadata": {},
          "execution_count": 12
        }
      ]
    },
    {
      "cell_type": "code",
      "source": [],
      "metadata": {
        "id": "2l6pq38W5Yj4"
      },
      "execution_count": null,
      "outputs": []
    },
    {
      "cell_type": "code",
      "source": [],
      "metadata": {
        "id": "7WUr-Hwx5Ygh"
      },
      "execution_count": null,
      "outputs": []
    },
    {
      "cell_type": "code",
      "source": [],
      "metadata": {
        "id": "2kta5bMq5Yd5"
      },
      "execution_count": null,
      "outputs": []
    },
    {
      "cell_type": "code",
      "source": [],
      "metadata": {
        "id": "9JgiT_YU5Ybc"
      },
      "execution_count": null,
      "outputs": []
    },
    {
      "cell_type": "code",
      "source": [],
      "metadata": {
        "id": "Th2aSel35YYr"
      },
      "execution_count": null,
      "outputs": []
    },
    {
      "cell_type": "code",
      "source": [],
      "metadata": {
        "id": "xW90NI1n5YMD"
      },
      "execution_count": null,
      "outputs": []
    }
  ],
  "metadata": {
    "colab": {
      "name": "Welcome to Colab",
      "toc_visible": true,
      "provenance": [],
      "include_colab_link": true
    },
    "kernelspec": {
      "display_name": "Python 3",
      "name": "python3"
    }
  },
  "nbformat": 4,
  "nbformat_minor": 0
}