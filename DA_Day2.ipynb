{
  "cells": [
    {
      "cell_type": "markdown",
      "metadata": {
        "id": "view-in-github",
        "colab_type": "text"
      },
      "source": [
        "<a href=\"https://colab.research.google.com/github/ramnagella/Demo/blob/master/DA_Day2.ipynb\" target=\"_parent\"><img src=\"https://colab.research.google.com/assets/colab-badge.svg\" alt=\"Open In Colab\"/></a>"
      ]
    },
    {
      "cell_type": "code",
      "source": [
        "#DA-Day2---02-08-2025\n",
        "'''\n",
        "Data collection--\n",
        "Several methods to collect teh data from different sources prgramatically\n",
        "---1..Web Scrapping---it is like extracing the data from web sites---bs4,scrapy,selenium\n",
        "---2--API's\n",
        "---3--File downloads\n",
        "---4--DB's\n",
        "---5--File I/O---csv,JSON,excel,pdf,tsv,\n",
        "---6--IOT and Sensors\n",
        "---7--Social Meida API's\n",
        "---8--"
      ],
      "metadata": {
        "id": "ehwA4TykqiWt"
      },
      "execution_count": null,
      "outputs": []
    },
    {
      "cell_type": "code",
      "source": [
        "!pip install bs4\n"
      ],
      "metadata": {
        "id": "SgCeQoGvyGsN",
        "outputId": "14d6b619-225a-4047-c903-1e781cfdac1f",
        "colab": {
          "base_uri": "https://localhost:8080/"
        }
      },
      "execution_count": 9,
      "outputs": [
        {
          "output_type": "stream",
          "name": "stdout",
          "text": [
            "Collecting bs4\n",
            "  Downloading bs4-0.0.2-py2.py3-none-any.whl.metadata (411 bytes)\n",
            "Requirement already satisfied: beautifulsoup4 in /usr/local/lib/python3.11/dist-packages (from bs4) (4.13.4)\n",
            "Requirement already satisfied: soupsieve>1.2 in /usr/local/lib/python3.11/dist-packages (from beautifulsoup4->bs4) (2.7)\n",
            "Requirement already satisfied: typing-extensions>=4.0.0 in /usr/local/lib/python3.11/dist-packages (from beautifulsoup4->bs4) (4.14.0)\n",
            "Downloading bs4-0.0.2-py2.py3-none-any.whl (1.2 kB)\n",
            "Installing collected packages: bs4\n",
            "Successfully installed bs4-0.0.2\n"
          ]
        }
      ]
    },
    {
      "cell_type": "code",
      "source": [
        "#Web Scrapping ---scrapping quotes from site---\n",
        "#---from quotes.toscrap.com  each box in the sites has quotes,author,tags if want to fetch quotes and author\n",
        "\n",
        "\n",
        "from bs4 import BeautifulSoup\n",
        "import requests\n",
        "url=\"http://quotes.toscrape.com/\"\n",
        "response=requests.get(url)\n",
        "#print(response)\n",
        "soup=BeautifulSoup(response.content,'html.parser')\n",
        "quotes=soup.find_all('span',class_='text')\n",
        "authors=soup.find_all('small',class_='author')\n",
        "print(quotes)\n",
        "print(authors)"
      ],
      "metadata": {
        "id": "H8FRz3mytIFg",
        "outputId": "5e11d69f-b50d-42b4-ee4f-c6c93ff1ce18",
        "colab": {
          "base_uri": "https://localhost:8080/"
        }
      },
      "execution_count": 20,
      "outputs": [
        {
          "output_type": "stream",
          "name": "stdout",
          "text": [
            "[<span class=\"text\" itemprop=\"text\">“The world as we have created it is a process of our thinking. It cannot be changed without changing our thinking.”</span>, <span class=\"text\" itemprop=\"text\">“It is our choices, Harry, that show what we truly are, far more than our abilities.”</span>, <span class=\"text\" itemprop=\"text\">“There are only two ways to live your life. One is as though nothing is a miracle. The other is as though everything is a miracle.”</span>, <span class=\"text\" itemprop=\"text\">“The person, be it gentleman or lady, who has not pleasure in a good novel, must be intolerably stupid.”</span>, <span class=\"text\" itemprop=\"text\">“Imperfection is beauty, madness is genius and it's better to be absolutely ridiculous than absolutely boring.”</span>, <span class=\"text\" itemprop=\"text\">“Try not to become a man of success. Rather become a man of value.”</span>, <span class=\"text\" itemprop=\"text\">“It is better to be hated for what you are than to be loved for what you are not.”</span>, <span class=\"text\" itemprop=\"text\">“I have not failed. I've just found 10,000 ways that won't work.”</span>, <span class=\"text\" itemprop=\"text\">“A woman is like a tea bag; you never know how strong it is until it's in hot water.”</span>, <span class=\"text\" itemprop=\"text\">“A day without sunshine is like, you know, night.”</span>]\n",
            "[<small class=\"author\" itemprop=\"author\">Albert Einstein</small>, <small class=\"author\" itemprop=\"author\">J.K. Rowling</small>, <small class=\"author\" itemprop=\"author\">Albert Einstein</small>, <small class=\"author\" itemprop=\"author\">Jane Austen</small>, <small class=\"author\" itemprop=\"author\">Marilyn Monroe</small>, <small class=\"author\" itemprop=\"author\">Albert Einstein</small>, <small class=\"author\" itemprop=\"author\">André Gide</small>, <small class=\"author\" itemprop=\"author\">Thomas A. Edison</small>, <small class=\"author\" itemprop=\"author\">Eleanor Roosevelt</small>, <small class=\"author\" itemprop=\"author\">Steve Martin</small>]\n"
          ]
        }
      ]
    },
    {
      "cell_type": "code",
      "source": [
        "from bs4 import BeautifulSoup\n",
        "import requests\n",
        "url=\"http://quotes.toscrape.com/\"\n",
        "response=requests.get(url)\n",
        "#print(response)\n",
        "soup=BeautifulSoup(response.content,'html.parser')\n",
        "quotes=soup.find_all('span',class_='text')\n",
        "authors=soup.find_all('small',class_='author')\n",
        "print(quotes)\n",
        "print(authors)\n",
        "\n",
        "\n",
        "for quote,author in zip(quotes,authors):\n",
        "  print(quote.text)\n",
        "  print(author.text)\n"
      ],
      "metadata": {
        "id": "jbuqxlXwyvwy",
        "outputId": "6d788f93-2ab3-4dfb-e63a-90c33d5816a3",
        "colab": {
          "base_uri": "https://localhost:8080/"
        }
      },
      "execution_count": 21,
      "outputs": [
        {
          "output_type": "stream",
          "name": "stdout",
          "text": [
            "[<span class=\"text\" itemprop=\"text\">“The world as we have created it is a process of our thinking. It cannot be changed without changing our thinking.”</span>, <span class=\"text\" itemprop=\"text\">“It is our choices, Harry, that show what we truly are, far more than our abilities.”</span>, <span class=\"text\" itemprop=\"text\">“There are only two ways to live your life. One is as though nothing is a miracle. The other is as though everything is a miracle.”</span>, <span class=\"text\" itemprop=\"text\">“The person, be it gentleman or lady, who has not pleasure in a good novel, must be intolerably stupid.”</span>, <span class=\"text\" itemprop=\"text\">“Imperfection is beauty, madness is genius and it's better to be absolutely ridiculous than absolutely boring.”</span>, <span class=\"text\" itemprop=\"text\">“Try not to become a man of success. Rather become a man of value.”</span>, <span class=\"text\" itemprop=\"text\">“It is better to be hated for what you are than to be loved for what you are not.”</span>, <span class=\"text\" itemprop=\"text\">“I have not failed. I've just found 10,000 ways that won't work.”</span>, <span class=\"text\" itemprop=\"text\">“A woman is like a tea bag; you never know how strong it is until it's in hot water.”</span>, <span class=\"text\" itemprop=\"text\">“A day without sunshine is like, you know, night.”</span>]\n",
            "[<small class=\"author\" itemprop=\"author\">Albert Einstein</small>, <small class=\"author\" itemprop=\"author\">J.K. Rowling</small>, <small class=\"author\" itemprop=\"author\">Albert Einstein</small>, <small class=\"author\" itemprop=\"author\">Jane Austen</small>, <small class=\"author\" itemprop=\"author\">Marilyn Monroe</small>, <small class=\"author\" itemprop=\"author\">Albert Einstein</small>, <small class=\"author\" itemprop=\"author\">André Gide</small>, <small class=\"author\" itemprop=\"author\">Thomas A. Edison</small>, <small class=\"author\" itemprop=\"author\">Eleanor Roosevelt</small>, <small class=\"author\" itemprop=\"author\">Steve Martin</small>]\n",
            "“The world as we have created it is a process of our thinking. It cannot be changed without changing our thinking.”\n",
            "Albert Einstein\n",
            "“It is our choices, Harry, that show what we truly are, far more than our abilities.”\n",
            "J.K. Rowling\n",
            "“There are only two ways to live your life. One is as though nothing is a miracle. The other is as though everything is a miracle.”\n",
            "Albert Einstein\n",
            "“The person, be it gentleman or lady, who has not pleasure in a good novel, must be intolerably stupid.”\n",
            "Jane Austen\n",
            "“Imperfection is beauty, madness is genius and it's better to be absolutely ridiculous than absolutely boring.”\n",
            "Marilyn Monroe\n",
            "“Try not to become a man of success. Rather become a man of value.”\n",
            "Albert Einstein\n",
            "“It is better to be hated for what you are than to be loved for what you are not.”\n",
            "André Gide\n",
            "“I have not failed. I've just found 10,000 ways that won't work.”\n",
            "Thomas A. Edison\n",
            "“A woman is like a tea bag; you never know how strong it is until it's in hot water.”\n",
            "Eleanor Roosevelt\n",
            "“A day without sunshine is like, you know, night.”\n",
            "Steve Martin\n"
          ]
        }
      ]
    },
    {
      "cell_type": "code",
      "source": [
        "from bs4 import BeautifulSoup\n",
        "import requests\n",
        "url=\"http://quotes.toscrape.com/\"\n",
        "response=requests.get(url)\n",
        "#print(response)\n",
        "soup=BeautifulSoup(response.content,'html.parser')\n",
        "quotes=soup.find_all('span',class_='text')\n",
        "authors=soup.find_all('small',class_='author')\n",
        "#print(quotes)\n",
        "#print(authors)\n",
        "\n",
        "\n",
        "for quote,author in zip(quotes,authors):\n",
        "  print(quote.text)\n",
        "  print(author.text)\n"
      ],
      "metadata": {
        "id": "JWLLRjAO2nKf",
        "outputId": "1a364ac6-b4ad-43f5-de14-5d919c59f9b7",
        "colab": {
          "base_uri": "https://localhost:8080/"
        }
      },
      "execution_count": 22,
      "outputs": [
        {
          "output_type": "stream",
          "name": "stdout",
          "text": [
            "“The world as we have created it is a process of our thinking. It cannot be changed without changing our thinking.”\n",
            "Albert Einstein\n",
            "“It is our choices, Harry, that show what we truly are, far more than our abilities.”\n",
            "J.K. Rowling\n",
            "“There are only two ways to live your life. One is as though nothing is a miracle. The other is as though everything is a miracle.”\n",
            "Albert Einstein\n",
            "“The person, be it gentleman or lady, who has not pleasure in a good novel, must be intolerably stupid.”\n",
            "Jane Austen\n",
            "“Imperfection is beauty, madness is genius and it's better to be absolutely ridiculous than absolutely boring.”\n",
            "Marilyn Monroe\n",
            "“Try not to become a man of success. Rather become a man of value.”\n",
            "Albert Einstein\n",
            "“It is better to be hated for what you are than to be loved for what you are not.”\n",
            "André Gide\n",
            "“I have not failed. I've just found 10,000 ways that won't work.”\n",
            "Thomas A. Edison\n",
            "“A woman is like a tea bag; you never know how strong it is until it's in hot water.”\n",
            "Eleanor Roosevelt\n",
            "“A day without sunshine is like, you know, night.”\n",
            "Steve Martin\n"
          ]
        }
      ]
    }
  ],
  "metadata": {
    "colab": {
      "name": "Welcome to Colab",
      "toc_visible": true,
      "provenance": [],
      "include_colab_link": true
    },
    "kernelspec": {
      "display_name": "Python 3",
      "name": "python3"
    }
  },
  "nbformat": 4,
  "nbformat_minor": 0
}