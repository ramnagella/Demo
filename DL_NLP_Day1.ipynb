{
  "cells": [
    {
      "cell_type": "markdown",
      "metadata": {
        "id": "view-in-github",
        "colab_type": "text"
      },
      "source": [
        "<a href=\"https://colab.research.google.com/github/ramnagella/Demo/blob/master/DL_NLP_Day1.ipynb\" target=\"_parent\"><img src=\"https://colab.research.google.com/assets/colab-badge.svg\" alt=\"Open In Colab\"/></a>"
      ]
    },
    {
      "cell_type": "code",
      "source": [
        "#AI Definition it is is field .making compurer ir machine intelligent one\n",
        "'''\n",
        "So the machine learning, actually the main important goal is to train the model.\n",
        "\n",
        "With the help of some algorithms will train the model.\n",
        "\n",
        "The model will predict something or else the model will make a decision.\n",
        "So the two things involved in machine learning has a lot of algorithms. Actually the ML has categories into three different types.\n",
        "\n",
        "One is a classification like a supervised learning ,unsupervised and then Reinforcement learning.\n",
        "in ML most of the data set data.It's like a numerical data.\n",
        "\n",
        "Supervised means we are going to train the model.Input as well as the output.\n",
        "The input is otherwise called as a features otherwise called as a independent variable.\n",
        "\n",
        "Output it's called as a label, or otherwise it's called as a dependent variable..\n",
        "\n",
        "So this variable actually depends on the this features.that's why we call it as output, we call it as a dependent variable or a label. OK.\n",
        "\n",
        "Error ---Y-Pred and Y-test are different is called error --interview question\n",
        "To eliminate error --re-train the model or hyper paramaeter tuning means adding/removing some more new features\n",
        "or feature engineering ,accuracy\n",
        "Model means or alg--------interview question---it is prototye ---is a mathematical structure to develope or deploy model\n",
        "\n",
        "integrate two thing --1 data and 2.alg\n",
        "unsupervised learning ---only featueres or i/p no o/p or labels\n",
        "when will use unsupervised---\n",
        "ML is subset of AI ---Main gols of ML is prediction or make decission\n",
        "SL---Classification or regression\n",
        "UnSupervised Learning----clustering or gropuping of records\n",
        "Reinforced Learning ----Sanke game is example rewards or penalties --rienforce learing is used in game developement\n",
        "GenAI is subset of DL ---Without NLPwe cant do anything in GenAI\n",
        "\n",
        "DL----is subset of ML---Why use DL---text data or image data or complex data means will use DL--\n",
        "\n",
        "Automatically extracting the features in DL --in ML it it not possible if want still use ML means we need to\n",
        "convert image intoi mtraix pixel format ---\n",
        "\n",
        "\n",
        "ML work Flow\n",
        "\n",
        "Heart disease and breast cancer problems are under supervised classification\n",
        "and house price prediction ----supervised regression alg\n",
        "\n",
        "Based on history ML algs will predict\n",
        "\n",
        "1. Problem Definition---What is the business requirement\n",
        "2. Data collection ---collect the data from diff sources\n",
        "3.Data Preparation----data pre-processing\n",
        "----cleaning handling missing data or values\n",
        "----duplicated values -\n",
        "----info()\n",
        "----convert data types if required data tye mismatch or not\n",
        "----tansformations ---normalisation and exncoding are transformations\n",
        "----Splitting the features in Data into training and testing\n",
        "----Features(X),Label(Y)\n",
        "4.Feature Engg---means ---identifying the relevant feeatures to train the model\n",
        "-----------------what is important ----\n",
        "----------Feature Selection---\n",
        "----------encoding technique ---\n",
        "----------Feature Scaling ---means giving equal importance to all the features because ML will give more priority or imporatcne for heigher values\n",
        "---------- equal priority for all the features---some times ML algs will biased --\n",
        "----------adding/removing new features like age of the property\n",
        "5.Model Selection---------Model meand it is mathematical structure incorporate ML algs----choosing ML alg or Model-\n",
        "-----------------based label is values or calss we can select the modwl\n",
        "6.Train the model\n",
        "7.Model Evaluation ---performance of the model\n",
        "8.Hyperparameter tuning --in DT max depth one parameter is there is depth level is more means overfitting issue\n",
        "means performance issue is very low\n",
        "chaning the max depth values is hyperparameter tuning---optimisation\n",
        "each and every ML alg hyperparameter tuning is different ---\n",
        "9.Model Testing ---validation for the model for unseen data\n",
        "10.Model Deployment ---web app deployment\n",
        "11.monitoring ---Add/remove new featutres if the preformacne of the model is not good and re-train the model\n",
        "to keep predictions accurate  --monitoring accuracy of the model or error rate\n",
        "12.\n",
        "Explianed Digital Ad car buying example here....\n",
        "\n",
        "'''"
      ],
      "metadata": {
        "id": "M7L3zxCDuNtE"
      },
      "execution_count": null,
      "outputs": []
    },
    {
      "cell_type": "code",
      "source": [
        "#DL_NLP_Day2-----Session--22-01-25\n",
        "'''\n",
        "fit_transform() used for training data and transform() used for testing data.\n",
        "fit() will calculate mean and std deviation for training values and same mean and std deviation will be used for\n",
        "testing values\n",
        "\n",
        "Door Example ..if we want to make 100 doors first will make one door an dtest it for the size of the door opening\n",
        "and based on the first door other doors will made.\n",
        "\n",
        "All other doors will have same width and height\n",
        "\n",
        "Interview question---very important\n",
        "defaukt random_state seed vaules 0 and 42\n",
        "\n",
        "Fit()\n",
        "mean==x1+x2+x3/3\n",
        "std deviation=sqrt(x1-mean)*2+(x2-mean)*2+(x3-mean) whole square\n",
        "Transform()---\n",
        "scalable value =x-mean/std deviation\n",
        "\n",
        "for product based projects need to learn open CV and after NLP GenAI\n",
        "AI engineer learn all, AI engineer use already built model and will develope AI application\n",
        "ML hwo to design the model\n",
        "NLP is vast area with  out NLP we cant learn GenAI\n",
        "\n",
        "Now industry is looking for AI and GenAI Developers next 5 to 10 years\n",
        "\n",
        "how to train the system is AI Engineer ,machine will create and generate anything\n",
        "web3.0 is eveloving all the different techs integrate with web 3.0\n",
        "how to train the machine is going to demand and prompt engineer also demand\n",
        "\n",
        "ML Regression model analysis discussed in this session again ---\n",
        "\n",
        "\n",
        "\n",
        "\n",
        "'''\n",
        "\n",
        "\n",
        "'''"
      ],
      "metadata": {
        "id": "A3xpR7zCuNpr"
      },
      "execution_count": null,
      "outputs": []
    },
    {
      "cell_type": "code",
      "source": [
        "#DL_NLP_Day3-----Session--24-01-25--DLsession earlier sessions are on ML\n",
        "'''\n",
        "Encoding techniques ---encoders---\n",
        "\n",
        "---labled data,text data or contextual data converted into numerical data is called encoders--\n",
        "\n",
        "---data like gender or class --why ML undertands only numerical --each and every ML algs mostly(96%) uses maths formulas\n",
        "----statistical formulas---that is the reason will use encoding techniques---\n",
        "----label encider----alphabetical order gives numerical values----onehot encoder---ordinal encoder---mean or target encoder--\n",
        "----if we have distinct categorical data we will use label encoder\n",
        "----ordinal similar to label --education level features phd,pg ,ug ,school\n",
        "----here label encoding is not suitable ,if we want to give rank or order  based on degree will go with ordinal encoder\n",
        "----if we want specified order will use ordinal encoding\n",
        "----mean or target encoding -- when will use this ---if we have high number of categories --phd 10 times ,pg30,ug40,school 100\n",
        "----during this time will calculate mean value\n",
        "----onehot encoding ----\n",
        "----in NLP --one shot ,zero shot ,two shot encoding techniques--\n",
        "----high cardinality dimensions ---cardinality means features---\n",
        "----in a dataset more no of features means high cardinality dimension ---\n",
        "----count encoding,leave one out encoding ,catboost encoding ---\n",
        "----cabin column --titanic data will use count or target encoding\n",
        "\n",
        "----in titani cexample 'Age' is showing as float because of missing values otherwise it is integer\n",
        "---titanic_dataset['Embarked'].fillna(titanic_dataset['Embarked'].mode()[0],inplace=True)\n",
        "---in this line of code mode means heighest occurance of emarked category will get ZERO then next 1 and bext 2\n",
        "\n",
        "\n",
        "\n",
        "\n",
        "\n",
        "\n",
        "\n",
        "\n",
        "\n",
        "\n",
        "\n",
        "'''\n",
        "\n"
      ],
      "metadata": {
        "id": "S8RsfhI6uNm_"
      },
      "execution_count": null,
      "outputs": []
    },
    {
      "cell_type": "code",
      "source": [
        "#DL_NLP_Day4-----Session--27-01-25--DLsession\n",
        "'''\n",
        "\n",
        "recently DL community developed breast cancer detection model which is working cery efficiently.\n",
        "\n",
        "Overview of DL---Explains here mind map\n",
        "Elements of DL---\n",
        "DL Libraries-----\n",
        "Application------\n",
        "installation of DL libraries--\n",
        "\n",
        "ANN---Artificial newral networks\n",
        "------in ML machine will not make any decissions ,but in DL machine will make decissions like Humans---\n",
        "------Compared to Ml ,Dl have more naths calculations\n",
        "------In noraml Human Brain to do anya actions it will have normal functions like turn this side or that side\n",
        "------Like similar Brain normal frunctions ANN will have activation function to do the same\n",
        "------i/p----some vent---Brian----o/p\n",
        "------i/p----ANN -----with the help of some naths formula  we can create a fucntion to send the o/p---that\n",
        "------is called activation function---\n",
        "------i/p---hiddenlayer(newrons)----o/p\n",
        "------no of newrons = no of features\n",
        "------if we want we can the features into 10 also in DL\n",
        "------we can reduce again in next hidden layer into 7 newrons\n",
        "------each and every layers have multiple newrons\n",
        "------fully coinnected layer---convulation layer---pooling layer\n",
        "------weight means it is like a edge between adjacent nodes or distance\n",
        "------events or actions are stored in the newrons\n",
        "------abraham lincon image with pixel gray scale into matrix--\n",
        "------convolution layer ---take small part by part of picture ---\n",
        "------it will extract the features----\n",
        "------So each and everything it's having some colors OK.\n",
        "\n",
        "So this colors actually converting into the for example this one is a a light ash color, so the corresponding RGB value will be replacing OK.\n",
        "\n",
        "So this one actually will be going to changing the RGB values so likewise.\n",
        "\n",
        "Dark black color or light or black color.\n",
        "\n",
        "So likewise the entire images will be going to convert into the RGB values.\n",
        "\n",
        "See the mindmap in introduction to DL in Github for more details on theory on DL---\n",
        "\n",
        "if we are processing images we will these CNN layers like convolution and pooling layers\n",
        "if we have covid 19 data in numerical format we can use fully connected layers\n",
        "images means convolution layers\n",
        "if we have covid 19 in images like x-ray we can use convolution layers\n",
        "student age degree marks admission eligibilty for IIT or NIT we wil fuly connexted layers\n",
        "\n",
        "\n",
        "\n",
        "\n",
        "''''\n"
      ],
      "metadata": {
        "id": "337AbvLwuNkH"
      },
      "execution_count": null,
      "outputs": []
    },
    {
      "cell_type": "code",
      "source": [],
      "metadata": {
        "id": "bc9ReokiuNXf"
      },
      "execution_count": null,
      "outputs": []
    },
    {
      "cell_type": "code",
      "source": [],
      "metadata": {
        "id": "mTJKmDVluNUH"
      },
      "execution_count": null,
      "outputs": []
    },
    {
      "cell_type": "code",
      "source": [],
      "metadata": {
        "id": "_TKeeBA5uNRK"
      },
      "execution_count": null,
      "outputs": []
    },
    {
      "cell_type": "code",
      "source": [],
      "metadata": {
        "id": "Y7gFCBFquNOS"
      },
      "execution_count": null,
      "outputs": []
    },
    {
      "cell_type": "code",
      "source": [],
      "metadata": {
        "id": "0hhTY_Q6uNLi"
      },
      "execution_count": null,
      "outputs": []
    },
    {
      "cell_type": "code",
      "source": [],
      "metadata": {
        "id": "CFpLhWKFuNI2"
      },
      "execution_count": null,
      "outputs": []
    },
    {
      "cell_type": "code",
      "source": [],
      "metadata": {
        "id": "RJ3egVG5uNGR"
      },
      "execution_count": null,
      "outputs": []
    },
    {
      "cell_type": "code",
      "source": [],
      "metadata": {
        "id": "GyV8uk_ouNDp"
      },
      "execution_count": null,
      "outputs": []
    },
    {
      "cell_type": "code",
      "source": [],
      "metadata": {
        "id": "v-jdxSrzuNBD"
      },
      "execution_count": null,
      "outputs": []
    },
    {
      "cell_type": "code",
      "source": [],
      "metadata": {
        "id": "027AR1JauM-L"
      },
      "execution_count": null,
      "outputs": []
    },
    {
      "cell_type": "code",
      "source": [],
      "metadata": {
        "id": "dHmlNUFUuM2i"
      },
      "execution_count": null,
      "outputs": []
    },
    {
      "cell_type": "code",
      "source": [],
      "metadata": {
        "id": "sZjO0FwUuMzK"
      },
      "execution_count": null,
      "outputs": []
    },
    {
      "cell_type": "code",
      "source": [],
      "metadata": {
        "id": "xI4oRp7ouMwM"
      },
      "execution_count": null,
      "outputs": []
    }
  ],
  "metadata": {
    "colab": {
      "name": "Welcome to Colab",
      "toc_visible": true,
      "provenance": [],
      "include_colab_link": true
    },
    "kernelspec": {
      "display_name": "Python 3",
      "name": "python3"
    }
  },
  "nbformat": 4,
  "nbformat_minor": 0
}