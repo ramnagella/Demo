{
  "cells": [
    {
      "cell_type": "markdown",
      "metadata": {
        "id": "view-in-github",
        "colab_type": "text"
      },
      "source": [
        "<a href=\"https://colab.research.google.com/github/ramnagella/Demo/blob/master/DL_NLP_Day1.ipynb\" target=\"_parent\"><img src=\"https://colab.research.google.com/assets/colab-badge.svg\" alt=\"Open In Colab\"/></a>"
      ]
    },
    {
      "cell_type": "code",
      "source": [
        "#AI Definition it is is field .making compurer ir machine intelligent one\n",
        "'''\n",
        "So the machine learning, actually the main important goal is to train the model.\n",
        "\n",
        "With the help of some algorithms will train the model.\n",
        "\n",
        "The model will predict something or else the model will make a decision.\n",
        "So the two things involved in machine learning has a lot of algorithms. Actually the ML has categories into three different types.\n",
        "\n",
        "One is a classification like a supervised learning ,unsupervised and then Reinforcement learning.\n",
        "in ML most of the data set data.It's like a numerical data.\n",
        "\n",
        "Supervised means we are going to train the model.Input as well as the output.\n",
        "The input is otherwise called as a features otherwise called as a independent variable.\n",
        "\n",
        "Output it's called as a label, or otherwise it's called as a dependent variable..\n",
        "\n",
        "So this variable actually depends on the this features.that's why we call it as output, we call it as a dependent variable or a label. OK.\n",
        "\n",
        "Error ---Y-Pred and Y-test are different is called error --interview question\n",
        "To eliminate error --re-train the model or hyper paramaeter tuning means adding/removing some more new features\n",
        "or feature engineering ,accuracy\n",
        "Model means or alg--------interview question---it is prototye ---is a mathematical structure to develope or deploy model\n",
        "\n",
        "integrate two thing --1 data and 2.alg\n",
        "unsupervised learning ---only featueres or i/p no o/p or labels\n",
        "when will use unsupervised---\n",
        "ML is subset of AI ---Main gols of ML is prediction or make decission\n",
        "SL---Classification or regression\n",
        "UnSupervised Learning----clustering or gropuping of records\n",
        "Reinforced Learning ----Sanke game is example rewards or penalties --rienforce learing is used in game developement\n",
        "GenAI is subset of DL ---Without NLPwe cant do anything in GenAI\n",
        "\n",
        "DL----is subset of ML---Why use DL---text data or image data or complex data means will use DL--\n",
        "\n",
        "Automatically extracting the features in DL --in ML it it not possible if want still use ML means we need to\n",
        "convert image intoi mtraix pixel format ---\n",
        "\n",
        "\n",
        "ML work Flow\n",
        "\n",
        "Heart disease and breast cancer problems are under supervised classification\n",
        "and house price prediction ----supervised regression alg\n",
        "\n",
        "Based on history ML algs will predict\n",
        "\n",
        "1. Problem Definition---What is the business requirement\n",
        "2. Data collection ---collect the data from diff sources\n",
        "3.Data Preparation----data pre-processing\n",
        "----cleaning handling missing data or values\n",
        "----duplicated values -\n",
        "----info()\n",
        "----convert data types if required data tye mismatch or not\n",
        "----tansformations ---normalisation and exncoding are transformations\n",
        "----Splitting the features in Data into training and testing\n",
        "----Features(X),Label(Y)\n",
        "4.Feature Engg---means ---identifying the relevant feeatures to train the model\n",
        "-----------------what is important ----\n",
        "----------Feature Selection---\n",
        "----------encoding technique ---\n",
        "----------Feature Scaling ---means giving equal importance to all the features because ML will give more priority or imporatcne for heigher values\n",
        "---------- equal priority for all the features---some times ML algs will biased --\n",
        "----------adding/removing new features like age of the property\n",
        "5.Model Selection---------Model meand it is mathematical structure incorporate ML algs----choosing ML alg or Model-\n",
        "-----------------based label is values or calss we can select the modwl\n",
        "6.Train the model\n",
        "7.Model Evaluation ---performance of the model\n",
        "8.Hyperparameter tuning --in DT max depth one parameter is there is depth level is more means overfitting issue\n",
        "means performance issue is very low\n",
        "chaning the max depth values is hyperparameter tuning---optimisation\n",
        "each and every ML alg hyperparameter tuning is different ---\n",
        "9.Model Testing ---validation for the model for unseen data\n",
        "10.Model Deployment ---web app deployment\n",
        "11.monitoring ---Add/remove new featutres if the preformacne of the model is not good and re-train the model\n",
        "to keep predictions accurate  --monitoring accuracy of the model or error rate\n",
        "12.\n",
        "Explianed Digital Ad car buying example here....\n",
        "\n",
        "\n",
        "\n",
        "\n",
        "\n",
        "\n",
        "\n",
        "'''"
      ],
      "metadata": {
        "id": "M7L3zxCDuNtE"
      },
      "execution_count": null,
      "outputs": []
    },
    {
      "cell_type": "code",
      "source": [
        "#DL_NLP_Day2-----Session\n",
        "'''\n",
        "fit_transform() and transform().\n",
        "\n",
        "\n",
        "\n",
        "\n",
        "'''"
      ],
      "metadata": {
        "id": "A3xpR7zCuNpr"
      },
      "execution_count": null,
      "outputs": []
    },
    {
      "cell_type": "code",
      "source": [],
      "metadata": {
        "id": "S8RsfhI6uNm_"
      },
      "execution_count": null,
      "outputs": []
    },
    {
      "cell_type": "code",
      "source": [],
      "metadata": {
        "id": "337AbvLwuNkH"
      },
      "execution_count": null,
      "outputs": []
    },
    {
      "cell_type": "code",
      "source": [],
      "metadata": {
        "id": "bc9ReokiuNXf"
      },
      "execution_count": null,
      "outputs": []
    },
    {
      "cell_type": "code",
      "source": [],
      "metadata": {
        "id": "mTJKmDVluNUH"
      },
      "execution_count": null,
      "outputs": []
    },
    {
      "cell_type": "code",
      "source": [],
      "metadata": {
        "id": "_TKeeBA5uNRK"
      },
      "execution_count": null,
      "outputs": []
    },
    {
      "cell_type": "code",
      "source": [],
      "metadata": {
        "id": "Y7gFCBFquNOS"
      },
      "execution_count": null,
      "outputs": []
    },
    {
      "cell_type": "code",
      "source": [],
      "metadata": {
        "id": "0hhTY_Q6uNLi"
      },
      "execution_count": null,
      "outputs": []
    },
    {
      "cell_type": "code",
      "source": [],
      "metadata": {
        "id": "CFpLhWKFuNI2"
      },
      "execution_count": null,
      "outputs": []
    },
    {
      "cell_type": "code",
      "source": [],
      "metadata": {
        "id": "RJ3egVG5uNGR"
      },
      "execution_count": null,
      "outputs": []
    },
    {
      "cell_type": "code",
      "source": [],
      "metadata": {
        "id": "GyV8uk_ouNDp"
      },
      "execution_count": null,
      "outputs": []
    },
    {
      "cell_type": "code",
      "source": [],
      "metadata": {
        "id": "v-jdxSrzuNBD"
      },
      "execution_count": null,
      "outputs": []
    },
    {
      "cell_type": "code",
      "source": [],
      "metadata": {
        "id": "027AR1JauM-L"
      },
      "execution_count": null,
      "outputs": []
    },
    {
      "cell_type": "code",
      "source": [],
      "metadata": {
        "id": "dHmlNUFUuM2i"
      },
      "execution_count": null,
      "outputs": []
    },
    {
      "cell_type": "code",
      "source": [],
      "metadata": {
        "id": "sZjO0FwUuMzK"
      },
      "execution_count": null,
      "outputs": []
    },
    {
      "cell_type": "code",
      "source": [],
      "metadata": {
        "id": "xI4oRp7ouMwM"
      },
      "execution_count": null,
      "outputs": []
    }
  ],
  "metadata": {
    "colab": {
      "name": "Welcome to Colab",
      "toc_visible": true,
      "provenance": [],
      "include_colab_link": true
    },
    "kernelspec": {
      "display_name": "Python 3",
      "name": "python3"
    }
  },
  "nbformat": 4,
  "nbformat_minor": 0
}