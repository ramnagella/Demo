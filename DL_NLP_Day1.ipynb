{
  "cells": [
    {
      "cell_type": "markdown",
      "metadata": {
        "id": "view-in-github",
        "colab_type": "text"
      },
      "source": [
        "<a href=\"https://colab.research.google.com/github/ramnagella/Demo/blob/master/DL_NLP_Day1.ipynb\" target=\"_parent\"><img src=\"https://colab.research.google.com/assets/colab-badge.svg\" alt=\"Open In Colab\"/></a>"
      ]
    },
    {
      "cell_type": "code",
      "source": [
        "#AI Definition it is is field .making compurer ir machine intelligent one\n",
        "'''\n",
        "So the machine learning, actually the main important goal is to train the model.\n",
        "\n",
        "With the help of some algorithms will train the model.\n",
        "\n",
        "The model will predict something or else the model will make a decision.\n",
        "So the two things involved in machine learning has a lot of algorithms. Actually the ML has categories into three different types.\n",
        "\n",
        "One is a classification like a supervised learning ,unsupervised and then Reinforcement learning.\n",
        "in ML most of the data set data.It's like a numerical data.\n",
        "\n",
        "Supervised means we are going to train the model.Input as well as the output.\n",
        "The input is otherwise called as a features otherwise called as a independent variable.\n",
        "\n",
        "Output it's called as a label, or otherwise it's called as a dependent variable..\n",
        "\n",
        "So this variable actually depends on the this features.that's why we call it as output, we call it as a dependent variable or a label. OK.\n",
        "\n",
        "Error ---Y-Pred and Y-test are different is called error --interview question\n",
        "To eliminate error --re-train the model or hyper paramaeter tuning means adding/removing some more new features\n",
        "or feature engineering ,accuracy\n",
        "Model means or alg--------interview question---it is prototye ---is a mathematical structure to develope or deploy model\n",
        "\n",
        "integrate two thing --1 data and 2.alg\n",
        "unsupervised learning ---only featueres or i/p no o/p or labels\n",
        "when will use unsupervised---\n",
        "\n",
        "\n",
        "\n",
        "\n",
        "\n",
        "\n",
        "'''\n",
        "\n",
        "\n",
        "'''\n",
        "\n",
        "\n",
        "\n",
        "\n",
        "\n",
        "'''"
      ],
      "metadata": {
        "id": "M7L3zxCDuNtE"
      },
      "execution_count": null,
      "outputs": []
    },
    {
      "cell_type": "code",
      "source": [],
      "metadata": {
        "id": "A3xpR7zCuNpr"
      },
      "execution_count": null,
      "outputs": []
    },
    {
      "cell_type": "code",
      "source": [],
      "metadata": {
        "id": "S8RsfhI6uNm_"
      },
      "execution_count": null,
      "outputs": []
    },
    {
      "cell_type": "code",
      "source": [],
      "metadata": {
        "id": "337AbvLwuNkH"
      },
      "execution_count": null,
      "outputs": []
    },
    {
      "cell_type": "code",
      "source": [],
      "metadata": {
        "id": "bc9ReokiuNXf"
      },
      "execution_count": null,
      "outputs": []
    },
    {
      "cell_type": "code",
      "source": [],
      "metadata": {
        "id": "mTJKmDVluNUH"
      },
      "execution_count": null,
      "outputs": []
    },
    {
      "cell_type": "code",
      "source": [],
      "metadata": {
        "id": "_TKeeBA5uNRK"
      },
      "execution_count": null,
      "outputs": []
    },
    {
      "cell_type": "code",
      "source": [],
      "metadata": {
        "id": "Y7gFCBFquNOS"
      },
      "execution_count": null,
      "outputs": []
    },
    {
      "cell_type": "code",
      "source": [],
      "metadata": {
        "id": "0hhTY_Q6uNLi"
      },
      "execution_count": null,
      "outputs": []
    },
    {
      "cell_type": "code",
      "source": [],
      "metadata": {
        "id": "CFpLhWKFuNI2"
      },
      "execution_count": null,
      "outputs": []
    },
    {
      "cell_type": "code",
      "source": [],
      "metadata": {
        "id": "RJ3egVG5uNGR"
      },
      "execution_count": null,
      "outputs": []
    },
    {
      "cell_type": "code",
      "source": [],
      "metadata": {
        "id": "GyV8uk_ouNDp"
      },
      "execution_count": null,
      "outputs": []
    },
    {
      "cell_type": "code",
      "source": [],
      "metadata": {
        "id": "v-jdxSrzuNBD"
      },
      "execution_count": null,
      "outputs": []
    },
    {
      "cell_type": "code",
      "source": [],
      "metadata": {
        "id": "027AR1JauM-L"
      },
      "execution_count": null,
      "outputs": []
    },
    {
      "cell_type": "code",
      "source": [],
      "metadata": {
        "id": "dHmlNUFUuM2i"
      },
      "execution_count": null,
      "outputs": []
    },
    {
      "cell_type": "code",
      "source": [],
      "metadata": {
        "id": "sZjO0FwUuMzK"
      },
      "execution_count": null,
      "outputs": []
    },
    {
      "cell_type": "code",
      "source": [],
      "metadata": {
        "id": "xI4oRp7ouMwM"
      },
      "execution_count": null,
      "outputs": []
    }
  ],
  "metadata": {
    "colab": {
      "name": "Welcome to Colab",
      "toc_visible": true,
      "provenance": [],
      "include_colab_link": true
    },
    "kernelspec": {
      "display_name": "Python 3",
      "name": "python3"
    }
  },
  "nbformat": 4,
  "nbformat_minor": 0
}