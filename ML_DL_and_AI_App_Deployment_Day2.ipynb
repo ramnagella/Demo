{
  "cells": [
    {
      "cell_type": "markdown",
      "metadata": {
        "id": "view-in-github",
        "colab_type": "text"
      },
      "source": [
        "<a href=\"https://colab.research.google.com/github/ramnagella/Demo/blob/master/ML_DL_and_AI_App_Deployment_Day2.ipynb\" target=\"_parent\"><img src=\"https://colab.research.google.com/assets/colab-badge.svg\" alt=\"Open In Colab\"/></a>"
      ]
    },
    {
      "cell_type": "code",
      "source": [
        "#ML DL and AI application Deployment 17-April-2025\n",
        "'''\n",
        "Discussed heart disesase problem and also discussed abt encoders ...\n",
        "\n",
        "in ML_MODEL_DEPLOYMENT_WEB_APP Folder\n",
        "\n",
        "#ML DL and AI application Deployment 22-April-2025 also discussed above problem\n",
        "\n",
        "Discussed app.py and other files in ML_MODEL_DEPLOYMENT_WEB_APP Folder\n",
        "flask used for web app developement\n",
        "\n",
        "127.0.0.1:5000/predcit\n",
        "Before writing the code in app.py install flask using pip install flask from command prompt or terminal in VS code\n",
        "after extracting the data from the request form\n",
        "first getbthe keys and try foe conders in app.py file\n",
        "dont use fit_tranform method for unknown data we can use transform method ZERO in the last means everything is stored in array format\n",
        "fetching first value that is the reason zero\n",
        "\n",
        "Without scaling and encoding wecant get the prediction\n",
        "because in the form we are entering categorical values ,so after getting the data from the form\n",
        "we need to go with encoding and scaling processes\n",
        "\n",
        "render the result into the template\n",
        "\n",
        "\n",
        "\n",
        "\n",
        "\n",
        "'''\n",
        "\n"
      ],
      "metadata": {
        "id": "UGJEM3VrViVH"
      },
      "execution_count": null,
      "outputs": []
    },
    {
      "cell_type": "code",
      "source": [
        "#ML DL and AI application Deployment 24-April-2025\n",
        "\n",
        "'''\n",
        "\n",
        "in index.html all the values refered with name tag ===\n",
        "\n",
        "Age: <input type=\"text\" name=\"Age\"><br>\n",
        "\n",
        " <h2 style=\"background:#80f474\">{{ prediction_text }}</h2> shows the output format\n",
        " it is zina template\n",
        " double curly braces uses for o/p\n",
        "\n",
        "It will be showing in the header.That's why I'm mentioning open and close double curly brace.\n",
        "if you are giving a single curly brace that is a different thing.\n",
        "\n",
        "that result goes to below line of code in app.py\n",
        " # Render the result in the HTML page\n",
        "        return render_template('index.html', prediction_text=result)\n",
        "\n",
        "        how to execute the app.py program\n",
        "        go to command prompt or terminal and run the as # python app.py\n",
        "if any error try to install pip install pandas or unintsall numpy and intsall pandas\n",
        "and numpy\n",
        "\n",
        "in  the browse http://127.0.0.1:5000\n",
        "\n",
        "After this explained Encoders which is there in AI_ML_DL_Application_Developementfolder in Encoders folder\n",
        "\n",
        "https://github.com/johnpaulantony/AI_ML_DL_Application-Development/blob/main/Encoders/Encoders.ipynb\n",
        "\n",
        "\n",
        "on-hot encosers example colours\n",
        "\n",
        "X    Y    Colours will be like this X    Y    Colours Colour_Red Colour_Blue Colour_Green Colour_Orange\n",
        "          RED                                          1               0               0               0\n",
        "          BLUE                                         0               1               0               0\n",
        "          GREEN                                        0               0               1               0\n",
        "          ORANGE                                       0               0               0               1\n",
        "          RED                                          1               0               0               0\n",
        "          BLUE                                         0               1               0               0\n",
        "          GREEN                                        0               0               1               0\n",
        "          ORANGE                                       0               0               0               1\n",
        "          RED                                          1               0               0               0\n",
        "          BLUE                                         0               1               0               0\n",
        "          GREEN\n",
        "          ORANGE\n",
        "\n",
        "Because of this we can get more accuracy becasue of carinality extension\n",
        "in the question if we give more clues will get the answer easily less clues more difficult tp get answer\n",
        "disadvantage if if we have more catefories it will bwecome more complex like 100 categories\n",
        "\n",
        "ordinal encoding ---is similar to label but it will give RANKINGS and label will not suitable for this data\n",
        "Mean encoding ----Repeated pincode of the employess in this case will calculate the mean of pincode like hown many times\n",
        "occurs in the total pincode numbers\n",
        "2/20\n",
        "Frequency Encoding ----the mean represents the average value of a dataset, while frequency indicates how often a particular value or event occurs within that dataset\n",
        "Mean encoding replaces categories with the mean of the target variable for that category, while frequency encoding replaces categories with their frequency of occurrence in the dataset\n",
        "\n",
        "\n",
        "\n",
        "\n",
        "\n",
        "'''\n",
        "\n",
        "\n"
      ],
      "metadata": {
        "id": "SzLFnn2LViRt"
      },
      "execution_count": null,
      "outputs": []
    },
    {
      "cell_type": "code",
      "source": [
        "#ML DL and AI application Deployment 29-April-2025\n",
        "\n",
        "'''\n",
        "Explained encoders using titaninc data and other data which is suitable for encoders\n",
        "Onehot encinding will use in DL and NN models  mostly used linear models.\n",
        "There are two different matrix actually.\n",
        "One Is a dense matrix and another one is a sparse matrix.\n",
        "So if we doent  want put in a sparse matrix formant order.\n",
        "\n",
        "Definitely you can set false. if you want to set true, you will get a sparse matrix format.\n",
        "Bydefaukt in one hot encoding it will create sparse matrix or denae matrix  it is binary\n",
        "onehot_encoder=OneHotEncoder(sparse_output=False)\n",
        "\n",
        "sample_data=X_test.iloc[0:1]\n",
        "\n",
        "tesing for only one record that is 0th record\n",
        "To improve accuracy retrain the model or fine tune the params or use other algs\n",
        "vvv\n",
        "\n",
        "\n",
        "'''\n"
      ],
      "metadata": {
        "id": "rWZ_sqEWViO2"
      },
      "execution_count": null,
      "outputs": []
    },
    {
      "cell_type": "code",
      "source": [
        "#ML DL and AI application Deployment 13-May-2025\n",
        "\n",
        "'''\n",
        "Precission,accuracy,recall,F1Score and confusion matrix\n",
        "hyper parameter tuning ,featire scaling like choosing the correct features ,extend the featues\n",
        "or re-train the model or fine tune the params or use other algs\n",
        "Hyper parameter tuning --in DT max depth inxrease or decrease to improve the accuracy\n",
        "Hyper parameter tuning--is config value set before the learning value begins\n",
        "these values controls how our model learns and influence the structure and speed and accuracy\n",
        "it will not learnt from the data it is manual\n",
        "automated ones are\n",
        "1)grid search Cross validation small space like 3,4 6 in DT depths it is slow one and 2)\n",
        " randamised serach CV it wil, take values randoimly like 2,6,5,or 6,4,2  it is fast when compared with grid\n",
        "and 3)Bayesian optimization is best one when compared with above two fast and efficicent huge data use this\n",
        "\n",
        "See the folde FinTuning the ML folder and examples of titanic\n",
        "\n",
        "LR ---None ro finetune\n",
        "DT---Entroy,max_depth,min samples split--to find these values will use/best hyper params and values\n",
        "RF---no of estimators,max depth,max-features\n",
        "KNN----n-neighbours,metrics\n",
        "SVM----C,kernal\n",
        "NN--no of epochs,learning rate ,batch size,layers\n",
        "each abd every alg have multiple parameters\n",
        "\n",
        "\n",
        "\n",
        "------------------------\n",
        "\n",
        "\n",
        "\n",
        "'''"
      ],
      "metadata": {
        "id": "YWxLOc8AViL3"
      },
      "execution_count": null,
      "outputs": []
    },
    {
      "cell_type": "code",
      "source": [
        "#ML DL and AI application Deployment 15-May-2025 and 20-May-2025\n",
        "'''\n",
        "Explained abt ML and DL differences and NLP Basic terminologies .\n",
        "\n",
        "\n",
        "'''"
      ],
      "metadata": {
        "id": "YnPUa5NCViJT"
      },
      "execution_count": null,
      "outputs": []
    },
    {
      "cell_type": "code",
      "source": [
        "#ML DL and AI application Deployment  22-May-2025\n",
        "\n",
        "'''\n",
        "TextBlob used in auto correct spells in smart phones ,mails ,chats,whatsapp.\n",
        "\n",
        "ectorizer=TfidfVectorizer(max_features=2500,min_df=7,max_df=0.8,stop_words=stopwords.words('english'))\n",
        "\n",
        "7 times it wil train  and each time it will tale 2500 features\n",
        "\n",
        "program is there i sentiment analysis folder\n",
        "try with new_input=[\"I hate NLP\"]\n",
        "new_input=[\"I love NLP\"]\n",
        "This is deve;p[ed usig ML and NLP\n",
        "\n",
        "'''\n",
        "\n",
        "\n",
        "\n",
        "'''"
      ],
      "metadata": {
        "id": "lu-gp2u6ViGt"
      },
      "execution_count": null,
      "outputs": []
    },
    {
      "cell_type": "code",
      "source": [
        "#ML DL and AI application Deployment  26-May-2025\n",
        "\n",
        "'''\n",
        "RNN LSTM (NLP) text if we have text data use Tanh activation function\n",
        "ReLu fucntion we can use o/p layer and i/p to hidden and hidden to hidden and hidden to o/p layer we can use\n",
        "it will work in all the layers like i/p,hidden and o/p layers\n",
        "no of epochs means how many times we are training in the machine\n",
        "RNN---is LSTM is chatgpt what is temparature in banglore chatgopt refers previous quetions or history and provides results\n",
        "in second chat if you type what is tempo in yt will refers previouys chat and answers\n",
        "LSTM is advancement of RNN--\n",
        "Text --means ---RNN\n",
        "Image ---means ----Convolutional NN\n",
        "Structure data ---means Feed forward NN\n",
        "\n",
        "\n",
        "\n",
        "'''\n"
      ],
      "metadata": {
        "id": "_TaVgM5yViEJ"
      },
      "execution_count": null,
      "outputs": []
    },
    {
      "cell_type": "code",
      "source": [
        "#ML DL and AI application Deployment  27-May-2025"
      ],
      "metadata": {
        "id": "A3lkJut9ViB0"
      },
      "execution_count": null,
      "outputs": []
    },
    {
      "cell_type": "code",
      "source": [],
      "metadata": {
        "id": "ZBgjOknhVh_b"
      },
      "execution_count": null,
      "outputs": []
    }
  ],
  "metadata": {
    "colab": {
      "name": "Welcome to Colab",
      "toc_visible": true,
      "provenance": [],
      "include_colab_link": true
    },
    "kernelspec": {
      "display_name": "Python 3",
      "name": "python3"
    }
  },
  "nbformat": 4,
  "nbformat_minor": 0
}