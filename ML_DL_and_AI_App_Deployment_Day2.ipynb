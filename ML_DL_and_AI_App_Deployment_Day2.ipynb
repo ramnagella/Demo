{
  "cells": [
    {
      "cell_type": "markdown",
      "metadata": {
        "id": "view-in-github",
        "colab_type": "text"
      },
      "source": [
        "<a href=\"https://colab.research.google.com/github/ramnagella/Demo/blob/master/ML_DL_and_AI_App_Deployment_Day2.ipynb\" target=\"_parent\"><img src=\"https://colab.research.google.com/assets/colab-badge.svg\" alt=\"Open In Colab\"/></a>"
      ]
    },
    {
      "cell_type": "code",
      "source": [
        "#ML DL and AI application Deployment 17-April-2025\n",
        "'''\n",
        "Discussed heart disesase problem and also discussed abt encoders ...\n",
        "\n",
        "in ML_MODEL_DEPLOYMENT_WEB_APP Folder\n",
        "\n",
        "#ML DL and AI application Deployment 22-April-2025 also discussed above problem\n",
        "\n",
        "Discussed app.py and other files in ML_MODEL_DEPLOYMENT_WEB_APP Folder\n",
        "flask used for web app developement\n",
        "\n",
        "127.0.0.1:5000/predcit\n",
        "Before writing the code in app.py install flask using pip install flask from command prompt or terminal in VS code\n",
        "after extracting the data from the request form\n",
        "first getbthe keys and try foe conders in app.py file\n",
        "dont use fit_tranform method for unknown data we can use transform method ZERO in the last means everything is stored in array format\n",
        "fetching first value that is the reason zero\n",
        "\n",
        "Without scaling and encoding wecant get the prediction\n",
        "because in the form we are entering categorical values ,so after getting the data from the form\n",
        "we need to go with encoding and scaling processes\n",
        "\n",
        "render the result into the template\n",
        "\n",
        "\n",
        "\n",
        "\n",
        "\n",
        "'''\n",
        "\n"
      ],
      "metadata": {
        "id": "UGJEM3VrViVH"
      },
      "execution_count": null,
      "outputs": []
    },
    {
      "cell_type": "code",
      "source": [
        "#ML DL and AI application Deployment 24-April-2025\n",
        "\n",
        "'''\n",
        "\n",
        "\n",
        "\n",
        "\n",
        "\n",
        "\n",
        "'''"
      ],
      "metadata": {
        "id": "SzLFnn2LViRt"
      },
      "execution_count": null,
      "outputs": []
    },
    {
      "cell_type": "code",
      "source": [],
      "metadata": {
        "id": "rWZ_sqEWViO2"
      },
      "execution_count": null,
      "outputs": []
    },
    {
      "cell_type": "code",
      "source": [],
      "metadata": {
        "id": "YWxLOc8AViL3"
      },
      "execution_count": null,
      "outputs": []
    },
    {
      "cell_type": "code",
      "source": [],
      "metadata": {
        "id": "YnPUa5NCViJT"
      },
      "execution_count": null,
      "outputs": []
    },
    {
      "cell_type": "code",
      "source": [],
      "metadata": {
        "id": "lu-gp2u6ViGt"
      },
      "execution_count": null,
      "outputs": []
    },
    {
      "cell_type": "code",
      "source": [],
      "metadata": {
        "id": "_TaVgM5yViEJ"
      },
      "execution_count": null,
      "outputs": []
    },
    {
      "cell_type": "code",
      "source": [],
      "metadata": {
        "id": "A3lkJut9ViB0"
      },
      "execution_count": null,
      "outputs": []
    },
    {
      "cell_type": "code",
      "source": [],
      "metadata": {
        "id": "ZBgjOknhVh_b"
      },
      "execution_count": null,
      "outputs": []
    }
  ],
  "metadata": {
    "colab": {
      "name": "Welcome to Colab",
      "toc_visible": true,
      "provenance": [],
      "include_colab_link": true
    },
    "kernelspec": {
      "display_name": "Python 3",
      "name": "python3"
    }
  },
  "nbformat": 4,
  "nbformat_minor": 0
}