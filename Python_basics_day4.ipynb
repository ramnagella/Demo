{
  "cells": [
    {
      "cell_type": "markdown",
      "metadata": {
        "id": "view-in-github",
        "colab_type": "text"
      },
      "source": [
        "<a href=\"https://colab.research.google.com/github/ramnagella/Demo/blob/master/Python_basics_day4.ipynb\" target=\"_parent\"><img src=\"https://colab.research.google.com/assets/colab-badge.svg\" alt=\"Open In Colab\"/></a>"
      ]
    },
    {
      "cell_type": "code",
      "source": [
        "#Python_basics_day4---24-07-2025\n",
        "#Operators\n",
        "'''membership operators---in,not in --check the element in present, or not in the sequesnce of elements in the\n",
        "object\n",
        "identity operator ---is, is not---we need to check data type and also memory address will be same or not\n",
        "identity of two objects.None '''\n"
      ],
      "metadata": {
        "id": "T-luYvZpaWX9"
      },
      "execution_count": null,
      "outputs": []
    },
    {
      "cell_type": "code",
      "source": [
        "li=[1,2,3,4,5,6]\n",
        "7 not in li"
      ],
      "metadata": {
        "colab": {
          "base_uri": "https://localhost:8080/"
        },
        "id": "JW3AIejrhmbe",
        "outputId": "b7be7abc-0432-4fa3-dbab-07c4e3646b24"
      },
      "execution_count": 2,
      "outputs": [
        {
          "output_type": "execute_result",
          "data": {
            "text/plain": [
              "True"
            ]
          },
          "metadata": {},
          "execution_count": 2
        }
      ]
    },
    {
      "cell_type": "code",
      "source": [
        "li=[1,2,3,4,5,6]\n",
        "5 not in li"
      ],
      "metadata": {
        "colab": {
          "base_uri": "https://localhost:8080/"
        },
        "id": "eH9uAozwilq8",
        "outputId": "251fbf65-fb9d-4695-aa4d-4ca90a62e41e"
      },
      "execution_count": 4,
      "outputs": [
        {
          "output_type": "execute_result",
          "data": {
            "text/plain": [
              "False"
            ]
          },
          "metadata": {},
          "execution_count": 4
        }
      ]
    },
    {
      "cell_type": "code",
      "source": [
        "a=[1,2,3]\n",
        "print(id(a))\n",
        "b=[1,2,3]\n",
        "print(id(b))"
      ],
      "metadata": {
        "colab": {
          "base_uri": "https://localhost:8080/"
        },
        "id": "7w0WKQo_iHNT",
        "outputId": "a79acb9e-6d53-44ac-e7f5-198310c2d1ed"
      },
      "execution_count": 3,
      "outputs": [
        {
          "output_type": "stream",
          "name": "stdout",
          "text": [
            "140601353659072\n",
            "140601353652672\n"
          ]
        }
      ]
    },
    {
      "cell_type": "code",
      "source": [
        "a=[1,2,3]\n",
        "print(id(a))\n",
        "b=[1,2,3]\n",
        "print(id(b))\n",
        "a==b #data type and values"
      ],
      "metadata": {
        "colab": {
          "base_uri": "https://localhost:8080/"
        },
        "id": "5hkX4mbTi0tH",
        "outputId": "1e21be97-d9c1-447d-abee-742fd7f342b6"
      },
      "execution_count": 5,
      "outputs": [
        {
          "output_type": "stream",
          "name": "stdout",
          "text": [
            "140601354929344\n",
            "140601355090752\n"
          ]
        },
        {
          "output_type": "execute_result",
          "data": {
            "text/plain": [
              "True"
            ]
          },
          "metadata": {},
          "execution_count": 5
        }
      ]
    },
    {
      "cell_type": "code",
      "source": [
        "a is b # checking memory address of a and b"
      ],
      "metadata": {
        "colab": {
          "base_uri": "https://localhost:8080/"
        },
        "id": "8Cowj18Gi-bH",
        "outputId": "b0550348-e8f9-473b-ab38-54898eb193a0"
      },
      "execution_count": 6,
      "outputs": [
        {
          "output_type": "execute_result",
          "data": {
            "text/plain": [
              "False"
            ]
          },
          "metadata": {},
          "execution_count": 6
        }
      ]
    },
    {
      "cell_type": "code",
      "source": [
        "a=10\n",
        "print(id(a))\n",
        "b=10\n",
        "print(id(b))\n",
        "a is b"
      ],
      "metadata": {
        "colab": {
          "base_uri": "https://localhost:8080/"
        },
        "id": "m61A2q_HqehW",
        "outputId": "2c2cae70-1d35-4b93-8728-38ce9d644700"
      },
      "execution_count": 7,
      "outputs": [
        {
          "output_type": "stream",
          "name": "stdout",
          "text": [
            "10751144\n",
            "10751144\n"
          ]
        },
        {
          "output_type": "execute_result",
          "data": {
            "text/plain": [
              "True"
            ]
          },
          "metadata": {},
          "execution_count": 7
        }
      ]
    },
    {
      "cell_type": "code",
      "source": [
        "numbers=[1,2,3,4,5,6]\n",
        "numbers_new=[1,2,4,5,6,8]\n",
        "numbers is numbers_new\n"
      ],
      "metadata": {
        "colab": {
          "base_uri": "https://localhost:8080/"
        },
        "id": "afkajM7mqu7b",
        "outputId": "5e3fb96e-63de-4124-fd3a-90e36d6857c9"
      },
      "execution_count": 10,
      "outputs": [
        {
          "output_type": "execute_result",
          "data": {
            "text/plain": [
              "False"
            ]
          },
          "metadata": {},
          "execution_count": 10
        }
      ]
    },
    {
      "cell_type": "code",
      "source": [
        "#is and is not"
      ],
      "metadata": {
        "id": "vsU--4Bkr2GW"
      },
      "execution_count": null,
      "outputs": []
    },
    {
      "cell_type": "code",
      "source": [
        "#conditional--if elif else\n",
        "readings=[20.4,20,2,40,60,45,7,67.8,8]\n",
        ">40\n",
        ">10 and <40\n",
        "<10"
      ],
      "metadata": {
        "id": "tQsX5mPErYXF"
      },
      "execution_count": null,
      "outputs": []
    },
    {
      "cell_type": "code",
      "source": [
        "#unconditional statements like break continue pass\n",
        "#break------if the conditoion is true means exit from the loop ---ex bank accoun id and pin matched do the process otherwise  wrong pin means exit or break\n",
        "#coninue----i want to skip the iteration --ex --set of elements if you want o select odd or even continue\n",
        "#-----------ex filter elements in an object like age of employee or salary\n",
        "#pass ------create a class inside class lot of methods ,initial state methid or functions or class are emoty ,if you want to do any action after creating any instance of class\n",
        "#-----------at that time method is going to create based on class at that we can use pass.\n",
        "#-----------want to nake transaction ---"
      ],
      "metadata": {
        "id": "xzcVKOLQwzu-"
      },
      "execution_count": null,
      "outputs": []
    },
    {
      "cell_type": "code",
      "source": [
        "numbers=[100,200,300,400,500]\n",
        "for number in numbers:\n",
        "  if number==400:\n",
        "    break\n",
        "  else:\n",
        "      print(number)\n",
        "#try the same program with other conditions like < > =="
      ],
      "metadata": {
        "id": "GkuP1SbB6g0o",
        "outputId": "aa7fa0aa-f9d5-41af-9a23-fbef4a4ed6fc",
        "colab": {
          "base_uri": "https://localhost:8080/"
        }
      },
      "execution_count": 8,
      "outputs": [
        {
          "output_type": "stream",
          "name": "stdout",
          "text": [
            "100\n",
            "200\n",
            "300\n"
          ]
        }
      ]
    },
    {
      "cell_type": "code",
      "source": [
        "employee_id=[101,102,103,104,105,106]\n",
        "search_id=104\n",
        "for id in employee_id:\n",
        "  if id == search_id:\n",
        "    print(id)\n",
        "    break"
      ],
      "metadata": {
        "id": "uO7qs01a7Rmf",
        "outputId": "2932a4b8-f6e9-48b0-e224-812c4c652e7a",
        "colab": {
          "base_uri": "https://localhost:8080/"
        }
      },
      "execution_count": 9,
      "outputs": [
        {
          "output_type": "stream",
          "name": "stdout",
          "text": [
            "104\n"
          ]
        }
      ]
    },
    {
      "cell_type": "code",
      "source": [
        "numbers=[100,200,300,400,500]\n",
        "for number in numbers:\n",
        "  if number==400:\n",
        "    continue\n",
        "  else:\n",
        "      print(number)\n",
        "#try the same program with other conditions like < > ==\n",
        "# continue statment use is skip th iteration"
      ],
      "metadata": {
        "id": "AAtEl8av8ZRa",
        "outputId": "ca1509a7-d59f-4f20-e427-586e4b29b47b",
        "colab": {
          "base_uri": "https://localhost:8080/"
        }
      },
      "execution_count": 10,
      "outputs": [
        {
          "output_type": "stream",
          "name": "stdout",
          "text": [
            "100\n",
            "200\n",
            "300\n",
            "500\n"
          ]
        }
      ]
    },
    {
      "cell_type": "code",
      "source": [
        "money=[500,700,900,1000,2000,5000,4000,3000]\n",
        "for m in money:\n",
        "  if m > 500:\n",
        "    continue\n",
        "  else:\n",
        "    print(m)\n"
      ],
      "metadata": {
        "id": "tQ1ee1oj97kD",
        "outputId": "d735268c-b48d-4e02-d997-81b95c126509",
        "colab": {
          "base_uri": "https://localhost:8080/"
        }
      },
      "execution_count": 12,
      "outputs": [
        {
          "output_type": "stream",
          "name": "stdout",
          "text": [
            "500\n"
          ]
        }
      ]
    },
    {
      "cell_type": "code",
      "source": [
        "money=[500,700,900,1000,2000,5000,4000,3000]\n",
        "for m in money:\n",
        "  if m > 900:\n",
        "    continue\n",
        "  else:\n",
        "    print(m)\n"
      ],
      "metadata": {
        "id": "3MQnMkzd-1nb",
        "outputId": "1533fda6-983e-4a19-bd2d-3bf43fdcb324",
        "colab": {
          "base_uri": "https://localhost:8080/"
        }
      },
      "execution_count": 14,
      "outputs": [
        {
          "output_type": "stream",
          "name": "stdout",
          "text": [
            "500\n",
            "700\n",
            "900\n"
          ]
        }
      ]
    },
    {
      "cell_type": "code",
      "source": [
        "money=[500,700,900,1000,2000,5000,4000,3000]\n",
        "for m in money:\n",
        "  if m == 500:\n",
        "    continue\n",
        "  else:\n",
        "    print(m)"
      ],
      "metadata": {
        "id": "y0dMBFOJ-cfg",
        "outputId": "c115b247-c1b7-4864-8037-089b5c76f258",
        "colab": {
          "base_uri": "https://localhost:8080/"
        }
      },
      "execution_count": 13,
      "outputs": [
        {
          "output_type": "stream",
          "name": "stdout",
          "text": [
            "700\n",
            "900\n",
            "1000\n",
            "2000\n",
            "5000\n",
            "4000\n",
            "3000\n"
          ]
        }
      ]
    },
    {
      "cell_type": "code",
      "source": [
        "money=[500,700,900,1000,2000,5000,4000,350,3000]\n",
        "m_list=[]\n",
        "for m in money:\n",
        "  if m >= 1000:\n",
        "    continue\n",
        "  else:\n",
        "    m_list.append(m)\n",
        "print(m_list)"
      ],
      "metadata": {
        "id": "YrvEW8dO-nKM",
        "outputId": "550ef2ed-4b59-4303-afea-c8e4ae466512",
        "colab": {
          "base_uri": "https://localhost:8080/"
        }
      },
      "execution_count": 17,
      "outputs": [
        {
          "output_type": "stream",
          "name": "stdout",
          "text": [
            "[500, 700, 900, 350]\n"
          ]
        }
      ]
    },
    {
      "cell_type": "code",
      "source": [
        "transactions=[150,-45,100,-60,400,1000,-75,200,500]\n",
        "for amount in transactions:\n",
        "  if amount < 0:\n",
        "    print(f\"invalid transaction amount {amount} skipped\")\n",
        "    continue\n",
        "  else:\n",
        "    print(f\"processing transaction amount {amount}\")\n"
      ],
      "metadata": {
        "id": "A-IxpagVADyx",
        "outputId": "ece29ce7-3a95-447b-d433-8a3ce1c70f00",
        "colab": {
          "base_uri": "https://localhost:8080/"
        }
      },
      "execution_count": 21,
      "outputs": [
        {
          "output_type": "stream",
          "name": "stdout",
          "text": [
            "processing transaction amount 150\n",
            "invalid transaction amount -45 skipped\n",
            "processing transaction amount 100\n",
            "invalid transaction amount -60 skipped\n",
            "processing transaction amount 400\n",
            "processing transaction amount 1000\n",
            "invalid transaction amount -75 skipped\n",
            "processing transaction amount 200\n",
            "processing transaction amount 500\n"
          ]
        }
      ]
    },
    {
      "cell_type": "code",
      "source": [
        "#pass ---\n",
        "# if you want to create any empty function or class or methods\n",
        "def action():\n",
        "  pass\n",
        "# run this program with and without pass\n",
        "\n"
      ],
      "metadata": {
        "id": "9OTh81NmCHo5",
        "outputId": "24013a01-b2f3-469a-eb9d-742b004d4b2c",
        "colab": {
          "base_uri": "https://localhost:8080/",
          "height": 106
        }
      },
      "execution_count": 24,
      "outputs": [
        {
          "output_type": "error",
          "ename": "SyntaxError",
          "evalue": "incomplete input (<ipython-input-24-6a0968e5cf71>, line 4)",
          "traceback": [
            "\u001b[0;36m  File \u001b[0;32m\"<ipython-input-24-6a0968e5cf71>\"\u001b[0;36m, line \u001b[0;32m4\u001b[0m\n\u001b[0;31m    \u001b[0m\n\u001b[0m    ^\u001b[0m\n\u001b[0;31mSyntaxError\u001b[0m\u001b[0;31m:\u001b[0m incomplete input\n"
          ]
        }
      ]
    },
    {
      "cell_type": "code",
      "source": [
        "class Employee:\n",
        "  def __init__(self,name):\n",
        "    self.name=name\n",
        "  def work(self):\n",
        "    pass\n",
        "  def take_break(self):\n",
        "    pass\n",
        "\n",
        "# in python we cant create empty class,function or method without pass\n",
        "#self refers to the current instance of employee class\n",
        "# emp is instance of class employee and passing the name any name\n",
        "# emp referring the self keyword def _init_(self,name) is a constructor,and self,name is instance attribute\n",
        "#"
      ],
      "metadata": {
        "id": "AZEC8qBGDfrN"
      },
      "execution_count": 30,
      "outputs": []
    },
    {
      "cell_type": "code",
      "source": [
        "emp=Employee('Ram')\n",
        "emp_one=Employee('shyam')\n",
        "emp_two=Employee('hari')\n"
      ],
      "metadata": {
        "id": "2dbwrYtMEaCX"
      },
      "execution_count": 31,
      "outputs": []
    },
    {
      "cell_type": "code",
      "source": [
        "emp.work()"
      ],
      "metadata": {
        "id": "pN3jZdv0ITkU"
      },
      "execution_count": 32,
      "outputs": []
    },
    {
      "cell_type": "code",
      "source": [
        "emp.name"
      ],
      "metadata": {
        "id": "PpMz5bImIdUJ",
        "outputId": "26670d06-720f-425c-9c3f-7ac63345964e",
        "colab": {
          "base_uri": "https://localhost:8080/",
          "height": 35
        }
      },
      "execution_count": 33,
      "outputs": [
        {
          "output_type": "execute_result",
          "data": {
            "text/plain": [
              "'Ram'"
            ],
            "application/vnd.google.colaboratory.intrinsic+json": {
              "type": "string"
            }
          },
          "metadata": {},
          "execution_count": 33
        }
      ]
    },
    {
      "cell_type": "code",
      "source": [
        "emp_two.name"
      ],
      "metadata": {
        "id": "DMpWz7kGJBgk",
        "outputId": "df4af45f-6f8b-4bf0-f504-c3d7ea721cb1",
        "colab": {
          "base_uri": "https://localhost:8080/",
          "height": 35
        }
      },
      "execution_count": 35,
      "outputs": [
        {
          "output_type": "execute_result",
          "data": {
            "text/plain": [
              "'hari'"
            ],
            "application/vnd.google.colaboratory.intrinsic+json": {
              "type": "string"
            }
          },
          "metadata": {},
          "execution_count": 35
        }
      ]
    },
    {
      "cell_type": "code",
      "source": [
        "#I/O formatting\n",
        "a={}\n",
        "type(a)"
      ],
      "metadata": {
        "id": "fi5D-_J-JJdt",
        "outputId": "6868364c-557b-4705-cf59-fbb667cac5d3",
        "colab": {
          "base_uri": "https://localhost:8080/"
        }
      },
      "execution_count": 36,
      "outputs": [
        {
          "output_type": "execute_result",
          "data": {
            "text/plain": [
              "dict"
            ]
          },
          "metadata": {},
          "execution_count": 36
        }
      ]
    },
    {
      "cell_type": "code",
      "source": [
        "a={1,2,3,4,5,}\n",
        "type(a)"
      ],
      "metadata": {
        "id": "NIicoZf3XBI7",
        "outputId": "4b1f7edc-adb4-4e68-8506-0c97515448c4",
        "colab": {
          "base_uri": "https://localhost:8080/"
        }
      },
      "execution_count": 37,
      "outputs": [
        {
          "output_type": "execute_result",
          "data": {
            "text/plain": [
              "set"
            ]
          },
          "metadata": {},
          "execution_count": 37
        }
      ]
    },
    {
      "cell_type": "code",
      "source": [],
      "metadata": {
        "id": "KzHtE0nUXG34"
      },
      "execution_count": null,
      "outputs": []
    }
  ],
  "metadata": {
    "colab": {
      "name": "Welcome to Colab",
      "toc_visible": true,
      "provenance": [],
      "include_colab_link": true
    },
    "kernelspec": {
      "display_name": "Python 3",
      "name": "python3"
    }
  },
  "nbformat": 4,
  "nbformat_minor": 0
}