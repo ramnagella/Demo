{
  "cells": [
    {
      "cell_type": "markdown",
      "metadata": {
        "id": "view-in-github",
        "colab_type": "text"
      },
      "source": [
        "<a href=\"https://colab.research.google.com/github/ramnagella/Demo/blob/master/Python_basics_day4.ipynb\" target=\"_parent\"><img src=\"https://colab.research.google.com/assets/colab-badge.svg\" alt=\"Open In Colab\"/></a>"
      ]
    },
    {
      "cell_type": "code",
      "source": [
        "#Python_basics_day4---24-07-2025\n",
        "#Operators\n",
        "'''membership operators---in,not in --check the element in present, or not in the sequesnce of elements in the\n",
        "object\n",
        "identity operator ---is, is not---we need to check data type and also memory address will be same or not\n",
        "identity of two objects.None '''\n"
      ],
      "metadata": {
        "id": "T-luYvZpaWX9"
      },
      "execution_count": null,
      "outputs": []
    },
    {
      "cell_type": "code",
      "source": [
        "li=[1,2,3,4,5,6]\n",
        "7 not in li"
      ],
      "metadata": {
        "colab": {
          "base_uri": "https://localhost:8080/"
        },
        "id": "JW3AIejrhmbe",
        "outputId": "b7be7abc-0432-4fa3-dbab-07c4e3646b24"
      },
      "execution_count": 2,
      "outputs": [
        {
          "output_type": "execute_result",
          "data": {
            "text/plain": [
              "True"
            ]
          },
          "metadata": {},
          "execution_count": 2
        }
      ]
    },
    {
      "cell_type": "code",
      "source": [
        "li=[1,2,3,4,5,6]\n",
        "5 not in li"
      ],
      "metadata": {
        "colab": {
          "base_uri": "https://localhost:8080/"
        },
        "id": "eH9uAozwilq8",
        "outputId": "251fbf65-fb9d-4695-aa4d-4ca90a62e41e"
      },
      "execution_count": 4,
      "outputs": [
        {
          "output_type": "execute_result",
          "data": {
            "text/plain": [
              "False"
            ]
          },
          "metadata": {},
          "execution_count": 4
        }
      ]
    },
    {
      "cell_type": "code",
      "source": [
        "a=[1,2,3]\n",
        "print(id(a))\n",
        "b=[1,2,3]\n",
        "print(id(b))"
      ],
      "metadata": {
        "colab": {
          "base_uri": "https://localhost:8080/"
        },
        "id": "7w0WKQo_iHNT",
        "outputId": "a79acb9e-6d53-44ac-e7f5-198310c2d1ed"
      },
      "execution_count": 3,
      "outputs": [
        {
          "output_type": "stream",
          "name": "stdout",
          "text": [
            "140601353659072\n",
            "140601353652672\n"
          ]
        }
      ]
    },
    {
      "cell_type": "code",
      "source": [
        "a=[1,2,3]\n",
        "print(id(a))\n",
        "b=[1,2,3]\n",
        "print(id(b))\n",
        "a==b #data type and values"
      ],
      "metadata": {
        "colab": {
          "base_uri": "https://localhost:8080/"
        },
        "id": "5hkX4mbTi0tH",
        "outputId": "1e21be97-d9c1-447d-abee-742fd7f342b6"
      },
      "execution_count": 5,
      "outputs": [
        {
          "output_type": "stream",
          "name": "stdout",
          "text": [
            "140601354929344\n",
            "140601355090752\n"
          ]
        },
        {
          "output_type": "execute_result",
          "data": {
            "text/plain": [
              "True"
            ]
          },
          "metadata": {},
          "execution_count": 5
        }
      ]
    },
    {
      "cell_type": "code",
      "source": [
        "a is b # checking memory address of a and b"
      ],
      "metadata": {
        "colab": {
          "base_uri": "https://localhost:8080/"
        },
        "id": "8Cowj18Gi-bH",
        "outputId": "b0550348-e8f9-473b-ab38-54898eb193a0"
      },
      "execution_count": 6,
      "outputs": [
        {
          "output_type": "execute_result",
          "data": {
            "text/plain": [
              "False"
            ]
          },
          "metadata": {},
          "execution_count": 6
        }
      ]
    },
    {
      "cell_type": "code",
      "source": [
        "a=10\n",
        "print(id(a))\n",
        "b=10\n",
        "print(id(b))\n",
        "a is b"
      ],
      "metadata": {
        "colab": {
          "base_uri": "https://localhost:8080/"
        },
        "id": "m61A2q_HqehW",
        "outputId": "2c2cae70-1d35-4b93-8728-38ce9d644700"
      },
      "execution_count": 7,
      "outputs": [
        {
          "output_type": "stream",
          "name": "stdout",
          "text": [
            "10751144\n",
            "10751144\n"
          ]
        },
        {
          "output_type": "execute_result",
          "data": {
            "text/plain": [
              "True"
            ]
          },
          "metadata": {},
          "execution_count": 7
        }
      ]
    },
    {
      "cell_type": "code",
      "source": [
        "numbers=[1,2,3,4,5,6]\n",
        "numbers_new=[1,2,4,5,6,8]\n",
        "numbers is numbers_new\n"
      ],
      "metadata": {
        "colab": {
          "base_uri": "https://localhost:8080/"
        },
        "id": "afkajM7mqu7b",
        "outputId": "5e3fb96e-63de-4124-fd3a-90e36d6857c9"
      },
      "execution_count": 10,
      "outputs": [
        {
          "output_type": "execute_result",
          "data": {
            "text/plain": [
              "False"
            ]
          },
          "metadata": {},
          "execution_count": 10
        }
      ]
    },
    {
      "cell_type": "code",
      "source": [
        "#is and is not"
      ],
      "metadata": {
        "id": "vsU--4Bkr2GW"
      },
      "execution_count": null,
      "outputs": []
    },
    {
      "cell_type": "code",
      "source": [
        "#conditional--if elif else\n",
        "readings=[20.4,20,2,40,60,45,7,67.8,8]\n",
        ">40\n",
        ">10 and <40\n",
        "<10"
      ],
      "metadata": {
        "id": "tQsX5mPErYXF"
      },
      "execution_count": null,
      "outputs": []
    },
    {
      "cell_type": "code",
      "source": [
        "#unconditional statements like break continue pass\n",
        "#break------if the conditoion is true means exit from the loop ---ex bank accoun id and pin matched do the process otherwise  wrong pin means exit or break\n",
        "#coninue----i want to skip the iteration --ex --set of elements if you want o select odd or even continue\n",
        "#-----------ex filter elements in an object like age of employee or salary\n",
        "#pass ------create a class inside class lot of methods ,initial state methid or functions or class are emoty ,if you want to do any action after creating any instance of class\n",
        "#-----------at that time method is going to create based on class at that we can use pass.\n",
        "#-----------want to nake transaction ---"
      ],
      "metadata": {
        "id": "xzcVKOLQwzu-"
      },
      "execution_count": null,
      "outputs": []
    }
  ],
  "metadata": {
    "colab": {
      "name": "Welcome to Colab",
      "toc_visible": true,
      "provenance": [],
      "include_colab_link": true
    },
    "kernelspec": {
      "display_name": "Python 3",
      "name": "python3"
    }
  },
  "nbformat": 4,
  "nbformat_minor": 0
}