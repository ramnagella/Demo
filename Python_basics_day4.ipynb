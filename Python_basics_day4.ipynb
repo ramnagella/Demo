{
  "cells": [
    {
      "cell_type": "markdown",
      "metadata": {
        "id": "view-in-github",
        "colab_type": "text"
      },
      "source": [
        "<a href=\"https://colab.research.google.com/github/ramnagella/Demo/blob/master/Python_basics_day4.ipynb\" target=\"_parent\"><img src=\"https://colab.research.google.com/assets/colab-badge.svg\" alt=\"Open In Colab\"/></a>"
      ]
    },
    {
      "cell_type": "code",
      "source": [
        "#Python_basics_day4---24-07-2025\n",
        "#Operators\n",
        "'''membership operators---in,not in --check the element in present, or not in the sequesnce of elements in the\n",
        "object\n",
        "identity operator ---is, is not---we need to check data type and also memory address will be same or not\n",
        "identity of two objects.None '''\n"
      ],
      "metadata": {
        "id": "T-luYvZpaWX9"
      },
      "execution_count": null,
      "outputs": []
    },
    {
      "cell_type": "code",
      "source": [
        "li=[1,2,3,4,5,6]\n",
        "7 not in li"
      ],
      "metadata": {
        "colab": {
          "base_uri": "https://localhost:8080/"
        },
        "id": "JW3AIejrhmbe",
        "outputId": "b7be7abc-0432-4fa3-dbab-07c4e3646b24"
      },
      "execution_count": 2,
      "outputs": [
        {
          "output_type": "execute_result",
          "data": {
            "text/plain": [
              "True"
            ]
          },
          "metadata": {},
          "execution_count": 2
        }
      ]
    },
    {
      "cell_type": "code",
      "source": [
        "li=[1,2,3,4,5,6]\n",
        "5 not in li"
      ],
      "metadata": {
        "colab": {
          "base_uri": "https://localhost:8080/"
        },
        "id": "eH9uAozwilq8",
        "outputId": "251fbf65-fb9d-4695-aa4d-4ca90a62e41e"
      },
      "execution_count": 4,
      "outputs": [
        {
          "output_type": "execute_result",
          "data": {
            "text/plain": [
              "False"
            ]
          },
          "metadata": {},
          "execution_count": 4
        }
      ]
    },
    {
      "cell_type": "code",
      "source": [
        "a=[1,2,3]\n",
        "print(id(a))\n",
        "b=[1,2,3]\n",
        "print(id(b))"
      ],
      "metadata": {
        "colab": {
          "base_uri": "https://localhost:8080/"
        },
        "id": "7w0WKQo_iHNT",
        "outputId": "a79acb9e-6d53-44ac-e7f5-198310c2d1ed"
      },
      "execution_count": 3,
      "outputs": [
        {
          "output_type": "stream",
          "name": "stdout",
          "text": [
            "140601353659072\n",
            "140601353652672\n"
          ]
        }
      ]
    },
    {
      "cell_type": "code",
      "source": [
        "a=[1,2,3]\n",
        "print(id(a))\n",
        "b=[1,2,3]\n",
        "print(id(b))\n",
        "a==b #data type and values"
      ],
      "metadata": {
        "colab": {
          "base_uri": "https://localhost:8080/"
        },
        "id": "5hkX4mbTi0tH",
        "outputId": "1e21be97-d9c1-447d-abee-742fd7f342b6"
      },
      "execution_count": 5,
      "outputs": [
        {
          "output_type": "stream",
          "name": "stdout",
          "text": [
            "140601354929344\n",
            "140601355090752\n"
          ]
        },
        {
          "output_type": "execute_result",
          "data": {
            "text/plain": [
              "True"
            ]
          },
          "metadata": {},
          "execution_count": 5
        }
      ]
    },
    {
      "cell_type": "code",
      "source": [
        "a is b # checking memory address of a and b"
      ],
      "metadata": {
        "colab": {
          "base_uri": "https://localhost:8080/"
        },
        "id": "8Cowj18Gi-bH",
        "outputId": "b0550348-e8f9-473b-ab38-54898eb193a0"
      },
      "execution_count": 6,
      "outputs": [
        {
          "output_type": "execute_result",
          "data": {
            "text/plain": [
              "False"
            ]
          },
          "metadata": {},
          "execution_count": 6
        }
      ]
    },
    {
      "cell_type": "code",
      "source": [
        "a=10\n",
        "print(id(a))\n",
        "b=10\n",
        "print(id(b))\n",
        "a is b"
      ],
      "metadata": {
        "colab": {
          "base_uri": "https://localhost:8080/"
        },
        "id": "m61A2q_HqehW",
        "outputId": "2c2cae70-1d35-4b93-8728-38ce9d644700"
      },
      "execution_count": 7,
      "outputs": [
        {
          "output_type": "stream",
          "name": "stdout",
          "text": [
            "10751144\n",
            "10751144\n"
          ]
        },
        {
          "output_type": "execute_result",
          "data": {
            "text/plain": [
              "True"
            ]
          },
          "metadata": {},
          "execution_count": 7
        }
      ]
    },
    {
      "cell_type": "code",
      "source": [
        "numbers=[1,2,3,4,5,6]\n",
        "numbers_new=[1,2,4,5,6,8]\n",
        "numbers is numbers_new\n"
      ],
      "metadata": {
        "colab": {
          "base_uri": "https://localhost:8080/"
        },
        "id": "afkajM7mqu7b",
        "outputId": "5e3fb96e-63de-4124-fd3a-90e36d6857c9"
      },
      "execution_count": 10,
      "outputs": [
        {
          "output_type": "execute_result",
          "data": {
            "text/plain": [
              "False"
            ]
          },
          "metadata": {},
          "execution_count": 10
        }
      ]
    },
    {
      "cell_type": "code",
      "source": [
        "#is and is not"
      ],
      "metadata": {
        "id": "vsU--4Bkr2GW"
      },
      "execution_count": null,
      "outputs": []
    },
    {
      "cell_type": "code",
      "source": [
        "#conditional--if elif else\n",
        "readings=[20.4,20,2,40,60,45,7,67.8,8]\n",
        ">40\n",
        ">10 and <40\n",
        "<10"
      ],
      "metadata": {
        "id": "tQsX5mPErYXF"
      },
      "execution_count": null,
      "outputs": []
    },
    {
      "cell_type": "code",
      "source": [
        "#unconditional statements like break continue pass\n",
        "#break------if the conditoion is true means exit from the loop ---ex bank accoun id and pin matched do the process otherwise  wrong pin means exit or break\n",
        "#coninue----i want to skip the iteration --ex --set of elements if you want o select odd or even continue\n",
        "#-----------ex filter elements in an object like age of employee or salary\n",
        "#pass ------create a class inside class lot of methods ,initial state methid or functions or class are emoty ,if you want to do any action after creating any instance of class\n",
        "#-----------at that time method is going to create based on class at that we can use pass.\n",
        "#-----------want to nake transaction ---"
      ],
      "metadata": {
        "id": "xzcVKOLQwzu-"
      },
      "execution_count": null,
      "outputs": []
    },
    {
      "cell_type": "code",
      "source": [
        "numbers=[100,200,300,400,500]\n",
        "for number in numbers:\n",
        "  if number==400:\n",
        "    break\n",
        "  else:\n",
        "      print(number)\n",
        "#try the same program with other conditions like < > =="
      ],
      "metadata": {
        "colab": {
          "base_uri": "https://localhost:8080/"
        },
        "id": "GkuP1SbB6g0o",
        "outputId": "aa7fa0aa-f9d5-41af-9a23-fbef4a4ed6fc"
      },
      "execution_count": 8,
      "outputs": [
        {
          "output_type": "stream",
          "name": "stdout",
          "text": [
            "100\n",
            "200\n",
            "300\n"
          ]
        }
      ]
    },
    {
      "cell_type": "code",
      "source": [
        "employee_id=[101,102,103,104,105,106]\n",
        "search_id=104\n",
        "for id in employee_id:\n",
        "  if id == search_id:\n",
        "    print(id)\n",
        "    break"
      ],
      "metadata": {
        "colab": {
          "base_uri": "https://localhost:8080/"
        },
        "id": "uO7qs01a7Rmf",
        "outputId": "2932a4b8-f6e9-48b0-e224-812c4c652e7a"
      },
      "execution_count": 9,
      "outputs": [
        {
          "output_type": "stream",
          "name": "stdout",
          "text": [
            "104\n"
          ]
        }
      ]
    },
    {
      "cell_type": "code",
      "source": [
        "numbers=[100,200,300,400,500]\n",
        "for number in numbers:\n",
        "  if number==400:\n",
        "    continue\n",
        "  else:\n",
        "      print(number)\n",
        "#try the same program with other conditions like < > ==\n",
        "# continue statment use is skip th iteration"
      ],
      "metadata": {
        "colab": {
          "base_uri": "https://localhost:8080/"
        },
        "id": "AAtEl8av8ZRa",
        "outputId": "ca1509a7-d59f-4f20-e427-586e4b29b47b"
      },
      "execution_count": 10,
      "outputs": [
        {
          "output_type": "stream",
          "name": "stdout",
          "text": [
            "100\n",
            "200\n",
            "300\n",
            "500\n"
          ]
        }
      ]
    },
    {
      "cell_type": "code",
      "source": [
        "money=[500,700,900,1000,2000,5000,4000,3000]\n",
        "for m in money:\n",
        "  if m > 500:\n",
        "    continue\n",
        "  else:\n",
        "    print(m)\n"
      ],
      "metadata": {
        "colab": {
          "base_uri": "https://localhost:8080/"
        },
        "id": "tQ1ee1oj97kD",
        "outputId": "d735268c-b48d-4e02-d997-81b95c126509"
      },
      "execution_count": 12,
      "outputs": [
        {
          "output_type": "stream",
          "name": "stdout",
          "text": [
            "500\n"
          ]
        }
      ]
    },
    {
      "cell_type": "code",
      "source": [
        "money=[500,700,900,1000,2000,5000,4000,3000]\n",
        "for m in money:\n",
        "  if m > 900:\n",
        "    continue\n",
        "  else:\n",
        "    print(m)\n"
      ],
      "metadata": {
        "colab": {
          "base_uri": "https://localhost:8080/"
        },
        "id": "3MQnMkzd-1nb",
        "outputId": "1533fda6-983e-4a19-bd2d-3bf43fdcb324"
      },
      "execution_count": 14,
      "outputs": [
        {
          "output_type": "stream",
          "name": "stdout",
          "text": [
            "500\n",
            "700\n",
            "900\n"
          ]
        }
      ]
    },
    {
      "cell_type": "code",
      "source": [
        "money=[500,700,900,1000,2000,5000,4000,3000]\n",
        "for m in money:\n",
        "  if m == 500:\n",
        "    continue\n",
        "  else:\n",
        "    print(m)"
      ],
      "metadata": {
        "colab": {
          "base_uri": "https://localhost:8080/"
        },
        "id": "y0dMBFOJ-cfg",
        "outputId": "c115b247-c1b7-4864-8037-089b5c76f258"
      },
      "execution_count": 13,
      "outputs": [
        {
          "output_type": "stream",
          "name": "stdout",
          "text": [
            "700\n",
            "900\n",
            "1000\n",
            "2000\n",
            "5000\n",
            "4000\n",
            "3000\n"
          ]
        }
      ]
    },
    {
      "cell_type": "code",
      "source": [
        "money=[500,700,900,1000,2000,5000,4000,350,3000]\n",
        "m_list=[]\n",
        "for m in money:\n",
        "  if m >= 1000:\n",
        "    continue\n",
        "  else:\n",
        "    m_list.append(m)\n",
        "print(m_list)"
      ],
      "metadata": {
        "colab": {
          "base_uri": "https://localhost:8080/"
        },
        "id": "YrvEW8dO-nKM",
        "outputId": "550ef2ed-4b59-4303-afea-c8e4ae466512"
      },
      "execution_count": 17,
      "outputs": [
        {
          "output_type": "stream",
          "name": "stdout",
          "text": [
            "[500, 700, 900, 350]\n"
          ]
        }
      ]
    },
    {
      "cell_type": "code",
      "source": [
        "transactions=[150,-45,100,-60,400,1000,-75,200,500]\n",
        "for amount in transactions:\n",
        "  if amount < 0:\n",
        "    print(f\"invalid transaction amount {amount} skipped\")\n",
        "    continue\n",
        "  else:\n",
        "    print(f\"processing transaction amount {amount}\")\n"
      ],
      "metadata": {
        "colab": {
          "base_uri": "https://localhost:8080/"
        },
        "id": "A-IxpagVADyx",
        "outputId": "ece29ce7-3a95-447b-d433-8a3ce1c70f00"
      },
      "execution_count": 21,
      "outputs": [
        {
          "output_type": "stream",
          "name": "stdout",
          "text": [
            "processing transaction amount 150\n",
            "invalid transaction amount -45 skipped\n",
            "processing transaction amount 100\n",
            "invalid transaction amount -60 skipped\n",
            "processing transaction amount 400\n",
            "processing transaction amount 1000\n",
            "invalid transaction amount -75 skipped\n",
            "processing transaction amount 200\n",
            "processing transaction amount 500\n"
          ]
        }
      ]
    },
    {
      "cell_type": "code",
      "source": [
        "#pass ---\n",
        "# if you want to create any empty function or class or methods\n",
        "def action():\n",
        "  pass\n",
        "# run this program with and without pass\n",
        "\n"
      ],
      "metadata": {
        "colab": {
          "base_uri": "https://localhost:8080/",
          "height": 106
        },
        "id": "9OTh81NmCHo5",
        "outputId": "24013a01-b2f3-469a-eb9d-742b004d4b2c"
      },
      "execution_count": 24,
      "outputs": [
        {
          "output_type": "error",
          "ename": "SyntaxError",
          "evalue": "incomplete input (<ipython-input-24-6a0968e5cf71>, line 4)",
          "traceback": [
            "\u001b[0;36m  File \u001b[0;32m\"<ipython-input-24-6a0968e5cf71>\"\u001b[0;36m, line \u001b[0;32m4\u001b[0m\n\u001b[0;31m    \u001b[0m\n\u001b[0m    ^\u001b[0m\n\u001b[0;31mSyntaxError\u001b[0m\u001b[0;31m:\u001b[0m incomplete input\n"
          ]
        }
      ]
    },
    {
      "cell_type": "code",
      "source": [
        "class Employee:\n",
        "  def __init__(self,name):\n",
        "    self.name=name\n",
        "  def work(self):\n",
        "    pass\n",
        "  def take_break(self):\n",
        "    pass\n",
        "\n",
        "# in python we cant create empty class,function or method without pass\n",
        "#self refers to the current instance of employee class\n",
        "# emp is instance of class employee and passing the name any name\n",
        "# emp referring the self keyword def _init_(self,name) is a constructor,and self,name is instance attribute\n",
        "#"
      ],
      "metadata": {
        "id": "AZEC8qBGDfrN"
      },
      "execution_count": 30,
      "outputs": []
    },
    {
      "cell_type": "code",
      "source": [
        "emp=Employee('Ram')\n",
        "emp_one=Employee('shyam')\n",
        "emp_two=Employee('hari')\n"
      ],
      "metadata": {
        "id": "2dbwrYtMEaCX"
      },
      "execution_count": 31,
      "outputs": []
    },
    {
      "cell_type": "code",
      "source": [
        "emp.work()"
      ],
      "metadata": {
        "id": "pN3jZdv0ITkU"
      },
      "execution_count": 32,
      "outputs": []
    },
    {
      "cell_type": "code",
      "source": [
        "emp.name"
      ],
      "metadata": {
        "colab": {
          "base_uri": "https://localhost:8080/",
          "height": 35
        },
        "id": "PpMz5bImIdUJ",
        "outputId": "26670d06-720f-425c-9c3f-7ac63345964e"
      },
      "execution_count": 33,
      "outputs": [
        {
          "output_type": "execute_result",
          "data": {
            "text/plain": [
              "'Ram'"
            ],
            "application/vnd.google.colaboratory.intrinsic+json": {
              "type": "string"
            }
          },
          "metadata": {},
          "execution_count": 33
        }
      ]
    },
    {
      "cell_type": "code",
      "source": [
        "emp_two.name"
      ],
      "metadata": {
        "colab": {
          "base_uri": "https://localhost:8080/",
          "height": 35
        },
        "id": "DMpWz7kGJBgk",
        "outputId": "df4af45f-6f8b-4bf0-f504-c3d7ea721cb1"
      },
      "execution_count": 35,
      "outputs": [
        {
          "output_type": "execute_result",
          "data": {
            "text/plain": [
              "'hari'"
            ],
            "application/vnd.google.colaboratory.intrinsic+json": {
              "type": "string"
            }
          },
          "metadata": {},
          "execution_count": 35
        }
      ]
    },
    {
      "cell_type": "code",
      "source": [
        "#I/O formatting\n",
        "a={}\n",
        "type(a)"
      ],
      "metadata": {
        "colab": {
          "base_uri": "https://localhost:8080/"
        },
        "id": "fi5D-_J-JJdt",
        "outputId": "6868364c-557b-4705-cf59-fbb667cac5d3"
      },
      "execution_count": 36,
      "outputs": [
        {
          "output_type": "execute_result",
          "data": {
            "text/plain": [
              "dict"
            ]
          },
          "metadata": {},
          "execution_count": 36
        }
      ]
    },
    {
      "cell_type": "code",
      "source": [
        "a={1,2,3,4,5,5,5,5}\n",
        "type(a)\n",
        "a\n",
        "#duplicates values prints once only"
      ],
      "metadata": {
        "colab": {
          "base_uri": "https://localhost:8080/"
        },
        "id": "NIicoZf3XBI7",
        "outputId": "3129114f-176e-4eb7-87c4-702ccf5169f1"
      },
      "execution_count": 38,
      "outputs": [
        {
          "output_type": "execute_result",
          "data": {
            "text/plain": [
              "{1, 2, 3, 4, 5}"
            ]
          },
          "metadata": {},
          "execution_count": 38
        }
      ]
    },
    {
      "cell_type": "code",
      "source": [
        "a={1,3,2,7,4,2}\n",
        "b={2,3,4,1,8,9}\n",
        "a\n",
        "b\n",
        "a.union(b)"
      ],
      "metadata": {
        "colab": {
          "base_uri": "https://localhost:8080/"
        },
        "id": "KzHtE0nUXG34",
        "outputId": "81d61568-1302-40f3-d4ef-f41c3214353e"
      },
      "execution_count": 42,
      "outputs": [
        {
          "output_type": "execute_result",
          "data": {
            "text/plain": [
              "{1, 2, 3, 4, 7, 8, 9}"
            ]
          },
          "metadata": {},
          "execution_count": 42
        }
      ]
    },
    {
      "cell_type": "code",
      "source": [
        "#I/O formatting\n",
        "amount=input(\"Plz enter the amount\")\n",
        "type(amount)\n"
      ],
      "metadata": {
        "colab": {
          "base_uri": "https://localhost:8080/"
        },
        "id": "Htfzk-5rY2t8",
        "outputId": "d2baacdd-cbac-4976-8275-2d285e0736ef"
      },
      "execution_count": 47,
      "outputs": [
        {
          "name": "stdout",
          "output_type": "stream",
          "text": [
            "Plz enter the amount10\n"
          ]
        },
        {
          "output_type": "execute_result",
          "data": {
            "text/plain": [
              "str"
            ]
          },
          "metadata": {},
          "execution_count": 47
        }
      ]
    },
    {
      "cell_type": "code",
      "source": [
        "amount=int(input(\"Plz enter the amount\"))\n",
        "type(amount)\n"
      ],
      "metadata": {
        "colab": {
          "base_uri": "https://localhost:8080/"
        },
        "id": "KLHpFjemZtKQ",
        "outputId": "52f0b37e-5f7e-4273-e988-bcf0da8b9d1d"
      },
      "execution_count": 49,
      "outputs": [
        {
          "name": "stdout",
          "output_type": "stream",
          "text": [
            "Plz enter the amount20\n"
          ]
        },
        {
          "output_type": "execute_result",
          "data": {
            "text/plain": [
              "int"
            ]
          },
          "metadata": {},
          "execution_count": 49
        }
      ]
    },
    {
      "cell_type": "code",
      "source": [
        "amount=float(input(\"Plz enter the amount\"))\n",
        "type(amount)"
      ],
      "metadata": {
        "colab": {
          "base_uri": "https://localhost:8080/"
        },
        "id": "mfWvSHwjZ6Py",
        "outputId": "68f76b68-da23-428b-ef22-bc62a11d9ffd"
      },
      "execution_count": 50,
      "outputs": [
        {
          "name": "stdout",
          "output_type": "stream",
          "text": [
            "Plz enter the amount20\n"
          ]
        },
        {
          "output_type": "execute_result",
          "data": {
            "text/plain": [
              "float"
            ]
          },
          "metadata": {},
          "execution_count": 50
        }
      ]
    },
    {
      "cell_type": "code",
      "source": [
        "#o/p formaT---<3.0 format() after 3.0 f\"\"\""
      ],
      "metadata": {
        "id": "56yl_xhqaEnk"
      },
      "execution_count": null,
      "outputs": []
    },
    {
      "cell_type": "code",
      "source": [
        "#format() lot of confusion,f\"\" is better\n",
        "name = \"Ram\"\n",
        "age=\"45\"\n",
        "print(f\"The name is {name} and age is {age}\")"
      ],
      "metadata": {
        "colab": {
          "base_uri": "https://localhost:8080/"
        },
        "id": "XIAhdK-haZUq",
        "outputId": "507d6506-b6dd-4f20-ebd7-8de861661d2f"
      },
      "execution_count": 51,
      "outputs": [
        {
          "output_type": "stream",
          "name": "stdout",
          "text": [
            "The name is Ram and age is 45\n"
          ]
        }
      ]
    },
    {
      "cell_type": "code",
      "source": [
        "num = 65\n",
        "num_one = 76\n",
        "print(f\"The number  is  {num} and number one is {num_one}\")\n"
      ],
      "metadata": {
        "colab": {
          "base_uri": "https://localhost:8080/"
        },
        "id": "su693f0bdrGO",
        "outputId": "0aede0e1-c214-4209-881b-c8c834b0dac6"
      },
      "execution_count": 53,
      "outputs": [
        {
          "output_type": "stream",
          "name": "stdout",
          "text": [
            "The number  is  65 and number one is 76\n"
          ]
        }
      ]
    },
    {
      "cell_type": "code",
      "source": [
        "num=10\n",
        "print(f\"is number is even? {True if num%2==0 else False}\")\n",
        "# within the curly brace we cant give any string formation.statements in curly braces"
      ],
      "metadata": {
        "colab": {
          "base_uri": "https://localhost:8080/"
        },
        "id": "FbHMGWm7equZ",
        "outputId": "9d678ea3-729a-4e30-f62a-fd2755501b4f"
      },
      "execution_count": 60,
      "outputs": [
        {
          "output_type": "stream",
          "name": "stdout",
          "text": [
            "is number is even? True\n"
          ]
        }
      ]
    },
    {
      "cell_type": "code",
      "source": [
        "author=\"Paul Smith\"\n",
        "a_name=author.title()\n",
        "#print(f\"{a_author} is {author}\")\n",
        "print(f\"this book is by {a_name}\")"
      ],
      "metadata": {
        "colab": {
          "base_uri": "https://localhost:8080/"
        },
        "id": "wA49sp6kgDMz",
        "outputId": "6b086421-04d4-472e-eb0f-a7ffa44fc6c2"
      },
      "execution_count": 67,
      "outputs": [
        {
          "output_type": "stream",
          "name": "stdout",
          "text": [
            "this book is by Paul Smith\n"
          ]
        }
      ]
    },
    {
      "cell_type": "code",
      "source": [
        "num=34\n",
        "num_one= 45\n",
        "print(f\"the sum of numbers is {num+num_one}\")"
      ],
      "metadata": {
        "colab": {
          "base_uri": "https://localhost:8080/"
        },
        "id": "miMo3TuhhjOE",
        "outputId": "66f15eb7-58f5-40b7-95ac-8c694afbbd4a"
      },
      "execution_count": 68,
      "outputs": [
        {
          "output_type": "stream",
          "name": "stdout",
          "text": [
            "the sum of numbers is 79\n"
          ]
        }
      ]
    },
    {
      "cell_type": "code",
      "source": [
        "#Functions---use of return statements---\n",
        "def addition(a,b):#a,b parameters ---formal parameters\n",
        "  c=a+b\n",
        "  print(c)\n",
        "addition(3,2)  #---2,3 are arguments this is called function call--actual parameters\n"
      ],
      "metadata": {
        "colab": {
          "base_uri": "https://localhost:8080/"
        },
        "id": "t4Wl1OTSidec",
        "outputId": "294ef203-ed64-4fb6-94ff-6c4fd342e3dd"
      },
      "execution_count": 71,
      "outputs": [
        {
          "output_type": "stream",
          "name": "stdout",
          "text": [
            "5\n"
          ]
        }
      ]
    },
    {
      "cell_type": "code",
      "source": [
        "def addition(a,b):#a,b parameters ---formal parameters\n",
        "  c=a+b\n",
        "  print(c)\n",
        "print(addition(3,2))  #---2,3 are arguments this is called function call--actual parameters\n",
        "#addition(3,2))  this function is not returning any value that's why prints None\n",
        "# if return statements is there means you will get 3 alone"
      ],
      "metadata": {
        "colab": {
          "base_uri": "https://localhost:8080/"
        },
        "id": "8ABCiVG0B2nh",
        "outputId": "f18fac81-01cb-42e9-8db2-b503ee04b98c"
      },
      "execution_count": 1,
      "outputs": [
        {
          "output_type": "stream",
          "name": "stdout",
          "text": [
            "5\n",
            "None\n"
          ]
        }
      ]
    },
    {
      "cell_type": "code",
      "source": [
        "def addition(a,b):#a,b parameters ---formal parameters\n",
        "  c=a+b\n",
        "  return c\n",
        "print(addition(3,2))  #---2,3 are arguments this is called function call--actual parameters\n",
        ""
      ],
      "metadata": {
        "colab": {
          "base_uri": "https://localhost:8080/"
        },
        "id": "fVVHmHCGC33t",
        "outputId": "4a831197-0f6f-4cbc-e409-eb2315d82a98"
      },
      "execution_count": 2,
      "outputs": [
        {
          "output_type": "stream",
          "name": "stdout",
          "text": [
            "5\n"
          ]
        }
      ]
    },
    {
      "cell_type": "code",
      "source": [
        "def add(a,b):\n",
        "  c=a+b\n",
        "  return c\n",
        "print(f\"the addition of two numbers {add(3,7)}\")\n",
        "# return sends the sum to the calling function\n",
        "# a anb are parameters and 3 and 7 are arguments"
      ],
      "metadata": {
        "colab": {
          "base_uri": "https://localhost:8080/"
        },
        "id": "s5kPzhRzjAgx",
        "outputId": "7baee708-d908-40e9-ac06-99c2dc5de650"
      },
      "execution_count": 69,
      "outputs": [
        {
          "output_type": "stream",
          "name": "stdout",
          "text": [
            "the addition of two numbers 10\n"
          ]
        }
      ]
    },
    {
      "cell_type": "code",
      "source": [
        "def values(a):\n",
        "  return a\n",
        "values([1,2,3,4])\n",
        "# in python retrun statement will return multiple values"
      ],
      "metadata": {
        "colab": {
          "base_uri": "https://localhost:8080/"
        },
        "id": "B6KATmiiD8oo",
        "outputId": "7bcec00d-7f30-4b74-848d-a6ea18b63842"
      },
      "execution_count": 3,
      "outputs": [
        {
          "output_type": "execute_result",
          "data": {
            "text/plain": [
              "[1, 2, 3, 4]"
            ]
          },
          "metadata": {},
          "execution_count": 3
        }
      ]
    },
    {
      "cell_type": "code",
      "source": [
        "def values(a):\n",
        "  return a\n",
        "values({\"Name\":\"ram\",\"city\":\"banglore\"})"
      ],
      "metadata": {
        "colab": {
          "base_uri": "https://localhost:8080/"
        },
        "id": "WLa-8okrES0K",
        "outputId": "c7da5071-fc57-4581-8c8c-e5e4aa786ad1"
      },
      "execution_count": 4,
      "outputs": [
        {
          "output_type": "execute_result",
          "data": {
            "text/plain": [
              "{'Name': 'ram', 'city': 'banglore'}"
            ]
          },
          "metadata": {},
          "execution_count": 4
        }
      ]
    },
    {
      "cell_type": "code",
      "source": [
        "#if you want to hold the iteration we can use yield keyword\n",
        "def function_name():\n",
        "  pass\n",
        "function_name()\n",
        "\n",
        "#function --is a block organised,reusable coe that is used that is used to perform a single action or task at a time"
      ],
      "metadata": {
        "id": "Mf0jqu8CEKmh"
      },
      "execution_count": null,
      "outputs": []
    },
    {
      "cell_type": "code",
      "source": [
        "'''\n",
        "prototype\n",
        "----with arguments and return\n",
        "----without arguments and return\n",
        "----with arguments and without return\n",
        "----without arguments and return\n",
        "'''"
      ],
      "metadata": {
        "id": "GhzQUY31H3k6"
      },
      "execution_count": null,
      "outputs": []
    },
    {
      "cell_type": "code",
      "source": [
        "def add():\n",
        "  a = int(input(\"Enter the first number\"))\n",
        "  b = int(input(\"Enter the second number\"))\n",
        "  c = a+b\n",
        "  print(c)\n",
        "add()"
      ],
      "metadata": {
        "id": "iwn4YyCsQ4o2",
        "outputId": "8ec86368-c8d0-4094-eece-858716ec155b",
        "colab": {
          "base_uri": "https://localhost:8080/"
        }
      },
      "execution_count": 1,
      "outputs": [
        {
          "output_type": "stream",
          "name": "stdout",
          "text": [
            "Enter the first number4\n",
            "Enter the second number5\n",
            "9\n"
          ]
        }
      ]
    },
    {
      "cell_type": "code",
      "source": [
        "'''\n",
        "type of arguments--\n",
        "----1.positional arguments\n",
        "----2.keyword arguments\n",
        "----3.default arguments\n",
        "----4.variable length arguments\n",
        "----5.posional only, keyword only\n",
        "'''"
      ],
      "metadata": {
        "id": "2ANkSgJmRSu8"
      },
      "execution_count": null,
      "outputs": []
    },
    {
      "cell_type": "code",
      "source": [
        "#posional\n",
        "def message(name,city):\n",
        "  print(f\"My name is {name}  and from {city}\")\n",
        "message(\"ram\",\"banglore\")"
      ],
      "metadata": {
        "id": "4mf8S9onR26M",
        "outputId": "92e9508e-8fbf-40e2-fcb0-e3e443a2804b",
        "colab": {
          "base_uri": "https://localhost:8080/"
        }
      },
      "execution_count": 2,
      "outputs": [
        {
          "output_type": "stream",
          "name": "stdout",
          "text": [
            "My name is ram  and from banglore\n"
          ]
        }
      ]
    },
    {
      "cell_type": "code",
      "source": [
        "#posional\n",
        "def message(name,age):\n",
        "  print(f\"My name is {name}  and from {age}\")\n",
        "message(45,\"ram\")\n",
        "#drawback of posional then gping for keyword"
      ],
      "metadata": {
        "id": "t73ICv8ZS7qm",
        "outputId": "e84f1639-9972-4773-a431-b614ee6fd28a",
        "colab": {
          "base_uri": "https://localhost:8080/"
        }
      },
      "execution_count": 5,
      "outputs": [
        {
          "output_type": "stream",
          "name": "stdout",
          "text": [
            "My name is 45  and from ram\n"
          ]
        }
      ]
    },
    {
      "cell_type": "code",
      "source": [
        "#keyword\n",
        "def message(name,city):\n",
        "  print(f\"My name is {name}  and from {city}\")\n",
        "message(city=\"banglore\",name=\"ram\")"
      ],
      "metadata": {
        "id": "3ewKKjMdSgKV",
        "outputId": "3618e98d-653d-4e7b-a537-62a7f04787f9",
        "colab": {
          "base_uri": "https://localhost:8080/"
        }
      },
      "execution_count": 3,
      "outputs": [
        {
          "output_type": "stream",
          "name": "stdout",
          "text": [
            "My name is ram  and from banglore\n"
          ]
        }
      ]
    },
    {
      "cell_type": "code",
      "source": [
        "#default\n",
        "def message(age,company=\"GHX\"):\n",
        "  print(f\"My company is {company}  and anniversary {age}\")\n",
        "message(30,\"JK\")\n",
        "# last argument only should be default"
      ],
      "metadata": {
        "id": "jZ0bHtt4SzEd",
        "outputId": "4b949137-28bb-4076-eae5-014ea306cebf",
        "colab": {
          "base_uri": "https://localhost:8080/"
        }
      },
      "execution_count": 6,
      "outputs": [
        {
          "output_type": "stream",
          "name": "stdout",
          "text": [
            "My company is JK  and anniversary 30\n"
          ]
        }
      ]
    },
    {
      "cell_type": "code",
      "source": [
        "#default\n",
        "def message(age,company=\"GHX\"):\n",
        "  print(f\"My company is {company}  and anniversary {age}\")\n",
        "message(30)\n",
        "# last argument only should be default .here it will take default argument as GHX"
      ],
      "metadata": {
        "id": "J1VL1otBUWkJ",
        "outputId": "c7e05ceb-85a7-412a-d820-e37bb7ed61da",
        "colab": {
          "base_uri": "https://localhost:8080/"
        }
      },
      "execution_count": 7,
      "outputs": [
        {
          "output_type": "stream",
          "name": "stdout",
          "text": [
            "My company is GHX  and anniversary 30\n"
          ]
        }
      ]
    },
    {
      "cell_type": "code",
      "source": [
        "#variable length arguments\n",
        "'''---*args--pass variable number of non keyword arguments to function\n",
        "---**kwargs--pass variable number of keyword arguments '''"
      ],
      "metadata": {
        "id": "mvSY6p5MUoBD"
      },
      "execution_count": null,
      "outputs": []
    },
    {
      "cell_type": "code",
      "source": [
        "#args\n",
        "def total_salary(*salary):\n",
        "  total=0\n",
        "  for sal in salary:\n",
        "    total+=sal\n",
        "  return total\n",
        "total_salary(1000,4000,3000)\n",
        "#we can pass any number of arguments varibale length args"
      ],
      "metadata": {
        "id": "GtvNRnw9aUJK",
        "outputId": "ce5eb324-78ad-4c6f-ce74-0e5354344bb6",
        "colab": {
          "base_uri": "https://localhost:8080/"
        }
      },
      "execution_count": 10,
      "outputs": [
        {
          "output_type": "execute_result",
          "data": {
            "text/plain": [
              "8000"
            ]
          },
          "metadata": {},
          "execution_count": 10
        }
      ]
    },
    {
      "cell_type": "code",
      "source": [
        "def employee_details(**details):\n",
        "  for key,value in details.items():\n",
        "    print(f\"{key}:{value}\")\n",
        "employee_details(name=\"Ram\",age=45,city=\"Banglore\")\n"
      ],
      "metadata": {
        "id": "n_9XR1ECbTmK",
        "outputId": "1b2f65f4-5313-45a5-950c-d1720f61b6b1",
        "colab": {
          "base_uri": "https://localhost:8080/"
        }
      },
      "execution_count": 13,
      "outputs": [
        {
          "output_type": "stream",
          "name": "stdout",
          "text": [
            "name:Ram\n",
            "age:45\n",
            "city:Banglore\n"
          ]
        }
      ]
    },
    {
      "cell_type": "code",
      "source": [
        "#python 3.0 --positional only arguments\n",
        "def message(name,/,city):\n",
        "  print(f\"My name is {name}  and from {city}\")\n",
        "message(\"ram\",\"banglore\")"
      ],
      "metadata": {
        "id": "eZALiRflgHL6",
        "outputId": "cb99f162-c043-47d5-930d-fa43a60fbbf1",
        "colab": {
          "base_uri": "https://localhost:8080/"
        }
      },
      "execution_count": 14,
      "outputs": [
        {
          "output_type": "stream",
          "name": "stdout",
          "text": [
            "My name is ram  and from banglore\n"
          ]
        }
      ]
    },
    {
      "cell_type": "code",
      "source": [
        "def massage(name,/,city):\n",
        "  print(f\"{name},{city}\")\n",
        "massage(age=45,name=\"Ram\")\n",
        "# it will give error"
      ],
      "metadata": {
        "id": "7SmZyZrVhLJ2",
        "outputId": "b2a04861-6cdb-4c11-f10c-8cbb28de4ef4",
        "colab": {
          "base_uri": "https://localhost:8080/",
          "height": 193
        }
      },
      "execution_count": 18,
      "outputs": [
        {
          "output_type": "error",
          "ename": "TypeError",
          "evalue": "massage() got some positional-only arguments passed as keyword arguments: 'name'",
          "traceback": [
            "\u001b[0;31m---------------------------------------------------------------------------\u001b[0m",
            "\u001b[0;31mTypeError\u001b[0m                                 Traceback (most recent call last)",
            "\u001b[0;32m<ipython-input-18-509825ffc1b4>\u001b[0m in \u001b[0;36m<cell line: 0>\u001b[0;34m()\u001b[0m\n\u001b[1;32m      1\u001b[0m \u001b[0;32mdef\u001b[0m \u001b[0mmassage\u001b[0m\u001b[0;34m(\u001b[0m\u001b[0mname\u001b[0m\u001b[0;34m,\u001b[0m\u001b[0;34m/\u001b[0m\u001b[0;34m,\u001b[0m\u001b[0mcity\u001b[0m\u001b[0;34m)\u001b[0m\u001b[0;34m:\u001b[0m\u001b[0;34m\u001b[0m\u001b[0;34m\u001b[0m\u001b[0m\n\u001b[1;32m      2\u001b[0m   \u001b[0mprint\u001b[0m\u001b[0;34m(\u001b[0m\u001b[0;34mf\"{name},{city}\"\u001b[0m\u001b[0;34m)\u001b[0m\u001b[0;34m\u001b[0m\u001b[0;34m\u001b[0m\u001b[0m\n\u001b[0;32m----> 3\u001b[0;31m \u001b[0mmassage\u001b[0m\u001b[0;34m(\u001b[0m\u001b[0mage\u001b[0m\u001b[0;34m=\u001b[0m\u001b[0;36m45\u001b[0m\u001b[0;34m,\u001b[0m\u001b[0mname\u001b[0m\u001b[0;34m=\u001b[0m\u001b[0;34m\"Ram\"\u001b[0m\u001b[0;34m)\u001b[0m\u001b[0;34m\u001b[0m\u001b[0;34m\u001b[0m\u001b[0m\n\u001b[0m\u001b[1;32m      4\u001b[0m \u001b[0;31m# it will give error\u001b[0m\u001b[0;34m\u001b[0m\u001b[0;34m\u001b[0m\u001b[0m\n",
            "\u001b[0;31mTypeError\u001b[0m: massage() got some positional-only arguments passed as keyword arguments: 'name'"
          ]
        }
      ]
    },
    {
      "cell_type": "code",
      "source": [],
      "metadata": {
        "id": "kuXOYrE6iVdM"
      },
      "execution_count": null,
      "outputs": []
    }
  ],
  "metadata": {
    "colab": {
      "name": "Welcome to Colab",
      "toc_visible": true,
      "provenance": [],
      "include_colab_link": true
    },
    "kernelspec": {
      "display_name": "Python 3",
      "name": "python3"
    }
  },
  "nbformat": 4,
  "nbformat_minor": 0
}