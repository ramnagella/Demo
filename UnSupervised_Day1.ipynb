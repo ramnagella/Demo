{
  "cells": [
    {
      "cell_type": "markdown",
      "metadata": {
        "id": "view-in-github",
        "colab_type": "text"
      },
      "source": [
        "<a href=\"https://colab.research.google.com/github/ramnagella/Demo/blob/master/UnSupervised_Day1.ipynb\" target=\"_parent\"><img src=\"https://colab.research.google.com/assets/colab-badge.svg\" alt=\"Open In Colab\"/></a>"
      ]
    },
    {
      "cell_type": "code",
      "source": [
        "#10-12-2024---Evaluating Classification Model Performance\n",
        "'''\n",
        "If we are giving i/p and o/p it is supervised learnig and if we are giving only features to the ML model\n",
        "no labels then it is unsupervised learning\n",
        "in unsupervixsed learning segregatingnthe data points into groups or clusters based on the requirement\n",
        "\n",
        "KNN and K-means clustering are similar\n",
        "\n",
        "In K-Means clustering is no of clusters\n",
        "\n",
        "if we have two features we will use K-Means clustering\n",
        "in supervised learningsegregating the data means we have separated features into X,Y meams i/p and o/p\n",
        "We will do segregating and zipping the data set in unsupervised learning zipping means ---income and spent\n",
        "we are segregating into an array like [[income.spent],[income.spent],[income.spent]] like this is zipping\n"
      ],
      "metadata": {
        "id": "dmPvmJ4eO4XG"
      },
      "execution_count": null,
      "outputs": []
    }
  ],
  "metadata": {
    "colab": {
      "name": "Welcome to Colab",
      "toc_visible": true,
      "provenance": [],
      "include_colab_link": true
    },
    "kernelspec": {
      "display_name": "Python 3",
      "name": "python3"
    }
  },
  "nbformat": 4,
  "nbformat_minor": 0
}