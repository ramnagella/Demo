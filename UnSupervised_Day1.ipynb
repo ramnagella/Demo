{
  "cells": [
    {
      "cell_type": "markdown",
      "metadata": {
        "id": "view-in-github",
        "colab_type": "text"
      },
      "source": [
        "<a href=\"https://colab.research.google.com/github/ramnagella/Demo/blob/master/UnSupervised_Day1.ipynb\" target=\"_parent\"><img src=\"https://colab.research.google.com/assets/colab-badge.svg\" alt=\"Open In Colab\"/></a>"
      ]
    },
    {
      "cell_type": "code",
      "source": [
        "#10-12-2024---K-Means Clusering alg working details\n",
        "'''\n",
        "If we are giving i/p and o/p it is supervised learnig and if we are giving only features to the ML model\n",
        "no labels then it is unsupervised learning\n",
        "in unsupervixsed learning segregatingnthe data points into groups or clusters based on the requirement\n",
        "\n",
        "KNN and K-means clustering are similar\n",
        "\n",
        "In K-Means clustering is no of clusters\n",
        "\n",
        "if we have two features we will use K-Means clustering\n",
        "in supervised learningsegregating the data means we have separated features into X,Y meams i/p and o/p\n",
        "We will do segregating and zipping the data set in unsupervised learning zipping means ---income and spent\n",
        "we are segregating into an array like [[income.spent],[income.spent],[income.spent]] like this is zipping\n",
        "Problem with k means is centroid is notn covering all the data points correctly means it is not exactly at the\n",
        "center of the data points of the that cluster\n",
        "\n",
        "--Need to get exact centroid position --trail and error choosing next closset centrod for the data points\n",
        "\n",
        "Toi find teh no of iterations to find best K value is K+ one or two values  more iterations like K+1 or K+2  times\n",
        "if the 1000 to 1 lac records meand we can use pandas and k-Means if the records are lacs better to go with PySpark and K-Means\n",
        "Low inertia and low no of clusters are good model.\n",
        "\n",
        "\n",
        "\n",
        "\n",
        "\n",
        "\n",
        "'''\n"
      ],
      "metadata": {
        "id": "dmPvmJ4eO4XG"
      },
      "execution_count": null,
      "outputs": []
    },
    {
      "cell_type": "code",
      "source": [
        "#11-12-2024---Hierarchical Alg\n",
        "'''\n",
        "datatab.net for more details\n",
        "'''\n",
        "\n",
        "1) Individual points will consider cluster first and find the distance between the data points\n",
        "\n",
        "Euclidian distance formula or mahattan distance formula or max distance\n",
        "2)Merging nearest data points forms new cluster\n",
        "3)check again the distance between the cluster and merge the nearest clusters to form  new cluster\n",
        "Will use linkage methids 1.Single -Linkage 2.Complete-Linkage 3.Average Linkage\n",
        "\n",
        "K -means clustering allows only two features where as hierarachical allows many features\n",
        "but you should apply encoding techniques\n",
        "\n",
        "group_1=pd.DataFrame(X[y_means==0,0])\n",
        "\n",
        "X[y_means==0,0]\n",
        "group_1=pd.DataFrame(X[y_means==0,0])\n",
        "group_2=pd.DataFrame(X[y_means==1,0])\n",
        "group_3=pd.DataFrame(X[y_means==2,0])\n",
        "'''\n",
        "\n"
      ],
      "metadata": {
        "id": "RSbnp2WAeExs"
      },
      "execution_count": null,
      "outputs": []
    },
    {
      "cell_type": "code",
      "source": [
        "#11-12-2024---PCA  Alg\n",
        "\n",
        "Dimensionanility reduction feature ---reduce the features from 8 features to 5 features\n",
        "\n",
        "like f1,f2==PC1 f3,f4=PC2 f5,f6=PC3 f7,f8=PC4\n",
        "\n",
        "1)calculate Median\n",
        "2)co-variance of (X,Y)\n",
        "3)Eigen values and Eigen Vectors\n",
        "4) transformations of eigen vectors\n",
        "5)PC 1 and2 3 4 5\n"
      ],
      "metadata": {
        "id": "Kh5a2HXC5wkR"
      },
      "execution_count": null,
      "outputs": []
    },
    {
      "cell_type": "code",
      "source": [],
      "metadata": {
        "id": "UL_oIx985wgw"
      },
      "execution_count": null,
      "outputs": []
    },
    {
      "cell_type": "code",
      "source": [],
      "metadata": {
        "id": "BqB2Jz_u5weA"
      },
      "execution_count": null,
      "outputs": []
    },
    {
      "cell_type": "code",
      "source": [],
      "metadata": {
        "id": "f1qOxiZD5wbj"
      },
      "execution_count": null,
      "outputs": []
    },
    {
      "cell_type": "code",
      "source": [],
      "metadata": {
        "id": "rrodQGIf5wYg"
      },
      "execution_count": null,
      "outputs": []
    }
  ],
  "metadata": {
    "colab": {
      "name": "Welcome to Colab",
      "toc_visible": true,
      "provenance": [],
      "include_colab_link": true
    },
    "kernelspec": {
      "display_name": "Python 3",
      "name": "python3"
    }
  },
  "nbformat": 4,
  "nbformat_minor": 0
}