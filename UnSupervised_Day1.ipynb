{
  "cells": [
    {
      "cell_type": "markdown",
      "metadata": {
        "id": "view-in-github",
        "colab_type": "text"
      },
      "source": [
        "<a href=\"https://colab.research.google.com/github/ramnagella/Demo/blob/master/UnSupervised_Day1.ipynb\" target=\"_parent\"><img src=\"https://colab.research.google.com/assets/colab-badge.svg\" alt=\"Open In Colab\"/></a>"
      ]
    },
    {
      "cell_type": "code",
      "source": [
        "#10-12-2024---K-Means Clusering alg working details\n",
        "'''\n",
        "If we are giving i/p and o/p it is supervised learnig and if we are giving only features to the ML model\n",
        "no labels then it is unsupervised learning\n",
        "in unsupervixsed learning segregatingnthe data points into groups or clusters based on the requirement\n",
        "\n",
        "KNN and K-means clustering are similar\n",
        "\n",
        "In K-Means clustering is no of clusters\n",
        "\n",
        "if we have two features we will use K-Means clustering\n",
        "in supervised learningsegregating the data means we have separated features into X,Y meams i/p and o/p\n",
        "We will do segregating and zipping the data set in unsupervised learning zipping means ---income and spent\n",
        "we are segregating into an array like [[income.spent],[income.spent],[income.spent]] like this is zipping\n",
        "Problem with k means is centroid is notn covering all the data points correctly means it is not exactly at the\n",
        "center of the data points of the that cluster\n",
        "\n",
        "--Need to get exact centroid position --trail and error choosing next closset centrod for the data points\n",
        "\n",
        "Toi find teh no of iterations to find best K value is K+ one or two values  more iterations like K+1 or K+2  times\n",
        "if the 1000 to 1 lac records meand we can use pandas and k-Means if the records are lacs better to go with PySpark and K-Means\n",
        "Low inertia and low no of clusters are good model.\n",
        "\n",
        "\n",
        "\n",
        "\n",
        "\n",
        "\n",
        "'''\n"
      ],
      "metadata": {
        "id": "dmPvmJ4eO4XG"
      },
      "execution_count": null,
      "outputs": []
    },
    {
      "cell_type": "code",
      "source": [
        "#11-12-2024---Hierarchical Alg\n",
        "'''\n",
        "datatab.net for more details\n",
        "'''\n",
        "\n",
        "1) Individual points will consider cluster first and find the distance between the data points\n",
        "\n",
        "Euclidian distance formula or mahattan distance formula or max distance\n",
        "2)Merging nearest data points forms new cluster\n",
        "3)check again the distance between the cluster and merge the nearest clusters to form  new cluster\n",
        "Will use linkage methids 1.Single -Linkage 2.Complete-Linkage 3.Average Linkage\n",
        "\n",
        "K -means clustering allows only two features where as hierarachical allows many features\n",
        "but you should apply encoding techniques\n",
        "\n",
        "group_1=pd.DataFrame(X[y_means==0,0])\n",
        "\n",
        "X[y_means==0,0]\n",
        "group_1=pd.DataFrame(X[y_means==0,0])\n",
        "group_2=pd.DataFrame(X[y_means==1,0])\n",
        "group_3=pd.DataFrame(X[y_means==2,0])\n",
        "'''\n",
        "\n"
      ],
      "metadata": {
        "id": "RSbnp2WAeExs"
      },
      "execution_count": null,
      "outputs": []
    },
    {
      "cell_type": "code",
      "source": [
        "#11-12-2024---PCA  Alg\n",
        "'''\n",
        "Dimensionanility reduction feature ---reduce the features from 8 features to 5 features\n",
        "\n",
        "like f1,f2==PC1 f3,f4=PC2 f5,f6=PC3 f7,f8=PC4\n",
        "\n",
        "1)calculate Median\n",
        "2)co-variance of (X,Y)\n",
        "3)Eigen values and Eigen Vectors\n",
        "4) transformations of eigen vectors\n",
        "5)PC 1 and2 3 4 5\n",
        "\n",
        "DL ----is now ----\n",
        "\n",
        "in the machine learning algorithm actuall we will give the features as well as the label .\n",
        "If you are having a data it is like a table format\n",
        "\n",
        "DL automatically extratxt the features\n",
        "ML will give less accurate values when compared with DL\n",
        "DL inspired by human brain structure\n",
        "DL is subset of ML and So deep learning is a subset of machine learning where artificial neural networks,\n",
        "inspired by the human brain are trying to recognize patterns and make decisions like Humans\n",
        "\n",
        "brain means what is  actually brain? Brain is a lot of neurons actually structured in one network format\n",
        "\n",
        "DL is subset of ML and So deep learning is a subset of machine learning where artificial neural networks,\n",
        "inspired by the human brain are trying to recognize patterns and make decisions like Humans\n",
        "\n",
        "TensorFlow and Keras frameworks developed by Google\n",
        "\n",
        "i/p------BRAIN--------------->o/p\n",
        "        Natural function\n",
        "i/p------Artificial newral n/w-------------->o/p\n",
        "        Mathematical function\n",
        "        Hidden Layer\n",
        "brain means what is  actually brain? Brain is a lot of neurons actually structured in one network format\n",
        "\n",
        "RNN----chatgpt---NLP\n"
      ],
      "metadata": {
        "id": "Kh5a2HXC5wkR"
      },
      "execution_count": null,
      "outputs": []
    },
    {
      "cell_type": "code",
      "source": [
        "#16-12-2024--- and 18-12-2024---DL Comcepts\n",
        "'''\n",
        "Convolution Neural Network--In Convolutio  layer we will extraxt the deatures smallpart by part\n",
        "\n",
        "After extracting the features will concencate on the important features---Pooling layer\n",
        "Weight---Between two neurons what is the weightage ---it is numerical value associated with connection\n",
        "\n",
        "\n",
        "Weight---input*weight of input+Bias =X1+W1+Bias\n",
        "Weight---How much input in one layer influencesthe o/p in other layer\n",
        "Bias is a predefined one\n",
        "\n",
        "in house price prediction problem features are like ---sq feet,no of rooms,neighbourhood,years old\n",
        "\n",
        "We will give sq feet =0.5 weightage\n",
        "no of rooms ==0.8\n",
        "neighnour hood =0.2\n",
        "if the X value is zero everything is zero so in thtis case Bias will help\n",
        "Bias is something constant value is added like becauze of locality,area,land value and other facilities\n",
        "Alg automtatially calculates weightage values no need to worry\n",
        "Weightage os connection between two adjacent layers\n",
        "weight means it determines importance of input feature and multiplies the imput value\n",
        "\n",
        "Weightahge is very very important in Neural Networks\n",
        "\n",
        "activation function --1 step function ---binary classification --\n",
        "2.Sigmoid ---binary classification\n",
        "3.softmax---multi class\n",
        "4.tanh -----\n",
        "5.ReLU------if it is -ve ---0\n",
        "   +ve means ---same value\n",
        "\n",
        "   if no of epochs are less means less accuracy it is under fitting issue . more no of trainings coiunt or epoch means more accuracy\n",
        "   if the no of epochs more also if it is less accuracy means it is overfitting issue\n",
        "\n",
        "\n",
        "\n",
        "\n",
        "\n",
        "\n",
        "'''"
      ],
      "metadata": {
        "id": "UL_oIx985wgw"
      },
      "execution_count": null,
      "outputs": []
    },
    {
      "cell_type": "code",
      "source": [],
      "metadata": {
        "id": "BqB2Jz_u5weA"
      },
      "execution_count": null,
      "outputs": []
    },
    {
      "cell_type": "code",
      "source": [],
      "metadata": {
        "id": "f1qOxiZD5wbj"
      },
      "execution_count": null,
      "outputs": []
    },
    {
      "cell_type": "code",
      "source": [],
      "metadata": {
        "id": "rrodQGIf5wYg"
      },
      "execution_count": null,
      "outputs": []
    }
  ],
  "metadata": {
    "colab": {
      "name": "Welcome to Colab",
      "toc_visible": true,
      "provenance": [],
      "include_colab_link": true
    },
    "kernelspec": {
      "display_name": "Python 3",
      "name": "python3"
    }
  },
  "nbformat": 4,
  "nbformat_minor": 0
}