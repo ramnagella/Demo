{
  "cells": [
    {
      "cell_type": "markdown",
      "metadata": {
        "id": "view-in-github",
        "colab_type": "text"
      },
      "source": [
        "<a href=\"https://colab.research.google.com/github/ramnagella/Demo/blob/master/Python_basics_list_day3.ipynb\" target=\"_parent\"><img src=\"https://colab.research.google.com/assets/colab-badge.svg\" alt=\"Open In Colab\"/></a>"
      ]
    },
    {
      "cell_type": "code",
      "source": [
        "#19072025----Python Basics----\n",
        "\n",
        "details=['ram','2025-06-04','Banglore','9999555666']\n",
        "details"
      ],
      "metadata": {
        "colab": {
          "base_uri": "https://localhost:8080/"
        },
        "id": "BsLmmu6GIKRk",
        "outputId": "5ef17968-4b59-428f-ac47-256d6b27a952"
      },
      "execution_count": 1,
      "outputs": [
        {
          "output_type": "execute_result",
          "data": {
            "text/plain": [
              "['ram', '2025-06-04', 'Banglore', '9999555666']"
            ]
          },
          "metadata": {},
          "execution_count": 1
        }
      ]
    },
    {
      "cell_type": "code",
      "source": [
        "details=['ram','2025-06-04','Banglore','9999555666']\n",
        "details.append('PKLur')\n",
        "details"
      ],
      "metadata": {
        "colab": {
          "base_uri": "https://localhost:8080/"
        },
        "id": "Wgj_XK9aLkF6",
        "outputId": "f20d1882-9f95-4066-aeb5-0c35fb1b9862"
      },
      "execution_count": 2,
      "outputs": [
        {
          "output_type": "execute_result",
          "data": {
            "text/plain": [
              "['ram', '2025-06-04', 'Banglore', '9999555666', 'PKLur']"
            ]
          },
          "metadata": {},
          "execution_count": 2
        }
      ]
    },
    {
      "cell_type": "code",
      "source": [
        "IP=['192.168.3.0','172.22.44.28','172.158.4.0','155.34.22.0']\n",
        "IP[0]"
      ],
      "metadata": {
        "colab": {
          "base_uri": "https://localhost:8080/",
          "height": 35
        },
        "id": "BejDSS6yL1Sa",
        "outputId": "e73d2db4-050f-4a34-c0c9-8f3c9c653b5b"
      },
      "execution_count": 3,
      "outputs": [
        {
          "output_type": "execute_result",
          "data": {
            "text/plain": [
              "'192.168.3.0'"
            ],
            "application/vnd.google.colaboratory.intrinsic+json": {
              "type": "string"
            }
          },
          "metadata": {},
          "execution_count": 3
        }
      ]
    },
    {
      "cell_type": "code",
      "source": [
        "#Slicing operation--object_name(start:end-1,step)\n",
        "details=['ram','2025-06-04','Banglore','9999555666']\n",
        "details.append('PKLur')\n",
        "details[1]"
      ],
      "metadata": {
        "colab": {
          "base_uri": "https://localhost:8080/",
          "height": 35
        },
        "id": "N2xjq6wAMZHj",
        "outputId": "da61e434-3da3-4e27-86d1-ea077d95dbee"
      },
      "execution_count": 7,
      "outputs": [
        {
          "output_type": "execute_result",
          "data": {
            "text/plain": [
              "'2025-06-04'"
            ],
            "application/vnd.google.colaboratory.intrinsic+json": {
              "type": "string"
            }
          },
          "metadata": {},
          "execution_count": 7
        }
      ]
    },
    {
      "cell_type": "code",
      "source": [
        "details[3]"
      ],
      "metadata": {
        "colab": {
          "base_uri": "https://localhost:8080/",
          "height": 35
        },
        "id": "6378eJnxa6Qi",
        "outputId": "29a0bcdb-c7e6-4fd0-a71f-3c8f6d9bcb6c"
      },
      "execution_count": 8,
      "outputs": [
        {
          "output_type": "execute_result",
          "data": {
            "text/plain": [
              "'9999555666'"
            ],
            "application/vnd.google.colaboratory.intrinsic+json": {
              "type": "string"
            }
          },
          "metadata": {},
          "execution_count": 8
        }
      ]
    },
    {
      "cell_type": "code",
      "source": [
        "details[-1]"
      ],
      "metadata": {
        "colab": {
          "base_uri": "https://localhost:8080/",
          "height": 35
        },
        "id": "erIkjFoIbsXs",
        "outputId": "75d4914b-6003-4986-99dc-944b13290cc3"
      },
      "execution_count": 9,
      "outputs": [
        {
          "output_type": "execute_result",
          "data": {
            "text/plain": [
              "'PKLur'"
            ],
            "application/vnd.google.colaboratory.intrinsic+json": {
              "type": "string"
            }
          },
          "metadata": {},
          "execution_count": 9
        }
      ]
    },
    {
      "cell_type": "code",
      "source": [
        "details[0:2:2]"
      ],
      "metadata": {
        "colab": {
          "base_uri": "https://localhost:8080/"
        },
        "id": "T5dtnEI0bvV3",
        "outputId": "3b631a0a-561e-4d4d-e80e-9cd7e8400102"
      },
      "execution_count": 10,
      "outputs": [
        {
          "output_type": "execute_result",
          "data": {
            "text/plain": [
              "['ram']"
            ]
          },
          "metadata": {},
          "execution_count": 10
        }
      ]
    },
    {
      "cell_type": "code",
      "source": [
        "details[0:3:2]"
      ],
      "metadata": {
        "colab": {
          "base_uri": "https://localhost:8080/"
        },
        "id": "in3rqGSTcRvX",
        "outputId": "4d0edffd-2a9c-4a32-9f70-1424bc54be52"
      },
      "execution_count": 11,
      "outputs": [
        {
          "output_type": "execute_result",
          "data": {
            "text/plain": [
              "['ram', 'Banglore']"
            ]
          },
          "metadata": {},
          "execution_count": 11
        }
      ]
    },
    {
      "cell_type": "code",
      "source": [
        "details[1:4:2]"
      ],
      "metadata": {
        "colab": {
          "base_uri": "https://localhost:8080/"
        },
        "id": "24uish8EcVNy",
        "outputId": "a9cd8371-8670-48b1-bbd8-5b64178567fd"
      },
      "execution_count": 12,
      "outputs": [
        {
          "output_type": "execute_result",
          "data": {
            "text/plain": [
              "['2025-06-04', '9999555666']"
            ]
          },
          "metadata": {},
          "execution_count": 12
        }
      ]
    },
    {
      "cell_type": "code",
      "source": [
        "details[1:3]"
      ],
      "metadata": {
        "colab": {
          "base_uri": "https://localhost:8080/"
        },
        "id": "734B4x_JccBS",
        "outputId": "e7fe6275-4092-4b67-e48f-1ee4c1301456"
      },
      "execution_count": 13,
      "outputs": [
        {
          "output_type": "execute_result",
          "data": {
            "text/plain": [
              "['2025-06-04', 'Banglore']"
            ]
          },
          "metadata": {},
          "execution_count": 13
        }
      ]
    },
    {
      "cell_type": "code",
      "source": [
        "details[::-1]"
      ],
      "metadata": {
        "colab": {
          "base_uri": "https://localhost:8080/"
        },
        "id": "GQXksh4wkeAE",
        "outputId": "8050f05e-8b3c-456c-cb55-75314d1fbab2"
      },
      "execution_count": 14,
      "outputs": [
        {
          "output_type": "execute_result",
          "data": {
            "text/plain": [
              "['PKLur', '9999555666', 'Banglore', '2025-06-04', 'ram']"
            ]
          },
          "metadata": {},
          "execution_count": 14
        }
      ]
    },
    {
      "cell_type": "code",
      "source": [
        "#last two elements\n",
        "details[-2:]"
      ],
      "metadata": {
        "colab": {
          "base_uri": "https://localhost:8080/"
        },
        "id": "Qu1TR0JPkszY",
        "outputId": "8da5eab5-a879-45bd-a802-351f38bc08ac"
      },
      "execution_count": 15,
      "outputs": [
        {
          "output_type": "execute_result",
          "data": {
            "text/plain": [
              "['9999555666', 'PKLur']"
            ]
          },
          "metadata": {},
          "execution_count": 15
        }
      ]
    },
    {
      "cell_type": "code",
      "source": [
        "details[-2:-4:-1]"
      ],
      "metadata": {
        "colab": {
          "base_uri": "https://localhost:8080/"
        },
        "id": "el_7yT69lWB6",
        "outputId": "3b06ca71-344a-4949-8eba-7649f495627e"
      },
      "execution_count": 16,
      "outputs": [
        {
          "output_type": "execute_result",
          "data": {
            "text/plain": [
              "['9999555666', 'Banglore']"
            ]
          },
          "metadata": {},
          "execution_count": 16
        }
      ]
    },
    {
      "cell_type": "code",
      "source": [
        "details[-2:-1]"
      ],
      "metadata": {
        "colab": {
          "base_uri": "https://localhost:8080/"
        },
        "id": "vBXaGfrblvAf",
        "outputId": "6a4f2bba-5bc5-412b-b430-0f18c4e92a08"
      },
      "execution_count": 17,
      "outputs": [
        {
          "output_type": "execute_result",
          "data": {
            "text/plain": [
              "['9999555666']"
            ]
          },
          "metadata": {},
          "execution_count": 17
        }
      ]
    },
    {
      "cell_type": "code",
      "source": [
        "details[2:]"
      ],
      "metadata": {
        "colab": {
          "base_uri": "https://localhost:8080/"
        },
        "id": "WEgPxb0Znj4T",
        "outputId": "0ee14913-0dde-49c4-ba35-73ed829bdf89"
      },
      "execution_count": 18,
      "outputs": [
        {
          "output_type": "execute_result",
          "data": {
            "text/plain": [
              "['Banglore', '9999555666', 'PKLur']"
            ]
          },
          "metadata": {},
          "execution_count": 18
        }
      ]
    },
    {
      "cell_type": "code",
      "source": [
        "details[-2::-1]"
      ],
      "metadata": {
        "colab": {
          "base_uri": "https://localhost:8080/"
        },
        "id": "5EVwhDmzn-HV",
        "outputId": "7142c138-9ff1-4766-80de-89970f5049a2"
      },
      "execution_count": 19,
      "outputs": [
        {
          "output_type": "execute_result",
          "data": {
            "text/plain": [
              "['9999555666', 'Banglore', '2025-06-04', 'ram']"
            ]
          },
          "metadata": {},
          "execution_count": 19
        }
      ]
    },
    {
      "cell_type": "code",
      "source": [
        "details[-2:-1]"
      ],
      "metadata": {
        "id": "hJGyio3loDH9"
      },
      "execution_count": null,
      "outputs": []
    },
    {
      "cell_type": "code",
      "source": [
        "#last two elements in reverse order\n",
        "details[-1:-3:-1]"
      ],
      "metadata": {
        "colab": {
          "base_uri": "https://localhost:8080/"
        },
        "id": "Dsvvj6IsoH8T",
        "outputId": "366630e6-a3dc-4a94-d865-44263e39386e"
      },
      "execution_count": 20,
      "outputs": [
        {
          "output_type": "execute_result",
          "data": {
            "text/plain": [
              "['PKLur', '9999555666']"
            ]
          },
          "metadata": {},
          "execution_count": 20
        }
      ]
    },
    {
      "cell_type": "code",
      "source": [
        "details[-1:-3:]"
      ],
      "metadata": {
        "colab": {
          "base_uri": "https://localhost:8080/"
        },
        "id": "ghD6350pooER",
        "outputId": "e19727c9-4a9d-4538-fdd8-138a76bb56c6"
      },
      "execution_count": 21,
      "outputs": [
        {
          "output_type": "execute_result",
          "data": {
            "text/plain": [
              "[]"
            ]
          },
          "metadata": {},
          "execution_count": 21
        }
      ]
    },
    {
      "cell_type": "code",
      "source": [
        "details[-2::][::-1]"
      ],
      "metadata": {
        "colab": {
          "base_uri": "https://localhost:8080/"
        },
        "id": "wy-qbquCori9",
        "outputId": "62624ebe-6520-4490-f8e0-1c1474e2a11a"
      },
      "execution_count": 23,
      "outputs": [
        {
          "output_type": "execute_result",
          "data": {
            "text/plain": [
              "['PKLur', '9999555666']"
            ]
          },
          "metadata": {},
          "execution_count": 23
        }
      ]
    },
    {
      "cell_type": "code",
      "source": [
        "details[-2:][::-1]"
      ],
      "metadata": {
        "colab": {
          "base_uri": "https://localhost:8080/"
        },
        "id": "hA6iUjicpT50",
        "outputId": "aab84413-addf-48f4-9194-6d13a6f5e8ca"
      },
      "execution_count": 24,
      "outputs": [
        {
          "output_type": "execute_result",
          "data": {
            "text/plain": [
              "['PKLur', '9999555666']"
            ]
          },
          "metadata": {},
          "execution_count": 24
        }
      ]
    },
    {
      "cell_type": "code",
      "source": [
        "#reversing any two elemnets in the list\n",
        "details[3:1:-1]"
      ],
      "metadata": {
        "colab": {
          "base_uri": "https://localhost:8080/"
        },
        "id": "MJ5hG9s4p4LU",
        "outputId": "7fe68b8a-edd9-4607-aab0-847202aa64af"
      },
      "execution_count": 25,
      "outputs": [
        {
          "output_type": "execute_result",
          "data": {
            "text/plain": [
              "['9999555666', 'Banglore']"
            ]
          },
          "metadata": {},
          "execution_count": 25
        }
      ]
    },
    {
      "cell_type": "code",
      "source": [
        "#if you are doing slicing operation from left to right means possitive index values ad right to left means nnegative index values\n",
        "details[-2:-4:-1]\n"
      ],
      "metadata": {
        "colab": {
          "base_uri": "https://localhost:8080/"
        },
        "id": "fBKWYbvBqynl",
        "outputId": "11d9108d-a197-437b-a3a5-37852a010f80"
      },
      "execution_count": 26,
      "outputs": [
        {
          "output_type": "execute_result",
          "data": {
            "text/plain": [
              "['9999555666', 'Banglore']"
            ]
          },
          "metadata": {},
          "execution_count": 26
        }
      ]
    },
    {
      "cell_type": "code",
      "source": [
        "#Traversing---process --- iterating the element once a time\n",
        "# for iterator in iterables\n",
        "      #print(iterator)\n",
        "details=['ram','2025-06-04','Banglore','9999555666']\n",
        "for detail in details:\n",
        "    print(detail,end='$')"
      ],
      "metadata": {
        "colab": {
          "base_uri": "https://localhost:8080/"
        },
        "id": "M78yG-t2r66Z",
        "outputId": "6771ba3f-a302-439b-fe02-91ac6139c789"
      },
      "execution_count": 11,
      "outputs": [
        {
          "output_type": "stream",
          "name": "stdout",
          "text": [
            "ram$2025-06-04$Banglore$9999555666$"
          ]
        }
      ]
    },
    {
      "cell_type": "code",
      "source": [
        "#for number of iterations, sequesnce, while --condiion --will proceed the iteration\n",
        "#CCTV camera frames one by one if any\n",
        "frames=['1.jpg','2.jpg','3.jpg','4.jpg','5.jpg']\n",
        "for frame in frames:\n",
        "    print(frame)"
      ],
      "metadata": {
        "id": "FRGeA5sur8yS",
        "outputId": "66c6da95-a786-40c1-af97-27101bb920ce",
        "colab": {
          "base_uri": "https://localhost:8080/"
        }
      },
      "execution_count": 12,
      "outputs": [
        {
          "output_type": "stream",
          "name": "stdout",
          "text": [
            "1.jpg\n",
            "2.jpg\n",
            "3.jpg\n",
            "4.jpg\n",
            "5.jpg\n"
          ]
        }
      ]
    },
    {
      "cell_type": "code",
      "source": [
        "frames=['1.jpg','2.jpg','3.jpg','4.jpg','5.jpg']\n",
        "i=0\n",
        "while (frames[i].object==True):\n",
        "  print('The LED light it's switched on')\n",
        "  frames = frames[i+1]\n",
        "  i=i+1\n"
      ],
      "metadata": {
        "id": "iG_lrnj-s_WR"
      },
      "execution_count": null,
      "outputs": []
    },
    {
      "cell_type": "code",
      "source": [
        "frames=['1.jpg','2.jpg','3.jpg','4.jpg','5.jpg']"
      ],
      "metadata": {
        "id": "P7Co3hpzs2Fs"
      },
      "execution_count": null,
      "outputs": []
    },
    {
      "cell_type": "code",
      "source": [
        "a=10\n",
        "b=10\n",
        "c=10\n",
        "print(id(a))\n",
        "print(id(b))\n",
        "print(id(c))\n",
        "#here memory address is same for all integers but not for list and tuple"
      ],
      "metadata": {
        "id": "01AOpMdnv_Es",
        "outputId": "d49dbc74-73a8-4f3b-a43f-cfb00df81888",
        "colab": {
          "base_uri": "https://localhost:8080/"
        }
      },
      "execution_count": 13,
      "outputs": [
        {
          "output_type": "stream",
          "name": "stdout",
          "text": [
            "10751144\n",
            "10751144\n",
            "10751144\n"
          ]
        }
      ]
    },
    {
      "cell_type": "code",
      "source": [
        "a=10\n",
        "b=15\n",
        "c=10\n",
        "print(id(a))\n",
        "print(id(b))\n",
        "print(id(c))\n",
        "#here diffrent memory address in integer only"
      ],
      "metadata": {
        "id": "ruugLIPuwPHO",
        "outputId": "27b1877b-d519-4f6d-b5a1-b5d1d478feb5",
        "colab": {
          "base_uri": "https://localhost:8080/"
        }
      },
      "execution_count": 14,
      "outputs": [
        {
          "output_type": "stream",
          "name": "stdout",
          "text": [
            "10751144\n",
            "10751304\n",
            "10751144\n"
          ]
        }
      ]
    },
    {
      "cell_type": "code",
      "source": [
        "a=[1,2,3]\n",
        "b=[1,2,3]\n",
        "c=[1,2,3]\n",
        "print(id(a))\n",
        "print(id(b))\n",
        "print(id(c))"
      ],
      "metadata": {
        "id": "3sVwKnUpwnIS",
        "outputId": "1bd3e737-958c-4de7-f302-1ddd6cc449ae",
        "colab": {
          "base_uri": "https://localhost:8080/"
        }
      },
      "execution_count": 15,
      "outputs": [
        {
          "output_type": "stream",
          "name": "stdout",
          "text": [
            "137247733817472\n",
            "137247733856064\n",
            "137247733801216\n"
          ]
        }
      ]
    },
    {
      "cell_type": "code",
      "source": [
        "#replication or repetation\n",
        "details"
      ],
      "metadata": {
        "id": "Xf49BSiDxCuz",
        "outputId": "c309cc73-34a1-4b95-988b-26263fc5fabf",
        "colab": {
          "base_uri": "https://localhost:8080/"
        }
      },
      "execution_count": 16,
      "outputs": [
        {
          "output_type": "execute_result",
          "data": {
            "text/plain": [
              "['ram', '2025-06-04', 'Banglore', '9999555666']"
            ]
          },
          "metadata": {},
          "execution_count": 16
        }
      ]
    },
    {
      "cell_type": "code",
      "source": [
        "details_new=details*3\n",
        "print(details_new)"
      ],
      "metadata": {
        "id": "S0o0Y3Y9xfQd",
        "outputId": "3bcf6791-47a1-476f-aa30-47498c2d4154",
        "colab": {
          "base_uri": "https://localhost:8080/"
        }
      },
      "execution_count": 17,
      "outputs": [
        {
          "output_type": "stream",
          "name": "stdout",
          "text": [
            "['ram', '2025-06-04', 'Banglore', '9999555666', 'ram', '2025-06-04', 'Banglore', '9999555666', 'ram', '2025-06-04', 'Banglore', '9999555666']\n"
          ]
        }
      ]
    },
    {
      "cell_type": "code",
      "source": [
        "values=[0]\n",
        "values=values[0]*3\n",
        "values\n",
        "# some issue with o/p need to check"
      ],
      "metadata": {
        "id": "_TRlvL9Txu-7",
        "outputId": "536d25a9-5d5f-4a50-bf2f-24a6a728782c",
        "colab": {
          "base_uri": "https://localhost:8080/"
        }
      },
      "execution_count": 24,
      "outputs": [
        {
          "output_type": "execute_result",
          "data": {
            "text/plain": [
              "0"
            ]
          },
          "metadata": {},
          "execution_count": 24
        }
      ]
    },
    {
      "cell_type": "code",
      "source": [
        "values"
      ],
      "metadata": {
        "id": "ldzmGaklyHeM",
        "outputId": "a0c8f17e-c733-4cfa-cbd8-e5b6315a2ac4",
        "colab": {
          "base_uri": "https://localhost:8080/"
        }
      },
      "execution_count": 20,
      "outputs": [
        {
          "output_type": "execute_result",
          "data": {
            "text/plain": [
              "0"
            ]
          },
          "metadata": {},
          "execution_count": 20
        }
      ]
    },
    {
      "cell_type": "code",
      "source": [
        "values_dup=values.copy()\n",
        "values_dup"
      ],
      "metadata": {
        "id": "YH93uQCh7CD6",
        "outputId": "e1224700-6ee7-4254-bb42-3414e1a2d54a",
        "colab": {
          "base_uri": "https://localhost:8080/",
          "height": 158
        }
      },
      "execution_count": 25,
      "outputs": [
        {
          "output_type": "error",
          "ename": "AttributeError",
          "evalue": "'int' object has no attribute 'copy'",
          "traceback": [
            "\u001b[0;31m---------------------------------------------------------------------------\u001b[0m",
            "\u001b[0;31mAttributeError\u001b[0m                            Traceback (most recent call last)",
            "\u001b[0;32m<ipython-input-25-0b45ca18afa4>\u001b[0m in \u001b[0;36m<cell line: 0>\u001b[0;34m()\u001b[0m\n\u001b[0;32m----> 1\u001b[0;31m \u001b[0mvalues_dup\u001b[0m\u001b[0;34m=\u001b[0m\u001b[0mvalues\u001b[0m\u001b[0;34m.\u001b[0m\u001b[0mcopy\u001b[0m\u001b[0;34m(\u001b[0m\u001b[0;34m)\u001b[0m\u001b[0;34m\u001b[0m\u001b[0;34m\u001b[0m\u001b[0m\n\u001b[0m\u001b[1;32m      2\u001b[0m \u001b[0mvalues_dup\u001b[0m\u001b[0;34m\u001b[0m\u001b[0;34m\u001b[0m\u001b[0m\n",
            "\u001b[0;31mAttributeError\u001b[0m: 'int' object has no attribute 'copy'"
          ]
        }
      ]
    }
  ],
  "metadata": {
    "colab": {
      "name": "Welcome to Colab",
      "toc_visible": true,
      "provenance": [],
      "include_colab_link": true
    },
    "kernelspec": {
      "display_name": "Python 3",
      "name": "python3"
    }
  },
  "nbformat": 4,
  "nbformat_minor": 0
}