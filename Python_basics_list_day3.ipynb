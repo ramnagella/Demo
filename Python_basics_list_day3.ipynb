{
  "cells": [
    {
      "cell_type": "markdown",
      "metadata": {
        "id": "view-in-github",
        "colab_type": "text"
      },
      "source": [
        "<a href=\"https://colab.research.google.com/github/ramnagella/Demo/blob/master/Python_basics_list_day3.ipynb\" target=\"_parent\"><img src=\"https://colab.research.google.com/assets/colab-badge.svg\" alt=\"Open In Colab\"/></a>"
      ]
    },
    {
      "cell_type": "code",
      "source": [
        "#19072025----Python Basics----\n",
        "\n",
        "details=['ram','2025-06-04','Banglore','9999555666']\n",
        "details"
      ],
      "metadata": {
        "colab": {
          "base_uri": "https://localhost:8080/"
        },
        "id": "BsLmmu6GIKRk",
        "outputId": "5ef17968-4b59-428f-ac47-256d6b27a952"
      },
      "execution_count": 1,
      "outputs": [
        {
          "output_type": "execute_result",
          "data": {
            "text/plain": [
              "['ram', '2025-06-04', 'Banglore', '9999555666']"
            ]
          },
          "metadata": {},
          "execution_count": 1
        }
      ]
    },
    {
      "cell_type": "code",
      "source": [
        "details=['ram','2025-06-04','Banglore','9999555666']\n",
        "details.append('PKLur')\n",
        "details"
      ],
      "metadata": {
        "colab": {
          "base_uri": "https://localhost:8080/"
        },
        "id": "Wgj_XK9aLkF6",
        "outputId": "f20d1882-9f95-4066-aeb5-0c35fb1b9862"
      },
      "execution_count": 2,
      "outputs": [
        {
          "output_type": "execute_result",
          "data": {
            "text/plain": [
              "['ram', '2025-06-04', 'Banglore', '9999555666', 'PKLur']"
            ]
          },
          "metadata": {},
          "execution_count": 2
        }
      ]
    },
    {
      "cell_type": "code",
      "source": [
        "IP=['192.168.3.0','172.22.44.28','172.158.4.0','155.34.22.0']\n",
        "IP[0]"
      ],
      "metadata": {
        "colab": {
          "base_uri": "https://localhost:8080/",
          "height": 35
        },
        "id": "BejDSS6yL1Sa",
        "outputId": "e73d2db4-050f-4a34-c0c9-8f3c9c653b5b"
      },
      "execution_count": 3,
      "outputs": [
        {
          "output_type": "execute_result",
          "data": {
            "text/plain": [
              "'192.168.3.0'"
            ],
            "application/vnd.google.colaboratory.intrinsic+json": {
              "type": "string"
            }
          },
          "metadata": {},
          "execution_count": 3
        }
      ]
    },
    {
      "cell_type": "code",
      "source": [
        "#Slicing operation--object_name(start:end-1,step)\n",
        "details=['ram','2025-06-04','Banglore','9999555666']\n",
        "details.append('PKLur')\n",
        "details[1]"
      ],
      "metadata": {
        "colab": {
          "base_uri": "https://localhost:8080/",
          "height": 35
        },
        "id": "N2xjq6wAMZHj",
        "outputId": "da61e434-3da3-4e27-86d1-ea077d95dbee"
      },
      "execution_count": 7,
      "outputs": [
        {
          "output_type": "execute_result",
          "data": {
            "text/plain": [
              "'2025-06-04'"
            ],
            "application/vnd.google.colaboratory.intrinsic+json": {
              "type": "string"
            }
          },
          "metadata": {},
          "execution_count": 7
        }
      ]
    },
    {
      "cell_type": "code",
      "source": [
        "details[3]"
      ],
      "metadata": {
        "colab": {
          "base_uri": "https://localhost:8080/",
          "height": 35
        },
        "id": "6378eJnxa6Qi",
        "outputId": "29a0bcdb-c7e6-4fd0-a71f-3c8f6d9bcb6c"
      },
      "execution_count": 8,
      "outputs": [
        {
          "output_type": "execute_result",
          "data": {
            "text/plain": [
              "'9999555666'"
            ],
            "application/vnd.google.colaboratory.intrinsic+json": {
              "type": "string"
            }
          },
          "metadata": {},
          "execution_count": 8
        }
      ]
    },
    {
      "cell_type": "code",
      "source": [
        "details[-1]"
      ],
      "metadata": {
        "colab": {
          "base_uri": "https://localhost:8080/",
          "height": 35
        },
        "id": "erIkjFoIbsXs",
        "outputId": "75d4914b-6003-4986-99dc-944b13290cc3"
      },
      "execution_count": 9,
      "outputs": [
        {
          "output_type": "execute_result",
          "data": {
            "text/plain": [
              "'PKLur'"
            ],
            "application/vnd.google.colaboratory.intrinsic+json": {
              "type": "string"
            }
          },
          "metadata": {},
          "execution_count": 9
        }
      ]
    },
    {
      "cell_type": "code",
      "source": [
        "details[0:2:2]"
      ],
      "metadata": {
        "colab": {
          "base_uri": "https://localhost:8080/"
        },
        "id": "T5dtnEI0bvV3",
        "outputId": "3b631a0a-561e-4d4d-e80e-9cd7e8400102"
      },
      "execution_count": 10,
      "outputs": [
        {
          "output_type": "execute_result",
          "data": {
            "text/plain": [
              "['ram']"
            ]
          },
          "metadata": {},
          "execution_count": 10
        }
      ]
    },
    {
      "cell_type": "code",
      "source": [
        "details[0:3:2]"
      ],
      "metadata": {
        "colab": {
          "base_uri": "https://localhost:8080/"
        },
        "id": "in3rqGSTcRvX",
        "outputId": "4d0edffd-2a9c-4a32-9f70-1424bc54be52"
      },
      "execution_count": 11,
      "outputs": [
        {
          "output_type": "execute_result",
          "data": {
            "text/plain": [
              "['ram', 'Banglore']"
            ]
          },
          "metadata": {},
          "execution_count": 11
        }
      ]
    },
    {
      "cell_type": "code",
      "source": [
        "details[1:4:2]"
      ],
      "metadata": {
        "colab": {
          "base_uri": "https://localhost:8080/"
        },
        "id": "24uish8EcVNy",
        "outputId": "a9cd8371-8670-48b1-bbd8-5b64178567fd"
      },
      "execution_count": 12,
      "outputs": [
        {
          "output_type": "execute_result",
          "data": {
            "text/plain": [
              "['2025-06-04', '9999555666']"
            ]
          },
          "metadata": {},
          "execution_count": 12
        }
      ]
    },
    {
      "cell_type": "code",
      "source": [
        "details[1:3]"
      ],
      "metadata": {
        "colab": {
          "base_uri": "https://localhost:8080/"
        },
        "id": "734B4x_JccBS",
        "outputId": "e7fe6275-4092-4b67-e48f-1ee4c1301456"
      },
      "execution_count": 13,
      "outputs": [
        {
          "output_type": "execute_result",
          "data": {
            "text/plain": [
              "['2025-06-04', 'Banglore']"
            ]
          },
          "metadata": {},
          "execution_count": 13
        }
      ]
    },
    {
      "cell_type": "code",
      "source": [
        "details[::-1]"
      ],
      "metadata": {
        "colab": {
          "base_uri": "https://localhost:8080/"
        },
        "id": "GQXksh4wkeAE",
        "outputId": "8050f05e-8b3c-456c-cb55-75314d1fbab2"
      },
      "execution_count": 14,
      "outputs": [
        {
          "output_type": "execute_result",
          "data": {
            "text/plain": [
              "['PKLur', '9999555666', 'Banglore', '2025-06-04', 'ram']"
            ]
          },
          "metadata": {},
          "execution_count": 14
        }
      ]
    },
    {
      "cell_type": "code",
      "source": [
        "#last two elements\n",
        "details[-2:]"
      ],
      "metadata": {
        "colab": {
          "base_uri": "https://localhost:8080/"
        },
        "id": "Qu1TR0JPkszY",
        "outputId": "8da5eab5-a879-45bd-a802-351f38bc08ac"
      },
      "execution_count": 15,
      "outputs": [
        {
          "output_type": "execute_result",
          "data": {
            "text/plain": [
              "['9999555666', 'PKLur']"
            ]
          },
          "metadata": {},
          "execution_count": 15
        }
      ]
    },
    {
      "cell_type": "code",
      "source": [
        "details[-2:-4:-1]"
      ],
      "metadata": {
        "colab": {
          "base_uri": "https://localhost:8080/"
        },
        "id": "el_7yT69lWB6",
        "outputId": "3b06ca71-344a-4949-8eba-7649f495627e"
      },
      "execution_count": 16,
      "outputs": [
        {
          "output_type": "execute_result",
          "data": {
            "text/plain": [
              "['9999555666', 'Banglore']"
            ]
          },
          "metadata": {},
          "execution_count": 16
        }
      ]
    },
    {
      "cell_type": "code",
      "source": [
        "details[-2:-1]"
      ],
      "metadata": {
        "colab": {
          "base_uri": "https://localhost:8080/"
        },
        "id": "vBXaGfrblvAf",
        "outputId": "6a4f2bba-5bc5-412b-b430-0f18c4e92a08"
      },
      "execution_count": 17,
      "outputs": [
        {
          "output_type": "execute_result",
          "data": {
            "text/plain": [
              "['9999555666']"
            ]
          },
          "metadata": {},
          "execution_count": 17
        }
      ]
    },
    {
      "cell_type": "code",
      "source": [
        "details[2:]"
      ],
      "metadata": {
        "colab": {
          "base_uri": "https://localhost:8080/"
        },
        "id": "WEgPxb0Znj4T",
        "outputId": "0ee14913-0dde-49c4-ba35-73ed829bdf89"
      },
      "execution_count": 18,
      "outputs": [
        {
          "output_type": "execute_result",
          "data": {
            "text/plain": [
              "['Banglore', '9999555666', 'PKLur']"
            ]
          },
          "metadata": {},
          "execution_count": 18
        }
      ]
    },
    {
      "cell_type": "code",
      "source": [
        "details[-2::-1]"
      ],
      "metadata": {
        "colab": {
          "base_uri": "https://localhost:8080/"
        },
        "id": "5EVwhDmzn-HV",
        "outputId": "7142c138-9ff1-4766-80de-89970f5049a2"
      },
      "execution_count": 19,
      "outputs": [
        {
          "output_type": "execute_result",
          "data": {
            "text/plain": [
              "['9999555666', 'Banglore', '2025-06-04', 'ram']"
            ]
          },
          "metadata": {},
          "execution_count": 19
        }
      ]
    },
    {
      "cell_type": "code",
      "source": [
        "details[-2:-1]"
      ],
      "metadata": {
        "id": "hJGyio3loDH9"
      },
      "execution_count": null,
      "outputs": []
    },
    {
      "cell_type": "code",
      "source": [
        "#last two elements in reverse order\n",
        "details[-1:-3:-1]"
      ],
      "metadata": {
        "colab": {
          "base_uri": "https://localhost:8080/"
        },
        "id": "Dsvvj6IsoH8T",
        "outputId": "366630e6-a3dc-4a94-d865-44263e39386e"
      },
      "execution_count": 20,
      "outputs": [
        {
          "output_type": "execute_result",
          "data": {
            "text/plain": [
              "['PKLur', '9999555666']"
            ]
          },
          "metadata": {},
          "execution_count": 20
        }
      ]
    },
    {
      "cell_type": "code",
      "source": [
        "details[-1:-3:]"
      ],
      "metadata": {
        "colab": {
          "base_uri": "https://localhost:8080/"
        },
        "id": "ghD6350pooER",
        "outputId": "e19727c9-4a9d-4538-fdd8-138a76bb56c6"
      },
      "execution_count": 21,
      "outputs": [
        {
          "output_type": "execute_result",
          "data": {
            "text/plain": [
              "[]"
            ]
          },
          "metadata": {},
          "execution_count": 21
        }
      ]
    },
    {
      "cell_type": "code",
      "source": [
        "details[-2::][::-1]"
      ],
      "metadata": {
        "colab": {
          "base_uri": "https://localhost:8080/"
        },
        "id": "wy-qbquCori9",
        "outputId": "62624ebe-6520-4490-f8e0-1c1474e2a11a"
      },
      "execution_count": 23,
      "outputs": [
        {
          "output_type": "execute_result",
          "data": {
            "text/plain": [
              "['PKLur', '9999555666']"
            ]
          },
          "metadata": {},
          "execution_count": 23
        }
      ]
    },
    {
      "cell_type": "code",
      "source": [
        "details[-2:][::-1]"
      ],
      "metadata": {
        "colab": {
          "base_uri": "https://localhost:8080/"
        },
        "id": "hA6iUjicpT50",
        "outputId": "aab84413-addf-48f4-9194-6d13a6f5e8ca"
      },
      "execution_count": 24,
      "outputs": [
        {
          "output_type": "execute_result",
          "data": {
            "text/plain": [
              "['PKLur', '9999555666']"
            ]
          },
          "metadata": {},
          "execution_count": 24
        }
      ]
    },
    {
      "cell_type": "code",
      "source": [
        "#reversing any two elemnets in the list\n",
        "details[3:1:-1]"
      ],
      "metadata": {
        "colab": {
          "base_uri": "https://localhost:8080/"
        },
        "id": "MJ5hG9s4p4LU",
        "outputId": "7fe68b8a-edd9-4607-aab0-847202aa64af"
      },
      "execution_count": 25,
      "outputs": [
        {
          "output_type": "execute_result",
          "data": {
            "text/plain": [
              "['9999555666', 'Banglore']"
            ]
          },
          "metadata": {},
          "execution_count": 25
        }
      ]
    },
    {
      "cell_type": "code",
      "source": [
        "#if you are doing slicing operation from left to right means possitive index values ad right to left means nnegative index values\n",
        "details[-2:-4:-1]\n"
      ],
      "metadata": {
        "colab": {
          "base_uri": "https://localhost:8080/"
        },
        "id": "fBKWYbvBqynl",
        "outputId": "11d9108d-a197-437b-a3a5-37852a010f80"
      },
      "execution_count": 26,
      "outputs": [
        {
          "output_type": "execute_result",
          "data": {
            "text/plain": [
              "['9999555666', 'Banglore']"
            ]
          },
          "metadata": {},
          "execution_count": 26
        }
      ]
    },
    {
      "cell_type": "code",
      "source": [
        "#Traversing---process --- iterating the element once a time\n",
        "# for iterator in iterables\n",
        "      #print(iterator)\n",
        "details=['ram','2025-06-04','Banglore','9999555666']\n",
        "for detail in details:\n",
        "    print(detail,end='$')"
      ],
      "metadata": {
        "colab": {
          "base_uri": "https://localhost:8080/"
        },
        "id": "M78yG-t2r66Z",
        "outputId": "6771ba3f-a302-439b-fe02-91ac6139c789"
      },
      "execution_count": 11,
      "outputs": [
        {
          "output_type": "stream",
          "name": "stdout",
          "text": [
            "ram$2025-06-04$Banglore$9999555666$"
          ]
        }
      ]
    },
    {
      "cell_type": "code",
      "source": [
        "#for number of iterations, sequesnce, while --condiion --will proceed the iteration\n",
        "#CCTV camera frames one by one if any\n",
        "frames=['1.jpg','2.jpg','3.jpg','4.jpg','5.jpg']\n",
        "for frame in frames:\n",
        "    print(frame)"
      ],
      "metadata": {
        "colab": {
          "base_uri": "https://localhost:8080/"
        },
        "id": "FRGeA5sur8yS",
        "outputId": "66c6da95-a786-40c1-af97-27101bb920ce"
      },
      "execution_count": 12,
      "outputs": [
        {
          "output_type": "stream",
          "name": "stdout",
          "text": [
            "1.jpg\n",
            "2.jpg\n",
            "3.jpg\n",
            "4.jpg\n",
            "5.jpg\n"
          ]
        }
      ]
    },
    {
      "cell_type": "code",
      "source": [
        "frames=['1.jpg','2.jpg','3.jpg','4.jpg','5.jpg']\n",
        "i=0\n",
        "while (frames[i].object==True):\n",
        "  print('The LED light it's switched on')\n",
        "  frames = frames[i+1]\n",
        "  i=i+1\n"
      ],
      "metadata": {
        "id": "iG_lrnj-s_WR"
      },
      "execution_count": null,
      "outputs": []
    },
    {
      "cell_type": "code",
      "source": [
        "frames=['1.jpg','2.jpg','3.jpg','4.jpg','5.jpg']"
      ],
      "metadata": {
        "id": "P7Co3hpzs2Fs"
      },
      "execution_count": null,
      "outputs": []
    },
    {
      "cell_type": "code",
      "source": [
        "a=10\n",
        "b=10\n",
        "c=10\n",
        "print(id(a))\n",
        "print(id(b))\n",
        "print(id(c))\n",
        "#here memory address is same for all integers but not for list and tuple"
      ],
      "metadata": {
        "colab": {
          "base_uri": "https://localhost:8080/"
        },
        "id": "01AOpMdnv_Es",
        "outputId": "d49dbc74-73a8-4f3b-a43f-cfb00df81888"
      },
      "execution_count": 13,
      "outputs": [
        {
          "output_type": "stream",
          "name": "stdout",
          "text": [
            "10751144\n",
            "10751144\n",
            "10751144\n"
          ]
        }
      ]
    },
    {
      "cell_type": "code",
      "source": [
        "#-5 to 256 same memory other numbers different address check it\n",
        "a=10\n",
        "b=15\n",
        "c=10\n",
        "print(id(a))\n",
        "print(id(b))\n",
        "print(id(c))\n",
        "#here diffrent memory address in integer only"
      ],
      "metadata": {
        "colab": {
          "base_uri": "https://localhost:8080/"
        },
        "id": "ruugLIPuwPHO",
        "outputId": "27b1877b-d519-4f6d-b5a1-b5d1d478feb5"
      },
      "execution_count": 14,
      "outputs": [
        {
          "output_type": "stream",
          "name": "stdout",
          "text": [
            "10751144\n",
            "10751304\n",
            "10751144\n"
          ]
        }
      ]
    },
    {
      "cell_type": "code",
      "source": [
        "a=[1,2,3]\n",
        "b=[1,2,3]\n",
        "c=[1,2,3]\n",
        "print(id(a))\n",
        "print(id(b))\n",
        "print(id(c))"
      ],
      "metadata": {
        "colab": {
          "base_uri": "https://localhost:8080/"
        },
        "id": "3sVwKnUpwnIS",
        "outputId": "1bd3e737-958c-4de7-f302-1ddd6cc449ae"
      },
      "execution_count": 15,
      "outputs": [
        {
          "output_type": "stream",
          "name": "stdout",
          "text": [
            "137247733817472\n",
            "137247733856064\n",
            "137247733801216\n"
          ]
        }
      ]
    },
    {
      "cell_type": "code",
      "source": [
        "#replication or repetation\n",
        "details"
      ],
      "metadata": {
        "colab": {
          "base_uri": "https://localhost:8080/"
        },
        "id": "Xf49BSiDxCuz",
        "outputId": "c309cc73-34a1-4b95-988b-26263fc5fabf"
      },
      "execution_count": 16,
      "outputs": [
        {
          "output_type": "execute_result",
          "data": {
            "text/plain": [
              "['ram', '2025-06-04', 'Banglore', '9999555666']"
            ]
          },
          "metadata": {},
          "execution_count": 16
        }
      ]
    },
    {
      "cell_type": "code",
      "source": [
        "details_new=details*3\n",
        "print(details_new)"
      ],
      "metadata": {
        "colab": {
          "base_uri": "https://localhost:8080/"
        },
        "id": "S0o0Y3Y9xfQd",
        "outputId": "3bcf6791-47a1-476f-aa30-47498c2d4154"
      },
      "execution_count": 17,
      "outputs": [
        {
          "output_type": "stream",
          "name": "stdout",
          "text": [
            "['ram', '2025-06-04', 'Banglore', '9999555666', 'ram', '2025-06-04', 'Banglore', '9999555666', 'ram', '2025-06-04', 'Banglore', '9999555666']\n"
          ]
        }
      ]
    },
    {
      "cell_type": "code",
      "source": [
        "values=[0]\n",
        "values=values[0]*3\n",
        "values\n",
        "# some issue with o/p need to check"
      ],
      "metadata": {
        "colab": {
          "base_uri": "https://localhost:8080/"
        },
        "id": "_TRlvL9Txu-7",
        "outputId": "536d25a9-5d5f-4a50-bf2f-24a6a728782c"
      },
      "execution_count": 24,
      "outputs": [
        {
          "output_type": "execute_result",
          "data": {
            "text/plain": [
              "0"
            ]
          },
          "metadata": {},
          "execution_count": 24
        }
      ]
    },
    {
      "cell_type": "code",
      "source": [
        "values"
      ],
      "metadata": {
        "colab": {
          "base_uri": "https://localhost:8080/"
        },
        "id": "ldzmGaklyHeM",
        "outputId": "a0c8f17e-c733-4cfa-cbd8-e5b6315a2ac4"
      },
      "execution_count": 20,
      "outputs": [
        {
          "output_type": "execute_result",
          "data": {
            "text/plain": [
              "0"
            ]
          },
          "metadata": {},
          "execution_count": 20
        }
      ]
    },
    {
      "cell_type": "code",
      "source": [
        "values_dup=values.copy()\n",
        "values_dup"
      ],
      "metadata": {
        "colab": {
          "base_uri": "https://localhost:8080/",
          "height": 158
        },
        "id": "YH93uQCh7CD6",
        "outputId": "e1224700-6ee7-4254-bb42-3414e1a2d54a"
      },
      "execution_count": 25,
      "outputs": [
        {
          "output_type": "error",
          "ename": "AttributeError",
          "evalue": "'int' object has no attribute 'copy'",
          "traceback": [
            "\u001b[0;31m---------------------------------------------------------------------------\u001b[0m",
            "\u001b[0;31mAttributeError\u001b[0m                            Traceback (most recent call last)",
            "\u001b[0;32m<ipython-input-25-0b45ca18afa4>\u001b[0m in \u001b[0;36m<cell line: 0>\u001b[0;34m()\u001b[0m\n\u001b[0;32m----> 1\u001b[0;31m \u001b[0mvalues_dup\u001b[0m\u001b[0;34m=\u001b[0m\u001b[0mvalues\u001b[0m\u001b[0;34m.\u001b[0m\u001b[0mcopy\u001b[0m\u001b[0;34m(\u001b[0m\u001b[0;34m)\u001b[0m\u001b[0;34m\u001b[0m\u001b[0;34m\u001b[0m\u001b[0m\n\u001b[0m\u001b[1;32m      2\u001b[0m \u001b[0mvalues_dup\u001b[0m\u001b[0;34m\u001b[0m\u001b[0;34m\u001b[0m\u001b[0m\n",
            "\u001b[0;31mAttributeError\u001b[0m: 'int' object has no attribute 'copy'"
          ]
        }
      ]
    },
    {
      "cell_type": "code",
      "source": [
        "info=[1,2,3,4,5,'ram']\n",
        "info.append('India')\n",
        "info"
      ],
      "metadata": {
        "colab": {
          "base_uri": "https://localhost:8080/"
        },
        "id": "bCnqSn7675bF",
        "outputId": "e138a888-ac85-417a-fcc8-534d8f49cd13"
      },
      "execution_count": 27,
      "outputs": [
        {
          "output_type": "execute_result",
          "data": {
            "text/plain": [
              "[1, 2, 3, 4, 5, 'ram', 'India']"
            ]
          },
          "metadata": {},
          "execution_count": 27
        }
      ]
    },
    {
      "cell_type": "code",
      "source": [
        "info.insert(2,9988856757)\n",
        "info"
      ],
      "metadata": {
        "colab": {
          "base_uri": "https://localhost:8080/"
        },
        "id": "UE4SUmp58YXS",
        "outputId": "caed03c7-794e-44cb-ddf5-6aa28a074ac1"
      },
      "execution_count": 28,
      "outputs": [
        {
          "output_type": "execute_result",
          "data": {
            "text/plain": [
              "[1, 2, 9988856757, 3, 4, 5, 'ram', 'India']"
            ]
          },
          "metadata": {},
          "execution_count": 28
        }
      ]
    },
    {
      "cell_type": "code",
      "source": [
        "#dleetes last element\n",
        "info.pop()\n",
        "info"
      ],
      "metadata": {
        "colab": {
          "base_uri": "https://localhost:8080/"
        },
        "id": "FaiQ4UvY8-fo",
        "outputId": "d071df9b-bffc-42ec-bb16-374f16c64818"
      },
      "execution_count": 29,
      "outputs": [
        {
          "output_type": "execute_result",
          "data": {
            "text/plain": [
              "[1, 2, 9988856757, 3, 4, 5, 'ram']"
            ]
          },
          "metadata": {},
          "execution_count": 29
        }
      ]
    },
    {
      "cell_type": "code",
      "source": [
        "info.remove(3)\n",
        "info\n",
        "#if multiple times 3 is there in the list it will remove first occurence the 3 in the list"
      ],
      "metadata": {
        "colab": {
          "base_uri": "https://localhost:8080/"
        },
        "id": "6cx0ZbOG9Hz0",
        "outputId": "26f85cf6-be21-43ef-a0e6-478f3ea3709e"
      },
      "execution_count": 30,
      "outputs": [
        {
          "output_type": "execute_result",
          "data": {
            "text/plain": [
              "[1, 2, 9988856757, 4, 5, 'ram']"
            ]
          },
          "metadata": {},
          "execution_count": 30
        }
      ]
    },
    {
      "cell_type": "code",
      "source": [
        "#if you want to delete second occurance of the element in the list\n",
        "# by using index position of first occurance based on that we can delete\n",
        "# range is used to generate list of int values\n",
        "details=[1, 2,4,9988856757, 3, 4, 5, 'ram','India',]\n",
        "for in range(len(details)):\n",
        "  if details[i]==4:\n",
        "    del details[i]\n",
        "print(details)\n",
        "# it deletes 4 number from the list all occurences\n",
        "#a=details.index(4,3)\n"
      ],
      "metadata": {
        "id": "4AiUz47D9zvV"
      },
      "execution_count": 32,
      "outputs": []
    },
    {
      "cell_type": "code",
      "source": [
        "details=[1, 2,4,9988856757, 3, 4, 5, 'ram','India',]\n",
        "a=details.index(4,6)\n",
        "del details[a]\n",
        "details\n",
        "# here logic is not working"
      ],
      "metadata": {
        "colab": {
          "base_uri": "https://localhost:8080/",
          "height": 193
        },
        "id": "2TYw4TZROjoK",
        "outputId": "077b5c20-c61f-4663-a191-2ef069ace5d1"
      },
      "execution_count": 42,
      "outputs": [
        {
          "output_type": "error",
          "ename": "ValueError",
          "evalue": "4 is not in list",
          "traceback": [
            "\u001b[0;31m---------------------------------------------------------------------------\u001b[0m",
            "\u001b[0;31mValueError\u001b[0m                                Traceback (most recent call last)",
            "\u001b[0;32m<ipython-input-42-ae2d4f383826>\u001b[0m in \u001b[0;36m<cell line: 0>\u001b[0;34m()\u001b[0m\n\u001b[1;32m      1\u001b[0m \u001b[0mdetails\u001b[0m\u001b[0;34m=\u001b[0m\u001b[0;34m[\u001b[0m\u001b[0;36m1\u001b[0m\u001b[0;34m,\u001b[0m \u001b[0;36m2\u001b[0m\u001b[0;34m,\u001b[0m\u001b[0;36m4\u001b[0m\u001b[0;34m,\u001b[0m\u001b[0;36m9988856757\u001b[0m\u001b[0;34m,\u001b[0m \u001b[0;36m3\u001b[0m\u001b[0;34m,\u001b[0m \u001b[0;36m4\u001b[0m\u001b[0;34m,\u001b[0m \u001b[0;36m5\u001b[0m\u001b[0;34m,\u001b[0m \u001b[0;34m'ram'\u001b[0m\u001b[0;34m,\u001b[0m\u001b[0;34m'India'\u001b[0m\u001b[0;34m,\u001b[0m\u001b[0;34m]\u001b[0m\u001b[0;34m\u001b[0m\u001b[0;34m\u001b[0m\u001b[0m\n\u001b[0;32m----> 2\u001b[0;31m \u001b[0ma\u001b[0m\u001b[0;34m=\u001b[0m\u001b[0mdetails\u001b[0m\u001b[0;34m.\u001b[0m\u001b[0mindex\u001b[0m\u001b[0;34m(\u001b[0m\u001b[0;36m4\u001b[0m\u001b[0;34m,\u001b[0m\u001b[0;36m6\u001b[0m\u001b[0;34m)\u001b[0m\u001b[0;34m\u001b[0m\u001b[0;34m\u001b[0m\u001b[0m\n\u001b[0m\u001b[1;32m      3\u001b[0m \u001b[0;32mdel\u001b[0m \u001b[0mdetails\u001b[0m\u001b[0;34m[\u001b[0m\u001b[0ma\u001b[0m\u001b[0;34m]\u001b[0m\u001b[0;34m\u001b[0m\u001b[0;34m\u001b[0m\u001b[0m\n\u001b[1;32m      4\u001b[0m \u001b[0mdetails\u001b[0m\u001b[0;34m\u001b[0m\u001b[0;34m\u001b[0m\u001b[0m\n",
            "\u001b[0;31mValueError\u001b[0m: 4 is not in list"
          ]
        }
      ]
    },
    {
      "cell_type": "code",
      "source": [
        "data=[1,2,4,2,5,6,'ram','india']\n",
        "a=data.index(2,2)\n",
        "del data[a]\n",
        "data\n",
        "# here it is working"
      ],
      "metadata": {
        "colab": {
          "base_uri": "https://localhost:8080/"
        },
        "id": "45fdIAWGQK_x",
        "outputId": "7352c6c9-36c9-4434-85f8-2c9839aa948d"
      },
      "execution_count": 44,
      "outputs": [
        {
          "output_type": "execute_result",
          "data": {
            "text/plain": [
              "[1, 2, 4, 5, 6, 'ram', 'india']"
            ]
          },
          "metadata": {},
          "execution_count": 44
        }
      ]
    },
    {
      "cell_type": "code",
      "source": [
        "details"
      ],
      "metadata": {
        "colab": {
          "base_uri": "https://localhost:8080/"
        },
        "id": "hvqHsKolP7HB",
        "outputId": "eecedb58-aa02-4755-f7b3-fec598fc9b79"
      },
      "execution_count": 41,
      "outputs": [
        {
          "output_type": "execute_result",
          "data": {
            "text/plain": [
              "[1, 2, 9988856757, 3, 4, 5, 'ram', 'India']"
            ]
          },
          "metadata": {},
          "execution_count": 41
        }
      ]
    },
    {
      "cell_type": "code",
      "source": [
        "range(12)\n",
        "#means it starts from 0 and ends with 12"
      ],
      "metadata": {
        "colab": {
          "base_uri": "https://localhost:8080/"
        },
        "id": "SZuTpYlS_y3R",
        "outputId": "44c7e96a-cf47-4a9d-85b1-a7ae131bdad7"
      },
      "execution_count": 33,
      "outputs": [
        {
          "output_type": "execute_result",
          "data": {
            "text/plain": [
              "range(0, 12)"
            ]
          },
          "metadata": {},
          "execution_count": 33
        }
      ]
    },
    {
      "cell_type": "code",
      "source": [
        "list(range(12))"
      ],
      "metadata": {
        "colab": {
          "base_uri": "https://localhost:8080/"
        },
        "id": "K6oj8r7lAESH",
        "outputId": "c2be57c7-6d8f-4809-818c-340ad3267672"
      },
      "execution_count": 34,
      "outputs": [
        {
          "output_type": "execute_result",
          "data": {
            "text/plain": [
              "[0, 1, 2, 3, 4, 5, 6, 7, 8, 9, 10, 11]"
            ]
          },
          "metadata": {},
          "execution_count": 34
        }
      ]
    },
    {
      "cell_type": "code",
      "source": [
        "list(range(1,12))"
      ],
      "metadata": {
        "colab": {
          "base_uri": "https://localhost:8080/"
        },
        "id": "V0DYaejLASBq",
        "outputId": "5db182a4-874c-42a0-ead1-b14dfba7de74"
      },
      "execution_count": 35,
      "outputs": [
        {
          "output_type": "execute_result",
          "data": {
            "text/plain": [
              "[1, 2, 3, 4, 5, 6, 7, 8, 9, 10, 11]"
            ]
          },
          "metadata": {},
          "execution_count": 35
        }
      ]
    },
    {
      "cell_type": "code",
      "source": [
        "list(range(1,12,2))"
      ],
      "metadata": {
        "colab": {
          "base_uri": "https://localhost:8080/"
        },
        "id": "36zSkWe9AXjY",
        "outputId": "2a2c29b0-6165-4658-c805-8a4f531d6781"
      },
      "execution_count": 36,
      "outputs": [
        {
          "output_type": "execute_result",
          "data": {
            "text/plain": [
              "[1, 3, 5, 7, 9, 11]"
            ]
          },
          "metadata": {},
          "execution_count": 36
        }
      ]
    },
    {
      "cell_type": "code",
      "source": [
        "li=[1,2,3,4]\n",
        "print(id(li))\n",
        "li_one=[5,6,7]\n",
        "li.extend(li_one)\n",
        "print(id(li))\n",
        "li"
      ],
      "metadata": {
        "colab": {
          "base_uri": "https://localhost:8080/"
        },
        "id": "I-r4sgfkQ206",
        "outputId": "a30b8cd5-706d-4895-d1e3-efa544ee38b6"
      },
      "execution_count": 49,
      "outputs": [
        {
          "output_type": "stream",
          "name": "stdout",
          "text": [
            "137247734182400\n",
            "137247734182400\n"
          ]
        },
        {
          "output_type": "execute_result",
          "data": {
            "text/plain": [
              "[1, 2, 3, 4, 5, 6, 7]"
            ]
          },
          "metadata": {},
          "execution_count": 49
        }
      ]
    },
    {
      "cell_type": "code",
      "source": [
        "li=[1,2,3,4]\n",
        "print(id(li))\n",
        "li_one=[5,6,7]\n",
        "li=li+li_one\n",
        "print(id(li))\n",
        "li\n",
        "#diff addresses"
      ],
      "metadata": {
        "colab": {
          "base_uri": "https://localhost:8080/"
        },
        "id": "ueHZNiinSJw9",
        "outputId": "7a516503-cffd-4a7d-9340-142f11bf766c"
      },
      "execution_count": 50,
      "outputs": [
        {
          "output_type": "stream",
          "name": "stdout",
          "text": [
            "137247734059456\n",
            "137247745842112\n"
          ]
        },
        {
          "output_type": "execute_result",
          "data": {
            "text/plain": [
              "[1, 2, 3, 4, 5, 6, 7]"
            ]
          },
          "metadata": {},
          "execution_count": 50
        }
      ]
    },
    {
      "cell_type": "code",
      "source": [
        "li=[1,2,3,4,5,6,7,8]\n",
        "li.reverse()\n",
        "li"
      ],
      "metadata": {
        "colab": {
          "base_uri": "https://localhost:8080/"
        },
        "id": "YpAjNJuWSgOg",
        "outputId": "3ebe0fc3-bd78-4ad2-a9ff-8b65976a5751"
      },
      "execution_count": 53,
      "outputs": [
        {
          "output_type": "execute_result",
          "data": {
            "text/plain": [
              "[8, 7, 6, 5, 4, 3, 2, 1]"
            ]
          },
          "metadata": {},
          "execution_count": 53
        }
      ]
    },
    {
      "cell_type": "code",
      "source": [
        "li=[1,2,5,27,4,8,5]\n",
        "li.sort()\n",
        "li"
      ],
      "metadata": {
        "id": "Xg_hDXn7VDny",
        "outputId": "819d583b-a66f-483d-d3e2-abaa7d338a9f",
        "colab": {
          "base_uri": "https://localhost:8080/"
        }
      },
      "execution_count": 54,
      "outputs": [
        {
          "output_type": "execute_result",
          "data": {
            "text/plain": [
              "[1, 2, 4, 5, 5, 8, 27]"
            ]
          },
          "metadata": {},
          "execution_count": 54
        }
      ]
    },
    {
      "cell_type": "code",
      "source": [
        "li=[1,2,5,27,4,8,5]\n",
        "li.sort(reverse=True)\n",
        "li"
      ],
      "metadata": {
        "id": "2GILQcRyVd7P",
        "outputId": "e2fecfd0-e6a8-4b98-f935-d9ad7cffd547",
        "colab": {
          "base_uri": "https://localhost:8080/"
        }
      },
      "execution_count": 55,
      "outputs": [
        {
          "output_type": "execute_result",
          "data": {
            "text/plain": [
              "[27, 8, 5, 5, 4, 2, 1]"
            ]
          },
          "metadata": {},
          "execution_count": 55
        }
      ]
    },
    {
      "cell_type": "code",
      "source": [
        "#Tuple ---immutable ---we cant change anything --\n",
        "# Creating a tuple\n",
        "my_tuple = (\"apple\", \"banana\", \"cherry\")\n",
        "\n",
        "# Accessing elements\n",
        "print(\"First fruit:\", my_tuple[0])\n",
        "print(\"Last fruit:\", my_tuple[-1])"
      ],
      "metadata": {
        "id": "Rb3yZO7CVr9F",
        "outputId": "9b0df8a1-31f1-4832-b63e-85f9c3c62e7b",
        "colab": {
          "base_uri": "https://localhost:8080/"
        }
      },
      "execution_count": 2,
      "outputs": [
        {
          "output_type": "stream",
          "name": "stdout",
          "text": [
            "First fruit: apple\n",
            "Last fruit: cherry\n"
          ]
        }
      ]
    },
    {
      "cell_type": "code",
      "source": [
        "#Tuple with Mixed Data Types\n",
        "mixed_tuple = (\"John\", 25, 5.8, True)\n",
        "\n",
        "for item in mixed_tuple:\n",
        "    print(item)"
      ],
      "metadata": {
        "id": "mzBJqhbmHZ_-",
        "outputId": "75c529ca-8209-4744-fad2-5065e6b1fef0",
        "colab": {
          "base_uri": "https://localhost:8080/"
        }
      },
      "execution_count": 3,
      "outputs": [
        {
          "output_type": "stream",
          "name": "stdout",
          "text": [
            "John\n",
            "25\n",
            "5.8\n",
            "True\n"
          ]
        }
      ]
    },
    {
      "cell_type": "code",
      "source": [
        "#Tuple Unpacking\n",
        "person = (\"Alice\", 30, \"Engineer\")\n",
        "\n",
        "name, age, profession = person\n",
        "\n",
        "print(\"Name:\", name)\n",
        "print(\"Age:\", age)\n",
        "print(\"Profession:\", profession)"
      ],
      "metadata": {
        "id": "QwfSQmsgJGTz",
        "outputId": "3c6754cb-bb7c-4085-adda-151a150332ea",
        "colab": {
          "base_uri": "https://localhost:8080/"
        }
      },
      "execution_count": 4,
      "outputs": [
        {
          "output_type": "stream",
          "name": "stdout",
          "text": [
            "Name: Alice\n",
            "Age: 30\n",
            "Profession: Engineer\n"
          ]
        }
      ]
    },
    {
      "cell_type": "code",
      "source": [
        "#Tuple Immutability Example\n",
        "t = (1, 2, 3)\n",
        "\n",
        "try:\n",
        "    t[0] = 10  # This will raise an error\n",
        "except TypeError as e:\n",
        "    print(\"Error:\", e)"
      ],
      "metadata": {
        "id": "MgMwrq3HJd2l",
        "outputId": "f00d0cc0-4723-4ff5-84d7-9b032af714a0",
        "colab": {
          "base_uri": "https://localhost:8080/"
        }
      },
      "execution_count": 5,
      "outputs": [
        {
          "output_type": "stream",
          "name": "stdout",
          "text": [
            "Error: 'tuple' object does not support item assignment\n"
          ]
        }
      ]
    },
    {
      "cell_type": "code",
      "source": [
        "tup=(\"Ram\",\"Banglore\",[1,2,3])\n",
        "tup[2]"
      ],
      "metadata": {
        "id": "EB3GTCx9LdCR",
        "outputId": "ead285ae-77e6-4668-dd2a-3f285083d052",
        "colab": {
          "base_uri": "https://localhost:8080/"
        }
      },
      "execution_count": 7,
      "outputs": [
        {
          "output_type": "execute_result",
          "data": {
            "text/plain": [
              "[1, 2, 3]"
            ]
          },
          "metadata": {},
          "execution_count": 7
        }
      ]
    },
    {
      "cell_type": "code",
      "source": [
        "tup[2][1]"
      ],
      "metadata": {
        "id": "4RugcWVWL0lk",
        "outputId": "0e898055-9331-4af9-fabb-b30799fac7ce",
        "colab": {
          "base_uri": "https://localhost:8080/"
        }
      },
      "execution_count": 9,
      "outputs": [
        {
          "output_type": "execute_result",
          "data": {
            "text/plain": [
              "2"
            ]
          },
          "metadata": {},
          "execution_count": 9
        }
      ]
    },
    {
      "cell_type": "code",
      "source": [
        "tup[2][1]=5\n",
        "tup"
      ],
      "metadata": {
        "id": "peXhCfgpMMlE",
        "outputId": "5516b921-a640-4f73-8309-14a0d3cb7ea6",
        "colab": {
          "base_uri": "https://localhost:8080/"
        }
      },
      "execution_count": 10,
      "outputs": [
        {
          "output_type": "execute_result",
          "data": {
            "text/plain": [
              "('Ram', 'Banglore', [1, 5, 3])"
            ]
          },
          "metadata": {},
          "execution_count": 10
        }
      ]
    },
    {
      "cell_type": "code",
      "source": [
        "a=(1,2,3)\n",
        "type(a)"
      ],
      "metadata": {
        "id": "SuBznbh6NO4z",
        "outputId": "5b839200-ce1f-4604-db51-0c68c6081128",
        "colab": {
          "base_uri": "https://localhost:8080/"
        }
      },
      "execution_count": 11,
      "outputs": [
        {
          "output_type": "execute_result",
          "data": {
            "text/plain": [
              "tuple"
            ]
          },
          "metadata": {},
          "execution_count": 11
        }
      ]
    },
    {
      "cell_type": "code",
      "source": [
        "a=1,\n",
        "type(a)"
      ],
      "metadata": {
        "id": "13FYdnwcNYXh",
        "outputId": "dbe681b3-140c-4335-bbe0-b26c01dd4b82",
        "colab": {
          "base_uri": "https://localhost:8080/"
        }
      },
      "execution_count": 12,
      "outputs": [
        {
          "output_type": "execute_result",
          "data": {
            "text/plain": [
              "tuple"
            ]
          },
          "metadata": {},
          "execution_count": 12
        }
      ]
    },
    {
      "cell_type": "code",
      "source": [
        "a=1\n",
        "type(a)"
      ],
      "metadata": {
        "id": "EpRbNjOENjTt",
        "outputId": "4383badb-0d4c-4d8b-e751-e53db1073df6",
        "colab": {
          "base_uri": "https://localhost:8080/"
        }
      },
      "execution_count": 13,
      "outputs": [
        {
          "output_type": "execute_result",
          "data": {
            "text/plain": [
              "int"
            ]
          },
          "metadata": {},
          "execution_count": 13
        }
      ]
    },
    {
      "cell_type": "code",
      "source": [
        "#dictionary--un-ordered  collection of key value pairs\n",
        "Aadhar = {\n",
        "   'Name':'Sairam',\n",
        "   'Age':'45',\n",
        "   'City':'Banglore'\n",
        "}\n",
        "Aadhar"
      ],
      "metadata": {
        "id": "3pVMqcRMNnfd",
        "outputId": "6c9eae2b-7b0c-4667-a0ea-8930c4e45380",
        "colab": {
          "base_uri": "https://localhost:8080/"
        }
      },
      "execution_count": 15,
      "outputs": [
        {
          "output_type": "execute_result",
          "data": {
            "text/plain": [
              "{'Name': 'Sairam', 'Age': '45', 'City': 'Banglore'}"
            ]
          },
          "metadata": {},
          "execution_count": 15
        }
      ]
    },
    {
      "cell_type": "code",
      "source": [
        "Aadhar['Name']"
      ],
      "metadata": {
        "id": "qbnbhjKuWFv5",
        "outputId": "9ceeb21f-95ff-4fa7-dc79-a5937c0ac520",
        "colab": {
          "base_uri": "https://localhost:8080/",
          "height": 35
        }
      },
      "execution_count": 26,
      "outputs": [
        {
          "output_type": "execute_result",
          "data": {
            "text/plain": [
              "'Sairam'"
            ],
            "application/vnd.google.colaboratory.intrinsic+json": {
              "type": "string"
            }
          },
          "metadata": {},
          "execution_count": 26
        }
      ]
    },
    {
      "cell_type": "code",
      "source": [
        "Aadhar.keys()"
      ],
      "metadata": {
        "id": "EplcNVkSWNob",
        "outputId": "7844c343-41ad-4b63-c796-68c4e5d6a364",
        "colab": {
          "base_uri": "https://localhost:8080/"
        }
      },
      "execution_count": 29,
      "outputs": [
        {
          "output_type": "execute_result",
          "data": {
            "text/plain": [
              "dict_keys(['Name', 'Age', 'City'])"
            ]
          },
          "metadata": {},
          "execution_count": 29
        }
      ]
    },
    {
      "cell_type": "code",
      "source": [
        "list(Aadhar.keys())"
      ],
      "metadata": {
        "id": "Qr9JIetzWmQB",
        "outputId": "0fd3cf2a-5756-41ea-d8a7-8dc8f7764a74",
        "colab": {
          "base_uri": "https://localhost:8080/"
        }
      },
      "execution_count": 30,
      "outputs": [
        {
          "output_type": "execute_result",
          "data": {
            "text/plain": [
              "['Name', 'Age', 'City']"
            ]
          },
          "metadata": {},
          "execution_count": 30
        }
      ]
    },
    {
      "cell_type": "code",
      "source": [
        "list(Aadhar.values())"
      ],
      "metadata": {
        "id": "fRLX-PyxWxip",
        "outputId": "9b06aa34-917a-4a1e-c5ea-2768f1860522",
        "colab": {
          "base_uri": "https://localhost:8080/"
        }
      },
      "execution_count": 31,
      "outputs": [
        {
          "output_type": "execute_result",
          "data": {
            "text/plain": [
              "['Sairam', '45', 'Banglore']"
            ]
          },
          "metadata": {},
          "execution_count": 31
        }
      ]
    },
    {
      "cell_type": "code",
      "source": [
        "list(Aadhar)"
      ],
      "metadata": {
        "id": "1DePCSSIW4F9",
        "outputId": "6c9d166f-4e5d-4f8c-8138-8dde2dcbecd3",
        "colab": {
          "base_uri": "https://localhost:8080/"
        }
      },
      "execution_count": 32,
      "outputs": [
        {
          "output_type": "execute_result",
          "data": {
            "text/plain": [
              "['Name', 'Age', 'City']"
            ]
          },
          "metadata": {},
          "execution_count": 32
        }
      ]
    },
    {
      "cell_type": "code",
      "source": [
        "list(Aadhar.items())"
      ],
      "metadata": {
        "id": "KsZmGNTxXFEm",
        "outputId": "3294799a-fedf-4987-9031-1fb873d8e8a5",
        "colab": {
          "base_uri": "https://localhost:8080/"
        }
      },
      "execution_count": 33,
      "outputs": [
        {
          "output_type": "execute_result",
          "data": {
            "text/plain": [
              "[('Name', 'Sairam'), ('Age', '45'), ('City', 'Banglore')]"
            ]
          },
          "metadata": {},
          "execution_count": 33
        }
      ]
    },
    {
      "cell_type": "code",
      "source": [
        "#to delete\n",
        "#Aadhar.popitem()\n",
        "#to delete object\n",
        "#del Aadhar"
      ],
      "metadata": {
        "id": "zEVO8hZPXlcl"
      },
      "execution_count": null,
      "outputs": []
    },
    {
      "cell_type": "code",
      "source": [
        "## Dictionary where each key maps to a list\n",
        "student_subjects = {\n",
        "    \"Alice\": [\"Math\", \"Science\", \"English\"],\n",
        "    \"Bob\": [\"History\", \"Math\"],\n",
        "    \"Charlie\": [\"Biology\", \"Chemistry\"]\n",
        "}\n",
        "\n",
        "print(\"Subjects for Alice:\", student_subjects[\"Alice\"])"
      ],
      "metadata": {
        "id": "gnclZCXyVsK5",
        "outputId": "a1fa6fc9-0d17-4375-ac7c-88d51bfea055",
        "colab": {
          "base_uri": "https://localhost:8080/"
        }
      },
      "execution_count": 25,
      "outputs": [
        {
          "output_type": "stream",
          "name": "stdout",
          "text": [
            "Subjects for Alice: ['Math', 'Science', 'English']\n"
          ]
        }
      ]
    },
    {
      "cell_type": "code",
      "source": [
        "#Nested Dictionary\n",
        "school = {\n",
        "    \"class1\": {\"teacher\": \"Mr. Smith\", \"students\": 30},\n",
        "    \"class2\": {\"teacher\": \"Mrs. Davis\", \"students\": 25}\n",
        "}\n",
        "\n",
        "print(school[\"class1\"][\"teacher\"])"
      ],
      "metadata": {
        "id": "fHdYHJL4TfYJ",
        "outputId": "30204e19-af85-4e6a-dcad-1edea6e4362f",
        "colab": {
          "base_uri": "https://localhost:8080/"
        }
      },
      "execution_count": 20,
      "outputs": [
        {
          "output_type": "stream",
          "name": "stdout",
          "text": [
            "Mr. Smith\n"
          ]
        }
      ]
    },
    {
      "cell_type": "code",
      "source": [
        "#Merge Two Dictionaries\n",
        "dict1 = {\"a\": 1, \"b\": 2}\n",
        "dict2 = {\"c\": 3, \"d\": 4}\n",
        "\n",
        "merged = {**dict1, **dict2}\n",
        "print(merged)"
      ],
      "metadata": {
        "id": "lDOlwlPdTp0j",
        "outputId": "ddb471af-ccd2-4fdc-9b32-12d4e0eca330",
        "colab": {
          "base_uri": "https://localhost:8080/"
        }
      },
      "execution_count": 21,
      "outputs": [
        {
          "output_type": "stream",
          "name": "stdout",
          "text": [
            "{'a': 1, 'b': 2, 'c': 3, 'd': 4}\n"
          ]
        }
      ]
    },
    {
      "cell_type": "code",
      "source": [],
      "metadata": {
        "id": "inK8VGw0UCRf"
      },
      "execution_count": null,
      "outputs": []
    }
  ],
  "metadata": {
    "colab": {
      "name": "Welcome to Colab",
      "toc_visible": true,
      "provenance": [],
      "include_colab_link": true
    },
    "kernelspec": {
      "display_name": "Python 3",
      "name": "python3"
    }
  },
  "nbformat": 4,
  "nbformat_minor": 0
}