{
  "cells": [
    {
      "cell_type": "markdown",
      "metadata": {
        "id": "view-in-github",
        "colab_type": "text"
      },
      "source": [
        "<a href=\"https://colab.research.google.com/github/ramnagella/Demo/blob/master/Python_basics_list_day3.ipynb\" target=\"_parent\"><img src=\"https://colab.research.google.com/assets/colab-badge.svg\" alt=\"Open In Colab\"/></a>"
      ]
    },
    {
      "cell_type": "code",
      "source": [
        "#19072025----Python Basics----\n",
        "\n",
        "details=['ram','2025-06-04','Banglore','9999555666']\n",
        "details"
      ],
      "metadata": {
        "colab": {
          "base_uri": "https://localhost:8080/"
        },
        "id": "BsLmmu6GIKRk",
        "outputId": "5ef17968-4b59-428f-ac47-256d6b27a952"
      },
      "execution_count": 1,
      "outputs": [
        {
          "output_type": "execute_result",
          "data": {
            "text/plain": [
              "['ram', '2025-06-04', 'Banglore', '9999555666']"
            ]
          },
          "metadata": {},
          "execution_count": 1
        }
      ]
    },
    {
      "cell_type": "code",
      "source": [
        "details=['ram','2025-06-04','Banglore','9999555666']\n",
        "details.append('PKLur')\n",
        "details"
      ],
      "metadata": {
        "id": "Wgj_XK9aLkF6",
        "outputId": "f20d1882-9f95-4066-aeb5-0c35fb1b9862",
        "colab": {
          "base_uri": "https://localhost:8080/"
        }
      },
      "execution_count": 2,
      "outputs": [
        {
          "output_type": "execute_result",
          "data": {
            "text/plain": [
              "['ram', '2025-06-04', 'Banglore', '9999555666', 'PKLur']"
            ]
          },
          "metadata": {},
          "execution_count": 2
        }
      ]
    },
    {
      "cell_type": "code",
      "source": [
        "IP=['192.168.3.0','172.22.44.28','172.158.4.0','155.34.22.0']\n",
        "IP[0]"
      ],
      "metadata": {
        "id": "BejDSS6yL1Sa",
        "outputId": "e73d2db4-050f-4a34-c0c9-8f3c9c653b5b",
        "colab": {
          "base_uri": "https://localhost:8080/",
          "height": 35
        }
      },
      "execution_count": 3,
      "outputs": [
        {
          "output_type": "execute_result",
          "data": {
            "text/plain": [
              "'192.168.3.0'"
            ],
            "application/vnd.google.colaboratory.intrinsic+json": {
              "type": "string"
            }
          },
          "metadata": {},
          "execution_count": 3
        }
      ]
    },
    {
      "cell_type": "code",
      "source": [
        "#Slicing operation--object_name(start:end-1,step)\n",
        "details=['ram','2025-06-04','Banglore','9999555666']\n",
        "details.append('PKLur')\n",
        "details[1]"
      ],
      "metadata": {
        "id": "N2xjq6wAMZHj",
        "outputId": "da61e434-3da3-4e27-86d1-ea077d95dbee",
        "colab": {
          "base_uri": "https://localhost:8080/",
          "height": 35
        }
      },
      "execution_count": 7,
      "outputs": [
        {
          "output_type": "execute_result",
          "data": {
            "text/plain": [
              "'2025-06-04'"
            ],
            "application/vnd.google.colaboratory.intrinsic+json": {
              "type": "string"
            }
          },
          "metadata": {},
          "execution_count": 7
        }
      ]
    },
    {
      "cell_type": "code",
      "source": [
        "details[3]"
      ],
      "metadata": {
        "id": "6378eJnxa6Qi",
        "outputId": "29a0bcdb-c7e6-4fd0-a71f-3c8f6d9bcb6c",
        "colab": {
          "base_uri": "https://localhost:8080/",
          "height": 35
        }
      },
      "execution_count": 8,
      "outputs": [
        {
          "output_type": "execute_result",
          "data": {
            "text/plain": [
              "'9999555666'"
            ],
            "application/vnd.google.colaboratory.intrinsic+json": {
              "type": "string"
            }
          },
          "metadata": {},
          "execution_count": 8
        }
      ]
    },
    {
      "cell_type": "code",
      "source": [
        "details[-1]"
      ],
      "metadata": {
        "id": "erIkjFoIbsXs",
        "outputId": "75d4914b-6003-4986-99dc-944b13290cc3",
        "colab": {
          "base_uri": "https://localhost:8080/",
          "height": 35
        }
      },
      "execution_count": 9,
      "outputs": [
        {
          "output_type": "execute_result",
          "data": {
            "text/plain": [
              "'PKLur'"
            ],
            "application/vnd.google.colaboratory.intrinsic+json": {
              "type": "string"
            }
          },
          "metadata": {},
          "execution_count": 9
        }
      ]
    },
    {
      "cell_type": "code",
      "source": [
        "details[0:2:2]"
      ],
      "metadata": {
        "id": "T5dtnEI0bvV3",
        "outputId": "3b631a0a-561e-4d4d-e80e-9cd7e8400102",
        "colab": {
          "base_uri": "https://localhost:8080/"
        }
      },
      "execution_count": 10,
      "outputs": [
        {
          "output_type": "execute_result",
          "data": {
            "text/plain": [
              "['ram']"
            ]
          },
          "metadata": {},
          "execution_count": 10
        }
      ]
    },
    {
      "cell_type": "code",
      "source": [
        "details[0:3:2]"
      ],
      "metadata": {
        "id": "in3rqGSTcRvX",
        "outputId": "4d0edffd-2a9c-4a32-9f70-1424bc54be52",
        "colab": {
          "base_uri": "https://localhost:8080/"
        }
      },
      "execution_count": 11,
      "outputs": [
        {
          "output_type": "execute_result",
          "data": {
            "text/plain": [
              "['ram', 'Banglore']"
            ]
          },
          "metadata": {},
          "execution_count": 11
        }
      ]
    },
    {
      "cell_type": "code",
      "source": [
        "details[1:4:2]"
      ],
      "metadata": {
        "id": "24uish8EcVNy",
        "outputId": "a9cd8371-8670-48b1-bbd8-5b64178567fd",
        "colab": {
          "base_uri": "https://localhost:8080/"
        }
      },
      "execution_count": 12,
      "outputs": [
        {
          "output_type": "execute_result",
          "data": {
            "text/plain": [
              "['2025-06-04', '9999555666']"
            ]
          },
          "metadata": {},
          "execution_count": 12
        }
      ]
    },
    {
      "cell_type": "code",
      "source": [
        "details[1:3]"
      ],
      "metadata": {
        "id": "734B4x_JccBS",
        "outputId": "e7fe6275-4092-4b67-e48f-1ee4c1301456",
        "colab": {
          "base_uri": "https://localhost:8080/"
        }
      },
      "execution_count": 13,
      "outputs": [
        {
          "output_type": "execute_result",
          "data": {
            "text/plain": [
              "['2025-06-04', 'Banglore']"
            ]
          },
          "metadata": {},
          "execution_count": 13
        }
      ]
    },
    {
      "cell_type": "code",
      "source": [
        "details[::-1]"
      ],
      "metadata": {
        "id": "GQXksh4wkeAE",
        "outputId": "8050f05e-8b3c-456c-cb55-75314d1fbab2",
        "colab": {
          "base_uri": "https://localhost:8080/"
        }
      },
      "execution_count": 14,
      "outputs": [
        {
          "output_type": "execute_result",
          "data": {
            "text/plain": [
              "['PKLur', '9999555666', 'Banglore', '2025-06-04', 'ram']"
            ]
          },
          "metadata": {},
          "execution_count": 14
        }
      ]
    },
    {
      "cell_type": "code",
      "source": [
        "#last two elements\n",
        "details[-2:]"
      ],
      "metadata": {
        "id": "Qu1TR0JPkszY",
        "outputId": "8da5eab5-a879-45bd-a802-351f38bc08ac",
        "colab": {
          "base_uri": "https://localhost:8080/"
        }
      },
      "execution_count": 15,
      "outputs": [
        {
          "output_type": "execute_result",
          "data": {
            "text/plain": [
              "['9999555666', 'PKLur']"
            ]
          },
          "metadata": {},
          "execution_count": 15
        }
      ]
    },
    {
      "cell_type": "code",
      "source": [
        "details[-2:-4:-1]"
      ],
      "metadata": {
        "id": "el_7yT69lWB6",
        "outputId": "3b06ca71-344a-4949-8eba-7649f495627e",
        "colab": {
          "base_uri": "https://localhost:8080/"
        }
      },
      "execution_count": 16,
      "outputs": [
        {
          "output_type": "execute_result",
          "data": {
            "text/plain": [
              "['9999555666', 'Banglore']"
            ]
          },
          "metadata": {},
          "execution_count": 16
        }
      ]
    },
    {
      "cell_type": "code",
      "source": [
        "details[-2:-1]"
      ],
      "metadata": {
        "id": "vBXaGfrblvAf",
        "outputId": "6a4f2bba-5bc5-412b-b430-0f18c4e92a08",
        "colab": {
          "base_uri": "https://localhost:8080/"
        }
      },
      "execution_count": 17,
      "outputs": [
        {
          "output_type": "execute_result",
          "data": {
            "text/plain": [
              "['9999555666']"
            ]
          },
          "metadata": {},
          "execution_count": 17
        }
      ]
    }
  ],
  "metadata": {
    "colab": {
      "name": "Welcome to Colab",
      "toc_visible": true,
      "provenance": [],
      "include_colab_link": true
    },
    "kernelspec": {
      "display_name": "Python 3",
      "name": "python3"
    }
  },
  "nbformat": 4,
  "nbformat_minor": 0
}