{
  "cells": [
    {
      "cell_type": "markdown",
      "metadata": {
        "id": "view-in-github",
        "colab_type": "text"
      },
      "source": [
        "<a href=\"https://colab.research.google.com/github/ramnagella/Demo/blob/master/GenAI_Day1.ipynb\" target=\"_parent\"><img src=\"https://colab.research.google.com/assets/colab-badge.svg\" alt=\"Open In Colab\"/></a>"
      ]
    },
    {
      "cell_type": "code",
      "source": [
        "#GenAI_Day1---Session\n",
        "'''\n",
        "Day 1 – Foundations of AI, ML, DL, NLP, and Generative AI\n",
        "Topics Covered\n",
        "Foundational Concepts\n",
        "Artificial Intelligence (AI): Definition, purpose, evolution.\n",
        "Machine Learning (ML): Types, use cases, model building.\n",
        "Deep Learning (DL): Neural networks (ANN, CNN, RNN, LSTM).\n",
        "Natural Language Processing (NLP): NLU vs. NLG, applications (sentiment analysis, summarization, translation).\n",
        "Types of Learning in AI/ML\n",
        "Supervised: Regression, classification.\n",
        "Unsupervised: Clustering, pattern discovery.\n",
        "Reinforcement: Trial-and-error, reward/penalty, game examples.\n",
        "Generative AI Overview\n",
        "Definition & purpose: Creating new content (text, image, code, music, video).\n",
        "Tools/Models: ChatGPT, Gemini, Jasper, DALL·E, Midjourney, GitHub Copilot, Codium, TabNine.\n",
        "LLM architecture basics and data sources.\n",
        "Applications: Marketing, design, software development, healthcare.\n",
        "Real-Time Use Cases\n",
        "AI: Chatbots, Alexa, Siri, IBM Watson.\n",
        "ML: Credit scoring, loan eligibility, recommendation systems.\n",
        "DL: Facial recognition, X-ray COVID detection, self-driving cars.\n",
        "NLP: Voice assistants, document summarization, sentiment analysis.\n",
        "Project Idea\n",
        "Gen AI tool for generating visit summaries and alerts from medical transcripts using LLMs.\n",
        "Day 2 – Deep Dive into Gen AI Tools, Models, and Business Use Cases\n",
        "Topics Covered\n",
        "Recap\n",
        "AI evolution and types of learning.\n",
        "Overview of AI, ML, DL, NLP, and Gen AI.\n",
        "Technical Foundations\n",
        "Neural networks, ANN/CNN/RNN/LSTM.\n",
        "Vector databases, embeddings.\n",
        "Prompt engineering & automation use cases.\n",
        "Gen AI Tools vs. Models\n",
        "Tools: ChatGPT, Gemini, Perplexity, Copilot, TabNine, Claude, DeepSeek.\n",
        "Models: GPT, DALL·E, Jukebox, Sora, Codex, Sonnet, Gemini 2.4, LLaMA.\n",
        "Differences, input types, and access methods.\n",
        "Real-Time Applications\n",
        "Code generation/debugging, workspace setup, conversational AI, translation.\n",
        "Domain-specific applications in healthcare, finance, retail, marketing, legal, education, HR, manufacturing, media, real estate, travel, insurance, telecom, energy, and automotive.\n",
        "Advanced Concepts\n",
        "Multimodal Gen AI (text, image, audio, video).\n",
        "RAG (Retrieval-Augmented Generation).\n",
        "Agentic AI (autonomous goal-driven agents).\n",
        "Day 3 – LLMs, RAG, Agentic AI, and Hands-On Demos\n",
        "Topics Covered\n",
        "Recap & Evolution\n",
        "From Traditional AI → ML → DL → Gen AI → RAG → Agentic AI.\n",
        "Milestones: GPT series, Claude, Gemini, LLaMA, Mistral.\n",
        "Core Concepts\n",
        "LLMs: Definition, architecture, tokenization, embeddings, examples.\n",
        "Gen AI: Content generation, tools (ChatGPT, Copilot, DALL·E, Jukebox, Sora).\n",
        "RAG: Combining search with generation for real-time insights.\n",
        "Agentic AI: Goal-driven autonomous execution (e.g., CI/CD automation).\n",
        "Hands-On Demonstrations\n",
        "GitHub Copilot: Auto-completion, code generation, test case creation, workspace setup, automation workflows.\n",
        "ChatGPT: Text completion, creative writing, RAG for real-time data.\n",
        "Architecture Insights\n",
        "High-level Gen AI workflow: Prompt → Tokenization → LLM → Output.\n",
        "Embedding layers, vocabulary mapping.\n",
        "User feedback loop for model refinement.\n",
        "\n",
        "\n",
        "'''\n"
      ],
      "metadata": {
        "id": "2SIv-byGYxD4"
      },
      "execution_count": null,
      "outputs": []
    },
    {
      "cell_type": "code",
      "source": [],
      "metadata": {
        "id": "4ZdpIV9UYxAj"
      },
      "execution_count": null,
      "outputs": []
    },
    {
      "cell_type": "code",
      "source": [],
      "metadata": {
        "id": "CKCIFTKTYw-B"
      },
      "execution_count": null,
      "outputs": []
    },
    {
      "cell_type": "code",
      "source": [],
      "metadata": {
        "id": "RSF9vC8cYw7n"
      },
      "execution_count": null,
      "outputs": []
    },
    {
      "cell_type": "code",
      "source": [],
      "metadata": {
        "id": "bJ0GhTScYw5b"
      },
      "execution_count": null,
      "outputs": []
    },
    {
      "cell_type": "code",
      "source": [],
      "metadata": {
        "id": "sfEbn29-Yw22"
      },
      "execution_count": null,
      "outputs": []
    },
    {
      "cell_type": "code",
      "source": [],
      "metadata": {
        "id": "QKCYA2pcYw0S"
      },
      "execution_count": null,
      "outputs": []
    },
    {
      "cell_type": "code",
      "source": [],
      "metadata": {
        "id": "eKkh_K5uYwxq"
      },
      "execution_count": null,
      "outputs": []
    },
    {
      "cell_type": "code",
      "source": [],
      "metadata": {
        "id": "ENgaxRMqYwi1"
      },
      "execution_count": null,
      "outputs": []
    }
  ],
  "metadata": {
    "colab": {
      "name": "Welcome to Colab",
      "toc_visible": true,
      "provenance": [],
      "include_colab_link": true
    },
    "kernelspec": {
      "display_name": "Python 3",
      "name": "python3"
    }
  },
  "nbformat": 4,
  "nbformat_minor": 0
}