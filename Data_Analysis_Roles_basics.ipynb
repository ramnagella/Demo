{
  "cells": [
    {
      "cell_type": "markdown",
      "metadata": {
        "id": "view-in-github",
        "colab_type": "text"
      },
      "source": [
        "<a href=\"https://colab.research.google.com/github/ramnagella/Demo/blob/master/Data_Analysis_Roles_basics.ipynb\" target=\"_parent\"><img src=\"https://colab.research.google.com/assets/colab-badge.svg\" alt=\"Open In Colab\"/></a>"
      ]
    },
    {
      "cell_type": "code",
      "source": [
        "#Data analysis with Python\n",
        "#---Data Analyst,Data scintist/M L engineer,Data Engineer,AI Engineer,---Roles and Responsibilities\n",
        "#Data Analysis Tools\n",
        "#Data Analyst----Ex--Swiggy ,Zomato--Problem definition--recomendations--recomend releveant food options to the users--\n",
        "#----------------Data Aquition---Collection,deom different sources\n",
        "#----------------Data Cleaning and Preparation---Handling missing values ,formatting inconstancies ,Remocing errors\n",
        "#----------------EDA---identify Trends ,patterns--Analysing the data,relationships,different categories 70% will use this\n",
        "#----------------Statistical methods*mean,mode),data visualisation techniques(report)\n",
        "#----------------Predicstion some times for creating model only (20%),\n",
        "#----------------Dash boards using power BI,Tableu,data story telling /insights,reports\n",
        "#----------------offline engineer\n",
        "#----------------"
      ],
      "metadata": {
        "id": "FTz630iPmvwq"
      },
      "execution_count": null,
      "outputs": []
    },
    {
      "cell_type": "code",
      "source": [
        "#Data Engineer ---Realtime infrastrucure ---ETL---\n",
        "#-----------------System design and design nuild data pipelines ---ingest the real time data streams\n",
        "#-----------------What is the Soutce and target of data,\n",
        "#-----------------data ingestion--Real time data on swiggy or zomato orders--Restaurant avilability for delivery\n",
        "#-----------------Collect the real time data\n",
        "#-----------------Data transformation ----Whether need apply any business logic for the columns or tables\n",
        "#-----------------As per the business requirement it will be loaded into the target tables\n",
        "#-----------------Data Transformation--Format suitable for our requirement (like what is there in the restaurant for break fast and lunch)\n",
        "#-----------------Format suitable for our analysis and itegration with other systems\n",
        "#-----------------Foramt like horizontal to vertical or vertical to horizontal, only few field ssitale for analysis\n",
        "#-----------------Data filtering,aggregation,normalization,storing\n",
        "#-----------------Storing or loadig the final transformed data --into target source\n",
        "#-----------------Data quality monitoring --identify any issues with data ingestion  or processing\n",
        "#-----------------"
      ],
      "metadata": {
        "id": "y1gjwYo9n_Lf"
      },
      "execution_count": null,
      "outputs": []
    },
    {
      "cell_type": "code",
      "source": [
        "#Data Scientist and ML Engineer\n",
        "#-------Combined role ,recommendation engine,predction.\n",
        "#-------Data analyst will give the problem defintion to the DS and M engineer\n",
        "#-------For Example in apparal retail business DA will give the info like top selling product ,\n",
        "#-------top sellers ,top performing stores,in how many days the particular product going to sold out so tha they can bromng more products in time\n",
        "#-------inventory recoimendation.\n",
        "#-------DA will gkive problem defintion to the DS and ML nehineer\n",
        "#-------DS amd ML engineer will refine the problem based DA insights and business goals\n",
        "#-------Pizza recomendation problem .Already DA prepared problem defintion ..\n",
        "#------DS will consoder business goals also and refines the problem defintion.\n",
        "#------Prepare the data for model creation and prepare the data to improve the model perfomance\n",
        "#------Model seletction and training --again and again the train the model to improve and accuracy also improves\n",
        "#------Like attemptng many model papers for preapring competetive exams\n",
        "#------Model evalaution ---Evaluate the performance of the model on unseen data--Improving the performance of the model\n",
        "#------Model deployment and monitoring into the (Ex Swiggy App)\n",
        "#-----Refine the problem,data preparation,Mocdel selection and training,Nodel Evaluation,Model Deployment\n"
      ],
      "metadata": {
        "id": "YNhmlhfFn-zA"
      },
      "execution_count": null,
      "outputs": []
    },
    {
      "cell_type": "code",
      "source": [
        "#AI Engineer\n",
        "#------If you want to add additional features like NLP,FenAI,Virtual assistant,chatbot(old),Open CV tool,Face detection\n",
        "#------Face tracking ,attendance system\n",
        "#"
      ],
      "metadata": {
        "id": "Z-s4jy2ji-An"
      },
      "execution_count": null,
      "outputs": []
    },
    {
      "cell_type": "code",
      "source": [
        "#DA (data Analysis)\n",
        "#Comprehensive method of incpecting,cleaning,transforming ,Modelling ,draw Conclusion,decision making\n",
        "#Reporting,Storing telling usning Tableu,Power BI ,support decision making ,Predict trends,inprove operational efficiency\n",
        "#Strategic planning in business ex e -commerce company buyers behaviour ,prefrences, way of oredering is  patren is approach\n",
        "#forecast sales,customer exp ,market strategies\n",
        "# DA Process----EX Voting system of India---Objective Why people are not voting in AP and Larnataka\n",
        "#Means define ojective First---and questions in clear manner.Analysis going to answer\n",
        "#Like how many people voted for NOTA,How many people are there diff age groups\n",
        "#--People from village ---towns,cities,educated ,uneduucated,day of voting like summer ,winter\n",
        "#how many people living above 70 yrs,60 yrs\n",
        "#understand the problem,objective  ,based on objective formulate qestions\n",
        "#2 Step::--Data Collection from diff sources,methods,service ,interviews ,observation,extract from existing data\n",
        "#---------Data may be numerical\n",
        "#3 STEP::;---Data Cleaning ,very IMP because lot of errors ,inconsistancies corrections,Quality and reliability of the data\n",
        "#4 STEP::--Data Analysis---Identify trends,patterns,relationships,statistical methods (mean,mode)\n",
        "#5 STEP:::---Data interpretation and visualisation\n",
        "# 6 STEP::: Data story telling ,reports,dashboards---for non-techincal gys to understand better\n",
        "#---Python,GO,R language,Excel,SQl (Programming Languages),numpy,pandas,seaborn,scikitlearn,matplotlib,scipy\n",
        "#pytorch,tensor flow,keras--for DL,pyspark--data bricks\n",
        "#Pandas spports single node ,pyspark multinode for processing the data\n",
        "#Visualsing tools ---Power BI,Tableu,Click View,AWS Quick sight\n",
        "#Types of DA----purpose s nique and everything is not same\n",
        "#---1 Descriptive analysis 2 diagnistic ,predictive analytics,Prescriptive\n",
        "#1----What happened so far--raw data ,like summarisation ,historical data--ex---avh monthly sales of last year\n",
        "#2----Why did it happened---why some thing happened,dales dropped last year why--reason\n",
        "#3---Predictive --Waht will heppen---statistical models ,graphs,based on past data predict fture ,risk assessment,marketi ng ,sales forecasting\n",
        "#4---how we can make it happen---most adv type DA ---give suggestons, actionss to benifit from these predictions,best marketing strategies\n",
        "#---how we can make it happen\n",
        "# 1 and 2 will be done by DA,, 3 one is done ML and DA 4 th one is DS"
      ],
      "metadata": {
        "id": "J12WFBiDkFOU"
      },
      "execution_count": null,
      "outputs": []
    },
    {
      "cell_type": "code",
      "source": [
        "#!7-07---After Roles Session\n",
        "#DA techiniques ---EDA--Missing data,test assumptions,visualize the data.\n",
        "#Regression Analsis --Statistical methods--Model,understand the relationship netween variables,time series modellimg\n",
        "#Factor Analysis ---Image recognition,R mostly uses ,python is less,  Like reducing large no of variables into less fewer factors,used n market reseacrh ,image recomgnition.\n",
        "#Monte Carlo simulation-Risk analysis,decision making\n",
        "#Cluster Analysis--image segmantation,market segmantion,rexomendatin---DS /ML guys uses tgis technique,k-meaning\n",
        "#heirarchical analysis ,\n",
        "#Time serires analysis--trend analysis using statistics advance level DA techniques---All roles\n",
        "#Sentiment anakysis ---AI Engineer,NLP,to extract text and analyse,social media monitoring---AI engineer\n",
        "#cohort analysis --subset of behaviour analysis--AI amd ML engineer,\n",
        "#Depends on project and depends on requirement we use differenr data analysis techniques\n",
        "#---DA--EDA,Regresion analysis,time series analysis,rest analysis are taken care by DS,ML engineer,\n",
        "#---AI engineer--cohort,factor,monte calro analysis ,sentoment analysis\n",
        "\n"
      ],
      "metadata": {
        "id": "w9aHOoYmGM7m"
      },
      "execution_count": null,
      "outputs": []
    },
    {
      "cell_type": "code",
      "source": [
        "#Agenda----Variables ,data types,i/o formats ,basic methods.control structures,funcions ,file handling ,list comprehension\n",
        "#----------DA with Python---Pre--requisites\n",
        "#---Variables,data types and I/O formatting\n",
        "#---Data structures----list,tuple,dict,string,set\n",
        "#---Control structures,functions,File handling,exception handling,\n",
        "#---List comprehension,Advanced list processing,Lambda,filter,reduce,map\n",
        "#---import libraries--modules and packages\n",
        "#---\n"
      ],
      "metadata": {
        "id": "zX3U9ToQIcSs"
      },
      "execution_count": null,
      "outputs": []
    },
    {
      "cell_type": "code",
      "source": [
        "##In Pythin everythiung considered as object.\n",
        "#Variables,Data types and I/O formatting\n",
        "#----In python no need to mention data type like this int or string or float ,everything is dynamic\n",
        "name=\"Ram\"\n",
        "print(name)\n",
        "#type(name)\n",
        "print(type(name))\n",
        "#Data types available in python--numerical--int,float,complex--in python > 2.0\n",
        "#in Python 2.0 many data types are available like long int ,int float ,long float\n"
      ],
      "metadata": {
        "id": "uAEcMjPNqc2d",
        "colab": {
          "base_uri": "https://localhost:8080/"
        },
        "outputId": "25194302-827a-4156-dd19-14e06545dcef"
      },
      "execution_count": 4,
      "outputs": [
        {
          "output_type": "stream",
          "name": "stdout",
          "text": [
            "Ram\n",
            "<class 'str'>\n"
          ]
        }
      ]
    },
    {
      "cell_type": "markdown",
      "source": [],
      "metadata": {
        "id": "wa02vqu6nvBF"
      }
    },
    {
      "cell_type": "code",
      "source": [
        "a=10000000000000000000000\n",
        "print(type(a))\n",
        "#in Python 2.0 it will print as long"
      ],
      "metadata": {
        "colab": {
          "base_uri": "https://localhost:8080/"
        },
        "id": "TBZ6eYPqBhme",
        "outputId": "21bbecb1-fc26-4dcb-97a8-5178c99643d1"
      },
      "execution_count": 5,
      "outputs": [
        {
          "output_type": "stream",
          "name": "stdout",
          "text": [
            "<class 'int'>\n"
          ]
        }
      ]
    },
    {
      "cell_type": "code",
      "source": [
        "a=10.500000\n",
        "print(type(a))"
      ],
      "metadata": {
        "colab": {
          "base_uri": "https://localhost:8080/"
        },
        "id": "ggLaIx-JuxdM",
        "outputId": "3279a5cb-c706-441e-daf2-0ff6ae6972a3"
      },
      "execution_count": 6,
      "outputs": [
        {
          "output_type": "stream",
          "name": "stdout",
          "text": [
            "<class 'float'>\n"
          ]
        }
      ]
    },
    {
      "cell_type": "code",
      "source": [
        "a=10+5J\n",
        "print(type(a))"
      ],
      "metadata": {
        "colab": {
          "base_uri": "https://localhost:8080/"
        },
        "id": "hoC4yylvu3MI",
        "outputId": "d56da424-e51c-46fe-950a-2c184a7d2160"
      },
      "execution_count": 11,
      "outputs": [
        {
          "output_type": "stream",
          "name": "stdout",
          "text": [
            "<class 'complex'>\n"
          ]
        }
      ]
    },
    {
      "cell_type": "code",
      "source": [
        "#Data Types,---Numerical---int,float,complex\n",
        "#---list,tuple,dictionary,string,set,frozenset\n",
        "#---bool--True,False\n",
        "#---None--keyword\n",
        "#---Dark green color indicates keywords\n",
        "#---Range is function\n",
        "#type casting\n",
        "a=10\n",
        "float(a)\n"
      ],
      "metadata": {
        "colab": {
          "base_uri": "https://localhost:8080/"
        },
        "id": "QHVgPhvsw9C3",
        "outputId": "f670fdca-cc7e-4cdd-f272-ab66272ebfe9"
      },
      "execution_count": 13,
      "outputs": [
        {
          "output_type": "execute_result",
          "data": {
            "text/plain": [
              "10.0"
            ]
          },
          "metadata": {},
          "execution_count": 13
        }
      ]
    },
    {
      "cell_type": "code",
      "source": [
        "a=10+7J\n",
        "int(a)\n",
        "#here we cant convert complex into int or float because"
      ],
      "metadata": {
        "colab": {
          "base_uri": "https://localhost:8080/",
          "height": 158
        },
        "id": "70eDHXHqzD15",
        "outputId": "46b93d29-d6ae-48e1-86a3-c155edd89835"
      },
      "execution_count": 14,
      "outputs": [
        {
          "output_type": "error",
          "ename": "TypeError",
          "evalue": "int() argument must be a string, a bytes-like object or a real number, not 'complex'",
          "traceback": [
            "\u001b[0;31m---------------------------------------------------------------------------\u001b[0m",
            "\u001b[0;31mTypeError\u001b[0m                                 Traceback (most recent call last)",
            "\u001b[0;32m<ipython-input-14-f9296177c271>\u001b[0m in \u001b[0;36m<cell line: 0>\u001b[0;34m()\u001b[0m\n\u001b[1;32m      1\u001b[0m \u001b[0ma\u001b[0m\u001b[0;34m=\u001b[0m\u001b[0;36m10\u001b[0m\u001b[0;34m+\u001b[0m\u001b[0;36m7J\u001b[0m\u001b[0;34m\u001b[0m\u001b[0;34m\u001b[0m\u001b[0m\n\u001b[0;32m----> 2\u001b[0;31m \u001b[0mint\u001b[0m\u001b[0;34m(\u001b[0m\u001b[0ma\u001b[0m\u001b[0;34m)\u001b[0m\u001b[0;34m\u001b[0m\u001b[0;34m\u001b[0m\u001b[0m\n\u001b[0m",
            "\u001b[0;31mTypeError\u001b[0m: int() argument must be a string, a bytes-like object or a real number, not 'complex'"
          ]
        }
      ]
    },
    {
      "cell_type": "code",
      "source": [
        "a=10\n",
        "complex(a)"
      ],
      "metadata": {
        "colab": {
          "base_uri": "https://localhost:8080/"
        },
        "id": "r3lhl7t9zm3G",
        "outputId": "fc7be8d5-0382-4eab-875d-49bed9be2c59"
      },
      "execution_count": 15,
      "outputs": [
        {
          "output_type": "execute_result",
          "data": {
            "text/plain": [
              "(10+0j)"
            ]
          },
          "metadata": {},
          "execution_count": 15
        }
      ]
    },
    {
      "cell_type": "code",
      "source": [],
      "metadata": {
        "id": "qckWf3Um0F6N"
      },
      "execution_count": null,
      "outputs": []
    },
    {
      "cell_type": "code",
      "source": [
        "'''sequential data types---list,tuple,string.---[1,3,4,6,5],{1,3,2,4,5,7},\"Ram\"\n",
        "everything is index positioning\n",
        "non-sequesntial data types--dictionary,set,frozenset---unordered --cant use index position\n",
        "Array is not predefined one in python\n",
        "With help of module or library we can implement array.\n",
        "Array is used to store or collection of same data type--{\"ram\",\"sam\",\"Vamsi\"}\n",
        "Memory is fixed,static one\n",
        "List----Collection of different data types--[\"Ram\",(1,4,2,5),{'name':'sam'},12,45.7]\n",
        "Memory is not fixed--dynamic --Array is faster when compared with list--because of fixed size and indexing\n",
        "Easy to traverse---\n",
        "\n",
        "'''"
      ],
      "metadata": {
        "id": "NiSKFmlEzySg"
      },
      "execution_count": null,
      "outputs": []
    },
    {
      "cell_type": "code",
      "source": [
        "#List is created with [],list[]\n",
        "sensor_readings=[10,30.5,55.6,56.4,66.9,30]\n",
        "sensor_readings[-1]\n",
        "sensor_readings[-3]\n",
        "#sensor_readings[0]\n",
        "#data is stored as date,time,sensor_reading in a table (temp senosr readings)\n",
        "#if you want to analyse only sensor readings and other date and time are not required in that case we\n",
        "# will store these sensor reading values into a list --this is the use case\n",
        "#why list means it is mutable and dynamic--memory address will not be changed\n",
        "#same memory address---list object address is not changed --we can perform any manupulation of data\n"
      ],
      "metadata": {
        "colab": {
          "base_uri": "https://localhost:8080/"
        },
        "id": "ccGHCw4tGFF4",
        "outputId": "809dc114-392f-407b-aefb-051b6c532496"
      },
      "execution_count": 19,
      "outputs": [
        {
          "output_type": "execute_result",
          "data": {
            "text/plain": [
              "56.4"
            ]
          },
          "metadata": {},
          "execution_count": 19
        }
      ]
    },
    {
      "cell_type": "code",
      "source": [
        "sensor_readings=[10,30.5,55.6,56.4,66.9,30,9]\n",
        "sensor_value_one=[]\n",
        "sensor_value_two=[]\n",
        "sensor_value_three=[]\n",
        "for sensor in sensor_readings:\n",
        "    print(sensor)"
      ],
      "metadata": {
        "colab": {
          "base_uri": "https://localhost:8080/"
        },
        "id": "0blAxEdsn7YC",
        "outputId": "0b2171d5-7a67-482f-bc5a-b2131e3bb71a"
      },
      "execution_count": 1,
      "outputs": [
        {
          "output_type": "stream",
          "name": "stdout",
          "text": [
            "10\n",
            "30.5\n",
            "55.6\n",
            "56.4\n",
            "66.9\n",
            "30\n",
            "9\n"
          ]
        }
      ]
    },
    {
      "cell_type": "code",
      "source": [
        "sensor_readings=[10,30.5,55.6,56.4,66.9,30,9]\n",
        "sensor_value_one=[]\n",
        "sensor_value_two=[]\n",
        "sensor_value_three=[]\n",
        "for sensor_value in sensor_readings:\n",
        "  if sensor_value > 60:\n",
        "    sensor_value_one.append(sensor_value)\n",
        "  elif sensor_value > 30 and sensor_value < 60:\n",
        "    sensor_value_two.append(sensor_value)\n",
        "  else:\n",
        "    sensor_value_three.append(sensor_value)\n",
        "print(sensor_value_one)\n",
        "print(sensor_value_two)\n",
        "print(sensor_value_three)\n",
        "#if you want o extend the memory or adding or update or delete or edit the elenent we can use list\n",
        "#date =monday,tuesday,wednesday,thurdsy,friday,satday,sunday\n"
      ],
      "metadata": {
        "colab": {
          "base_uri": "https://localhost:8080/"
        },
        "id": "mUVc5jYjJRnH",
        "outputId": "a3dc3ccb-24ff-4f5a-e75e-7aa8203b08d9"
      },
      "execution_count": 2,
      "outputs": [
        {
          "output_type": "stream",
          "name": "stdout",
          "text": [
            "[66.9]\n",
            "[30.5, 55.6, 56.4]\n",
            "[10, 30, 9]\n"
          ]
        }
      ]
    },
    {
      "cell_type": "code",
      "source": [
        "days=(\"mon\",\"tue\",\"wed\",\"thur\",\"fri\",\"sat\",\"sun\")\n",
        "days[0]\n",
        "# tuple we cant edit the info like aadhaar info also initially\n",
        "#aadhhar is stored in central repo as list but viewed as tuple\n",
        "# tuple is immutable means manipulation of info\n"
      ],
      "metadata": {
        "colab": {
          "base_uri": "https://localhost:8080/",
          "height": 35
        },
        "id": "dBhc7JVP9vu3",
        "outputId": "7120a21f-2ca0-44b5-ab73-4ca5c33dd3ba"
      },
      "execution_count": 3,
      "outputs": [
        {
          "output_type": "execute_result",
          "data": {
            "text/plain": [
              "'mon'"
            ],
            "application/vnd.google.colaboratory.intrinsic+json": {
              "type": "string"
            }
          },
          "metadata": {},
          "execution_count": 3
        }
      ]
    },
    {
      "cell_type": "code",
      "source": [
        "days[0]=\"monday\""
      ],
      "metadata": {
        "colab": {
          "base_uri": "https://localhost:8080/",
          "height": 141
        },
        "id": "YnHKiO1N_KJ5",
        "outputId": "6b6a83b1-2a8d-4ec0-b0e8-1ffddf906b41"
      },
      "execution_count": 4,
      "outputs": [
        {
          "output_type": "error",
          "ename": "TypeError",
          "evalue": "'tuple' object does not support item assignment",
          "traceback": [
            "\u001b[0;31m---------------------------------------------------------------------------\u001b[0m",
            "\u001b[0;31mTypeError\u001b[0m                                 Traceback (most recent call last)",
            "\u001b[0;32m<ipython-input-4-848a8a53e30d>\u001b[0m in \u001b[0;36m<cell line: 0>\u001b[0;34m()\u001b[0m\n\u001b[0;32m----> 1\u001b[0;31m \u001b[0mdays\u001b[0m\u001b[0;34m[\u001b[0m\u001b[0;36m0\u001b[0m\u001b[0;34m]\u001b[0m\u001b[0;34m=\u001b[0m\u001b[0;34m\"monday\"\u001b[0m\u001b[0;34m\u001b[0m\u001b[0;34m\u001b[0m\u001b[0m\n\u001b[0m",
            "\u001b[0;31mTypeError\u001b[0m: 'tuple' object does not support item assignment"
          ]
        }
      ]
    },
    {
      "cell_type": "code",
      "source": [
        "del days[0]"
      ],
      "metadata": {
        "colab": {
          "base_uri": "https://localhost:8080/",
          "height": 141
        },
        "id": "Up6FgcFw_Z8d",
        "outputId": "b64db602-22d5-47d5-cd4c-f222d49fcb70"
      },
      "execution_count": 5,
      "outputs": [
        {
          "output_type": "error",
          "ename": "TypeError",
          "evalue": "'tuple' object doesn't support item deletion",
          "traceback": [
            "\u001b[0;31m---------------------------------------------------------------------------\u001b[0m",
            "\u001b[0;31mTypeError\u001b[0m                                 Traceback (most recent call last)",
            "\u001b[0;32m<ipython-input-5-1d7efff7b022>\u001b[0m in \u001b[0;36m<cell line: 0>\u001b[0;34m()\u001b[0m\n\u001b[0;32m----> 1\u001b[0;31m \u001b[0;32mdel\u001b[0m \u001b[0mdays\u001b[0m\u001b[0;34m[\u001b[0m\u001b[0;36m0\u001b[0m\u001b[0;34m]\u001b[0m\u001b[0;34m\u001b[0m\u001b[0;34m\u001b[0m\u001b[0m\n\u001b[0m",
            "\u001b[0;31mTypeError\u001b[0m: 'tuple' object doesn't support item deletion"
          ]
        }
      ]
    },
    {
      "cell_type": "code",
      "source": [],
      "metadata": {
        "id": "KhggeOTp_d_r"
      },
      "execution_count": null,
      "outputs": []
    },
    {
      "cell_type": "code",
      "source": [
        "sensor_readings"
      ],
      "metadata": {
        "colab": {
          "base_uri": "https://localhost:8080/"
        },
        "id": "kzO-93TV_npe",
        "outputId": "07c8c3d7-f3a2-44f3-970e-5a9c74d76dab"
      },
      "execution_count": 6,
      "outputs": [
        {
          "output_type": "execute_result",
          "data": {
            "text/plain": [
              "[10, 30.5, 55.6, 56.4, 66.9, 30, 9]"
            ]
          },
          "metadata": {},
          "execution_count": 6
        }
      ]
    },
    {
      "cell_type": "code",
      "source": [
        "id(sensor_readings)"
      ],
      "metadata": {
        "colab": {
          "base_uri": "https://localhost:8080/"
        },
        "id": "S72BsMRp_qkQ",
        "outputId": "03ad8058-f493-4c8f-9ed4-e2bbee56724b"
      },
      "execution_count": 7,
      "outputs": [
        {
          "output_type": "execute_result",
          "data": {
            "text/plain": [
              "136814365148224"
            ]
          },
          "metadata": {},
          "execution_count": 7
        }
      ]
    },
    {
      "cell_type": "code",
      "source": [
        "sensor_readings.append(78)\n",
        "sensor_readings"
      ],
      "metadata": {
        "colab": {
          "base_uri": "https://localhost:8080/"
        },
        "id": "HyJETTK9BDJv",
        "outputId": "0fc6e877-b3c3-4779-e6f2-2da3cb76744d"
      },
      "execution_count": 8,
      "outputs": [
        {
          "output_type": "execute_result",
          "data": {
            "text/plain": [
              "[10, 30.5, 55.6, 56.4, 66.9, 30, 9, 78]"
            ]
          },
          "metadata": {},
          "execution_count": 8
        }
      ]
    },
    {
      "cell_type": "code",
      "source": [
        "id(sensor_readings)"
      ],
      "metadata": {
        "colab": {
          "base_uri": "https://localhost:8080/"
        },
        "id": "szXYUD1MBLkP",
        "outputId": "1b09594e-39ed-4905-94fc-db60345f41ef"
      },
      "execution_count": 9,
      "outputs": [
        {
          "output_type": "execute_result",
          "data": {
            "text/plain": [
              "136814365148224"
            ]
          },
          "metadata": {},
          "execution_count": 9
        }
      ]
    },
    {
      "cell_type": "code",
      "source": [
        "del sensor_readings[0]\n",
        "sensor_readings"
      ],
      "metadata": {
        "colab": {
          "base_uri": "https://localhost:8080/"
        },
        "id": "UFNOzvAgBWZ8",
        "outputId": "2864b9d0-3da2-4463-a6b9-f9964ea6c3f7"
      },
      "execution_count": 10,
      "outputs": [
        {
          "output_type": "execute_result",
          "data": {
            "text/plain": [
              "[30.5, 55.6, 56.4, 66.9, 30, 9, 78]"
            ]
          },
          "metadata": {},
          "execution_count": 10
        }
      ]
    },
    {
      "cell_type": "code",
      "source": [
        "id(sensor_readings)"
      ],
      "metadata": {
        "colab": {
          "base_uri": "https://localhost:8080/"
        },
        "id": "qnQCxfzDBdKx",
        "outputId": "3b92554d-51c3-4b1f-8a70-b8e6c4e9de9f"
      },
      "execution_count": 11,
      "outputs": [
        {
          "output_type": "execute_result",
          "data": {
            "text/plain": [
              "136814365148224"
            ]
          },
          "metadata": {},
          "execution_count": 11
        }
      ]
    },
    {
      "cell_type": "code",
      "source": [
        "#list Operations\n",
        "'''travesring, slicing,replication or repetetion,concat\n",
        "\n",
        "'''\n"
      ],
      "metadata": {
        "id": "TlAVelJPBx2V"
      },
      "execution_count": null,
      "outputs": []
    },
    {
      "cell_type": "code",
      "source": [
        "#Replication\n",
        "# when will use duplication or replication like mulptiple data for testing\n",
        "# like first some values duplicated rest will be as usual\n",
        "sensor_readings"
      ],
      "metadata": {
        "colab": {
          "base_uri": "https://localhost:8080/"
        },
        "id": "whHG6tUYCZhJ",
        "outputId": "ef956381-609c-4fc8-fde9-ab0ad73d037c"
      },
      "execution_count": 12,
      "outputs": [
        {
          "output_type": "execute_result",
          "data": {
            "text/plain": [
              "[30.5, 55.6, 56.4, 66.9, 30, 9, 78]"
            ]
          },
          "metadata": {},
          "execution_count": 12
        }
      ]
    },
    {
      "cell_type": "code",
      "source": [
        "sensor_readings * 2"
      ],
      "metadata": {
        "colab": {
          "base_uri": "https://localhost:8080/"
        },
        "id": "TAbfCiBjCfXM",
        "outputId": "03c499d4-1eca-4292-9c08-ff6153d156d1"
      },
      "execution_count": 13,
      "outputs": [
        {
          "output_type": "execute_result",
          "data": {
            "text/plain": [
              "[30.5, 55.6, 56.4, 66.9, 30, 9, 78, 30.5, 55.6, 56.4, 66.9, 30, 9, 78]"
            ]
          },
          "metadata": {},
          "execution_count": 13
        }
      ]
    },
    {
      "cell_type": "code",
      "source": [
        "sensor_value=[0]*5\n",
        "sensor_value"
      ],
      "metadata": {
        "colab": {
          "base_uri": "https://localhost:8080/"
        },
        "id": "UqtLNZQHEAx4",
        "outputId": "2bbee5ca-53ea-4d79-a9e1-66c92817459c"
      },
      "execution_count": 16,
      "outputs": [
        {
          "output_type": "execute_result",
          "data": {
            "text/plain": [
              "[0, 0, 0, 0, 0]"
            ]
          },
          "metadata": {},
          "execution_count": 16
        }
      ]
    },
    {
      "cell_type": "code",
      "source": [
        "li=[1,2,3,4]\n",
        "print(id(li))\n",
        "li_one=[5,6,7]\n",
        "print(id(li_one))\n",
        "li=li+li_one\n",
        "print(id(li))\n",
        "#cocatnation\n",
        "#here all the three are having diff address ,then what is the method to have same mem address after concat"
      ],
      "metadata": {
        "colab": {
          "base_uri": "https://localhost:8080/"
        },
        "id": "xqWpjPy6FJzD",
        "outputId": "826eeb8a-06de-46fd-d926-b38b43a01a92"
      },
      "execution_count": 19,
      "outputs": [
        {
          "output_type": "stream",
          "name": "stdout",
          "text": [
            "136814178615232\n",
            "136814178802688\n",
            "136814178795968\n"
          ]
        }
      ]
    }
  ],
  "metadata": {
    "colab": {
      "name": "Welcome to Colab",
      "toc_visible": true,
      "provenance": [],
      "include_colab_link": true
    },
    "kernelspec": {
      "display_name": "Python 3",
      "name": "python3"
    }
  },
  "nbformat": 4,
  "nbformat_minor": 0
}