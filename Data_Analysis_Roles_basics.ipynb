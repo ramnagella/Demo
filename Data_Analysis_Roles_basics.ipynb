{
  "cells": [
    {
      "cell_type": "markdown",
      "metadata": {
        "id": "view-in-github",
        "colab_type": "text"
      },
      "source": [
        "<a href=\"https://colab.research.google.com/github/ramnagella/Demo/blob/master/Data_Analysis_Roles_basics.ipynb\" target=\"_parent\"><img src=\"https://colab.research.google.com/assets/colab-badge.svg\" alt=\"Open In Colab\"/></a>"
      ]
    },
    {
      "cell_type": "code",
      "source": [
        "#Data analysis with Python\n",
        "#---Data Analyst,Data scintist/M L engineer,Data Engineer,AI Engineer,---Roles and Responsibilities\n",
        "#Data Analysis Tools\n",
        "#Data Analyst----Ex--Swiggy ,Zomato--Problem definition--recomendations--recomend releveant food options to the users--\n",
        "#----------------Data Aquition---Collection,deom different sources\n",
        "#----------------Data Cleaning and Preparation---Handling missing values ,formatting inconstancies ,Remocing errors\n",
        "#----------------EDA---identify Trends ,patterns--Analysing the data,relationships,different categories 70% will use this\n",
        "#----------------Statistical methods*mean,mode),data visualisation techniques(report)\n",
        "#----------------Predicstion some times for creating model only (20%),\n",
        "#----------------Dash boards using power BI,Tableu,data story telling /insights,reports\n",
        "#----------------offline engineer\n",
        "#----------------"
      ],
      "metadata": {
        "id": "FTz630iPmvwq"
      },
      "execution_count": null,
      "outputs": []
    },
    {
      "cell_type": "code",
      "source": [
        "#Data Engineer ---Realtime infrastrucure ---ETL---\n",
        "#-----------------System design and design nuild data pipelines ---ingest the real time data streams\n",
        "#-----------------What is the Soutce and target of data,\n",
        "#-----------------data ingestion--Real time data on swiggy or zomato orders--Restaurant avilability for delivery\n",
        "#-----------------Collect the real time data\n",
        "#-----------------Data transformation ----Whether need apply any business logic for the columns or tables\n",
        "#-----------------As per the business requirement it will be loaded into the target tables\n",
        "#-----------------Data Transformation--Format suitable for our requirement (like what is there in the restaurant for break fast and lunch)\n",
        "#-----------------Format suitable for our analysis and itegration with other systems\n",
        "#-----------------Foramt like horizontal to vertical or vertical to horizontal, only few field ssitale for analysis\n",
        "#-----------------Data filtering,aggregation,normalization,storing\n",
        "#-----------------Storing or loadig the final transformed data --into target source\n",
        "#-----------------Data quality monitoring --identify any issues with data ingestion  or processing\n",
        "#-----------------"
      ],
      "metadata": {
        "id": "y1gjwYo9n_Lf"
      },
      "execution_count": null,
      "outputs": []
    },
    {
      "cell_type": "code",
      "source": [
        "#Data Scientist and ML Engineer\n",
        "#-------Combined role ,recommendation engine,predction.\n",
        "#-------Data analyst will give the problem defintion to the DS and M engineer\n",
        "#-------For Example in apparal retail business DA will give the info like top selling product ,\n",
        "#-------top sellers ,top performing stores,in how many days the particular product going to sold out so tha they can bromng more products in time\n",
        "#-------inventory recoimendation.\n",
        "#-------DA will gkive problem defintion to the DS and ML nehineer\n",
        "#-------DS amd ML engineer will refine the problem based DA insights and business goals\n",
        "#-------Pizza recomendation problem .Already DA prepared problem defintion ..\n",
        "#------DS will consoder business goals also and refines the problem defintion.\n",
        "#------Prepare the data for model creation and prepare the data to improve the model perfomance\n",
        "#------Model seletction and training --again and again the train the model to improve and accuracy also improves\n",
        "#------Like attemptng many model papers for preapring competetive exams\n",
        "#------Model evalaution ---Evaluate the performance of the model on unseen data--Improving the performance of the model\n",
        "#------Model deployment and monitoring into the (Ex Swiggy App)\n",
        "#-----Refine the problem,data preparation,Mocdel selection and training,Nodel Evaluation,Model Deployment\n"
      ],
      "metadata": {
        "id": "YNhmlhfFn-zA"
      },
      "execution_count": null,
      "outputs": []
    },
    {
      "cell_type": "markdown",
      "source": [],
      "metadata": {
        "id": "wa02vqu6nvBF"
      }
    }
  ],
  "metadata": {
    "colab": {
      "name": "Welcome to Colab",
      "toc_visible": true,
      "provenance": [],
      "include_colab_link": true
    },
    "kernelspec": {
      "display_name": "Python 3",
      "name": "python3"
    }
  },
  "nbformat": 4,
  "nbformat_minor": 0
}