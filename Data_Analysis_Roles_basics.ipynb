{
  "cells": [
    {
      "cell_type": "markdown",
      "metadata": {
        "id": "view-in-github",
        "colab_type": "text"
      },
      "source": [
        "<a href=\"https://colab.research.google.com/github/ramnagella/Demo/blob/master/Data_Analysis_Roles_basics.ipynb\" target=\"_parent\"><img src=\"https://colab.research.google.com/assets/colab-badge.svg\" alt=\"Open In Colab\"/></a>"
      ]
    },
    {
      "cell_type": "code",
      "source": [
        "#Data analysis with Python\n",
        "#---Data Analyst,Data scintist/M L engineer,Data Engineer,AI Engineer,---Roles and Responsibilities\n",
        "#Data Analysis Tools\n",
        "#Data Analyst----Ex--Swiggy ,Zomato--Problem definition--recomendations--recomend releveant food options to the users--\n",
        "#----------------Data Aquition---Collection,deom different sources\n",
        "#----------------Data Cleaning and Preparation---Handling missing values ,formatting inconstancies ,Remocing errors\n",
        "#----------------EDA---identify Trends ,patterns--Analysing the data,relationships,different categories 70% will use this\n",
        "#----------------Statistical methods*mean,mode),data visualisation techniques(report)\n",
        "#----------------Predicstion some times for creating model only (20%),\n",
        "#----------------Dash boards using power BI,Tableu,data story telling /insights,reports\n",
        "#----------------offline engineer\n",
        "#----------------"
      ],
      "metadata": {
        "id": "FTz630iPmvwq"
      },
      "execution_count": null,
      "outputs": []
    },
    {
      "cell_type": "code",
      "source": [
        "#Data Engineer ---Realtime infrastrucure ---ETL---\n",
        "#-----------------System design and design nuild data pipelines ---ingest the real time data streams\n",
        "#-----------------What is the Soutce and target of data,\n",
        "#-----------------data ingestion--Real time data on swiggy or zomato orders--Restaurant avilability for delivery\n",
        "#-----------------Collect the real time data\n",
        "#-----------------Data transformation ----Whether need apply any business logic for the columns or tables\n",
        "#-----------------As per the business requirement it will be loaded into the target tables\n",
        "#-----------------Format suitable for"
      ],
      "metadata": {
        "id": "y1gjwYo9n_Lf"
      },
      "execution_count": null,
      "outputs": []
    },
    {
      "cell_type": "code",
      "source": [],
      "metadata": {
        "id": "YNhmlhfFn-zA"
      },
      "execution_count": null,
      "outputs": []
    },
    {
      "cell_type": "markdown",
      "source": [],
      "metadata": {
        "id": "wa02vqu6nvBF"
      }
    }
  ],
  "metadata": {
    "colab": {
      "name": "Welcome to Colab",
      "toc_visible": true,
      "provenance": [],
      "include_colab_link": true
    },
    "kernelspec": {
      "display_name": "Python 3",
      "name": "python3"
    }
  },
  "nbformat": 4,
  "nbformat_minor": 0
}