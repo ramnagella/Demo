{
  "cells": [
    {
      "cell_type": "markdown",
      "metadata": {
        "id": "view-in-github",
        "colab_type": "text"
      },
      "source": [
        "<a href=\"https://colab.research.google.com/github/ramnagella/Demo/blob/master/Modules_Packages.ipynb\" target=\"_parent\"><img src=\"https://colab.research.google.com/assets/colab-badge.svg\" alt=\"Open In Colab\"/></a>"
      ]
    },
    {
      "cell_type": "code",
      "execution_count": null,
      "metadata": {
        "id": "zwFnJsE6vjf8"
      },
      "outputs": [],
      "source": []
    },
    {
      "cell_type": "code",
      "source": [
        "print(\"Hello World\")"
      ],
      "metadata": {
        "colab": {
          "base_uri": "https://localhost:8080/"
        },
        "id": "EIM3jWgFD7cB",
        "outputId": "91849f98-7218-4be2-b322-5d90f387033a"
      },
      "execution_count": 1,
      "outputs": [
        {
          "output_type": "stream",
          "name": "stdout",
          "text": [
            "Hello World\n"
          ]
        }
      ]
    },
    {
      "cell_type": "code",
      "source": [
        "# Modules and Packages\n",
        "#Module ---(filename.py)--it is a file it contains definitions,classes,functions,set of statements etc\n",
        "#Pre-defined modules--math,os,sys,functools\n",
        "#user defined modules---filename.py\n",
        "import  personal_info\n",
        "print(personal_info.message(\"Vamsi\"))\n",
        "print(personal_info.addition(2,3))\n",
        "print(personal_info.PI)"
      ],
      "metadata": {
        "id": "ubZFQgDMEFtU"
      },
      "execution_count": null,
      "outputs": []
    },
    {
      "cell_type": "code",
      "source": [
        "#Module --pre-defined statements stored in the document\n",
        "#thoe can be re-usable\n",
        "#Module is like a file  --\n",
        "#create a file in Demo personl_info.py\n",
        "#function with return type is called fruitful function and without return type is called void function\n",
        "from personal_info import addition,PI\n",
        "addition(1,2)\n",
        "print(PI)\n",
        "print(addition(1,2))"
      ],
      "metadata": {
        "colab": {
          "base_uri": "https://localhost:8080/",
          "height": 384
        },
        "id": "mXJDI6FCGwkb",
        "outputId": "1b21699f-968f-4477-9553-b3860cdde4cd"
      },
      "execution_count": 2,
      "outputs": [
        {
          "output_type": "error",
          "ename": "ModuleNotFoundError",
          "evalue": "No module named 'personal_info'",
          "traceback": [
            "\u001b[0;31m---------------------------------------------------------------------------\u001b[0m",
            "\u001b[0;31mModuleNotFoundError\u001b[0m                       Traceback (most recent call last)",
            "\u001b[0;32m<ipython-input-2-ec1edda837da>\u001b[0m in \u001b[0;36m<cell line: 0>\u001b[0;34m()\u001b[0m\n\u001b[1;32m      4\u001b[0m \u001b[0;31m#create a file in Demo personl_info.py\u001b[0m\u001b[0;34m\u001b[0m\u001b[0;34m\u001b[0m\u001b[0m\n\u001b[1;32m      5\u001b[0m \u001b[0;31m#function with return type is called fruitful function and without return type is called void function\u001b[0m\u001b[0;34m\u001b[0m\u001b[0;34m\u001b[0m\u001b[0m\n\u001b[0;32m----> 6\u001b[0;31m \u001b[0;32mfrom\u001b[0m \u001b[0mpersonal_info\u001b[0m \u001b[0;32mimport\u001b[0m \u001b[0maddition\u001b[0m\u001b[0;34m,\u001b[0m\u001b[0mPI\u001b[0m\u001b[0;34m\u001b[0m\u001b[0;34m\u001b[0m\u001b[0m\n\u001b[0m\u001b[1;32m      7\u001b[0m \u001b[0maddition\u001b[0m\u001b[0;34m(\u001b[0m\u001b[0;36m1\u001b[0m\u001b[0;34m,\u001b[0m\u001b[0;36m2\u001b[0m\u001b[0;34m)\u001b[0m\u001b[0;34m\u001b[0m\u001b[0;34m\u001b[0m\u001b[0m\n\u001b[1;32m      8\u001b[0m \u001b[0mprint\u001b[0m\u001b[0;34m(\u001b[0m\u001b[0mPI\u001b[0m\u001b[0;34m)\u001b[0m\u001b[0;34m\u001b[0m\u001b[0;34m\u001b[0m\u001b[0m\n",
            "\u001b[0;31mModuleNotFoundError\u001b[0m: No module named 'personal_info'",
            "",
            "\u001b[0;31m---------------------------------------------------------------------------\u001b[0;32m\nNOTE: If your import is failing due to a missing package, you can\nmanually install dependencies using either !pip or !apt.\n\nTo view examples of installing some common dependencies, click the\n\"Open Examples\" button below.\n\u001b[0;31m---------------------------------------------------------------------------\u001b[0m\n"
          ],
          "errorDetails": {
            "actions": [
              {
                "action": "open_url",
                "actionText": "Open Examples",
                "url": "/notebooks/snippets/importing_libraries.ipynb"
              }
            ]
          }
        }
      ]
    },
    {
      "cell_type": "code",
      "source": [
        "#using alias name for long method names like pandas pd ,numpy as np\n",
        "#import personal_info as per_info as will convert one object name into another\n",
        "import personal_info as per_info\n",
        "per_info.addition(1,2)\n",
        "per_info.PI"
      ],
      "metadata": {
        "colab": {
          "base_uri": "https://localhost:8080/",
          "height": 384
        },
        "id": "g1XGVxjlckJt",
        "outputId": "7d47d405-9a8f-48a6-c7db-fb54fa6966af"
      },
      "execution_count": 3,
      "outputs": [
        {
          "output_type": "error",
          "ename": "ModuleNotFoundError",
          "evalue": "No module named 'personal_info'",
          "traceback": [
            "\u001b[0;31m---------------------------------------------------------------------------\u001b[0m",
            "\u001b[0;31mModuleNotFoundError\u001b[0m                       Traceback (most recent call last)",
            "\u001b[0;32m<ipython-input-3-c9b186996d82>\u001b[0m in \u001b[0;36m<cell line: 0>\u001b[0;34m()\u001b[0m\n\u001b[1;32m      1\u001b[0m \u001b[0;31m#using alias name for long method names like pandas pd ,numpy as np\u001b[0m\u001b[0;34m\u001b[0m\u001b[0;34m\u001b[0m\u001b[0m\n\u001b[1;32m      2\u001b[0m \u001b[0;31m#import personal_info as per_info as will convert one object name into another\u001b[0m\u001b[0;34m\u001b[0m\u001b[0;34m\u001b[0m\u001b[0m\n\u001b[0;32m----> 3\u001b[0;31m \u001b[0;32mimport\u001b[0m \u001b[0mpersonal_info\u001b[0m \u001b[0;32mas\u001b[0m \u001b[0mper_info\u001b[0m\u001b[0;34m\u001b[0m\u001b[0;34m\u001b[0m\u001b[0m\n\u001b[0m\u001b[1;32m      4\u001b[0m \u001b[0mper_info\u001b[0m\u001b[0;34m.\u001b[0m\u001b[0maddition\u001b[0m\u001b[0;34m(\u001b[0m\u001b[0;36m1\u001b[0m\u001b[0;34m,\u001b[0m\u001b[0;36m2\u001b[0m\u001b[0;34m)\u001b[0m\u001b[0;34m\u001b[0m\u001b[0;34m\u001b[0m\u001b[0m\n\u001b[1;32m      5\u001b[0m \u001b[0mper_info\u001b[0m\u001b[0;34m.\u001b[0m\u001b[0mPI\u001b[0m\u001b[0;34m\u001b[0m\u001b[0;34m\u001b[0m\u001b[0m\n",
            "\u001b[0;31mModuleNotFoundError\u001b[0m: No module named 'personal_info'",
            "",
            "\u001b[0;31m---------------------------------------------------------------------------\u001b[0;32m\nNOTE: If your import is failing due to a missing package, you can\nmanually install dependencies using either !pip or !apt.\n\nTo view examples of installing some common dependencies, click the\n\"Open Examples\" button below.\n\u001b[0;31m---------------------------------------------------------------------------\u001b[0m\n"
          ],
          "errorDetails": {
            "actions": [
              {
                "action": "open_url",
                "actionText": "Open Examples",
                "url": "/notebooks/snippets/importing_libraries.ipynb"
              }
            ]
          }
        }
      ]
    },
    {
      "cell_type": "code",
      "source": [
        "#package is a collection of modules\n",
        "#math ---arth.py,sqrt.py,trig.py,init.py\n",
        "\n",
        "# __init__.py\n",
        "\n",
        "#created one dir with name data processing or folder it is normal folder --converting this folder or dir into package\n",
        "#in python in each package or dir or folder one file shoud be there that is __init__.py it is special file which may be empty also or some statements should be there\n",
        "#from package import module __init__.py will initialise the package otherwis ewill errors in python like mudule not found or package nopt found\n",
        "#Create a folder maths and under the create empty __init__.py file  and also create two modules like arth.py and tri.py\n"
      ],
      "metadata": {
        "id": "5pYYw2KIiVFQ"
      },
      "execution_count": null,
      "outputs": []
    },
    {
      "cell_type": "code",
      "source": [
        "#arth.py\n",
        "def addition(a,b):\n",
        "  return(a+b)\n",
        "def substraction(x,y):\n",
        "  return(x-y)\n",
        "def multiplication(a,b):\n",
        "  return(a*b)\n",
        "def division(a,b):\n",
        "  return(a/b)\n",
        "\n"
      ],
      "metadata": {
        "id": "uzQkLZve1Pn6"
      },
      "execution_count": null,
      "outputs": []
    },
    {
      "cell_type": "code",
      "source": [
        "#trig.py\n",
        "import math\n",
        "def sin(a):\n",
        "  return(math.sin(a))\n",
        "def cos(a):\n",
        "  return(math.cos(a))\n",
        "def tan(a):\n",
        "  return(math.tan(a))"
      ],
      "metadata": {
        "id": "a5jy1hyg15Gj"
      },
      "execution_count": null,
      "outputs": []
    },
    {
      "cell_type": "code",
      "source": [
        "from maths import arth trig\n",
        "arth.addition(1,2)\n",
        "arth.substraction(1,2)\n",
        "arth.multiplication(1,2)\n",
        "arth.division(1,2)\n",
        "trig.sin(1)\n",
        "trig.cos(1)\n",
        "trig.tan(1)\n",
        "print(arth.addition(1,2))\n",
        "print(arth.substraction(1,2))\n",
        "print(arth.multiplication(1,2))\n",
        "print(arth.division(1,2))"
      ],
      "metadata": {
        "id": "DCJdGlKK2rBP"
      },
      "execution_count": null,
      "outputs": []
    },
    {
      "cell_type": "code",
      "source": [
        "from maths import addition,substraction,multiplication,division\n",
        "addition(1,2)\n",
        "substraction(1,2)\n",
        "multiplication(1,2)\n",
        "division(1,2)\n",
        "print(addition(1,2))\n",
        "print(substraction(1,2))\n",
        "print(multiplication(1,2))\n",
        "print(division(1,2))\n",
        "#without importing maths we can access addition frunction using export into some other mdule like __init__.py\n",
        "#from maths.arth.addtion and maths.arth.substraction\n",
        "# and also from maths.tri.sin and maths.tri.cos\n",
        "#without with this will get import error\n",
        "#from math.trig.sin and maths.trig.cos"
      ],
      "metadata": {
        "id": "59rJbFGx30u6"
      },
      "execution_count": null,
      "outputs": []
    },
    {
      "cell_type": "code",
      "source": [
        "#exception handling ---Any intruption occurs in between the progrom workflow at that time rest of the program workflow gets disturbed or termintaed\n",
        "#\n",
        "a=10\n",
        "b=20\n",
        "a/b\n",
        "print(\"hai\")\n",
        "print(a/b)"
      ],
      "metadata": {
        "colab": {
          "base_uri": "https://localhost:8080/"
        },
        "id": "NI2nTLjd85Pp",
        "outputId": "67e29659-b821-40a2-ecae-30c42600970a"
      },
      "execution_count": 6,
      "outputs": [
        {
          "output_type": "stream",
          "name": "stdout",
          "text": [
            "hai\n",
            "0.5\n"
          ]
        }
      ]
    },
    {
      "cell_type": "code",
      "source": [
        "a=10\n",
        "b=0\n",
        "a/b\n",
        "print(\"hai\")\n",
        "print(a/b)"
      ],
      "metadata": {
        "colab": {
          "base_uri": "https://localhost:8080/",
          "height": 211
        },
        "id": "t6ycKznO9-Ku",
        "outputId": "15c15de4-3261-4929-89d4-e8fcb7cdb9af"
      },
      "execution_count": 7,
      "outputs": [
        {
          "output_type": "error",
          "ename": "ZeroDivisionError",
          "evalue": "division by zero",
          "traceback": [
            "\u001b[0;31m---------------------------------------------------------------------------\u001b[0m",
            "\u001b[0;31mZeroDivisionError\u001b[0m                         Traceback (most recent call last)",
            "\u001b[0;32m<ipython-input-7-6af720a069dd>\u001b[0m in \u001b[0;36m<cell line: 0>\u001b[0;34m()\u001b[0m\n\u001b[1;32m      1\u001b[0m \u001b[0ma\u001b[0m\u001b[0;34m=\u001b[0m\u001b[0;36m10\u001b[0m\u001b[0;34m\u001b[0m\u001b[0;34m\u001b[0m\u001b[0m\n\u001b[1;32m      2\u001b[0m \u001b[0mb\u001b[0m\u001b[0;34m=\u001b[0m\u001b[0;36m0\u001b[0m\u001b[0;34m\u001b[0m\u001b[0;34m\u001b[0m\u001b[0m\n\u001b[0;32m----> 3\u001b[0;31m \u001b[0ma\u001b[0m\u001b[0;34m/\u001b[0m\u001b[0mb\u001b[0m\u001b[0;34m\u001b[0m\u001b[0;34m\u001b[0m\u001b[0m\n\u001b[0m\u001b[1;32m      4\u001b[0m \u001b[0mprint\u001b[0m\u001b[0;34m(\u001b[0m\u001b[0;34m\"hai\"\u001b[0m\u001b[0;34m)\u001b[0m\u001b[0;34m\u001b[0m\u001b[0;34m\u001b[0m\u001b[0m\n\u001b[1;32m      5\u001b[0m \u001b[0mprint\u001b[0m\u001b[0;34m(\u001b[0m\u001b[0ma\u001b[0m\u001b[0;34m/\u001b[0m\u001b[0mb\u001b[0m\u001b[0;34m)\u001b[0m\u001b[0;34m\u001b[0m\u001b[0;34m\u001b[0m\u001b[0m\n",
            "\u001b[0;31mZeroDivisionError\u001b[0m: division by zero"
          ]
        }
      ]
    },
    {
      "cell_type": "code",
      "source": [
        "a=10\n",
        "b=0\n",
        "a/b\n",
        "print(\"hai\")\n",
        "print(a/b)\n",
        "if a!=b:\n",
        "  print(\"hello\")"
      ],
      "metadata": {
        "colab": {
          "base_uri": "https://localhost:8080/",
          "height": 211
        },
        "id": "DOCB_8h6-dC2",
        "outputId": "c3169194-3861-4c6f-88ae-18cb2cc3003c"
      },
      "execution_count": 8,
      "outputs": [
        {
          "output_type": "error",
          "ename": "ZeroDivisionError",
          "evalue": "division by zero",
          "traceback": [
            "\u001b[0;31m---------------------------------------------------------------------------\u001b[0m",
            "\u001b[0;31mZeroDivisionError\u001b[0m                         Traceback (most recent call last)",
            "\u001b[0;32m<ipython-input-8-d4aabe73a4b0>\u001b[0m in \u001b[0;36m<cell line: 0>\u001b[0;34m()\u001b[0m\n\u001b[1;32m      1\u001b[0m \u001b[0ma\u001b[0m\u001b[0;34m=\u001b[0m\u001b[0;36m10\u001b[0m\u001b[0;34m\u001b[0m\u001b[0;34m\u001b[0m\u001b[0m\n\u001b[1;32m      2\u001b[0m \u001b[0mb\u001b[0m\u001b[0;34m=\u001b[0m\u001b[0;36m0\u001b[0m\u001b[0;34m\u001b[0m\u001b[0;34m\u001b[0m\u001b[0m\n\u001b[0;32m----> 3\u001b[0;31m \u001b[0ma\u001b[0m\u001b[0;34m/\u001b[0m\u001b[0mb\u001b[0m\u001b[0;34m\u001b[0m\u001b[0;34m\u001b[0m\u001b[0m\n\u001b[0m\u001b[1;32m      4\u001b[0m \u001b[0mprint\u001b[0m\u001b[0;34m(\u001b[0m\u001b[0;34m\"hai\"\u001b[0m\u001b[0;34m)\u001b[0m\u001b[0;34m\u001b[0m\u001b[0;34m\u001b[0m\u001b[0m\n\u001b[1;32m      5\u001b[0m \u001b[0mprint\u001b[0m\u001b[0;34m(\u001b[0m\u001b[0ma\u001b[0m\u001b[0;34m/\u001b[0m\u001b[0mb\u001b[0m\u001b[0;34m)\u001b[0m\u001b[0;34m\u001b[0m\u001b[0;34m\u001b[0m\u001b[0m\n",
            "\u001b[0;31mZeroDivisionError\u001b[0m: division by zero"
          ]
        }
      ]
    },
    {
      "cell_type": "code",
      "source": [
        "#try--->raise--->accept----->finally\n"
      ],
      "metadata": {
        "id": "0GY7pWuR_LG-"
      },
      "execution_count": null,
      "outputs": []
    },
    {
      "cell_type": "code",
      "source": [
        "try:\n",
        "  a=int(input(\"Enter the value\"))\n",
        "  b=int(input(\"Enter the Value\"))\n",
        "  c=a/b\n",
        "  print(c)\n",
        "#Here exception is zero division error raise corresponding class\n",
        "#If any error occurs below message will be displayed\n",
        "#other errors may be type conversion error\n",
        "except:\n",
        "  print(\"please provide the division value more than zero\")\n",
        "finally:\n",
        "  print(\"welcome\")\n",
        "\n",
        "\n",
        "\n"
      ],
      "metadata": {
        "colab": {
          "base_uri": "https://localhost:8080/"
        },
        "id": "YrppeMTthMZn",
        "outputId": "f078f177-472f-4a63-bb5a-3bc5f59d6e86"
      },
      "execution_count": 10,
      "outputs": [
        {
          "output_type": "stream",
          "name": "stdout",
          "text": [
            "Enter the value2\n",
            "Enter the Value0\n",
            "please provide the division value more than zero\n",
            "welcome\n"
          ]
        }
      ]
    },
    {
      "cell_type": "code",
      "source": [
        "try:\n",
        "  a=int(input(\"Enter the value\"))\n",
        "  b=int(input(\"Enter the Value\"))\n",
        "  c=a/b\n",
        "  print(c)\n",
        "#Here exception is zero division error raise corresponding class\n",
        "#If any error occurs below message will be displayed\n",
        "#other errors may be type conversion error\n",
        "#zero  division error not handled here wil get error if we enter 2 and 0\n",
        "except ValueError:\n",
        "  print(\"Please enter value alone\")\n",
        "  #print(\"please provide the division value more than zero\")\n",
        "finally:\n",
        "  print(\"welcome\")"
      ],
      "metadata": {
        "id": "OnrjNDQjRzyT",
        "outputId": "bfb18182-91cc-4eef-9d6b-71e4b568873e",
        "colab": {
          "base_uri": "https://localhost:8080/",
          "height": 263
        }
      },
      "execution_count": 12,
      "outputs": [
        {
          "output_type": "stream",
          "name": "stdout",
          "text": [
            "Enter the value2\n",
            "Enter the Value0\n",
            "welcome\n"
          ]
        },
        {
          "output_type": "error",
          "ename": "ZeroDivisionError",
          "evalue": "division by zero",
          "traceback": [
            "\u001b[0;31m---------------------------------------------------------------------------\u001b[0m",
            "\u001b[0;31mZeroDivisionError\u001b[0m                         Traceback (most recent call last)",
            "\u001b[0;32m<ipython-input-12-6502b3d69a8c>\u001b[0m in \u001b[0;36m<cell line: 0>\u001b[0;34m()\u001b[0m\n\u001b[1;32m      2\u001b[0m   \u001b[0ma\u001b[0m\u001b[0;34m=\u001b[0m\u001b[0mint\u001b[0m\u001b[0;34m(\u001b[0m\u001b[0minput\u001b[0m\u001b[0;34m(\u001b[0m\u001b[0;34m\"Enter the value\"\u001b[0m\u001b[0;34m)\u001b[0m\u001b[0;34m)\u001b[0m\u001b[0;34m\u001b[0m\u001b[0;34m\u001b[0m\u001b[0m\n\u001b[1;32m      3\u001b[0m   \u001b[0mb\u001b[0m\u001b[0;34m=\u001b[0m\u001b[0mint\u001b[0m\u001b[0;34m(\u001b[0m\u001b[0minput\u001b[0m\u001b[0;34m(\u001b[0m\u001b[0;34m\"Enter the Value\"\u001b[0m\u001b[0;34m)\u001b[0m\u001b[0;34m)\u001b[0m\u001b[0;34m\u001b[0m\u001b[0;34m\u001b[0m\u001b[0m\n\u001b[0;32m----> 4\u001b[0;31m   \u001b[0mc\u001b[0m\u001b[0;34m=\u001b[0m\u001b[0ma\u001b[0m\u001b[0;34m/\u001b[0m\u001b[0mb\u001b[0m\u001b[0;34m\u001b[0m\u001b[0;34m\u001b[0m\u001b[0m\n\u001b[0m\u001b[1;32m      5\u001b[0m   \u001b[0mprint\u001b[0m\u001b[0;34m(\u001b[0m\u001b[0mc\u001b[0m\u001b[0;34m)\u001b[0m\u001b[0;34m\u001b[0m\u001b[0;34m\u001b[0m\u001b[0m\n\u001b[1;32m      6\u001b[0m \u001b[0;31m#Here exception is zero division error raise corresponding class\u001b[0m\u001b[0;34m\u001b[0m\u001b[0;34m\u001b[0m\u001b[0m\n",
            "\u001b[0;31mZeroDivisionError\u001b[0m: division by zero"
          ]
        }
      ]
    },
    {
      "cell_type": "code",
      "source": [
        "try:\n",
        "  a=int(input(\"Enter the value\"))\n",
        "  b=int(input(\"Enter the Value\"))\n",
        "  c=a/b\n",
        "  print(c)\n",
        "#Here exception is zero division error raise corresponding class\n",
        "#If any error occurs below message will be displayed\n",
        "#other errors may be type conversion error\n",
        "#zero  division error not handled here wil get error if we enter 2 and 0\n",
        "#After try block execution any exception raises the exception class,after rasing exception class\n",
        "#goes to except blockbased on error type like valueError or ZeroDivisionError\n",
        "#after this finally executes the finally block statements\n",
        "\n",
        "except ValueError:\n",
        "  print(\"Please enter value alone\")\n",
        "  #print(\"please provide the division value more than zero\")\n",
        "except ZeroDivisionError:\n",
        "  print(\"please provide the division value more than zero\")\n",
        "finally:\n",
        "  print(\"welcome\")"
      ],
      "metadata": {
        "id": "DRKlV6L3StNz",
        "outputId": "e6aba496-3b30-46d0-bad9-2a0dc0d193a0",
        "colab": {
          "base_uri": "https://localhost:8080/"
        }
      },
      "execution_count": 13,
      "outputs": [
        {
          "output_type": "stream",
          "name": "stdout",
          "text": [
            "Enter the value2\n",
            "Enter the Value0\n",
            "please provide the division value more than zero\n",
            "welcome\n"
          ]
        }
      ]
    }
  ],
  "metadata": {
    "colab": {
      "name": "Welcome to Colaboratory",
      "provenance": [],
      "include_colab_link": true
    },
    "kernelspec": {
      "display_name": "Python 3",
      "name": "python3"
    }
  },
  "nbformat": 4,
  "nbformat_minor": 0
}