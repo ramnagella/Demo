{
  "cells": [
    {
      "cell_type": "markdown",
      "metadata": {
        "id": "view-in-github",
        "colab_type": "text"
      },
      "source": [
        "<a href=\"https://colab.research.google.com/github/ramnagella/Demo/blob/master/Modules_Packages.ipynb\" target=\"_parent\"><img src=\"https://colab.research.google.com/assets/colab-badge.svg\" alt=\"Open In Colab\"/></a>"
      ]
    },
    {
      "cell_type": "code",
      "execution_count": null,
      "metadata": {
        "id": "zwFnJsE6vjf8"
      },
      "outputs": [],
      "source": []
    },
    {
      "cell_type": "code",
      "source": [
        "print(\"Hello World\")"
      ],
      "metadata": {
        "colab": {
          "base_uri": "https://localhost:8080/"
        },
        "id": "EIM3jWgFD7cB",
        "outputId": "91849f98-7218-4be2-b322-5d90f387033a"
      },
      "execution_count": 1,
      "outputs": [
        {
          "output_type": "stream",
          "name": "stdout",
          "text": [
            "Hello World\n"
          ]
        }
      ]
    },
    {
      "cell_type": "code",
      "source": [
        "# Modules and Packages\n",
        "#Module ---(filename.py)--it is a file it contains definitions,classes,functions,set of statements etc\n",
        "#Pre-defined modules--math,os,sys,functools\n",
        "#user defined modules---filename.py\n",
        "import  personal_info\n",
        "print(personal_info.message(\"Vamsi\"))\n",
        "print(personal_info.addition(2,3))\n",
        "print(personal_info.PI)"
      ],
      "metadata": {
        "id": "ubZFQgDMEFtU"
      },
      "execution_count": null,
      "outputs": []
    },
    {
      "cell_type": "code",
      "source": [
        "#Module --pre-defined statements stored in the document\n",
        "#thoe can be re-usable\n",
        "#Module is like a file  --"
      ],
      "metadata": {
        "id": "mXJDI6FCGwkb"
      },
      "execution_count": null,
      "outputs": []
    }
  ],
  "metadata": {
    "colab": {
      "name": "Welcome to Colaboratory",
      "provenance": [],
      "include_colab_link": true
    },
    "kernelspec": {
      "display_name": "Python 3",
      "name": "python3"
    }
  },
  "nbformat": 4,
  "nbformat_minor": 0
}