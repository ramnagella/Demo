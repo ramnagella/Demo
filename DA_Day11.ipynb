{
  "cells": [
    {
      "cell_type": "markdown",
      "metadata": {
        "id": "view-in-github",
        "colab_type": "text"
      },
      "source": [
        "<a href=\"https://colab.research.google.com/github/ramnagella/Demo/blob/master/DA_Day11.ipynb\" target=\"_parent\"><img src=\"https://colab.research.google.com/assets/colab-badge.svg\" alt=\"Open In Colab\"/></a>"
      ]
    },
    {
      "cell_type": "code",
      "source": [
        "#Data Analysis(ETL)---Past data to understand what happened so far\n",
        "#1.Data Gathering 2.Data Collection 3.Data Cleaning 4. Data Anylysis (EDA)\n",
        "#5Data interpretation and 6. data visualisation\n"
      ],
      "metadata": {
        "id": "tWZuUaraZyvw"
      },
      "execution_count": null,
      "outputs": []
    },
    {
      "cell_type": "code",
      "source": [
        "#Prblem Statement----Covid data analysis--Conformed---recovered caes and death cases.\n",
        "#Different data sources available --\n",
        "#1.Confirmed,death,recovered cases in country and date wise not state wise as data is there in country and state wise\n",
        "#Need to group the data for the country and date wise --here new data set will generated based on original dataset\n",
        "#Confirmed_global.csv\n",
        "#conformed,death and recovered cases are in cumsum() manner--calculate new conformed,death and recovered cases for  each date\n",
        "#wget download files from any web servers or repository\n",
        "# Data collection--download and load data set into pamdas\n"
      ],
      "metadata": {
        "id": "VYRWgYqhZypn"
      },
      "execution_count": null,
      "outputs": []
    },
    {
      "cell_type": "code",
      "source": [
        "#Data gathering  and collection\n",
        "#https://github.com/CSSEGISandData/COVID-19/tree/master/csse_covid_19_data/csse_covid_19_time_series"
      ],
      "metadata": {
        "id": "DU-oNZNDZyj-"
      },
      "execution_count": null,
      "outputs": []
    },
    {
      "cell_type": "code",
      "source": [],
      "metadata": {
        "id": "Egqo6CM5Zyez"
      },
      "execution_count": null,
      "outputs": []
    },
    {
      "cell_type": "code",
      "source": [],
      "metadata": {
        "id": "P17fmKlNZyZW"
      },
      "execution_count": null,
      "outputs": []
    }
  ],
  "metadata": {
    "colab": {
      "name": "Welcome to Colab",
      "toc_visible": true,
      "provenance": [],
      "include_colab_link": true
    },
    "kernelspec": {
      "display_name": "Python 3",
      "name": "python3"
    }
  },
  "nbformat": 4,
  "nbformat_minor": 0
}