{
  "cells": [
    {
      "cell_type": "markdown",
      "metadata": {
        "id": "view-in-github",
        "colab_type": "text"
      },
      "source": [
        "<a href=\"https://colab.research.google.com/github/ramnagella/Demo/blob/master/DA_Day1.ipynb.ipynb\" target=\"_parent\"><img src=\"https://colab.research.google.com/assets/colab-badge.svg\" alt=\"Open In Colab\"/></a>"
      ]
    },
    {
      "cell_type": "code",
      "source": [
        "#DA--Day1--29-01-2025"
      ],
      "metadata": {
        "id": "IlLa6OI5qyfk"
      },
      "execution_count": null,
      "outputs": []
    },
    {
      "cell_type": "code",
      "source": [
        "#Data Pre-Processing ---Critical in Data Analysis\n",
        "#Data Pre-Processing ----involves in transforming data into clean,consistant and suitable format for analysis\n",
        "#Essentials of data Pre-Processing ---\n",
        "#1.Data Quality---Rectify the issues like missing data,data consistancies,outliers\n",
        "#1................Check the data quality--preprocessing helpful to rectify the issues like ---missing values,\n",
        "#1..............outliers,inconsistancies and errors.to improive teh data quality and reliability\n",
        "#2.-----Efficiency---Clean and organise the data---saving time and computationalresources---\n",
        "#3..Accuracy---Final o/p is meaningful and reliable\n",
        "#Techniques----\n",
        "#1.Data cleaning --handling the missing values,outliers,inconsistancies,duplicates\n",
        "#2.Data integration---why integration is required in preprocessing ---Data is from different sources after collecting data set\n",
        "# we need to clean and after that should combine from multiple data sources into unified dataset.\n",
        "#Swiggy food ordering application or netflix--based on watching movies we will recomend--\n",
        "#what movied viwed last six mmonths --like category of movies ---gather the data like username ,id,email,history\n",
        "#Based on category will analyse and recomend\n",
        "#Product recomendations in e-commerce like flipcart ---analysed food ordering system also --zomato\n",
        "#Recomendations is ML part\n",
        "#user name .email,jan data based on history,after gathering the data netflix will do analysis .\n",
        "#User account details available inone data source--like web server ,DB server,or local or global or centralised storage\n",
        "#history details is manintaned in some other data source--\n",
        "#paynent details in some other data source--DB\n",
        "#more than 100 movies watched last six months ,,how many are comedy,how many are action and other categories\n",
        "#Collect from the above data sets from different sources and clean the data  set\n",
        "#1..Collect and clean data sets\n",
        "#2..inetgrate all data sets into one unified data set ---like SNO,user,month,category,time, duration of the movie watched\n",
        "#3.payment paid or not,\n",
        "#4.username ,userid,alone\n"
      ],
      "metadata": {
        "id": "3f4vc-_1q3Gr"
      },
      "execution_count": null,
      "outputs": []
    }
  ],
  "metadata": {
    "colab": {
      "name": "Welcome to Colab",
      "toc_visible": true,
      "provenance": [],
      "include_colab_link": true
    },
    "kernelspec": {
      "display_name": "Python 3",
      "name": "python3"
    }
  },
  "nbformat": 4,
  "nbformat_minor": 0
}